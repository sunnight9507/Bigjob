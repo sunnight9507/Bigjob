{
 "cells": [
  {
   "cell_type": "markdown",
   "metadata": {},
   "source": [
    "## 2. 파이썬 인터프리터 사용하기\n",
    "\n",
    "### 2.1 인터프리터 실행하기\n",
    "\n",
    "파이썬 인터프리터는 보통 /usr/local/bin/python3.8 에 설치됩니다. 유닉스 셸의 검색 경로에 /usr/local/bin 를 넣으면 명령."
   ]
  }
 ],
 "metadata": {
  "kernelspec": {
   "display_name": "Python 3",
   "language": "python",
   "name": "python3"
  },
  "language_info": {
   "codemirror_mode": {
    "name": "ipython",
    "version": 3
   },
   "file_extension": ".py",
   "mimetype": "text/x-python",
   "name": "python",
   "nbconvert_exporter": "python",
   "pygments_lexer": "ipython3",
   "version": "3.7.3"
  }
 },
 "nbformat": 4,
 "nbformat_minor": 2
}
