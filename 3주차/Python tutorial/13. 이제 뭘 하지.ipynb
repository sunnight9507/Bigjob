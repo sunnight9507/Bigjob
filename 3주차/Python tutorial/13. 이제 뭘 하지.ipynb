{
 "cells": [
  {
   "cell_type": "markdown",
   "metadata": {},
   "source": [
    "## 13. 이제 뭘 하지?\n",
    "\n",
    "이 자습서를 읽어서 아마도 파이썬 사용에 관한 관심이 높아졌을 것입니다 — 실제 문제를 해결하기 위해 파이썬을 적용하려고 열망해야 합니다. 더 배우려면 어디로 가야 할까?\n",
    "\n",
    "이 자습서는 파이썬의 문서 세트의 일부입니다. 세트의 다른 문서는 다음과 같습니다:\n",
    "\n",
    "- [파이썬 표준 라이브러리](https://docs.python.org/ko/3/library/index.html#library-index) : 표준 라이브러리의 형, 함수 및 모듈에 대한 완전한 (비록 딱딱하지만) 레퍼런스 자료를 제공하는 이 설명서를 탐색해야 합니다. 표준 파이썬 배포판에는 추가 코드가 많이 포함되어 있습니다. 유닉스 우편함을 읽고, HTTP를 통해 문서를 검색하고, 난수를 만들고, 명령행 옵션을 파싱하고, CGI 프로그램을 작성하고, 데이터를 압축하고, 기타 많은 작업을 수행하는 모듈이 있습니다. 라이브러리 레퍼런스를 훑어보면 어떤 것이 있는지 알 수 있습니다.\n",
    "- [파이썬 모듈 설치하기](https://docs.python.org/ko/3/installing/index.html#installing-index)는 다른 파이썬 사용자가 작성한 추가 모듈을 설치하는 방법을 설명합니다.\n",
    "- [파이썬 언어 레퍼런스](https://docs.python.org/ko/3/reference/index.html#reference-index) :  파이썬의 문법과 의미에 대한 자세한 설명. 읽기에 부담스럽지만, 언어 자체에 대한 완전한 안내서로서 유용합니다.\n",
    "\n",
    "기타 파이썬 자료:\n",
    "- https://www.python.org: 주요 파이썬 웹 사이트. 여기에는 코드, 문서 및 웹에 있는 파이썬 관련 페이지들에 대한 포인터가 들어 있습니다. 이 웹 사이트는 유럽, 일본 및 호주와 같이 전 세계 여러 곳에 미러가 만들어집니다. 지리적 위치에 따라 미러가 기본 사이트보다 빠를 수도 있습니다.\n",
    "- https://docs.python.org: 파이썬의 설명서에 빠르게 액세스할 수 있습니다.\n",
    "- https://pypi.org: 이전에 치즈 가게(Cheese Shop)로도 불렸던 1 파이썬 패키지 인덱스는 내려받을 수 있는 사용자 제작 파이썬 모듈의 색인입니다. 코드를 배포하기 시작하면 다른 사람들이 찾을 수 있도록 여기에 코드를 등록할 수 있습니다.\n",
    "- https://code.activestate.com/recipes/langs/python/: 파이썬 요리책(Python Cookbook)은 많은 코드 예제, 더 큰 모듈 및 유용한 스크립트 모음입니다. 특히 주목할만한 공헌들을 Python Cookbook (O’Reilly & Associates, ISBN 0-596-00797-3)이라는 제목의 책에 모았습니다.\n",
    "- http://www.pyvideo.org 는 콘퍼런스 및 사용자 그룹 회의에서 파이썬 관련 비디오에 대한 링크들을 수집합니다.\n",
    "- https://scipy.org: Scientific Python 프로젝트에는 빠른 배열 계산 및 조작을 위한 모듈들과 선형 대수, 푸리에 변환, 비선형 솔버, 난수 분포, 통계 분석 등과 같은 여러 가지 패키지들이 포함되어 있습니다.\n",
    "\n",
    "파이썬 관련 질문 및 문제 보고의 경우, 뉴스 그룹 **comp.lang.python** 에 게시하거나 python-list@python.org 의 메일링 리스트로 보낼 수 있습니다. 뉴스 그룹과 메일링 리스트는 게이트웨이로 연결되어 있으므로 하나에 게시된 메시지는 자동으로 다른 그룹으로 전달됩니다. 하루에 수백 건의 게시물이 올라옵니다. 질문하고, 질문에 답변하고, 새로운 기능을 제안하고, 새로운 모듈을 발표합니다. 메일링 리스트 저장소는 https://mail.python.org/pipermail/ 에 있습니다.\n",
    "\n",
    "게시하기 전에 [자주 나오는 질문들](https://docs.python.org/ko/3/faq/index.html#faq-index) (FAQ라고도 한다) 목록을 확인해야 합니다. FAQ는 반복적으로 나타나는 많은 질문에 대한 답을 제공하며, 이미 여러분의 문제에 대한 해결 방법을 담고 있을 수 있습니다."
   ]
  }
 ],
 "metadata": {
  "kernelspec": {
   "display_name": "Python 3",
   "language": "python",
   "name": "python3"
  },
  "language_info": {
   "codemirror_mode": {
    "name": "ipython",
    "version": 3
   },
   "file_extension": ".py",
   "mimetype": "text/x-python",
   "name": "python",
   "nbconvert_exporter": "python",
   "pygments_lexer": "ipython3",
   "version": "3.7.3"
  }
 },
 "nbformat": 4,
 "nbformat_minor": 2
}
