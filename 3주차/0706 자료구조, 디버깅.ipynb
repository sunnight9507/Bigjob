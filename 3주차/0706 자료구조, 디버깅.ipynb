{
 "cells": [
  {
   "cell_type": "code",
   "execution_count": 65,
   "metadata": {},
   "outputs": [],
   "source": [
    "a = 1"
   ]
  },
  {
   "cell_type": "code",
   "execution_count": 66,
   "metadata": {},
   "outputs": [
    {
     "data": {
      "text/plain": [
       "140720768717632"
      ]
     },
     "execution_count": 66,
     "metadata": {},
     "output_type": "execute_result"
    }
   ],
   "source": [
    "# memory 값 확인\n",
    "id(a)"
   ]
  },
  {
   "cell_type": "markdown",
   "metadata": {},
   "source": [
    "좌변을 식별자 또는 이름이라고 한다.\n",
    "\n",
    "#### 이름 붙이는 방식\n",
    "- snake : 중간에 under_bar(_)가 있는 방식\n",
    "    - 주로 함수에 적용\n",
    "    - ex) load_iris\n",
    "- capsword : 첫번째 문자는 대문자 / pascal\n",
    "- camel : \n",
    "    - 클래스 생성할 때 적용\n",
    "    \n",
    "#### 상수\n",
    "- 정의 : 재할당 할 수 없는 수\n",
    "    - 모든 문자를 대문자로 적용\n",
    "    - ex) PI = 3.141592\n",
    "\n",
    "'=' : 할당 / binding\n",
    "\n",
    "#### 할당 방식\n",
    "\n",
    "1. a = b = 1\n",
    "2. c = d = [1,2,3,4]\n",
    "3. x, y = 1,2 / x, y = y, x\n",
    "4. x, \\*y = 1,2,3,4 / *a, = 1,2,3 (tuple to list)\n",
    "5. x=1; x += 2\n",
    "6. nonlocal / global : keyword\n",
    "    - keyword 확인 방법 : import keyword; keyword.kwlist\n",
    "7. 유사할당\n",
    "    - ex) for i in range(3):\n",
    "8. with open('a') as f:\n",
    "\n",
    "\n",
    "- **재할당**\n",
    "    - a = 1; a = 2 : 메모리 값 변경\n",
    "    - a = [1,2,3]; a.append(4) : 메모리 값 변경 X\n",
    "\n",
    "    `\n",
    "    for i, i in {'a' : 1, 'b' : 2}.items():\n",
    "        print(i, i)\n",
    "    `\n",
    "\n",
    "\n",
    "- 표현식(expression) : 하나의 결과값으로 축약될 수 있는 것\n",
    "    - a = lambda x : x + 1\n",
    "    - print(3 if x == 1 else 5)\n",
    "    \n",
    "    \n",
    "- **리터럴(liternal)** : 특정 문자를 사용해 자료구조를 정의\n",
    "    - **`정수`관련 리터럴**\n",
    "        - size 확인 방법 : `import sys; sys.maxsize`\n",
    "        - -5 ~ 512까지 같은 메모리 사용 / sys.intern\n",
    "        - 0b : 2진수 / 0o : 8진수 / 0x : 16진수\n",
    "    - **`float`관련 리터럴**\n",
    "        - size 확인 방법 : sys.float_info\n",
    "        - 3e4\n",
    "        - inf 값 정의 : float('inf')\n",
    "        - nan : float('nan')\n",
    "    - **`복소수`관련 리터럴**\n",
    "        - 3 + 2j\n",
    "    - **`bool`관련 리터럴**\n",
    "        - issubclass(bool, int) : True => bool은 int에 상속 되어있다.\n",
    "        - int에 관한 연산이 가능\n",
    "    \n",
    "        \n",
    "        \n",
    "#### container / collection\n",
    "\n",
    "- sequence\n",
    "    - indexing, slicing 지원\n",
    "        - ex) `a[slice(1,3)]`\n",
    "    - **값 비교 가능**\n",
    "    - **+** : 값 붙이기\n",
    "    - **\\*** : 해당 갯수 만큼 반복\n",
    "    \n",
    "    - **`문자열`**\n",
    "        - `a = u\"문근영\"`\n",
    "        - `a = b\"moon\"` / bytes \n",
    "        - `bytearray(b\"moon\")`\n",
    "        - `memory view`\n",
    "    - **`list`**\n",
    "        - `a = [1,2,]`\n",
    "        - mutable type : return 값이 None & 값이 바뀜\n",
    "            - 예외 : pop\\\n",
    "    - **`tuple`**\n",
    "        - immutable type : 값 변경 할 수 없음\n",
    "    - **`set`**\n",
    "        - mutable type / frozenset() : immutable type\n",
    "        - dictionary key 개념과 동일\n",
    "        - immutable type만 입력 가능\n",
    "        - 연산자 &, |, -, ^\n",
    "    - **`dictionary`**\n",
    "        - dictionary view\n",
    "            - dict.keys / dict.value / dict.items\n",
    "        - python의 내부 구조는 대부분 dictionary\n",
    "            - globals()\n",
    "        - 문자가 아닐 때 리터럴 방식으로 만들어야 한다.\n",
    "            - ex) `{1:1, 3:3}`\n",
    "#### 참고\n",
    "- dir(변수) : 가능한 함수\n",
    "- keword 확인 : help('원하는 키워드')"
   ]
  },
  {
   "cell_type": "markdown",
   "metadata": {},
   "source": [
    "### 심화 자료구조"
   ]
  },
  {
   "cell_type": "code",
   "execution_count": 245,
   "metadata": {},
   "outputs": [],
   "source": [
    "import collections\n",
    "\n",
    "# dir(collections)"
   ]
  },
  {
   "cell_type": "markdown",
   "metadata": {},
   "source": [
    "#### namedtuple"
   ]
  },
  {
   "cell_type": "code",
   "execution_count": 252,
   "metadata": {},
   "outputs": [
    {
     "data": {
      "text/plain": [
       "type"
      ]
     },
     "execution_count": 252,
     "metadata": {},
     "output_type": "execute_result"
    }
   ],
   "source": [
    "from collections import namedtuple\n",
    "\n",
    "Point = namedtuple('Point', ['x', 'y'])\n",
    "type(Point) # x : class"
   ]
  },
  {
   "cell_type": "code",
   "execution_count": 258,
   "metadata": {},
   "outputs": [
    {
     "data": {
      "text/plain": [
       "(3, 3, 3, 3)"
      ]
     },
     "execution_count": 258,
     "metadata": {},
     "output_type": "execute_result"
    }
   ],
   "source": [
    "p = Point(x=3, y=3)\n",
    "p.x, p.y, p[0], p[1]"
   ]
  },
  {
   "cell_type": "markdown",
   "metadata": {},
   "source": [
    "#### Counter"
   ]
  },
  {
   "cell_type": "code",
   "execution_count": 268,
   "metadata": {},
   "outputs": [
    {
     "data": {
      "text/plain": [
       "Counter({'a': 5, 'b': 4, 'c': 3, 'd': 2, 'e': 1})"
      ]
     },
     "execution_count": 268,
     "metadata": {},
     "output_type": "execute_result"
    }
   ],
   "source": [
    "from collections import Counter\n",
    "\n",
    "c = Counter('abcdeabcdabcaba')\n",
    "c"
   ]
  },
  {
   "cell_type": "code",
   "execution_count": 269,
   "metadata": {},
   "outputs": [],
   "source": [
    "# # mutable type\n",
    "# dir(c)"
   ]
  },
  {
   "cell_type": "code",
   "execution_count": 270,
   "metadata": {},
   "outputs": [
    {
     "data": {
      "text/plain": [
       "[('a', 5), ('b', 4), ('c', 3), ('d', 2), ('e', 1)]"
      ]
     },
     "execution_count": 270,
     "metadata": {},
     "output_type": "execute_result"
    }
   ],
   "source": [
    "c.most_common()"
   ]
  },
  {
   "cell_type": "markdown",
   "metadata": {},
   "source": [
    "#### defaultdict"
   ]
  },
  {
   "cell_type": "code",
   "execution_count": 271,
   "metadata": {},
   "outputs": [],
   "source": [
    "from collections import defaultdict"
   ]
  },
  {
   "cell_type": "code",
   "execution_count": 285,
   "metadata": {},
   "outputs": [
    {
     "data": {
      "text/plain": [
       "{'a': 3, 'b': 5}"
      ]
     },
     "execution_count": 285,
     "metadata": {},
     "output_type": "execute_result"
    }
   ],
   "source": [
    "dict(a=3, b=5)"
   ]
  }
 ],
 "metadata": {
  "kernelspec": {
   "display_name": "Python 3",
   "language": "python",
   "name": "python3"
  },
  "language_info": {
   "codemirror_mode": {
    "name": "ipython",
    "version": 3
   },
   "file_extension": ".py",
   "mimetype": "text/x-python",
   "name": "python",
   "nbconvert_exporter": "python",
   "pygments_lexer": "ipython3",
   "version": "3.7.3"
  }
 },
 "nbformat": 4,
 "nbformat_minor": 2
}
