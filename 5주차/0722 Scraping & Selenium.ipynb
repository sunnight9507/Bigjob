{
 "cells": [
  {
   "cell_type": "code",
   "execution_count": 23,
   "metadata": {},
   "outputs": [],
   "source": [
    "from requests import request\n",
    "from requests.compat import urljoin, urlparse\n",
    "from requests.exceptions import HTTPError\n",
    "from urllib.robotparser import RobotFileParser\n",
    "from bs4 import BeautifulSoup\n",
    "from time import sleep\n",
    "import re\n",
    "import json\n",
    "\n",
    "def canfetch(url, agent='*', path='/'):\n",
    "    robot = RobotFileParser(urljoin(url, '/robots.txt'))\n",
    "    robot.read()\n",
    "    return robot.can_fetch(agent, urlparse(url)[2])\n",
    "    \n",
    "def download(url, params={}, headers={}, method='GET', limit=3):\n",
    "    method = method.upper()\n",
    "    if canfetch(url) == False:\n",
    "        print('[Error] ' + url)\n",
    "#     else: # 실제 수집할 때, 제약사항이 많으므로 여기선 잠시 해제\n",
    "    try:\n",
    "        resp = request(method, url,\n",
    "               params=params if method=='GET' else {},\n",
    "               data=params if method=='POST' else {},\n",
    "               headers=headers)\n",
    "        resp.raise_for_status()\n",
    "    except HTTPError as e:\n",
    "        if limit > 0 and e.response.status_code >= 500:\n",
    "            print(limit)\n",
    "            time.sleep(1) # => random\n",
    "            resp = download(url, params, headers, method, limit-1)\n",
    "        else:\n",
    "            print('[{}] '.format(e.response.status_code) + url)\n",
    "            print(e.response.status_code)\n",
    "            print(e.response.reason)\n",
    "            print(e.response.headers)\n",
    "    return resp"
   ]
  },
  {
   "cell_type": "code",
   "execution_count": 2,
   "metadata": {},
   "outputs": [],
   "source": [
    "url = 'http://example.webscraping.com/places/default/search'\n",
    "headers = {\n",
    "    'user-agent' : 'Mozilla/5.0 (Windows NT 10.0; Win64; x64) AppleWebKit/537.36 (KHTML, like Gecko) Chrome/83.0.4103.116 Safari/537.36'\n",
    "}\n",
    "\n",
    "resp = download(url)\n",
    "dom = BeautifulSoup(resp.text, 'html.parser')"
   ]
  },
  {
   "cell_type": "code",
   "execution_count": 3,
   "metadata": {},
   "outputs": [
    {
     "data": {
      "text/plain": [
       "<div id=\"results\">\n",
       "</div>"
      ]
     },
     "execution_count": 3,
     "metadata": {},
     "output_type": "execute_result"
    }
   ],
   "source": [
    "dom.find('div', {'id':'results'})"
   ]
  },
  {
   "cell_type": "code",
   "execution_count": 4,
   "metadata": {},
   "outputs": [],
   "source": [
    "# dom.find('form')\n",
    "ajax = '/places/ajax/search.json'\n",
    "params = {\n",
    "    'search_term' : 'korea',\n",
    "    'page_size' : 10,\n",
    "    'page' : 0\n",
    "}\n",
    "\n",
    "resp = download(urljoin(url, ajax), params=params)\n",
    "\n",
    "result = resp.json()"
   ]
  },
  {
   "cell_type": "code",
   "execution_count": 5,
   "metadata": {},
   "outputs": [
    {
     "data": {
      "text/plain": [
       "{'pretty_link': '<div><a href=\"/places/default/view/South-Korea-211\"><img src=\"/places/static/images/flags/kr.png\" /> South Korea</a></div>',\n",
       " 'country': 'South Korea',\n",
       " 'id': 6734659}"
      ]
     },
     "execution_count": 5,
     "metadata": {},
     "output_type": "execute_result"
    }
   ],
   "source": [
    "result['records'][1]"
   ]
  },
  {
   "cell_type": "code",
   "execution_count": 6,
   "metadata": {},
   "outputs": [
    {
     "name": "stdout",
     "output_type": "stream",
     "text": [
      "6734613\n",
      "North Korea\n",
      "<div><a href=\"/places/default/view/North-Korea-165\"><img src=\"/places/static/images/flags/kp.png\" /> North Korea</a></div>\n",
      "http://example.webscraping.com/places/default/view/North-Korea-165\n",
      "http://example.webscraping.com/places/static/images/flags/kp.png\n",
      "North Korea\n",
      "----------\n",
      "http://example.webscraping.com/places/default/view/North-Korea-165\n",
      "http://example.webscraping.com/places/static/images/flags/kp.png\n",
      "North Korea\n",
      "\n",
      "6734659\n",
      "South Korea\n",
      "<div><a href=\"/places/default/view/South-Korea-211\"><img src=\"/places/static/images/flags/kr.png\" /> South Korea</a></div>\n",
      "http://example.webscraping.com/places/default/view/South-Korea-211\n",
      "http://example.webscraping.com/places/static/images/flags/kr.png\n",
      "South Korea\n",
      "----------\n",
      "http://example.webscraping.com/places/default/view/South-Korea-211\n",
      "http://example.webscraping.com/places/static/images/flags/kr.png\n",
      "South Korea\n",
      "\n"
     ]
    }
   ],
   "source": [
    "for _ in result['records']:\n",
    "    print(_['id'])\n",
    "    print(_['country'])\n",
    "    print(_['pretty_link'], end = '\\n')\n",
    "    print(urljoin(url, re.search(r'href=\"([^\"]+)\"',_['pretty_link']).group(1)))\n",
    "    print(urljoin(url, re.search(r'src=\"([^\"]+)\"',_['pretty_link']).group(1)))\n",
    "    print(re.search(r'>\\s*([^<]+)<',_['pretty_link']).group(1))\n",
    "    \n",
    "    print('-'*10)\n",
    "    dom = BeautifulSoup(_['pretty_link'], 'html.parser')\n",
    "    print(urljoin(url, dom.a['href']))\n",
    "    print(urljoin(url, dom.img['src']))\n",
    "    print(dom.a.text.strip())\n",
    "    print()"
   ]
  },
  {
   "cell_type": "code",
   "execution_count": 7,
   "metadata": {},
   "outputs": [
    {
     "data": {
      "text/plain": [
       "<form action=\"welcome.php\" method=\"post\">\n",
       "Username (use anything!): <input name=\"username\" type=\"text\"/><br/>\n",
       "Password (try \"password\"): <input name=\"password\" type=\"password\"/><br/>\n",
       "<input type=\"submit\" value=\"Login\"/>\n",
       "</form>"
      ]
     },
     "execution_count": 7,
     "metadata": {},
     "output_type": "execute_result"
    }
   ],
   "source": [
    "url = 'http://pythonscraping.com/pages/cookies/login.html'\n",
    "resp = download(url)\n",
    "dom = BeautifulSoup(resp.text, 'html.parser')\n",
    "dom.form"
   ]
  },
  {
   "cell_type": "code",
   "execution_count": 8,
   "metadata": {},
   "outputs": [
    {
     "data": {
      "text/plain": [
       "'http://pythonscraping.com/pages/cookies/welcome.php'"
      ]
     },
     "execution_count": 8,
     "metadata": {},
     "output_type": "execute_result"
    }
   ],
   "source": [
    "urljoin(url, dom.form['action'])\n",
    "# params = username=이름&password=비밀번호"
   ]
  },
  {
   "cell_type": "code",
   "execution_count": 9,
   "metadata": {},
   "outputs": [
    {
     "data": {
      "text/plain": [
       "[{'username': 'anything'}, {'password': 'password'}]"
      ]
     },
     "execution_count": 9,
     "metadata": {},
     "output_type": "execute_result"
    }
   ],
   "source": [
    "[{_['name']:'anything' if _['name']=='username' else 'password'} for _ in dom.select('input[name]')]"
   ]
  },
  {
   "cell_type": "code",
   "execution_count": 10,
   "metadata": {},
   "outputs": [],
   "source": [
    "params = {}\n",
    "for _ in dom.select('input[name]'):\n",
    "    params[_['name']] = 'anything' if _['name'] == 'username' else 'password'\n",
    "\n",
    "resp = download(urljoin(url, dom.form['action']), params=params, method='POST')"
   ]
  },
  {
   "cell_type": "code",
   "execution_count": 11,
   "metadata": {},
   "outputs": [
    {
     "data": {
      "text/plain": [
       "'\\n<h2>Welcome to the Website!</h2>\\nWhoops! You logged in wrong. Try again with any username, and the password \"password\"<br><a href=\"login.html\">Log in here</a>'"
      ]
     },
     "execution_count": 11,
     "metadata": {},
     "output_type": "execute_result"
    }
   ],
   "source": [
    "resp.text"
   ]
  },
  {
   "cell_type": "code",
   "execution_count": 12,
   "metadata": {},
   "outputs": [
    {
     "data": {
      "text/plain": [
       "'username=anything&password=password'"
      ]
     },
     "execution_count": 12,
     "metadata": {},
     "output_type": "execute_result"
    }
   ],
   "source": [
    "resp.request.body"
   ]
  },
  {
   "cell_type": "code",
   "execution_count": 13,
   "metadata": {},
   "outputs": [
    {
     "data": {
      "text/plain": [
       "'\\n<h2>Welcome to the Website!</h2>\\nWhoops! You logged in wrong. Try again with any username, and the password \"password\"<br><a href=\"login.html\">Log in here</a>'"
      ]
     },
     "execution_count": 13,
     "metadata": {},
     "output_type": "execute_result"
    }
   ],
   "source": [
    "resp.text"
   ]
  },
  {
   "cell_type": "code",
   "execution_count": 14,
   "metadata": {},
   "outputs": [
    {
     "data": {
      "text/plain": [
       "'\\n<h2>Welcome to the Website!</h2>\\nWhoops! You logged in wrong. Try again with any username, and the password \"password\"<br><a href=\"login.html\">Log in here</a>'"
      ]
     },
     "execution_count": 14,
     "metadata": {},
     "output_type": "execute_result"
    }
   ],
   "source": [
    "from requests import Session\n",
    "\n",
    "session = Session()\n",
    "# request(쿠키x) == session(쿠키)\n",
    "resp = session.request('POST', url = urljoin(url, dom.form['action']), data=params)\n",
    "resp.text # 쿠기 저장"
   ]
  },
  {
   "cell_type": "code",
   "execution_count": 15,
   "metadata": {},
   "outputs": [
    {
     "data": {
      "text/plain": [
       "{'loggedin': '1', 'username': 'anything'}"
      ]
     },
     "execution_count": 15,
     "metadata": {},
     "output_type": "execute_result"
    }
   ],
   "source": [
    "resp.cookies.get_dict()"
   ]
  },
  {
   "cell_type": "code",
   "execution_count": 16,
   "metadata": {},
   "outputs": [
    {
     "data": {
      "text/plain": [
       "'\\n<h2>Welcome to the Website!</h2>\\nYou have logged in successfully! <br><a href=\"profile.php\">Check out your profile!</a>'"
      ]
     },
     "execution_count": 16,
     "metadata": {},
     "output_type": "execute_result"
    }
   ],
   "source": [
    "resp = session.request('GET', urljoin(url, dom.form['action']), data=params)\n",
    "resp.text"
   ]
  },
  {
   "cell_type": "code",
   "execution_count": 17,
   "metadata": {},
   "outputs": [
    {
     "data": {
      "text/plain": [
       "'\\n<h2>Welcome to the Website!</h2>\\nYou have logged in successfully! <br><a href=\"profile.php\">Check out your profile!</a>'"
      ]
     },
     "execution_count": 17,
     "metadata": {},
     "output_type": "execute_result"
    }
   ],
   "source": [
    "resp = session.request('GET', urljoin(url, dom.form['action']), cookies = session.cookies)\n",
    "resp.text"
   ]
  },
  {
   "cell_type": "code",
   "execution_count": 18,
   "metadata": {},
   "outputs": [
    {
     "data": {
      "text/plain": [
       "{'loggedin': '1', 'username': 'anything'}"
      ]
     },
     "execution_count": 18,
     "metadata": {},
     "output_type": "execute_result"
    }
   ],
   "source": [
    "cookiedict = {}\n",
    "for _ in session.cookies.items():\n",
    "    cookiedict[_[0]] = _[1]\n",
    "cookiedict"
   ]
  },
  {
   "cell_type": "code",
   "execution_count": 19,
   "metadata": {},
   "outputs": [
    {
     "data": {
      "text/plain": [
       "'\\n<h2>Welcome to the Website!</h2>\\nYou have logged in successfully! <br><a href=\"profile.php\">Check out your profile!</a>'"
      ]
     },
     "execution_count": 19,
     "metadata": {},
     "output_type": "execute_result"
    }
   ],
   "source": [
    "resp = session.request('GET', urljoin(url, dom.form['action']), cookies = cookiedict)\n",
    "resp.text"
   ]
  },
  {
   "cell_type": "markdown",
   "metadata": {},
   "source": [
    "#### Naver Log in"
   ]
  },
  {
   "cell_type": "code",
   "execution_count": 20,
   "metadata": {},
   "outputs": [
    {
     "name": "stdout",
     "output_type": "stream",
     "text": [
      "[Error] http://nid.naver.com/nidlogin.login?mode=form\n"
     ]
    }
   ],
   "source": [
    "resp = download('http://nid.naver.com/nidlogin.login?mode=form', headers=headers)\n",
    "dom = BeautifulSoup(resp.text, 'html.parser')"
   ]
  },
  {
   "cell_type": "code",
   "execution_count": 21,
   "metadata": {},
   "outputs": [],
   "source": [
    "params = dict()\n",
    "for _ in dom.form.select('input[name]'):\n",
    "    params[_['name']] = _['value'] if _.has_attr('values') else ''\n",
    "params['id'] = 'test'\n",
    "params['pw'] = 'test'"
   ]
  },
  {
   "cell_type": "code",
   "execution_count": 22,
   "metadata": {},
   "outputs": [],
   "source": [
    "# params, dom.form['action'], dom.form['method']\n",
    "resp = session.request(dom.form['method'], dom.form['action'], data=params)"
   ]
  },
  {
   "cell_type": "code",
   "execution_count": 23,
   "metadata": {},
   "outputs": [
    {
     "data": {
      "text/plain": [
       "'<!DOCTYPE html>\\n<html lang=\"ko\">\\n<head>\\n\\t<meta charset=\"UTF-8\">\\n\\t<meta http-equiv=\"X-UA-Compatible\" content=\"IE=edge\">\\n\\t<meta name=\"viewport\" content=\"width=device-width, initial-scale=1.0, maximum-scale=1.0, minimum-scale=1.0, user-scalable=no\">\\n\\t<meta property=\"og:type\" content=\"website\">\\n\\t<meta property=\"og:title\" content=\"[네이버: 로그인]\">\\n\\t<meta property=\"og:description\" content=\"안전한 로그인을 위해 주소창의 URL과 자물쇠 마크를 확인하세요!\">\\n\\t<meta property=\"og:image\" content=\"https://ssl.pstatic.net/sstatic/search/common/og_v3.png\">\\n\\t<meta property=\"og:image:type\" content=\"image/png\">\\n\\t<meta property=\"og:image:width\" content=\"1200\">\\n\\t<meta property=\"og:image:height\" content=\"1200\">\\t\\t\\n\\t<title>네이버 : 로그인</title>\\n\\t<link rel=\"stylesheet\" type=\"text/css\" href=\"https://nid.naver.com/login/css/global/desktop/w_20200707.css\">\\n</head>\\n<body class=\"\">\\n<div class=\"theme_txt\" id=\"theme_txt_message\">\\n\\t<p><strong>안전한 네이버 로그인을 위해 주소창의 URL과 자물쇠 마크를 확인하세요!</strong></p>\\n</div>\\n<div id=\"wrap\">\\n    <div id=\"u_skip\">\\n        <a href=\"#content\" id=\"u_skip_anchor\"><span>본문으로 바로가기</span></a>\\n    </div>\\n\\t<!-- header -->\\n\\t<div id=\"header\">\\n\\t\\t<h1><a href=\"https://www.naver.com\" class=\"sp h_logo\" id=\"log.naver\"><span class=\"blind\">NAVER</span></a></h1>\\n\\t\\t<div class=\"lang\">\\n\\t\\t\\t<select id=\"locale_switch\" name=\"locale_switch\" title=\"언어선택\" class=\"sel\">\\n\\t\\t\\t\\t<option value=\"ko_KR\" >한국어</option>\\n\\t\\t\\t\\t<option value=\"en_US\" >English</option>\\n\\t\\t\\t\\t<option value=\"zh-Hans_CN\" >中文(简体)</option>\\n\\t\\t\\t\\t<option value=\"zh-Hant_TW\" >中文(台灣)</option>\\n\\t\\t\\t</select>\\n\\t\\t</div>\\n\\t</div>\\n\\t<div id=\"container\">\\n\\t\\t<!-- content -->\\n\\t\\t<div id=\"content\">\\n\\t\\t\\t<div class=\"title\" aria-live=\"assertive\">\\n\\t\\t\\t\\t<p></p>\\n\\t\\t\\t</div>\\n\\t\\t\\t\\t<form id=\"frmNIDLogin\" name=\"frmNIDLogin\" target=\"_top\" AUTOCOMPLETE=\"off\" action=\"https://nid.naver.com/nidlogin.login\" method=\"POST\">\\n\\t\\t\\t\\t<input type=\"hidden\" id=\"localechange\" name=\"localechange\" value=\"\">\\n\\t\\t\\t\\t<input type=\"hidden\" name=\"encpw\" id=\"encpw\" value=\"\">\\n<input type=\"hidden\" name=\"enctp\" id=\"enctp\" value=\"1\">\\n<input type=\"hidden\" name=\"svctype\" id=\"svctype\" value=\"1\">\\n<input type=\"hidden\" name=\"smart_LEVEL\" id=\"smart_LEVEL\" value=\"1\">\\n<input type=\"hidden\" name=\"bvsd\" id=\"bvsd\" value=\"\">\\n<input type=\"hidden\" name=\"encnm\" id=\"encnm\" value=\"\">\\n<input type=\"hidden\" name=\"locale\" id=\"locale\" value=\"ko_KR\">\\n<input type=\"hidden\" name=\"url\" id=\"url\" value=\"http://mail.naver.com/\">\\n\\n\\t\\t\\t\\t<fieldset class=\"login_form\">\\n\\t\\t\\t\\t\\t<legend class=\"blind\">로그인</legend>\\n\\t\\t\\t\\t\\t<div class=\"id_area\">\\n\\t\\t\\t\\t\\t\\t<div class=\"input_row\" id=\"id_area\">\\n\\t\\t\\t\\t\\t\\t\\t<span class=\"input_box\">\\n\\t\\t\\t\\t\\t\\t\\t\\t<label for=\"id\" id=\"label_id_area\" class=\"lbl\">아이디</label>\\n\\t\\t\\t\\t\\t\\t\\t\\t<input type=\"text\" id=\"id\" name=\"id\" accesskey=\"L\" placeholder=\"아이디\" class=\"int\" maxlength=\"41\" value=\"\">\\n\\t\\t\\t\\t\\t\\t\\t</span>\\n\\t\\t\\t\\t\\t\\t\\t<button type=\"button\" disabled=\"\" title=\"delete\" id=\"id_clear\" class=\"wrg\">삭제</button>\\n\\t\\t\\t\\t\\t\\t</div>\\n\\t\\t\\t\\t\\t\\t<div class=\"error\" id=\"err_empty_id\" style=\"display:none\" aria-live=\"assertive\"></div>\\n\\t\\t\\t\\t\\t</div>\\n\\t\\t\\t\\t\\t<div class=\"pw_area\">\\n\\t\\t\\t\\t\\t\\t<div class=\"input_row\" id=\"pw_area\">\\n\\t\\t\\t\\t\\t\\t\\t<span class=\"input_box\">\\n\\t\\t\\t\\t\\t\\t\\t\\t<label for=\"pw\" id=\"label_pw_area\"  class=\"lbl\">비밀번호</label>\\n\\t\\t\\t\\t\\t\\t\\t\\t<input type=\"password\" id=\"pw\" name=\"pw\" placeholder=\"비밀번호\" class=\"int\" maxlength=\"16\">\\n\\t\\t\\t\\t\\t\\t\\t</span>\\n\\t\\t\\t\\t\\t\\t\\t<button type=\"button\" disabled=\"\" title=\"delete\" id=\"pw_clear\" class=\"wrg\">삭제</button>\\n\\t\\t\\t\\t\\t\\t\\t<div class=\"ly_v2\" id=\"err_capslock\" style=\"display:none;\">\\n\\t\\t\\t\\t\\t\\t\\t\\t<div class=\"ly_box\">\\n\\t\\t\\t\\t\\t\\t\\t\\t\\t<p><strong>Caps Lock</strong>이 켜져 있습니다.</p>\\n\\t\\t\\t\\t\\t\\t\\t\\t</div>\\n\\t\\t\\t\\t\\t\\t\\t\\t<span class=\"sp ly_point\"></span>\\n\\t\\t\\t\\t\\t\\t\\t</div>\\n\\t\\t\\t\\t\\t\\t</div>\\n\\t\\t\\t\\t\\t\\t<div class=\"error\" id=\"err_empty_pw\" style=\"display:none\" aria-live=\"assertive\"></div>\\n\\t\\t\\t\\t\\t</div>\\n\\n\\t\\t\\t\\t\\t<input type=\"submit\" title=\"로그인\" alt=\"로그인\" value=\"로그인\" class=\"btn_global\" id=\"log.login\">\\n\\t\\t\\t\\t\\t<div class=\"check_info\">\\n\\t\\t\\t\\t\\t\\t<div class=\"login_check\">\\n\\t\\t\\t\\t\\t\\t\\t<span class=\"login_check_box\">\\n\\t\\t\\t\\t\\t\\t\\t\\t<input type=\"checkbox\" id=\"login_chk\" name=\"nvlong\" class=\"\"  value=\"off\" />\\n\\t\\t\\t\\t\\t\\t\\t\\t<label for=\"login_chk\" id=\"label_login_chk\" class=\"ico_keep_check \">로그인 상태 유지</label>\\n\\t\\t\\t\\t\\t\\t\\t</span>\\n\\t\\t\\t\\t\\t\\t</div>\\n\\t\\t\\t\\t\\t\\t<div class=\"pc_check\">\\n\\t\\t\\t\\t\\t\\t\\t<span class=\"ip_check\">\\n\\t\\t\\t\\t\\t\\t\\t\\t<a href=\"/login/ext/help_ip3.html\" target=\"_blank\" id=\"ipguide\" title=\"\" >\\n\\t\\t\\t\\t\\t\\t\\t\\t\\t<span class=\"ip_txt01\">IP</span>\\n\\t\\t\\t\\t\\t\\t\\t\\t\\t<span class=\"ip_txt02\">보안</span>\\t\\t\\t\\t\\t\\t\\t\\t\\n\\t\\t\\t\\t\\t\\t\\t\\t</a>\\n\\t\\t\\t\\t\\t\\t\\t\\t<span class=\"ip_ch\">\\n\\t\\t\\t\\t\\t\\t\\t\\t\\t<input type=\"checkbox\" id=\"ip_on\" value=\"off\" class=\"\"/>\\n\\t\\t\\t\\t\\t\\t\\t\\t\\t<label for=\"ip_on\" id=\"label_ip_on\" class=\"security \">OFF</label>\\n\\t\\t\\t\\t\\t\\t\\t\\t</span>\\n\\t\\t\\t\\t\\t\\t\\t</span>\\n\\t\\t\\t\\t\\t\\t</div>\\n\\t\\t\\t\\t\\t</div>\\n\\t\\t\\t\\t</fieldset>\\n\\t\\t\\t</form>\\n\\t\\t\\t<div class=\"qr_once_wrap\">\\n\\t\\t\\t\\t<div class=\"qr_once_inner\">\\n\\t\\t\\t\\t\\t<p class=\"title\">더욱 간편한 로그인</p>\\n\\t\\t\\t\\t\\t<div class=\"qr_once_area\">\\n\\t\\t\\t\\t\\t\\t<div class=\"item\">\\n\\t\\t\\t\\t\\t\\t\\t<button type=\"button\" id=\"log.QR\" class=\"item_btn\">\\n\\t\\t\\t\\t\\t\\t\\t\\t<span class=\"icon_qr\" aria-hidden=\"true\"></span>\\n\\t\\t\\t\\t\\t\\t\\t\\t<span class=\"txt\"><em class=\"en\">QR</em>코드 로그인</span>\\n\\t\\t\\t\\t\\t\\t\\t</button>\\n\\t\\t\\t\\t\\t\\t</div>\\n\\t\\t\\t\\t\\t\\t<div class=\"item\">\\n\\t\\t\\t\\t\\t\\t\\t<button type=\"button\" id=\"log.otn\" class=\"item_btn\">\\n\\t\\t\\t\\t\\t\\t\\t\\t<span class=\"icon_once\" aria-hidden=\"true\"></span>\\n\\t\\t\\t\\t\\t\\t\\t\\t<span class=\"txt\">일회용 번호 로그인</span>\\n\\t\\t\\t\\t\\t\\t\\t</button>\\n\\t\\t\\t\\t\\t\\t</div>\\n\\t\\t\\t\\t\\t</div>\\n\\t\\t\\t\\t\\t<div class=\"nudge_tooltip\" id=\"nudge_tooltip\">\\t\\t\\t\\t\\t\\t\\n\\t\\t\\t\\t\\t\\t<span class=\"banner_area\">\\n\\t\\t\\t\\t\\t\\t\\t<span class=\"edge\"></span>\\n\\t\\t\\t\\t\\t\\t\\t<span class=\"text\"><em>PC방 등 공용 PC라면 안전하게 사용해 보세요.</em></span>\\n\\t\\t\\t\\t\\t\\t\\t<a href=\"#\" id=\"nudge_close\" role=\"button\" aria-label=\"닫기\" class=\"nudge_close\"></a>\\n\\t\\t\\t\\t\\t\\t</span>\\n\\t\\t\\t\\t\\t</div>\\n\\t\\t\\t\\t</div>\\t\\t\\t\\t\\n\\t\\t\\t</div>\\n\\n\\t\\t\\t<div class=\"position_a\">\\n\\t\\t\\t\\t<div class=\"find_info\">\\n\\t\\t\\t\\t\\t<a target=\"_blank\" id=\"idinquiry\" href=\"https://nid.naver.com/user2/api/route.nhn?m=routeIdInquiry&lang=ko_KR\">아이디 찾기</a> <span class=\"bar\" aria-hidden=\"true\">|</span> <a target=\"_blank\" id=\"pwinquiry\" href=\"https://nid.naver.com/user2/api/route.nhn?m=routePwInquiry&lang=ko_KR\">비밀번호 찾기</a> <span class=\"bar\" aria-hidden=\"true\">|</span> <a target=\"_blank\" id=\"join\" href=\"https://nid.naver.com/user2/V2Join.nhn?m=agree&lang=ko_KR\">회원가입</a>\\n\\t\\t\\t\\t</div>\\n\\t\\t\\t</div>\\n\\t\\t\\t<a href=\"https://nid.naver.com/user2/campaign/showInfo.nhn?m=eSignCampaign\" target=\"_blank\" class=\"naversign_cert_banner\">\\n\\t\\t\\t\\t<span class=\"bill_img_pc\"></span>\\n\\t\\t\\t\\t<span class=\"blind\">\\n\\t\\t\\t\\t\\t<strong>네이버인증서</strong>\\n                    지금 발급하면 페이포인트 2만원<br>\\n                    미리 발급해두면 간편하게 본인확인 가능!\\n\\t\\t\\t\\t</span>\\n\\t\\t\\t</a>\\n\\t\\t</div>\\n\\t\\t<!-- //content -->\\n\\t</div>\\n\\t<!-- //container -->\\n\\t<!-- footer -->\\n\\t<div id=\"footer\">\\n\\t\\t<ul>\\n\\t\\t<li><a target=\"_blank\" href=\"http://www.naver.com/rules/service.html\" id=\"fot.agreement\">이용약관</a></li>\\n\\t\\t<li><strong><a target=\"_blank\" href=\"http://www.naver.com/rules/privacy.html\" id=\"fot.privacy\">개인정보처리방침</a></strong></li>\\n\\t\\t<li><a target=\"_blank\" href=\"http://www.naver.com/rules/disclaimer.html\" id=\"fot.disclaimer\">책임의 한계와 법적고지</a></li>\\n\\t\\t<li><a target=\"_blank\" href=\"https://help.naver.com/support/service/main.nhn?serviceNo=532\" id=\"fot.help\">회원정보 고객센터</a></li>\\n\\t\\t</ul>\\n\\t\\t<address><em><a target=\"_blank\" href=\"http://www.navercorp.com\" class=\"logo\" id=\"fot.naver\"><span class=\"blind\">naver</span></a></em><em class=\"copy\">Copyright</em> <em class=\"u_cri\">&copy;</em> <a target=\"_blank\" href=\"http://www.navercorp.com\" class=\"u_cra\" id=\"fot.navercorp\">NAVER Corp.</a> <span class=\"all_r\">All Rights Reserved.</span></address>\\t\\n\\t</div>\\n\\t<!-- //footer -->\\n</div>\\n<input type=\"hidden\" id=\"nclicks_nsc\" name=\"nclicks_nsc\" value=\"nid.login_kr\">\\n<input type=\"hidden\" id=\"nid_buk\" name=\"nid_buk\" value=\"none\">\\n<input type=\"hidden\" id=\"ncaptchaSplit\" name=\"ncaptchaSplit\" value=\"none\">\\n<input type=\"hidden\" id=\"id_error_msg\" name=\"id_error_msg\" value=\"아이디를 입력해주세요.\">\\n<input type=\"hidden\" id=\"pw_error_msg\" name=\"pw_error_msg\" value=\"비밀번호를 입력해주세요.\">\\n<input type=\"hidden\" id=\"locale\" name=\"locale\" value=\"ko_KR\">\\n<input type=\"hidden\" id=\"adult_surl_v2\" name=\"adult_surl_v2\" value=\"\">\\n<script type=\"text/javascript\" src=\"https://nid.naver.com/login/js/bvsd.1.3.4.min.js\"></script>\\n<script type=\"text/javascript\" src=\"https://nid.naver.com/login/js/default/common200417.js?v=20200707\"></script>\\n<script type=\"text/javascript\" src=\"https://nid.naver.com/login/js/default/default200417.js\"></script>\\n<script type=\"text/javascript\" nonce=\"61L6o67wI74hETXhCWateeBJ\">try{if(document.domain!=\"nid.naver.com\"||location.protocol!=\"https:\"){location.href=\"https://nid.naver.com/login/api/proxy.repo.naver?protocol=\"+location.protocol+\"&domain=\"+document.domain+\"&referrer=\"+encodeURIComponent(document.referrer)}}catch(e){}</script>\\n<div id=\"nv_stat\" style=\"display:none;\">20</div>\\n</body>\\n</html>\\n'"
      ]
     },
     "execution_count": 23,
     "metadata": {},
     "output_type": "execute_result"
    }
   ],
   "source": [
    "coodiedict = {\n",
    "    'gnbFav' : '%7B%22gnbFav%22%3A%5B%5D%7D',\n",
    "    'NID_SAUTO' : '-1891493465',\n",
    "    'coach_tooltip' : 'ok',\n",
    "    'nid_enctp' : '1',\n",
    "    'nid_buk' : '43O5YWJ7SNCV2',\n",
    "    'NID_SES' : 'AAABeAgr0Glx2yCbCp+qjOuI+ro1F0g9h8GN/OVScdu3XzFA/o8Sosg8tQm7RsgV3xLkUpmoP9c3eB2Z2BECpqHvQ69V0Pm1uv/DceHH0Iki/99mWxwh12PTo/zWu8IES6aidySdoo2IJgtddR1S8aodlBDbZgrlQZhXWov3gzb/JVAeu9B5L+Ra6AXsKfyp3yKV9b4pzsleg3TLZ4Eo4YXOv0pb1rEWcZzzHRXjE68Tz47n6za9gy8RKLjLOXQ7nKCOZa00j6d0/i8wdIAun3EkUK0prRQGkaEczzrfDH/2ItilduqDcBeEnitmfdve+6dfJ4nFJb8hQsuvAnRtJQC8ewnayL0c6oBdNCccLGL5yU0IKRK8FdxrgfUDT0t5sChiW9MWekCRf+JRz5JIhOmlX91/t8iUWCMnKxjYTCbiXmW6OethS5E6LP+2SX7Aajnsj0+XfapIGTzpmA/ZjkD1WRm7t6jwU22F6KF9dCsFp2gZbE1eIrKUVIETtD8HLY1IKg==',\n",
    "    'NMUSER' : 'YXKmFAEwaqbsaAUqFxKdbXk5W40N1HtlFxgXaqu9axEqaAtZaxusFxuZKAnmaqns3xndFAKwFoUsHoKma9vsxonOaxRVadUstoRVaqRVaqns1rejL9Us6xRVaqnD16lvpB2RKZl5WLl5MBp0bSloWrdnaAvmKARqp6FTW43CbNvR16lvpB2RKZl5WLl5MBp0bSloWrdnaAvmKAn=',\n",
    "    'NID_AUT' : 'Uu3mELeSQvuRqLKCvunNeRM/eLeoakeJZgc0tHYAtWpos96czTnjcTs+Daguji1r',\n",
    "    '_ga_7VKFYR6RV1' : 'GS1.1.1595347015.33.1.1595348957.60',\n",
    "    'NID_JKL' : 'ETkTt2IWJyid9+q8wvnujZTI2M9fOFyIkTtSB1LgmFc=',\n",
    "    '_ga' : 'GA1.1.2123753588.1591027971',\n",
    "    'nid_slevel' : '-1',\n",
    "    '_gid' : 'GA1.2.283987012.1595347016',\n",
    "    'NRTK' : 'ag#all_gr#4_ma#2_si#2_en#2_sp#2',\n",
    "    'nid_inf' : '-600244553',\n",
    "    'nx_ssl' : '2',\n",
    "    'ASID' : 'b6dd6ef1000001721be570c10000005f',\n",
    "    'NNB' : 'VGJQ2CTCLK7V4',\n",
    "}\n",
    "\n",
    "url = 'https://mail.naver.com/'\n",
    "# session.cookies.clear()\n",
    "for k,v in cookiedict.items():\n",
    "    session.cookies.set(k, v)\n",
    "    \n",
    "resp = session.request('GET', url)\n",
    "\n",
    "resp.text"
   ]
  },
  {
   "cell_type": "code",
   "execution_count": 24,
   "metadata": {},
   "outputs": [],
   "source": [
    "# dom.find(text='전체메일').find_parent()\n",
    "# dom.select_one('#list_for_view')"
   ]
  },
  {
   "cell_type": "code",
   "execution_count": 25,
   "metadata": {},
   "outputs": [],
   "source": [
    "mailapi = 'http://mail.naver.com/json/list/'\n",
    "params = {\n",
    "    'page' : '1',\n",
    "    'sortField' : '1',\n",
    "    'sortType' : '0',\n",
    "    'folderSN' : '0',\n",
    "    'type' : '',\n",
    "    'isUnread' : 'false',\n",
    "    'u' : 'id'\n",
    "}\n",
    "resp = session.request('POST', mailapi, params=params)"
   ]
  },
  {
   "cell_type": "code",
   "execution_count": 26,
   "metadata": {},
   "outputs": [],
   "source": [
    "# for _ in resp.json()['mailData']:\n",
    "#     print(_['from'])\n",
    "#     print(_['subject'])\n",
    "#     print()"
   ]
  },
  {
   "cell_type": "markdown",
   "metadata": {},
   "source": [
    "#### 빅데이터 청년인재 게시물 가져오기"
   ]
  },
  {
   "cell_type": "code",
   "execution_count": 27,
   "metadata": {},
   "outputs": [],
   "source": [
    "url = 'https://lms.sunde41.net/auth/login'\n",
    "resp = download(url)\n",
    "dom = BeautifulSoup(resp.text, 'html.parser')"
   ]
  },
  {
   "cell_type": "code",
   "execution_count": 28,
   "metadata": {},
   "outputs": [],
   "source": [
    "dom.form['action'], dom.form['method']\n",
    "params = {}\n",
    "for _ in dom.form.select('input[name]'):\n",
    "    params[_['name']] = _['value'] if _.has_attr('value') else ''"
   ]
  },
  {
   "cell_type": "code",
   "execution_count": 29,
   "metadata": {},
   "outputs": [
    {
     "data": {
      "text/plain": [
       "<Response [200]>"
      ]
     },
     "execution_count": 29,
     "metadata": {},
     "output_type": "execute_result"
    }
   ],
   "source": [
    "session.cookies.clear()\n",
    "session.post(urljoin(url, dom.form['action']), data=params)"
   ]
  },
  {
   "cell_type": "code",
   "execution_count": 32,
   "metadata": {},
   "outputs": [
    {
     "name": "stdout",
     "output_type": "stream",
     "text": [
      "Overwriting lms.json\n"
     ]
    }
   ],
   "source": [
    "%%writefile lms.json\n",
    "{\n",
    "    \"id\" : \"id\",\n",
    "    \"pw\" : \"pw\"\n",
    "}"
   ]
  },
  {
   "cell_type": "code",
   "execution_count": 31,
   "metadata": {},
   "outputs": [],
   "source": [
    "with open('lms.json') as f:\n",
    "    account = json.load(f)"
   ]
  },
  {
   "cell_type": "code",
   "execution_count": 32,
   "metadata": {},
   "outputs": [],
   "source": [
    "params['email'] = account['id']\n",
    "params['password'] = account['pw']"
   ]
  },
  {
   "cell_type": "code",
   "execution_count": 33,
   "metadata": {},
   "outputs": [],
   "source": [
    "resp = session.post(urljoin(url, dom.form['action']), data=params)"
   ]
  },
  {
   "cell_type": "code",
   "execution_count": 34,
   "metadata": {},
   "outputs": [],
   "source": [
    "url = 'https://lms.sunde41.net/course/2'\n",
    "resp = session.get(url)\n",
    "dom = BeautifulSoup(resp.text, 'html.parser')"
   ]
  },
  {
   "cell_type": "code",
   "execution_count": 35,
   "metadata": {},
   "outputs": [
    {
     "data": {
      "text/plain": [
       "'https://us02web.zoom.us/j/82558845438?pwd=UkkzK0NPMFZkaEtTM1l2dCtLeDJidz09'"
      ]
     },
     "execution_count": 35,
     "metadata": {},
     "output_type": "execute_result"
    }
   ],
   "source": [
    "# dom.find(text=re.compile('오류')).find_parent().find_parent().find_parent().find_parent().find_parent()\n",
    "notice = dom.select_one('#notice-table tr:nth-of-type(2) td:nth-of-type(2)')\n",
    "re.search(r'href=\"([^\"]+)\"', notice.decode()).group(1)"
   ]
  },
  {
   "cell_type": "code",
   "execution_count": 36,
   "metadata": {},
   "outputs": [
    {
     "data": {
      "text/plain": [
       "['82558845438', '053625']"
      ]
     },
     "execution_count": 36,
     "metadata": {},
     "output_type": "execute_result"
    }
   ],
   "source": [
    "re.findall(r'\\s+(\\d+)<', notice.decode())"
   ]
  },
  {
   "cell_type": "code",
   "execution_count": 37,
   "metadata": {},
   "outputs": [
    {
     "data": {
      "text/plain": [
       "'2020-07-22'"
      ]
     },
     "execution_count": 37,
     "metadata": {},
     "output_type": "execute_result"
    }
   ],
   "source": [
    "notice.find_previous_sibling().span.text.strip()\n",
    "\n",
    "re.sub(r'(T.+)', '', notice.find_previous_sibling().span.text.strip())"
   ]
  },
  {
   "cell_type": "code",
   "execution_count": 38,
   "metadata": {},
   "outputs": [
    {
     "name": "stdout",
     "output_type": "stream",
     "text": [
      "날짜 : 2020-07-22\n",
      "주소 : https://us02web.zoom.us/j/82558845438?pwd=UkkzK0NPMFZkaEtTM1l2dCtLeDJidz09\n",
      "아이디 : 82558845438 / 비밀번호 : 053625\n"
     ]
    }
   ],
   "source": [
    "url = 'https://lms.sunde41.net/auth/login'\n",
    "resp = download(url)\n",
    "dom = BeautifulSoup(resp.text, 'html.parser')\n",
    "\n",
    "dom.form['action'], dom.form['method']\n",
    "params = {}\n",
    "for _ in dom.form.select('input[name]'):\n",
    "    params[_['name']] = _['value'] if _.has_attr('value') else ''\n",
    "    \n",
    "with open('lms.json') as f:\n",
    "    account = json.load(f)\n",
    "    \n",
    "params['email'] = account['id']\n",
    "params['password'] = account['pw']\n",
    "\n",
    "resp = session.post(urljoin(url, dom.form['action']), data=params)\n",
    "\n",
    "url = 'https://lms.sunde41.net/course/2'\n",
    "resp = session.get(url)\n",
    "dom = BeautifulSoup(resp.text, 'html.parser')\n",
    "\n",
    "notice = dom.select_one('#notice-table tr:nth-of-type(2) td:nth-of-type(2)')\n",
    "\n",
    "date = re.sub(r'(T.+)', '', notice.find_previous_sibling().span.text.strip())\n",
    "addr = re.search(r'href=\"([^\"]+)\"', notice.decode()).group(1)\n",
    "user = re.findall(r'\\s+(\\d+)<', notice.decode())\n",
    "print('날짜 : {}'.format(date))\n",
    "print('주소 : {}'.format(addr))\n",
    "print('아이디 : {0} / 비밀번호 : {1}'.format(user[0], user[1]))"
   ]
  },
  {
   "cell_type": "markdown",
   "metadata": {},
   "source": [
    "### https://pubmed.ncbi.nlm.nih.gov/"
   ]
  },
  {
   "cell_type": "code",
   "execution_count": 39,
   "metadata": {},
   "outputs": [],
   "source": [
    "url = 'https://pubmed.ncbi.nlm.nih.gov/'\n",
    "resp = download(url)\n",
    "dom = BeautifulSoup(resp.text, 'html.parser')"
   ]
  },
  {
   "cell_type": "code",
   "execution_count": 40,
   "metadata": {},
   "outputs": [],
   "source": [
    "params = dict()\n",
    "\n",
    "# for _ in dom.form.select('input[name]'):\n",
    "#     params[_['names']] = _['value'] if _.has_attr['value'] else ''"
   ]
  },
  {
   "cell_type": "code",
   "execution_count": 41,
   "metadata": {},
   "outputs": [],
   "source": [
    "params['term'] = 'COVID-19'"
   ]
  },
  {
   "cell_type": "code",
   "execution_count": 42,
   "metadata": {},
   "outputs": [],
   "source": [
    "resp = download(urljoin(url, dom.form['action']),\n",
    "               params=params, method=dom.form['method'].upper())\n",
    "dom = BeautifulSoup(resp.text, 'html.parser')"
   ]
  },
  {
   "cell_type": "code",
   "execution_count": 43,
   "metadata": {},
   "outputs": [
    {
     "data": {
      "text/plain": [
       "10"
      ]
     },
     "execution_count": 43,
     "metadata": {},
     "output_type": "execute_result"
    }
   ],
   "source": [
    "len(dom.select('a.docsum-title'))"
   ]
  },
  {
   "cell_type": "code",
   "execution_count": 44,
   "metadata": {},
   "outputs": [
    {
     "data": {
      "text/plain": [
       "<a class=\"docsum-title\" data-article-id=\"32104915\" data-full-article-url=\"from_term=COVID-19&amp;from_pos=1\" data-ga-action=\"1\" data-ga-category=\"result_click\" data-ga-label=\"32104915\" href=\"/32104915/\" ref=\"linksrc=docsum_link&amp;article_id=32104915&amp;ordinalpos=1&amp;page=1\">\n",
       "                The neuroinvasive potential of <b>SARS</b>-CoV2 may play a role in the <b>respiratory</b> failure of <b>COVID</b>-<b>19</b> patients.\n",
       "              </a>"
      ]
     },
     "execution_count": 44,
     "metadata": {},
     "output_type": "execute_result"
    }
   ],
   "source": [
    "dom.find(text=re.compile(r'neuroinvasive')).find_parent()"
   ]
  },
  {
   "cell_type": "code",
   "execution_count": 45,
   "metadata": {},
   "outputs": [
    {
     "name": "stdout",
     "output_type": "stream",
     "text": [
      "https://pubmed.ncbi.nlm.nih.gov/32104915/\n",
      "The neuroinvasive potential of SARS-CoV2 may play a role in the respiratory failure of COVID-19 patients.\n",
      "\n",
      "https://pubmed.ncbi.nlm.nih.gov/32347054/\n",
      "[Strategies for vaccine development of COVID-19].\n",
      "\n",
      "https://pubmed.ncbi.nlm.nih.gov/32141569/\n",
      "COVID-19 (Novel Coronavirus 2019) - recent trends.\n",
      "\n",
      "https://pubmed.ncbi.nlm.nih.gov/32232980/\n",
      "COVID-19 epidemic: Disease characteristics in children.\n",
      "\n",
      "https://pubmed.ncbi.nlm.nih.gov/32096567/\n",
      "Understanding of COVID-19 based on current evidence.\n",
      "\n",
      "https://pubmed.ncbi.nlm.nih.gov/32134116/\n",
      "Unique epidemiological and clinical features of the emerging 2019 novel coronavirus pneumonia (COVID-19) implicate special control measures.\n",
      "\n",
      "https://pubmed.ncbi.nlm.nih.gov/32134278/\n",
      "Perspectives on monoclonal antibody therapy as potential therapeutic intervention for Coronavirus disease-19 (COVID-19).\n",
      "\n",
      "https://pubmed.ncbi.nlm.nih.gov/32380453/\n",
      "What dentists need to know about COVID-19.\n",
      "\n",
      "https://pubmed.ncbi.nlm.nih.gov/32291526/\n",
      "Outcomes in Patients with COVID-19 Infection Taking ACEI/ARB.\n",
      "\n",
      "https://pubmed.ncbi.nlm.nih.gov/32238757/\n",
      "Current Status of Epidemiology, Diagnosis, Therapeutics, and Vaccines for Novel Coronavirus Disease 2019 (COVID-19).\n",
      "\n"
     ]
    }
   ],
   "source": [
    "for _ in dom.select('a.docsum-title'):\n",
    "    print(urljoin(url, _['href']).strip())\n",
    "    print(_.text.strip())\n",
    "    print()"
   ]
  },
  {
   "cell_type": "code",
   "execution_count": 46,
   "metadata": {},
   "outputs": [
    {
     "name": "stdout",
     "output_type": "stream",
     "text": [
      "[Error] https://pubmed.ncbi.nlm.nih.gov/more/\n"
     ]
    }
   ],
   "source": [
    "url = 'https://pubmed.ncbi.nlm.nih.gov/more/'\n",
    "params = {\n",
    "    'term' : '',\n",
    "    'no_cache' : 'yes',\n",
    "    'page' : 1,\n",
    "    'no-cache' : 1595396887846,\n",
    "    'csrfmiddlewaretoken' : 'rtDB8RItQm6xTR7Oe4QSlpVFlqUbNgb00mRKAvpPJ7tF8nAljd3Ot2sMlmfzlpvt'\n",
    "}\n",
    "params['term'] : 'COVID-19'\n",
    "params['page'] = 2\n",
    "\n",
    "headers['referer'] = 'https://pubmed.ncbi.nlm.nih.gov/?term='+params['term']\n",
    "headers['cookie'] = 'pm-csrf=pkvGnIKLv4da9kRagpEvsTJvsfR9nyd2YdJPPmr7oPAioQkHlyRrAwgCsbcxVHxv; pm-sessionid=ifcvy24k5xn44zs9s13eeppmmszibspu; ncbi_sid=6AE6AD10F17A2DA3_23305SID; _ga=GA1.2.6179736.1595395910; _gid=GA1.2.1259136346.1595395910; pm-sid=KcnbvYWncywpgyh8xBWJqA:fc3c2327825122295ca0f27af5d5c8e6; pm-adjnav-sid=yCOSb6cqapQKyTqcLiTUSg:fc3c2327825122295ca0f27af5d5c8e6; ncbi_pinger=N4IgDgTgpgbg+mAFgSwCYgFwgIICYBsA7AAykCM2ZAohQBwAiArKaQMymECc2AQp8a3q0AdGWEBbOLhABfIA; pm-iosp=; _gat_ncbiSg=1; _gat_dap=1'\n",
    "\n",
    "resp = download(url, params, headers, 'POST')"
   ]
  },
  {
   "cell_type": "code",
   "execution_count": 47,
   "metadata": {},
   "outputs": [],
   "source": [
    "dom = BeautifulSoup(resp.text, 'html.parser')"
   ]
  },
  {
   "cell_type": "code",
   "execution_count": 48,
   "metadata": {},
   "outputs": [],
   "source": [
    "dom.find(text=re.compile(r'neuroinvasive'))"
   ]
  },
  {
   "cell_type": "code",
   "execution_count": 49,
   "metadata": {},
   "outputs": [],
   "source": [
    "session.cookies.clear()\n",
    "resp = session.get('https://pubmed.ncbi.nlm.nih.gov/',\n",
    "            params = {'term' : 'COVID-19'})"
   ]
  },
  {
   "cell_type": "code",
   "execution_count": 50,
   "metadata": {},
   "outputs": [
    {
     "data": {
      "text/plain": [
       "{'ncbi_sid': 'DF2B038CF17E50F3_24140SID',\n",
       " 'pm-adjnav-sid': '2YxJuEJidomMEfjSsXXYFA:fc3c2327825122295ca0f27af5d5c8e6',\n",
       " 'pm-sid': '7wRMQtUFdEjU2rPUePTgEg:fc3c2327825122295ca0f27af5d5c8e6',\n",
       " 'pm-csrf': 'jfBlBqp9u8ar99Ef3BOyRByjaNK4biyatFwr6gktMC8HDkJtkreiX5k7AZqPt1md',\n",
       " 'pm-sessionid': 'j4vlvrwbzaz7shj7vlmzls4zt9pjzrj6'}"
      ]
     },
     "execution_count": 50,
     "metadata": {},
     "output_type": "execute_result"
    }
   ],
   "source": [
    "session.cookies.get_dict()"
   ]
  },
  {
   "cell_type": "code",
   "execution_count": 51,
   "metadata": {},
   "outputs": [
    {
     "data": {
      "text/plain": [
       "'https://pubmed.ncbi.nlm.nih.gov/?term=COVID-19'"
      ]
     },
     "execution_count": 51,
     "metadata": {},
     "output_type": "execute_result"
    }
   ],
   "source": [
    "resp.request.url"
   ]
  },
  {
   "cell_type": "code",
   "execution_count": 52,
   "metadata": {},
   "outputs": [],
   "source": [
    "header_cookie = ';'.join([k+'='+v for k, v in session.cookies.get_dict().items()])\n",
    "header_referer = resp.request.url"
   ]
  },
  {
   "cell_type": "code",
   "execution_count": 53,
   "metadata": {},
   "outputs": [],
   "source": [
    "cookie = 'pm-csrf=pkvGnIKLv4da9kRagpEvsTJvsfR9nyd2YdJPPmr7oPAioQkHlyRrAwgCsbcxVHxv; pm-sessionid=ifcvy24k5xn44zs9s13eeppmmszibspu; ncbi_sid=6AE6AD10F17A2DA3_23305SID; _ga=GA1.2.6179736.1595395910; _gid=GA1.2.1259136346.1595395910; pm-sid=KcnbvYWncywpgyh8xBWJqA:fc3c2327825122295ca0f27af5d5c8e6; pm-adjnav-sid=yCOSb6cqapQKyTqcLiTUSg:fc3c2327825122295ca0f27af5d5c8e6; ncbi_pinger=N4IgDgTgpgbg+mAFgSwCYgFwgIICYBsA7AAykCM2ZAohQBwAiArKaQMymECc2AQp8a3q0AdGWEBbOLhABfIA; pm-iosp=; _gat_ncbiSg=1; _gat_dap=1'"
   ]
  },
  {
   "cell_type": "code",
   "execution_count": 54,
   "metadata": {},
   "outputs": [],
   "source": [
    "params = {\n",
    "    'term' : 'COVID-19',\n",
    "    'page' : 1,\n",
    "    'no-cache' : '1595396887846',\n",
    "    'csrfmiddlewaretoken' : 'rtDB8RItQm6xTR7Oe4QSlpVFlqUbNgb00mRKAvpPJ7tF8nAljd3Ot2sMlmfzlpvt'\n",
    "}\n",
    "\n",
    "resp = session.post('https://pubmed.ncbi.nlm.nih.gov/more/',\n",
    "                   data = params,\n",
    "                   headers={'cookie' : cookie,\n",
    "                            'referer' : header_referer})"
   ]
  },
  {
   "cell_type": "code",
   "execution_count": 55,
   "metadata": {},
   "outputs": [
    {
     "data": {
      "text/plain": [
       "<Response [200]>"
      ]
     },
     "execution_count": 55,
     "metadata": {},
     "output_type": "execute_result"
    }
   ],
   "source": [
    "resp # Success"
   ]
  },
  {
   "cell_type": "code",
   "execution_count": 56,
   "metadata": {},
   "outputs": [
    {
     "data": {
      "text/plain": [
       "{'User-Agent': 'python-requests/2.22.0', 'Accept-Encoding': 'gzip, deflate', 'Accept': '*/*', 'Connection': 'keep-alive', 'cookie': 'pm-csrf=pkvGnIKLv4da9kRagpEvsTJvsfR9nyd2YdJPPmr7oPAioQkHlyRrAwgCsbcxVHxv; pm-sessionid=ifcvy24k5xn44zs9s13eeppmmszibspu; ncbi_sid=6AE6AD10F17A2DA3_23305SID; _ga=GA1.2.6179736.1595395910; _gid=GA1.2.1259136346.1595395910; pm-sid=KcnbvYWncywpgyh8xBWJqA:fc3c2327825122295ca0f27af5d5c8e6; pm-adjnav-sid=yCOSb6cqapQKyTqcLiTUSg:fc3c2327825122295ca0f27af5d5c8e6; ncbi_pinger=N4IgDgTgpgbg+mAFgSwCYgFwgIICYBsA7AAykCM2ZAohQBwAiArKaQMymECc2AQp8a3q0AdGWEBbOLhABfIA; pm-iosp=; _gat_ncbiSg=1; _gat_dap=1', 'referer': 'https://pubmed.ncbi.nlm.nih.gov/?term=COVID-19', 'Content-Length': '128', 'Content-Type': 'application/x-www-form-urlencoded'}"
      ]
     },
     "execution_count": 56,
     "metadata": {},
     "output_type": "execute_result"
    }
   ],
   "source": [
    "resp.request.headers"
   ]
  },
  {
   "cell_type": "code",
   "execution_count": 57,
   "metadata": {},
   "outputs": [
    {
     "data": {
      "text/plain": [
       "'ncbi_sid=DF2B038CF17E50F3_24140SID;pm-adjnav-sid=2YxJuEJidomMEfjSsXXYFA:fc3c2327825122295ca0f27af5d5c8e6;pm-sid=7wRMQtUFdEjU2rPUePTgEg:fc3c2327825122295ca0f27af5d5c8e6;pm-csrf=jfBlBqp9u8ar99Ef3BOyRByjaNK4biyatFwr6gktMC8HDkJtkreiX5k7AZqPt1md;pm-sessionid=j4vlvrwbzaz7shj7vlmzls4zt9pjzrj6'"
      ]
     },
     "execution_count": 57,
     "metadata": {},
     "output_type": "execute_result"
    }
   ],
   "source": [
    "header_cookie"
   ]
  },
  {
   "cell_type": "code",
   "execution_count": 58,
   "metadata": {},
   "outputs": [
    {
     "data": {
      "text/plain": [
       "'pm-csrf=pkvGnIKLv4da9kRagpEvsTJvsfR9nyd2YdJPPmr7oPAioQkHlyRrAwgCsbcxVHxv; pm-sessionid=ifcvy24k5xn44zs9s13eeppmmszibspu; ncbi_sid=6AE6AD10F17A2DA3_23305SID; _ga=GA1.2.6179736.1595395910; _gid=GA1.2.1259136346.1595395910; pm-sid=KcnbvYWncywpgyh8xBWJqA:fc3c2327825122295ca0f27af5d5c8e6; pm-adjnav-sid=yCOSb6cqapQKyTqcLiTUSg:fc3c2327825122295ca0f27af5d5c8e6; ncbi_pinger=N4IgDgTgpgbg+mAFgSwCYgFwgIICYBsA7AAykCM2ZAohQBwAiArKaQMymECc2AQp8a3q0AdGWEBbOLhABfIA; pm-iosp=; _gat_ncbiSg=1; _gat_dap=1'"
      ]
     },
     "execution_count": 58,
     "metadata": {},
     "output_type": "execute_result"
    }
   ],
   "source": [
    "cookie"
   ]
  },
  {
   "cell_type": "code",
   "execution_count": 59,
   "metadata": {},
   "outputs": [
    {
     "name": "stdout",
     "output_type": "stream",
     "text": [
      "https://pubmed.ncbi.nlm.nih.gov/32104915/\n",
      "The neuroinvasive potential of SARS-CoV2 may play a role in the respiratory failure of COVID-19 patients.\n",
      "\n",
      "https://pubmed.ncbi.nlm.nih.gov/32347054/\n",
      "[Strategies for vaccine development of COVID-19].\n",
      "\n",
      "https://pubmed.ncbi.nlm.nih.gov/32141569/\n",
      "COVID-19 (Novel Coronavirus 2019) - recent trends.\n",
      "\n",
      "https://pubmed.ncbi.nlm.nih.gov/32232980/\n",
      "COVID-19 epidemic: Disease characteristics in children.\n",
      "\n",
      "https://pubmed.ncbi.nlm.nih.gov/32096567/\n",
      "Understanding of COVID-19 based on current evidence.\n",
      "\n",
      "https://pubmed.ncbi.nlm.nih.gov/32134116/\n",
      "Unique epidemiological and clinical features of the emerging 2019 novel coronavirus pneumonia (COVID-19) implicate special control measures.\n",
      "\n",
      "https://pubmed.ncbi.nlm.nih.gov/32134278/\n",
      "Perspectives on monoclonal antibody therapy as potential therapeutic intervention for Coronavirus disease-19 (COVID-19).\n",
      "\n",
      "https://pubmed.ncbi.nlm.nih.gov/32380453/\n",
      "What dentists need to know about COVID-19.\n",
      "\n",
      "https://pubmed.ncbi.nlm.nih.gov/32291526/\n",
      "Outcomes in Patients with COVID-19 Infection Taking ACEI/ARB.\n",
      "\n",
      "https://pubmed.ncbi.nlm.nih.gov/32238757/\n",
      "Current Status of Epidemiology, Diagnosis, Therapeutics, and Vaccines for Novel Coronavirus Disease 2019 (COVID-19).\n",
      "\n",
      "https://pubmed.ncbi.nlm.nih.gov/32133578/\n",
      "Review of the Clinical Characteristics of Coronavirus Disease 2019 (COVID-19).\n",
      "\n",
      "https://pubmed.ncbi.nlm.nih.gov/32498503/\n",
      "COVID-19: a review.\n",
      "\n",
      "https://pubmed.ncbi.nlm.nih.gov/32145714/\n",
      "[Analysis of the pregnancy outcomes in pregnant women with COVID-19 in Hubei Province].\n",
      "\n",
      "https://pubmed.ncbi.nlm.nih.gov/32234466/\n",
      "Coronavirus disease 2019 (COVID-19): current status and future perspectives.\n",
      "\n",
      "https://pubmed.ncbi.nlm.nih.gov/32240762/\n",
      "Nervous system involvement after infection with COVID-19 and other coronaviruses.\n",
      "\n",
      "https://pubmed.ncbi.nlm.nih.gov/32114094/\n",
      "Pulmonary Pathology of Early-Phase 2019 Novel Coronavirus (COVID-19) Pneumonia in Two Patients With Lung Cancer.\n",
      "\n",
      "https://pubmed.ncbi.nlm.nih.gov/32052846/\n",
      "The reproductive number of COVID-19 is higher compared to SARS coronavirus.\n",
      "\n",
      "https://pubmed.ncbi.nlm.nih.gov/32404514/\n",
      "COVID-19: Learning from Lessons To Guide Treatment and Prevention Interventions.\n",
      "\n",
      "https://pubmed.ncbi.nlm.nih.gov/32226003/\n",
      "COVID-19: The outbreak caused by a new coronavirus.\n",
      "\n",
      "https://pubmed.ncbi.nlm.nih.gov/32234468/\n",
      "The epidemiology, diagnosis and treatment of COVID-19.\n",
      "\n",
      "https://pubmed.ncbi.nlm.nih.gov/32385672/\n",
      "COVID-19 and Cancer: a Comprehensive Review.\n",
      "\n",
      "https://pubmed.ncbi.nlm.nih.gov/32174069/\n",
      "Report on the Epidemiological Features of Coronavirus Disease 2019 (COVID-19) Outbreak in the Republic of Korea from January 19 to March 2, 2020.\n",
      "\n",
      "https://pubmed.ncbi.nlm.nih.gov/32112977/\n",
      "World Health Organization declares global emergency: A review of the 2019 novel coronavirus (COVID-19).\n",
      "\n",
      "https://pubmed.ncbi.nlm.nih.gov/32150748/\n",
      "The Incubation Period of Coronavirus Disease 2019 (COVID-19) From Publicly Reported Confirmed Cases: Estimation and Application.\n",
      "\n",
      "https://pubmed.ncbi.nlm.nih.gov/32333248/\n",
      "Updated diagnosis, treatment and prevention of COVID-19 in children: experts' consensus statement (condensed version of the second edition).\n",
      "\n",
      "https://pubmed.ncbi.nlm.nih.gov/32132521/\n",
      "The Effects of Social Support on Sleep Quality of Medical Staff Treating Patients with Coronavirus Disease 2019 (COVID-19) in January and February 2020 in China.\n",
      "\n",
      "https://pubmed.ncbi.nlm.nih.gov/32166607/\n",
      "A Review of Coronavirus Disease-2019 (COVID-19).\n",
      "\n",
      "https://pubmed.ncbi.nlm.nih.gov/32151335/\n",
      "Clinical characteristics and intrauterine vertical transmission potential of COVID-19 infection in nine pregnant women: a retrospective review of medical records.\n",
      "\n",
      "https://pubmed.ncbi.nlm.nih.gov/32052514/\n",
      "The COVID-19 epidemic.\n",
      "\n",
      "https://pubmed.ncbi.nlm.nih.gov/32403242/\n",
      "Prognostic Value of Cardiovascular Biomarkers in COVID-19: A Review.\n",
      "\n",
      "https://pubmed.ncbi.nlm.nih.gov/32198987/\n",
      "Gross examination report of a COVID-19 death autopsy.\n",
      "\n",
      "https://pubmed.ncbi.nlm.nih.gov/32246886/\n",
      "COVID-19 transmission through asymptomatic carriers is a challenge to containment.\n",
      "\n",
      "https://pubmed.ncbi.nlm.nih.gov/32410003/\n",
      "Pathophysiology of COVID-19: Why Children Fare Better than Adults?\n",
      "\n",
      "https://pubmed.ncbi.nlm.nih.gov/32147538/\n",
      "Recurrence of positive SARS-CoV-2 RNA in COVID-19: A case report.\n",
      "\n",
      "https://pubmed.ncbi.nlm.nih.gov/32340833/\n",
      "Coronavirus disease 2019 (COVID-19): A literature review.\n",
      "\n",
      "https://pubmed.ncbi.nlm.nih.gov/32299206/\n",
      "Epidemiology of COVID-19.\n",
      "\n",
      "https://pubmed.ncbi.nlm.nih.gov/32496239/\n",
      "Potential pharmacological agents for COVID-19.\n",
      "\n",
      "https://pubmed.ncbi.nlm.nih.gov/32476793/\n",
      "Liver diseases in COVID-19: Etiology, treatment and prognosis.\n",
      "\n",
      "https://pubmed.ncbi.nlm.nih.gov/32320516/\n",
      "Scientific research progress of COVID-19/SARS-CoV-2 in the first five months.\n",
      "\n",
      "https://pubmed.ncbi.nlm.nih.gov/32139372/\n",
      "What we know so far: COVID-19 current clinical knowledge and research.\n",
      "\n",
      "https://pubmed.ncbi.nlm.nih.gov/32133824/\n",
      "[COVID-19 complicated with DIC: 2 cases report and literatures review].\n",
      "\n",
      "https://pubmed.ncbi.nlm.nih.gov/32275257/\n",
      "Clinical manifestation, diagnosis, prevention and control of SARS-CoV-2 (COVID-19) during the outbreak period.\n",
      "\n",
      "https://pubmed.ncbi.nlm.nih.gov/32220284/\n",
      "Clinical features and obstetric and neonatal outcomes of pregnant patients with COVID-19 in Wuhan, China: a retrospective, single-centre, descriptive study.\n",
      "\n",
      "https://pubmed.ncbi.nlm.nih.gov/32081636/\n",
      "Severe acute respiratory syndrome coronavirus 2 (SARS-CoV-2) and coronavirus disease-2019 (COVID-19): The epidemic and the challenges.\n",
      "\n",
      "https://pubmed.ncbi.nlm.nih.gov/32197085/\n",
      "Probable Pangolin Origin of SARS-CoV-2 Associated with the COVID-19 Outbreak.\n",
      "\n",
      "https://pubmed.ncbi.nlm.nih.gov/32294289/\n",
      "Venous thromboembolism in COVID-19 patients.\n",
      "\n",
      "https://pubmed.ncbi.nlm.nih.gov/32285380/\n",
      "Clinical characteristics of 19 neonates born to mothers with COVID-19.\n",
      "\n",
      "https://pubmed.ncbi.nlm.nih.gov/32359479/\n",
      "COVID-19: Epidemiology, Evolution, and Cross-Disciplinary Perspectives.\n",
      "\n",
      "https://pubmed.ncbi.nlm.nih.gov/32243607/\n",
      "The presence of SARS-CoV-2 RNA in the feces of COVID-19 patients.\n",
      "\n",
      "https://pubmed.ncbi.nlm.nih.gov/32133825/\n",
      "[Characteristics, causes, diagnosis and treatment of coagulation dysfunction in patients with COVID-19].\n",
      "\n",
      "https://pubmed.ncbi.nlm.nih.gov/32612615/\n",
      "Immune Response, Inflammation, and the Clinical Spectrum of COVID-19.\n",
      "\n",
      "https://pubmed.ncbi.nlm.nih.gov/32188484/\n",
      "Host susceptibility to severe COVID-19 and establishment of a host risk score: findings of 487 cases outside Wuhan.\n",
      "\n",
      "https://pubmed.ncbi.nlm.nih.gov/32240718/\n",
      "COVID-19 in Hemodialysis Patients: A Report of 5 Cases.\n",
      "\n",
      "https://pubmed.ncbi.nlm.nih.gov/32235085/\n",
      "The novel zoonotic COVID-19 pandemic: An expected global health concern.\n",
      "\n",
      "https://pubmed.ncbi.nlm.nih.gov/32197060/\n",
      "Rhabdomyolysis as Potential Late Complication Associated with COVID-19.\n",
      "\n",
      "https://pubmed.ncbi.nlm.nih.gov/32251634/\n",
      "Virtual screening and repurposing of FDA approved drugs against COVID-19 main protease.\n",
      "\n",
      "https://pubmed.ncbi.nlm.nih.gov/32412088/\n",
      "Neurological Manifestations of COVID-19: A systematic review and current update.\n",
      "\n",
      "https://pubmed.ncbi.nlm.nih.gov/32233755/\n",
      "Coronavirus Disease 2019 (COVID-19) and Cardiovascular Disease: A Viewpoint on the Potential Influence of Angiotensin-Converting Enzyme Inhibitors/Angiotensin Receptor Blockers on Onset and Severity of Severe Acute Respiratory Syndrome Coronavirus 2 Infection.\n",
      "\n",
      "https://pubmed.ncbi.nlm.nih.gov/32389590/\n",
      "COVID-19: Unanswered questions on immune response and pathogenesis.\n",
      "\n",
      "https://pubmed.ncbi.nlm.nih.gov/32057211/\n",
      "[An update on the epidemiological characteristics of novel coronavirus pneumonia (COVID-19)].\n",
      "\n",
      "https://pubmed.ncbi.nlm.nih.gov/32118391/\n",
      "[Cause analysis and treatment strategies of \"recurrence\" with novel coronavirus pneumonia (COVID-19) patients after discharge from hospital].\n",
      "\n",
      "https://pubmed.ncbi.nlm.nih.gov/32374000/\n",
      "An update on the status of COVID-19: a comprehensive review.\n",
      "\n",
      "https://pubmed.ncbi.nlm.nih.gov/32335607/\n",
      "Understanding COVID-19 in Nepal.\n",
      "\n",
      "https://pubmed.ncbi.nlm.nih.gov/32107119/\n",
      "Coronavirus Disease 2019: Coronaviruses and Blood Safety.\n",
      "\n",
      "https://pubmed.ncbi.nlm.nih.gov/32286947/\n",
      "COVID-19 Pandemic: Experiences in China and Implications for its Prevention and Treatment Worldwide.\n",
      "\n",
      "https://pubmed.ncbi.nlm.nih.gov/32349772/\n",
      "Novel Coronavirus disease (COVID-19) in newborns and infants: what we know so far.\n",
      "\n",
      "https://pubmed.ncbi.nlm.nih.gov/32207255/\n",
      "Mediastinal Emphysema, Giant Bulla, and Pneumothorax Developed during the Course of COVID-19 Pneumonia.\n",
      "\n",
      "https://pubmed.ncbi.nlm.nih.gov/32250960/\n",
      "Misinformation of COVID-19 on the Internet: Infodemiology Study.\n",
      "\n",
      "https://pubmed.ncbi.nlm.nih.gov/32580969/\n",
      "Coronavirus Disease 2019-COVID-19.\n",
      "\n",
      "https://pubmed.ncbi.nlm.nih.gov/32191173/\n",
      "Serial Interval of COVID-19 among Publicly Reported Confirmed Cases.\n",
      "\n"
     ]
    },
    {
     "name": "stdout",
     "output_type": "stream",
     "text": [
      "https://pubmed.ncbi.nlm.nih.gov/32267109/\n",
      "[Coronavirus and COVID-19 : focus on a galopping pandemic].\n",
      "\n",
      "https://pubmed.ncbi.nlm.nih.gov/32104907/\n",
      "A systematic review of lopinavir therapy for SARS coronavirus and MERS coronavirus-A possible reference for coronavirus disease-19 treatment option.\n",
      "\n",
      "https://pubmed.ncbi.nlm.nih.gov/32179150/\n",
      "Teicoplanin: an alternative drug for the treatment of COVID-19?\n",
      "\n",
      "https://pubmed.ncbi.nlm.nih.gov/32344226/\n",
      "COVID-19: Disease, management, treatment, and social impact.\n",
      "\n",
      "https://pubmed.ncbi.nlm.nih.gov/32340347/\n",
      "Airborne Transmission Route of COVID-19: Why 2 Meters/6 Feet of Inter-Personal Distance Could Not Be Enough.\n",
      "\n",
      "https://pubmed.ncbi.nlm.nih.gov/32245396/\n",
      "Updating the diagnostic criteria of COVID-19 \"suspected case\" and \"confirmed case\" is necessary.\n",
      "\n",
      "https://pubmed.ncbi.nlm.nih.gov/32198986/\n",
      "Review and Prospect of Pathological Features of Corona Virus Disease.\n",
      "\n",
      "https://pubmed.ncbi.nlm.nih.gov/32171952/\n",
      "The SARS-CoV-2 outbreak: What we know.\n",
      "\n",
      "https://pubmed.ncbi.nlm.nih.gov/32212512/\n",
      "Trial of Chloroquines in the Treatment of COVID-19 and Its Research Progress in Forensic Toxicology.\n",
      "\n",
      "https://pubmed.ncbi.nlm.nih.gov/32171059/\n",
      "Early dynamics of transmission and control of COVID-19: a mathematical modelling study.\n",
      "\n",
      "https://pubmed.ncbi.nlm.nih.gov/32020915/\n",
      "The Novel Coronavirus: A Bird's Eye View.\n",
      "\n",
      "https://pubmed.ncbi.nlm.nih.gov/32324359/\n",
      "[Diagnostic consideration and bedside estimation of the prognosis in COVID-19 patients].\n",
      "\n",
      "https://pubmed.ncbi.nlm.nih.gov/32462289/\n",
      "The COVID-19 Pandemic and its Impact on the Cardio-Oncology Population.\n",
      "\n",
      "https://pubmed.ncbi.nlm.nih.gov/32070465/\n",
      "First cases of coronavirus disease 2019 (COVID-19) in France: surveillance, investigations and control measures, January 2020.\n",
      "\n",
      "https://pubmed.ncbi.nlm.nih.gov/32535768/\n",
      "COVID-19: molecular diagnostics overview.\n",
      "\n",
      "https://pubmed.ncbi.nlm.nih.gov/32209231/\n",
      "Computers and viral diseases. Preliminary bioinformatics studies on the design of a synthetic vaccine and a preventative peptidomimetic antagonist against the SARS-CoV-2 (2019-nCoV, COVID-19) coronavirus.\n",
      "\n",
      "https://pubmed.ncbi.nlm.nih.gov/32476126/\n",
      "Coronavirus Disease 2019 (COVID-19): Clinical Perspectives and Ongoing Challenges.\n",
      "\n",
      "https://pubmed.ncbi.nlm.nih.gov/32277876/\n",
      "Beware of the second wave of COVID-19.\n",
      "\n",
      "https://pubmed.ncbi.nlm.nih.gov/32329879/\n",
      "An alternative approach to minimize the risk of coronavirus (Covid-19) and similar infections.\n",
      "\n",
      "https://pubmed.ncbi.nlm.nih.gov/32291365/\n",
      "Diagnosing COVID-19: Did We Miss Anything?\n",
      "\n"
     ]
    }
   ],
   "source": [
    "session.cookies.clear()\n",
    "resp = session.get('https://pubmed.ncbi.nlm.nih.gov/',\n",
    "            params = {'term' : 'COVID-19'})\n",
    "referer = resp.request.url\n",
    "\n",
    "# Header -> Referer, Token 둘 다 검사\n",
    "\n",
    "params = {\n",
    "    'term' : 'COVID-19',\n",
    "    'page' : 1,\n",
    "    'no-cache' : '1595396887846',\n",
    "    'csrfmiddlewaretoken' : session.cookies.get('pm-csrf')\n",
    "}\n",
    "\n",
    "for page in range(1,10):\n",
    "    params['page'] = page\n",
    "    resp = session.post('https://pubmed.ncbi.nlm.nih.gov/more/',\n",
    "                       data = params,\n",
    "                       headers={'referer' : header_referer})\n",
    "    dom = BeautifulSoup(resp.text, 'html.parser')\n",
    "    \n",
    "    for _ in dom.select('a.docsum-title'):\n",
    "        print(urljoin(url, _['href']).strip())\n",
    "        print(_.text.strip())\n",
    "        print()"
   ]
  },
  {
   "cell_type": "markdown",
   "metadata": {},
   "source": [
    "### Selenium"
   ]
  },
  {
   "cell_type": "code",
   "execution_count": 2,
   "metadata": {},
   "outputs": [],
   "source": [
    "from selenium import webdriver"
   ]
  },
  {
   "cell_type": "code",
   "execution_count": 13,
   "metadata": {},
   "outputs": [],
   "source": [
    "def init():\n",
    "    chrome_driver = 'chromedriver' # 드라이버 위치 확인\n",
    "    driver = webdriver.Chrome(chrome_driver) # 드리이버 만들기\n",
    "    return driver"
   ]
  },
  {
   "cell_type": "code",
   "execution_count": 8,
   "metadata": {},
   "outputs": [],
   "source": [
    "init().get('http://www.naver.com')"
   ]
  },
  {
   "cell_type": "code",
   "execution_count": 14,
   "metadata": {},
   "outputs": [
    {
     "data": {
      "text/plain": [
       "<selenium.webdriver.remote.webelement.WebElement (session=\"47d1af24691388896a1d093f1b1df85e\", element=\"c0697cf0-9f12-4bd4-b2a3-42fd1c85f9b3\")>"
      ]
     },
     "execution_count": 14,
     "metadata": {},
     "output_type": "execute_result"
    }
   ],
   "source": [
    "driver = init()\n",
    "driver.get('http://www.naver.com')\n",
    "driver.find_element_by_class_name('link_login')"
   ]
  },
  {
   "cell_type": "code",
   "execution_count": 15,
   "metadata": {},
   "outputs": [
    {
     "data": {
      "text/plain": [
       "'네이버\\n로그인'"
      ]
     },
     "execution_count": 15,
     "metadata": {},
     "output_type": "execute_result"
    }
   ],
   "source": [
    "driver = init()\n",
    "driver.get('http://www.naver.com')\n",
    "driver.find_element_by_class_name('link_login').text"
   ]
  },
  {
   "cell_type": "code",
   "execution_count": 18,
   "metadata": {},
   "outputs": [],
   "source": [
    "# with open('account.json') as f:\n",
    "#     accout = json.load(f)"
   ]
  },
  {
   "cell_type": "code",
   "execution_count": 16,
   "metadata": {},
   "outputs": [
    {
     "data": {
      "text/plain": [
       "\"\\n/ -> root, . -> 현재위치\\n/ -> 자식\\n// -> 자손\\n[@class='속성']\\n\""
      ]
     },
     "execution_count": 16,
     "metadata": {},
     "output_type": "execute_result"
    }
   ],
   "source": [
    "'''\n",
    "/ -> root, . -> 현재위치\n",
    "/ -> 자식\n",
    "// -> 자손\n",
    "[@class='속성']\n",
    "'''"
   ]
  },
  {
   "cell_type": "code",
   "execution_count": 31,
   "metadata": {},
   "outputs": [],
   "source": [
    "driver = init()\n",
    "driver.get('http://www.naver.com')\n",
    "driver.find_element_by_class_name('link_login').click()\n",
    "driver.find_element_by_xpath('//input[@id=\"id\"]').clear()\n",
    "driver.find_element_by_xpath('//input[@id=\"id\"]').send_keys('id')\n",
    "driver.find_element_by_id('pw').clear()\n",
    "driver.find_element_by_id('pw').send_keys('pw')\n",
    "# driver.find_element_by_css_selector('input[type=submit][id]').get_attribute('id')\n",
    "driver.find_element_by_css_selector('input[type=submit][id]').click()\n",
    "\n",
    "# # 모두 동일한 결과\n",
    "# # driver.find_element_by_xpath('//input[@id=\"id\"]').get_attribute('placeholder')\n",
    "# # driver.find_element_by_xpath('//span/input').get_attribute('placeholder')\n",
    "# # driver.find_element_by_id('id').get_attribute('placeholder')\n",
    "# driver.find_element_by_css_selector('#id').get_attribute('placeholder')\n",
    "\n",
    "# dom = BeautifulSoup(driver.page_source, 'html.parser')"
   ]
  }
 ],
 "metadata": {
  "kernelspec": {
   "display_name": "Python 3",
   "language": "python",
   "name": "python3"
  },
  "language_info": {
   "codemirror_mode": {
    "name": "ipython",
    "version": 3
   },
   "file_extension": ".py",
   "mimetype": "text/x-python",
   "name": "python",
   "nbconvert_exporter": "python",
   "pygments_lexer": "ipython3",
   "version": "3.7.3"
  }
 },
 "nbformat": 4,
 "nbformat_minor": 2
}
