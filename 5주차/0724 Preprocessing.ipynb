{
 "cells": [
  {
   "cell_type": "code",
   "execution_count": 3,
   "metadata": {},
   "outputs": [],
   "source": [
    "from nltk.tokenize import sent_tokenize\n",
    "from nltk.tokenize import word_tokenize\n",
    "from nltk.tokenize import TweetTokenizer\n",
    "from nltk.tokenize import regexp_tokenize\n",
    "from nltk.tag import pos_tag\n",
    "from nltk.corpus import gutenberg\n",
    "from nltk import Text\n",
    "import warnings\n",
    "warnings.filterwarnings(action='ignore')\n",
    "%matplotlib inline"
   ]
  },
  {
   "cell_type": "code",
   "execution_count": 4,
   "metadata": {},
   "outputs": [
    {
     "data": {
      "text/plain": [
       "(855, 0.004458117162447532, 855)"
      ]
     },
     "execution_count": 4,
     "metadata": {},
     "output_type": "execute_result"
    }
   ],
   "source": [
    "corpus = gutenberg.open(gutenberg.fileids()[0]).read()\n",
    "emma = Text(word_tokenize(corpus))\n",
    "\n",
    "# 갯수 / 비율 / \n",
    "emma.count('Emma'), emma.vocab().freq('Emma'), emma.vocab().get('Emma')"
   ]
  },
  {
   "cell_type": "code",
   "execution_count": 5,
   "metadata": {},
   "outputs": [
    {
     "name": "stdout",
     "output_type": "stream",
     "text": [
      "she it he i weston\n",
      "she it i you emma\n"
     ]
    },
    {
     "data": {
      "text/plain": [
       "(None, None)"
      ]
     },
     "execution_count": 5,
     "metadata": {},
     "output_type": "execute_result"
    }
   ],
   "source": [
    "emma.similar('Emma', 5), emma.similar('he', 5)"
   ]
  },
  {
   "cell_type": "code",
   "execution_count": 6,
   "metadata": {},
   "outputs": [
    {
     "data": {
      "text/plain": [
       "['Mr. Knightley',\n",
       " 'Mrs. Weston',\n",
       " 'Frank Churchill',\n",
       " 'Mr. Elton',\n",
       " 'Miss Woodhouse',\n",
       " 'Miss Bates',\n",
       " 'Mrs. Elton',\n",
       " 'Miss Fairfax',\n",
       " 'Mr. Weston',\n",
       " 'Jane Fairfax',\n",
       " 'every thing',\n",
       " 'Mr. Woodhouse',\n",
       " 'every body',\n",
       " 'young man',\n",
       " 'great deal',\n",
       " 'dare say',\n",
       " 'Maple Grove',\n",
       " 'Mrs. Goddard',\n",
       " 'John Knightley',\n",
       " 'Miss Smith']"
      ]
     },
     "execution_count": 6,
     "metadata": {},
     "output_type": "execute_result"
    }
   ],
   "source": [
    "emma.collocation_list()"
   ]
  },
  {
   "cell_type": "code",
   "execution_count": 7,
   "metadata": {},
   "outputs": [
    {
     "data": {
      "image/png": "[encoded data removed]",
      "text/plain": [
       "<Figure size 432x288 with 1 Axes>"
      ]
     },
     "metadata": {
      "needs_background": "light"
     },
     "output_type": "display_data"
    }
   ],
   "source": [
    "emma.dispersion_plot(['Emma','Jane'])"
   ]
  },
  {
   "cell_type": "code",
   "execution_count": 8,
   "metadata": {},
   "outputs": [],
   "source": [
    "from konlpy.corpus import kolaw, kobill"
   ]
  },
  {
   "cell_type": "code",
   "execution_count": 9,
   "metadata": {},
   "outputs": [
    {
     "data": {
      "text/plain": [
       "(['1809890.txt',\n",
       "  '1809891.txt',\n",
       "  '1809892.txt',\n",
       "  '1809893.txt',\n",
       "  '1809894.txt',\n",
       "  '1809895.txt',\n",
       "  '1809896.txt',\n",
       "  '1809897.txt',\n",
       "  '1809898.txt',\n",
       "  '1809899.txt'],\n",
       " ['constitution.txt'])"
      ]
     },
     "execution_count": 9,
     "metadata": {},
     "output_type": "execute_result"
    }
   ],
   "source": [
    "kobill.fileids(), kolaw.fileids()"
   ]
  },
  {
   "cell_type": "code",
   "execution_count": 10,
   "metadata": {},
   "outputs": [],
   "source": [
    "law = Text(word_tokenize(kolaw.open(kolaw.fileids()[0]).read()))"
   ]
  },
  {
   "cell_type": "code",
   "execution_count": 11,
   "metadata": {},
   "outputs": [
    {
     "data": {
      "text/plain": [
       "<Text: 대한민국헌법 유구한 역사와 전통에 빛나는 우리 대한국민은 3·1운동으로...>"
      ]
     },
     "execution_count": 11,
     "metadata": {},
     "output_type": "execute_result"
    }
   ],
   "source": [
    "law"
   ]
  },
  {
   "cell_type": "code",
   "execution_count": 12,
   "metadata": {},
   "outputs": [
    {
     "data": {
      "text/plain": [
       "(4640, 2023, 1312)"
      ]
     },
     "execution_count": 12,
     "metadata": {},
     "output_type": "execute_result"
    }
   ],
   "source": [
    "len(law), len(set(law)), sum([_[1] for _ in law.vocab().most_common(20)])"
   ]
  },
  {
   "cell_type": "code",
   "execution_count": 13,
   "metadata": {},
   "outputs": [
    {
     "data": {
      "text/plain": [
       "[('.', 357),\n",
       " (',', 101),\n",
       " ('수', 87),\n",
       " ('①', 75),\n",
       " ('또는', 70),\n",
       " ('의하여', 66),\n",
       " ('법률이', 57),\n",
       " ('있다', 57),\n",
       " ('한다', 56),\n",
       " ('정하는', 50)]"
      ]
     },
     "execution_count": 13,
     "metadata": {},
     "output_type": "execute_result"
    }
   ],
   "source": [
    "law.vocab().most_common(10)"
   ]
  },
  {
   "cell_type": "code",
   "execution_count": 14,
   "metadata": {},
   "outputs": [
    {
     "name": "stdout",
     "output_type": "stream",
     "text": [
      "국회의원은\n"
     ]
    },
    {
     "data": {
      "text/plain": [
       "(66, None)"
      ]
     },
     "execution_count": 14,
     "metadata": {},
     "output_type": "execute_result"
    }
   ],
   "source": [
    "law.count('의하여'), law.similar('의하여')"
   ]
  },
  {
   "cell_type": "code",
   "execution_count": 15,
   "metadata": {},
   "outputs": [],
   "source": [
    "from konlpy.tag import Kkma, Hannanum, Komoran, Okt # 형태소 분석기\n",
    "\n",
    "ma = Kkma().morphs\n",
    "corpus = kolaw.open(kolaw.fileids()[0]).read()\n",
    "law = Text(ma(corpus))"
   ]
  },
  {
   "cell_type": "code",
   "execution_count": 16,
   "metadata": {},
   "outputs": [
    {
     "data": {
      "text/plain": [
       "(10053, 1247, 4348)"
      ]
     },
     "execution_count": 16,
     "metadata": {},
     "output_type": "execute_result"
    }
   ],
   "source": [
    "len(law), len(set(law)), sum([_[1] for _ in law.vocab().most_common(20)])"
   ]
  },
  {
   "cell_type": "code",
   "execution_count": 17,
   "metadata": {},
   "outputs": [
    {
     "name": "stdout",
     "output_type": "stream",
     "text": [
      "저 국가 법관 법원 대통령 대한민국 정부 조국 국회 공무원 재판 타인 판결 근로 여자 국회의원 법률안 법령 농지 운동\n"
     ]
    },
    {
     "data": {
      "text/plain": [
       "(69, None)"
      ]
     },
     "execution_count": 17,
     "metadata": {},
     "output_type": "execute_result"
    }
   ],
   "source": [
    "law.count('국민'), law.similar('국민')"
   ]
  },
  {
   "cell_type": "code",
   "execution_count": 18,
   "metadata": {},
   "outputs": [
    {
     "data": {
      "image/png": "[encoded data removed]",
      "text/plain": [
       "<Figure size 432x288 with 1 Axes>"
      ]
     },
     "metadata": {
      "needs_background": "light"
     },
     "output_type": "display_data"
    }
   ],
   "source": [
    "law.dispersion_plot(['국민', '국회', '의원', '법률'])"
   ]
  },
  {
   "cell_type": "code",
   "execution_count": 19,
   "metadata": {},
   "outputs": [
    {
     "data": {
      "text/plain": [
       "(10053, 1247)"
      ]
     },
     "execution_count": 19,
     "metadata": {},
     "output_type": "execute_result"
    }
   ],
   "source": [
    "# N : 전체 단어 개수\n",
    "# B : Unique한 단어 개수\n",
    "law.vocab().N(), law.vocab().B() "
   ]
  },
  {
   "cell_type": "code",
   "execution_count": 20,
   "metadata": {},
   "outputs": [
    {
     "data": {
      "image/png": "[encoded data removed]",
      "text/plain": [
       "<Figure size 432x288 with 1 Axes>"
      ]
     },
     "metadata": {
      "needs_background": "light"
     },
     "output_type": "display_data"
    },
    {
     "data": {
      "text/plain": [
       "<matplotlib.axes._subplots.AxesSubplot at 0x1b02e4000f0>"
      ]
     },
     "execution_count": 20,
     "metadata": {},
     "output_type": "execute_result"
    }
   ],
   "source": [
    "law.vocab().plot()"
   ]
  },
  {
   "cell_type": "code",
   "execution_count": 21,
   "metadata": {
    "scrolled": true
   },
   "outputs": [
    {
     "data": {
      "image/png": "[encoded data removed]",
      "text/plain": [
       "<Figure size 432x288 with 1 Axes>"
      ]
     },
     "metadata": {
      "needs_background": "light"
     },
     "output_type": "display_data"
    },
    {
     "data": {
      "text/plain": [
       "<matplotlib.axes._subplots.AxesSubplot at 0x1b02e3b1198>"
      ]
     },
     "execution_count": 21,
     "metadata": {},
     "output_type": "execute_result"
    }
   ],
   "source": [
    "law.vocab().plot(300)"
   ]
  },
  {
   "cell_type": "code",
   "execution_count": 22,
   "metadata": {},
   "outputs": [],
   "source": [
    "corpus = '\\n'.join([kobill.open(_).read() for _ in kobill.fileids()])"
   ]
  },
  {
   "cell_type": "code",
   "execution_count": 23,
   "metadata": {},
   "outputs": [],
   "source": [
    "bill = Text(ma(corpus))"
   ]
  },
  {
   "cell_type": "code",
   "execution_count": 24,
   "metadata": {},
   "outputs": [
    {
     "data": {
      "text/plain": [
       "(21695, 1489)"
      ]
     },
     "execution_count": 24,
     "metadata": {},
     "output_type": "execute_result"
    }
   ],
   "source": [
    "bill.vocab().N(), bill.vocab().B()"
   ]
  },
  {
   "cell_type": "code",
   "execution_count": 25,
   "metadata": {},
   "outputs": [
    {
     "data": {
      "text/plain": [
       "[('--', 1121),\n",
       " ('하', 786),\n",
       " ('의', 737),\n",
       " ('.', 668),\n",
       " ('에', 450),\n",
       " ('ㄴ', 449),\n",
       " ('는', 350),\n",
       " ('을', 325),\n",
       " ('이', 324),\n",
       " (')', 298)]"
      ]
     },
     "execution_count": 25,
     "metadata": {},
     "output_type": "execute_result"
    }
   ],
   "source": [
    "bill.vocab().most_common(10)"
   ]
  },
  {
   "cell_type": "code",
   "execution_count": 26,
   "metadata": {},
   "outputs": [
    {
     "data": {
      "text/plain": [
       "(160, 128)"
      ]
     },
     "execution_count": 26,
     "metadata": {},
     "output_type": "execute_result"
    }
   ],
   "source": [
    "bill.count('육아'), bill.count('휴직')"
   ]
  },
  {
   "cell_type": "code",
   "execution_count": 27,
   "metadata": {},
   "outputs": [
    {
     "data": {
      "image/png": "[encoded data removed]",
      "text/plain": [
       "<Figure size 432x288 with 1 Axes>"
      ]
     },
     "metadata": {
      "needs_background": "light"
     },
     "output_type": "display_data"
    }
   ],
   "source": [
    "bill.dispersion_plot(['육아', '휴직'])"
   ]
  },
  {
   "cell_type": "code",
   "execution_count": 28,
   "metadata": {},
   "outputs": [
    {
     "name": "stdout",
     "output_type": "stream",
     "text": [
      "조 아 호 여 자녀 까지 차이 논의 하여 종류 결과 기회 심사 활성화 조치 정지\n",
      "休職 벌칙 것 않 허증 과정 기준 야 지역\n"
     ]
    },
    {
     "data": {
      "text/plain": [
       "(None, None)"
      ]
     },
     "execution_count": 28,
     "metadata": {},
     "output_type": "execute_result"
    }
   ],
   "source": [
    "bill.similar('육아'), bill.similar('휴직')"
   ]
  },
  {
   "cell_type": "code",
   "execution_count": 29,
   "metadata": {},
   "outputs": [
    {
     "data": {
      "image/png": "[encoded data removed]",
      "text/plain": [
       "<Figure size 432x288 with 1 Axes>"
      ]
     },
     "metadata": {
      "needs_background": "light"
     },
     "output_type": "display_data"
    },
    {
     "data": {
      "text/plain": [
       "<matplotlib.axes._subplots.AxesSubplot at 0x1b030dc6c88>"
      ]
     },
     "execution_count": 29,
     "metadata": {},
     "output_type": "execute_result"
    }
   ],
   "source": [
    "bill.vocab().plot()"
   ]
  },
  {
   "cell_type": "code",
   "execution_count": 30,
   "metadata": {},
   "outputs": [],
   "source": [
    "import matplotlib.pyplot as plt\n",
    "\n",
    "sorted_law = law.vocab().most_common(law.vocab().B())"
   ]
  },
  {
   "cell_type": "code",
   "execution_count": 31,
   "metadata": {},
   "outputs": [],
   "source": [
    "maxv = law.vocab()[law.vocab().max()]\n",
    "freq = [_[1]/maxv for _ in sorted_law] # max값으로 정규화"
   ]
  },
  {
   "cell_type": "code",
   "execution_count": 32,
   "metadata": {},
   "outputs": [],
   "source": [
    "index = range(1, len(freq)+1)\n",
    "order = [1/_ for _ in index]"
   ]
  },
  {
   "cell_type": "code",
   "execution_count": 33,
   "metadata": {
    "scrolled": true
   },
   "outputs": [
    {
     "data": {
      "image/png": "[encoded data removed]",
      "text/plain": [
       "<Figure size 432x288 with 1 Axes>"
      ]
     },
     "metadata": {
      "needs_background": "light"
     },
     "output_type": "display_data"
    }
   ],
   "source": [
    "from math import log\n",
    "plt.plot([log(_) for _ in index], list(map(lambda x : log(x), freq)), 'r-')\n",
    "plt.plot([log(_) for _ in index], [log(_) for _ in order], 'b-')\n",
    "plt.show()"
   ]
  },
  {
   "cell_type": "code",
   "execution_count": 34,
   "metadata": {},
   "outputs": [
    {
     "name": "stdout",
     "output_type": "stream",
     "text": [
      "0\n",
      "['의', '하', '.', '에', '는', 'ㄴ다', 'ㄴ', '을', '은', '이', '저', '여', '·', 'ㄹ', '조', '를', '법률', '되', ',', '있', '다', '정하', '수', '대통령', '의하', '과', '①', '②', '국가', '헌법', '국민', '또는', '로', '으로', '지', '국회', '때', '아니하', '관하', '그', '며', '가', '③', '와', '회의', '받', '고', '모든', '바', '위하', '가지', '필요', '여야', '위원', '없', '국무', '1', '기타', '선거', '및', '3', '보장', '에서', '정부', '사항', '의원', '항', '자유', '권리', '국', '어야', '의무', '제', '④', '거나', '대하', '일', '2', '직무', '임명', '경제', '조직', '이상', '국회의원', '임기', '얻', '공무원', '경우', '법원', '의결', '기', '단체', '범위', '안', '장', '보호', '재판', '행정', '4', '정책']\n",
      "\n",
      "100\n",
      "['이르', '정당', '재판소', '재적', '어', '부터', '질', '노력', '요구', '국무총리', '관리', '년', '심판', '고는', '처분', '나', '집회', '시행', '출석', '찬성', '자문', '두', '대한민국', '안전', '공포', '조약', '법관', '다만', '⑤', '아니', '탄핵', '권한', '에게', '5', '6', '이나', '자', '기관', '중', '군사', '교육', '과반수', '까지', '중요', '통일', '어서', '개정', '효력', '체포', '절차', '당하', '근로', '인', '동의', '각부', '명령', '대법원', '대법원장', '지방', '자치', '기본', '질서', '생활', '제정', '투표', '도', '인정', '구속', '없이', '구성', '행위', '공공', '확정', '상', '분', '제출', '면', '재판관', '계엄', '사무', '따르', '것', '수립', '유지', '아', '이유', '제한', '공개', '한하', '선출', '법률안', '국정', '감사', '위원회', '대법관', '최초', '민주', '게', 'ㅁ', '승인']\n",
      "\n",
      "200\n",
      "['으며', '법', '누구', '든지', '등', '사상', '청구', '형사', '피고인', '지체', '⑥', '인하', '침해', '한', '특별', '개발', '회기', '전', '의장', '규정', '보', '이내', '후', '회계', '총리', '처리', '규칙', '자격', '결정', '중임', '응하', '제청', '당시', '로써', '사회적', '책임', '평화', '정치적', '운영', '해산', '발전', '10', '으로서', '제도', '이에', '진술', '붙이', '심사', '이익', '언론', '출판', '내용', '정', '군인', '중대', '제외', '30', '재정', '속하', '기간', '재의', '예산안', '심의', '연도', '개시', '예산', '설치', '소추', '관', '계획', '개정안', '감사원', '균형', '이용', '육성', '평화적', '민주적', '정치', '사회', '영역', '기회', '균등', '향상', '으로써', '7', '8', '수행', '체결', '같', '목적', '9', '평등', '형', '검사', '영장', '죄', '변호인', '방법', '범죄', '재산권']\n",
      "\n",
      "300\n",
      "['15', '비밀', '타인', '복리', '도록', '보상', '선거권', '선포', '판결', '집행', '근로자', '조건', '40', '행하', '못하', '다음', '지출', '각', '부담', '발의', '저촉', '내부', '규율', '후임자', '위', '발하', '상의', '긴급', '관계', '원로', '선고', '간', '선임', '농지', '우리', '운동', '임시', '조국', '민족', '하여', '문화', '능력', '최고', '월', '12', '차', '국제', '국토', '중립성', '지위', '신분', '활동', '위배', '제소', '인간', '개인', '11', '종교', '영전', '신체', '압수', '수색', '처벌', '불리', '현행', '범인', '증거', '⑦', '주거', '양심', '20', '결사', '배상', '행사', '문서', '청원', '군무원', '군', '구금', '자가', '증진', '행동권', '실시', '사유', '보전', '통하', '계약', '만료', '로서', '편성', '경비', '계속', '변경', '60', '상호', '강화', '선전', '외국', '의견', '해임']\n",
      "\n",
      "400\n",
      "['건의', '중앙', '절', '위임', '대통령령', '안녕', '조치', '해제', '사면', '감형', '복권', '대외', '결산', '조정', '총장', '지명', '원장', '각급', '연임', '금고', '형의', '파', '여부', '법령', '자원', '농', '제안', '일로', '불의', '19', '계승', '사명', '입각', '정의', '자율', '조화', '들', '행복', '거치', '주권', '영토', '지향', '적', '방위', '준수', '국내', '의사', '창달', '존엄', '앞', '경제적', '차별', '어떠하', '훈장', '적법', '고문', '자기', '신청', '발부', '제시', '범하', '염려', '즉시', '조력', '자의', '가족', '자백', '부당', '유죄', '13', '입법', '불', '처우', '14', '이전', '16', '17', '통신', '시설', '기준', '명예', '피해자', '피해', '과학', '25', '초병', '초소', '유독', '음식물', '공급', '포로', '비상계엄', '무죄', '었', '더', '29', '불법', '손해', '면제', '관련']\n",
      "\n",
      "500\n",
      "['외', '구조', '평생', '학교', '포함', '적인', '고용', '적정', '임금', '원칙', '여자', '군경', '단결권', '교섭권', '복지', '쾌적', '환경', '국방', '이행', '보통', '직접', '직', '겸하', '발언', '남용', '기업체', '취득', '매년', '임시회', '100', '인과', '하다', '그러하', '이송', '이의', '내', '또한', '날', '발생', '90', '새', '준하', '예비비', '비준', '동의권', '포고', '국군', '파견', '조사', '상황', '답변', '징계', '려면', '감사원장', '독립', '당선', '후보자', '70', '궐', '상실', '선서', '\"', '보위', '외교', '외환', '비상', '명하', '일반', '수여', '보좌', '현역', '면하', '이하', '국유', '재산', '간의', '참모', '직전', '세입', '세출', '관의', '장의', '위반', '전제', '심리', '관할', '위헌', '소원', '인의', '관중', '인은', '가입', '관여', '급', '지시', '의회', '기업', '안정', '규제', '달성']\n",
      "\n",
      "600\n",
      "['농업', '경영', '지역', '중소기업', '어민', '공고', '부칙', '전일', '유구', '역사', '전통', '빛나', '건립', '법통', '항거', '이념', '개혁', '인도', '동포애', '단결', '공고히', '폐습', '타파', '바탕', '더욱', '확고히', '각인', '히', '도로', '발휘', '완수', '기하', '밖', '항구적', '세계', '인류', '공영', '이바지', '자손', '영원히', '확보', '다짐', '면서', '1948', '걸치', '이제', '총', '강', '공화국', '권력', '나오', '요건', '재외', '한반도', '부속', '서로', '추진', '침략', '전쟁', '부인', '군은', '신성', '일반적', '법규', '법과', '외국인', '국제법', '전체', '봉사자', '설립', '복수', '정당제', '형성', '참여', '는데', '자금', '보조', '전통문화', '가치', '추구', '불가침', '기본적', '인권', '확인', '성별', '문화적', '특수', '계급', '형태', '창설', '만', '특권', '심문', '보안', '강제', '노역', '강요', '장기', '해당', '도피']\n",
      "\n",
      "700\n",
      "['인멸', '사후', '스스로', '구하', '있음', '고지', '일시', '장소', '통지', '적부', '폭행', '협박', '장기화', '기망', '라고', '정식', '유일', '삼', '행위시', '소', '추', '동일', '거듭', '소급', '참정권', '박탈', '친족', '거주', '직업', '선택', '사생활', '18', '국교', '분리', '21', '허', '검열', '허가', '방송', '신문', '기능', '공중', '도덕', '윤리', '여서', '알', '니', '대', '22', '학문', '예술', '저작자', '발명가', '기술자', '예술가', '23', '한계', '적합', '수용', '사용', '지급', '24', '공무', '담임', '권', '26', '27', '기밀', '군용물', '신속', '상당', '까', '추정', '당해', '사건', '28', '피의자', '불기소', '자신', '경찰', '전투', '훈련', '생명', '31', '자녀', '적어도', '초등', '무상', '자주성', '전문', '성', '대학', '자율성', '진흥', '교원', '32', '최저', '임금제', '주의', '존엄성']\n",
      "\n",
      "800\n",
      "['연소자', '유공자', '상이', '전몰', '유가족', '우선적', '부여받', '33', '자주적', '주요', '산업체', '종사', '34', '답', '권익', '노인과', '청소년', '복', '장애자', '질병', '노령', '재해', '예방', '위험', '35', '건강', '환경권', '주택', '36', '혼인', '양성', '기초', '성립', '모성', '보건', '37', '열거', '경시', '본질적', '38', '납세', '39', '병역', '입법권', '41', '200', '선거구', '비례', '대표제', '42', '43', '44', '으면', '석방', '45', '행', '표결', '지지', '46', '청렴', '우선', '재', '산상', '직위', '알선', '47', '회', '정기', '초과', '명시', '48', '부의장', '49', '가부', '동수', '부결', '50', '공표', '51', '의안', '폐기', '52', '53', '서', '환부', '폐회', '일부', '또', '수정', '반', '수의', '전과', '경과', '54', '마다', '롭', '안이', '전년도', '이미', '사업']\n",
      "\n",
      "900\n",
      "['55', '넘', '연한', '비로서', '총액', '차기', '56', '가하', '추가', '경정', '57', '항의', '금액', '증가', '비목', '58', '국채', '모집', '예산외', '려', '미리', '59', '조세', '종목', '세율', '원조', '우호', '통상', '항해', '제약', '재정적', '지우', '군대', '주류', '61', '특정', '사안', '서류', '증인', '증언', '62', '질문', '응답', '하여금', '63', '64', '제명', '65', '결', '정지', '공직', '파면', '그치', '그러', '민', '66', '원수', '대표', '계속성', '수호', '책무', '성실', '행정권', '수반', '67', '득표자', '과반', '수가', '다수', '표', '자로', '득표수', '총수', '피', '선거일', '현재', '세', '달하', '68', '내지', '당선자', '사망', '69', '취임', '즈음', '직책', '성실히', '엄숙히', 'ㅂ니다', '71', '사고', '정한', '순서', '대행', '72', '73', '사절', '신임', '접수', '74']\n",
      "\n",
      "1000\n",
      "['통수', '군의', '75', '구체적', '76', '내우', '천재', '지변', '위기', '기다리', '여유', '최소한', '안위', '교전', '상태', '불가능', '그때', '폐지', '당연히', '회복', '77', '전시', '사변', '비상사태', '병력', '통고', '78', '임면', '79', '사', '80', '81', '서한', '표시', '82', '국법', '부서', '83', '공사', '84', '내란', '재직', '85', '전직', '예우', '행정부', '86', '명', '통할', '87', '구성원', '88', '부의', '장이', '89', '조약안', '획정', '정부안', '배정', '평가', '분석', '회부', '검찰', '합동', '국립대', '대사', '영기', '업체', '관리자', '91', '앞서', '주재', '92', '93', '94', '95', '소관', '직권', '총리령', '부령', '96', '97', '감찰', '소속하', '98', '99', '차년', '결과', '대상', '101', '사법권', '원인', '102', '부', '103', '104', '105', '정년', '106', '관은']\n",
      "\n",
      "1100\n",
      "['정직', '감봉', '관이', '심신', '장해', '퇴직', '107', '최종적', '전심', '사법', '준용', '108', '소송', '109', '방해', '선량', '풍속', '해하', '110', '상고심', '하의', '간첩죄', '단심', '사형', '111', '관장', '쟁의', '112', '113', '인용', '114', '공정', '위원장', '호선', '원의', '115', '선거인', '명부', '작성', '당', '116', '관리하', '시키', '117', '주민', '종류', '118', '119', '창의', '존중', '성장', '소득', '분배', '시장', '지배', '경제력', '방지', '주체', '민주화', '120', '광물', '지하', '수산', '수력', '자연력', '일정', '채취', '특허', '121', '경자', '유전', '소작', '금지', '생산성', '제고', '합리', '불가피', '사정', '임대차', '위탁', '122', '모두', '생산', '기반', '효율적', '과하', '123', '어업', '어촌', '종합', '지원', '농수산물', '수급', '유통', '개선', '가격', '도모', '자조', '124', '건전']\n",
      "\n"
     ]
    }
   ],
   "source": [
    "for _ in range(int(law.vocab().B()/100)):\n",
    "    i = _*100\n",
    "    print(i)\n",
    "    print([_[0] for _ in sorted_law[i:i+100]])\n",
    "    print()"
   ]
  },
  {
   "cell_type": "markdown",
   "metadata": {},
   "source": [
    "#### TF-IDF\n",
    "- **`TF`(Term Freq.)** : **고빈도 단어**에 높은 가중치\n",
    "- **`IDF`(Inverse Doc. Freq.)** : **저빈도 단어**에 높은 가중치\n",
    "- TF*IDF : Weighting"
   ]
  },
  {
   "cell_type": "code",
   "execution_count": 35,
   "metadata": {},
   "outputs": [],
   "source": [
    "corpus = ''\n",
    "\n",
    "dl = list()\n",
    "ut = list()\n",
    "for _ in kobill.fileids():\n",
    "    corpus += kobill.open(_).read()\n",
    "    text = Text(ma(corpus))\n",
    "    dl.append(text.vocab().N()) # 전체 단어 개수\n",
    "    ut.append(text.vocab().B()) # Unique한 단어 개수"
   ]
  },
  {
   "cell_type": "code",
   "execution_count": 36,
   "metadata": {},
   "outputs": [
    {
     "data": {
      "text/plain": [
       "[<matplotlib.lines.Line2D at 0x1b033738f28>]"
      ]
     },
     "execution_count": 36,
     "metadata": {},
     "output_type": "execute_result"
    },
    {
     "data": {
      "image/png": "[encoded data removed]",
      "text/plain": [
       "<Figure size 432x288 with 1 Axes>"
      ]
     },
     "metadata": {
      "needs_background": "light"
     },
     "output_type": "display_data"
    }
   ],
   "source": [
    "K = 10 # 10-100\n",
    "beta = 0.5 # 0.4-0.6\n",
    "plt.plot(dl, ut, 'r-')\n",
    "plt.plot(dl, [K*_**beta for _ in dl], 'b-')"
   ]
  },
  {
   "cell_type": "code",
   "execution_count": 37,
   "metadata": {},
   "outputs": [
    {
     "data": {
      "text/plain": [
       "\"\\nNLP => 언어패턴\\nLangauge Model - Statistical LM\\ns = '대한민국의 주권은 국민으로 나온다.'\\nt1 = 대한민국의, 100\\nt2 = 주권은, 10\\nt3 = 국민으로, 200\\nt4 = 나온다, 500\\nt5 = ., 1000\\nN = 1000\\nP(t5) = freq(t5)/N = 1.0\\nP(t1) = 100/1000 = 0.1\\nP(S) = P(t1, t2, t3, t4, t5) = P(t2,t3,t4,t5|t1)P(t1)\\n       결합확률(JP)            CP               P\\n       P(t3,t4,t5|t1,t2)P(t2|t1)P(t1)\\n       P(t5|t1,t2,t3,t4) P(t1,t2,t3,t4)\\n                         P(t4|t1,t2,t3) P(t1,t2,t3)\\n                                        P(t3|t1,t2) P(t1,t2)\\n                                                    P(t2|t1) P(t1)\\n=> N-gram\\n                                                    \\n1st Markov Assumption(Chain)\\nP(S) = P(t5|t4) P(t4|t3) P(t3|t2) P(t2|t1) P(t1)\\n\\nP(t5|t4) = P(t4, t5) / P(t4)\\n         = (freq(t4, t5) / N) / (freq(t4) / N)\\n         = freq(t4, t5) / freq(t4)\\n\\nP(? | t4) = sum(freq(?, t4) / freq(t4))\\n=> Bi-gram\\n\""
      ]
     },
     "execution_count": 37,
     "metadata": {},
     "output_type": "execute_result"
    }
   ],
   "source": [
    "'''\n",
    "NLP => 언어패턴\n",
    "Langauge Model - Statistical LM\n",
    "s = '대한민국의 주권은 국민으로 나온다.'\n",
    "t1 = 대한민국의, 100\n",
    "t2 = 주권은, 10\n",
    "t3 = 국민으로, 200\n",
    "t4 = 나온다, 500\n",
    "t5 = ., 1000\n",
    "N = 1000\n",
    "P(t5) = freq(t5)/N = 1.0\n",
    "P(t1) = 100/1000 = 0.1\n",
    "P(S) = P(t1, t2, t3, t4, t5) = P(t2,t3,t4,t5|t1)P(t1)\n",
    "       결합확률(JP)            CP               P\n",
    "       P(t3,t4,t5|t1,t2)P(t2|t1)P(t1)\n",
    "       P(t5|t1,t2,t3,t4) P(t1,t2,t3,t4)\n",
    "                         P(t4|t1,t2,t3) P(t1,t2,t3)\n",
    "                                        P(t3|t1,t2) P(t1,t2)\n",
    "                                                    P(t2|t1) P(t1)\n",
    "=> N-gram\n",
    "                                                    \n",
    "1st Markov Assumption(Chain)\n",
    "P(S) = P(t5|t4) P(t4|t3) P(t3|t2) P(t2|t1) P(t1)\n",
    "\n",
    "P(t5|t4) = P(t4, t5) / P(t4)\n",
    "         = (freq(t4, t5) / N) / (freq(t4) / N)\n",
    "         = freq(t4, t5) / freq(t4)\n",
    "\n",
    "P(? | t4) = sum(freq(?, t4) / freq(t4))\n",
    "=> Bi-gram\n",
    "'''"
   ]
  },
  {
   "cell_type": "code",
   "execution_count": 38,
   "metadata": {},
   "outputs": [],
   "source": [
    "# N-gram(어절)\n",
    "def ngram_eojeol(s, N=2, opt=False):\n",
    "    token = s.split()\n",
    "    ngram = list()\n",
    "    for i in range(len(token)-(N-1)):\n",
    "        ngram.append(' '.join(token[i:i+N]) if opt else tuple(token[i:i+N]))\n",
    "    return ngram\n",
    "\n",
    "# N-gram(음절)\n",
    "def ngram_umjeol(s, N=2, opt=False):\n",
    "    ngram = list()\n",
    "    for i in range(len(s)-(N-1)):\n",
    "        ngram.append(''.join(s[i:i+N]) if opt else tuple(s[i:i+N]))\n",
    "    return ngram"
   ]
  },
  {
   "cell_type": "code",
   "execution_count": 39,
   "metadata": {},
   "outputs": [
    {
     "data": {
      "text/plain": [
       "[('대한민국의', '주권은'), ('주권은', '국민에게'), ('국민에게', '나온다.')]"
      ]
     },
     "execution_count": 39,
     "metadata": {},
     "output_type": "execute_result"
    }
   ],
   "source": [
    "ngram_eojeol('대한민국의 주권은 국민에게 나온다.',)"
   ]
  },
  {
   "cell_type": "code",
   "execution_count": 40,
   "metadata": {},
   "outputs": [
    {
     "data": {
      "text/plain": [
       "['대한민국의 주권은', '주권은 국민에게', '국민에게 나온다.']"
      ]
     },
     "execution_count": 40,
     "metadata": {},
     "output_type": "execute_result"
    }
   ],
   "source": [
    "ngram_eojeol('대한민국의 주권은 국민에게 나온다.',opt=True)"
   ]
  },
  {
   "cell_type": "code",
   "execution_count": 41,
   "metadata": {},
   "outputs": [
    {
     "data": {
      "text/plain": [
       "['대한민',\n",
       " '한민국',\n",
       " '민국의',\n",
       " '국의 ',\n",
       " '의 주',\n",
       " ' 주권',\n",
       " '주권은',\n",
       " '권은 ',\n",
       " '은 국',\n",
       " ' 국민',\n",
       " '국민에',\n",
       " '민에게',\n",
       " '에게 ',\n",
       " '게 나',\n",
       " ' 나온',\n",
       " '나온다',\n",
       " '온다.']"
      ]
     },
     "execution_count": 41,
     "metadata": {},
     "output_type": "execute_result"
    }
   ],
   "source": [
    "ngram_umjeol('대한민국의 주권은 국민에게 나온다.', 3, opt=True)"
   ]
  },
  {
   "cell_type": "code",
   "execution_count": 42,
   "metadata": {},
   "outputs": [
    {
     "data": {
      "text/plain": [
       "\"\\nP('대한') = P('대','한') / P('대') =  freq('대','한') / freq('대')\\n                                      Bigram            Unigram\\n\""
      ]
     },
     "execution_count": 42,
     "metadata": {},
     "output_type": "execute_result"
    }
   ],
   "source": [
    "'''\n",
    "P('대한') = P('대','한') / P('대') =  freq('대','한') / freq('대')\n",
    "                                      Bigram            Unigram\n",
    "'''"
   ]
  },
  {
   "cell_type": "code",
   "execution_count": 43,
   "metadata": {},
   "outputs": [],
   "source": [
    "from collections import defaultdict\n",
    "\n",
    "UNIGRAM = defaultdict(lambda : 0)\n",
    "BIGRAM = defaultdict(lambda : 0)\n",
    "corpus = kolaw.open(kolaw.fileids()[0]).read()\n",
    "for _ in ngram_umjeol(corpus, 1, True):\n",
    "    UNIGRAM[_] += 1\n",
    "for _ in ngram_umjeol(corpus, 2, True):\n",
    "    BIGRAM[_] += 1"
   ]
  },
  {
   "cell_type": "code",
   "execution_count": 44,
   "metadata": {},
   "outputs": [
    {
     "data": {
      "text/plain": [
       "(0.008472781190425757, 0.0014297818258843466)"
      ]
     },
     "execution_count": 44,
     "metadata": {},
     "output_type": "execute_result"
    }
   ],
   "source": [
    "N = sum(UNIGRAM.values())\n",
    "UNIGRAM['대'] / N, BIGRAM['대한'] / N"
   ]
  },
  {
   "cell_type": "code",
   "execution_count": 45,
   "metadata": {},
   "outputs": [
    {
     "name": "stdout",
     "output_type": "stream",
     "text": [
      "대한 27 0.16875\n",
      "대하 9 0.05625\n",
      "대학 2 0.0125\n",
      "대표 2 0.0125\n",
      "대통 87 0.54375\n",
      "대의 1 0.00625\n",
      "대행 1 0.00625\n",
      "대외 3 0.01875\n",
      "대사 1 0.00625\n",
      "대상 1 0.00625\n",
      "대법 25 0.15625\n",
      "대차 1 0.00625\n"
     ]
    }
   ],
   "source": [
    "for _ in filter(lambda k:k[0] == '대', BIGRAM.keys()):\n",
    "    print(_, BIGRAM[_], BIGRAM[_]/UNIGRAM['대'])"
   ]
  },
  {
   "cell_type": "code",
   "execution_count": 46,
   "metadata": {},
   "outputs": [],
   "source": [
    "find_key = lambda k, gram:filter(\n",
    "    lambda tokens:''.join(tokens[:len(k)]) == k, gram.keys()\n",
    ")\n",
    "find_value = lambda k, gram: gram[k] if k in gram.keys() else 0\n",
    "find_prob = lambda k, given, gram: [(_, find_value(_, gram)/given) for _ in find_key(k, gram)]\n",
    "find_max = lambda gram: sorted(gram, key=lambda g:g[1], reverse=True)[0]"
   ]
  },
  {
   "cell_type": "code",
   "execution_count": 47,
   "metadata": {},
   "outputs": [
    {
     "data": {
      "text/plain": [
       "[('대한', 0.16875),\n",
       " ('대하', 0.05625),\n",
       " ('대학', 0.0125),\n",
       " ('대표', 0.0125),\n",
       " ('대통', 0.54375),\n",
       " ('대의', 0.00625),\n",
       " ('대행', 0.00625),\n",
       " ('대외', 0.01875),\n",
       " ('대사', 0.00625),\n",
       " ('대상', 0.00625),\n",
       " ('대법', 0.15625),\n",
       " ('대차', 0.00625)]"
      ]
     },
     "execution_count": 47,
     "metadata": {},
     "output_type": "execute_result"
    }
   ],
   "source": [
    "find_prob('대', find_value(list(find_key('대', UNIGRAM))[0], UNIGRAM), BIGRAM)"
   ]
  },
  {
   "cell_type": "code",
   "execution_count": 48,
   "metadata": {},
   "outputs": [],
   "source": [
    "UNIGRAM = defaultdict(lambda : 0)\n",
    "BIGRAM = defaultdict(lambda : 0)\n",
    "corpus = kolaw.open(kolaw.fileids()[0]).read()\n",
    "for _ in ngram_umjeol(corpus, 1, False):\n",
    "    UNIGRAM[_] += 1\n",
    "for _ in ngram_umjeol(corpus, 2, False):\n",
    "    BIGRAM[_] += 1"
   ]
  },
  {
   "cell_type": "code",
   "execution_count": 49,
   "metadata": {},
   "outputs": [
    {
     "data": {
      "text/plain": [
       "[(('대', '한'), 0.16875),\n",
       " (('대', '하'), 0.05625),\n",
       " (('대', '학'), 0.0125),\n",
       " (('대', '표'), 0.0125),\n",
       " (('대', '통'), 0.54375),\n",
       " (('대', '의'), 0.00625),\n",
       " (('대', '행'), 0.00625),\n",
       " (('대', '외'), 0.01875),\n",
       " (('대', '사'), 0.00625),\n",
       " (('대', '상'), 0.00625),\n",
       " (('대', '법'), 0.15625),\n",
       " (('대', '차'), 0.00625)]"
      ]
     },
     "execution_count": 49,
     "metadata": {},
     "output_type": "execute_result"
    }
   ],
   "source": [
    "find_prob('대', find_value(list(find_key('대', UNIGRAM))[0], UNIGRAM), BIGRAM)"
   ]
  },
  {
   "cell_type": "code",
   "execution_count": 50,
   "metadata": {},
   "outputs": [
    {
     "name": "stdout",
     "output_type": "stream",
     "text": [
      "완 수 1.0\n",
      "수   0.6474820143884892\n",
      "  국 0.05892135899263483\n",
      "국 회 0.27384615384615385\n",
      "회 의 0.4431137724550898\n",
      "의   0.6396946564885496\n",
      "  국 0.05892135899263483\n",
      "국 회 0.27384615384615385\n",
      "회 의 0.4431137724550898\n",
      "의   0.6396946564885496\n"
     ]
    }
   ],
   "source": [
    "key = '완'\n",
    "for _ in range(10):\n",
    "    nextkey = find_max(find_prob(key,\n",
    "                                find_value(list(find_key(key, UNIGRAM))[0], UNIGRAM),\n",
    "                                BIGRAM))\n",
    "    print(key, ''.join(nextkey[0][len(key):]), nextkey[1])\n",
    "    key = ''.join(nextkey[0][len(key):])"
   ]
  },
  {
   "cell_type": "code",
   "execution_count": 51,
   "metadata": {},
   "outputs": [],
   "source": [
    "GRAM1 = defaultdict(lambda : 0)\n",
    "GRAM2 = defaultdict(lambda : 0)\n",
    "GRAM3 = defaultdict(lambda : 0)\n",
    "corpus = kolaw.open(kolaw.fileids()[0]).read()\n",
    "for _ in ngram_umjeol(corpus, 1, True):\n",
    "    GRAM1[_] += 1\n",
    "for _ in ngram_umjeol(corpus, 2, True):\n",
    "    GRAM2[_] += 1\n",
    "for _ in ngram_umjeol(corpus, 3, True):\n",
    "    GRAM3[_] += 1"
   ]
  },
  {
   "cell_type": "code",
   "execution_count": 52,
   "metadata": {},
   "outputs": [
    {
     "name": "stdout",
     "output_type": "stream",
     "text": [
      "['국민은', '국민생', '국민투', '국민에', '국민으', '국민이', '국민을', '국민전', '국민의', '국민 ', '국민경']\n",
      "\n",
      "('국민은', 36, 0.5217391304347826)\n",
      "('국민생', 1, 0.014492753623188406)\n",
      "('국민투', 7, 0.10144927536231885)\n",
      "('국민에', 3, 0.043478260869565216)\n",
      "('국민으', 1, 0.014492753623188406)\n",
      "('국민이', 2, 0.028985507246376812)\n",
      "('국민을', 2, 0.028985507246376812)\n",
      "('국민전', 1, 0.014492753623188406)\n",
      "('국민의', 8, 0.11594202898550725)\n",
      "('국민 ', 2, 0.028985507246376812)\n",
      "('국민경', 6, 0.08695652173913043)\n",
      "\n",
      "('국민은', 36, 0.5217391304347826)\n",
      "\n",
      "국민 ('국민은', 36, 0.5217391304347826)\n",
      "민은 ('민은 ', 36, 1.0)\n",
      "은  ('은 법', 47, 0.23618090452261306)\n",
      " 법 (' 법률', 123, 0.831081081081081)\n",
      "법률 ('법률이', 60, 0.46875)\n",
      "률이 ('률이 ', 59, 0.9833333333333333)\n",
      "이  ('이 정', 59, 0.3277777777777778)\n",
      " 정 (' 정하', 54, 0.3724137931034483)\n",
      "정하 ('정하는', 50, 0.8928571428571429)\n",
      "하는 ('하는 ', 70, 0.9859154929577465)\n"
     ]
    }
   ],
   "source": [
    "# 어떤 그램이든 key(Prior) 찾아오는\n",
    "def find_key(key, base):\n",
    "    return list(filter(lambda keys:keys[:len(key)] == key,\n",
    "                  base.keys()))\n",
    "print(find_key('국민', GRAM3))\n",
    "print()\n",
    "\n",
    "# 확률값 계산\n",
    "def find_prob(key, freq, base):\n",
    "    return [(_, base[_], base[_]/freq if freq > 0 else 0) for _ in find_key(key, base)]\n",
    "[print(_) for _ in find_prob('국민', GRAM2['국민'], GRAM3)]\n",
    "print()\n",
    "\n",
    "# 가장 높은 확률값\n",
    "def find_max(key, freq, base):\n",
    "    return sorted(find_prob(key, freq, base),\n",
    "                 key = lambda  _:_[-1],\n",
    "                 reverse=True)[0]\n",
    "\n",
    "print(find_max('국민', GRAM2['국민'], GRAM3))\n",
    "print()\n",
    "\n",
    "def ngram_print(key, n, base1, base2):\n",
    "    for _ in range(n):\n",
    "        nextkey = find_max(key, GRAM2[key], GRAM3)\n",
    "        print(key, nextkey)\n",
    "        key = nextkey[0][-len(key):]\n",
    "        \n",
    "ngram_print('국민', 10, GRAM2, GRAM3)"
   ]
  },
  {
   "cell_type": "code",
   "execution_count": 53,
   "metadata": {},
   "outputs": [],
   "source": [
    "# BPE\n",
    "import re\n",
    "\n",
    "def convert_data(data): # {'문자열' : 빈도}\n",
    "    newdata = dict()\n",
    "    for k,v in data.items():\n",
    "        newdata[' '.join(list(k) + ['</w>'])] = v\n",
    "    return newdata\n",
    "\n",
    "def find_pair(data): # 문자열 => 쌍으로 변환\n",
    "    pair = defaultdict(lambda : 0)\n",
    "    for k, v in data.items(): # l o w </w> : 5\n",
    "        tokens = k.split() # [l, o, w, </w>]\n",
    "        for i in range(len(tokens) - 1): # (l, 0) : 5, (0, w) : 5\n",
    "            pair[tuple(tokens[i:i+2])] += v\n",
    "    return pair\n",
    "\n",
    "def merge_pair(data, key): # Max pattern => 합치기\n",
    "    newdata = dict()\n",
    "    for k, v in data.items():\n",
    "        newkey = re.sub(' '.join(key), ''.join(key), k) # 'e s'\n",
    "        newdata[newkey] = v\n",
    "    return newdata"
   ]
  },
  {
   "cell_type": "code",
   "execution_count": 54,
   "metadata": {},
   "outputs": [
    {
     "data": {
      "text/plain": [
       "['low', 'est</w>']"
      ]
     },
     "execution_count": 54,
     "metadata": {},
     "output_type": "execute_result"
    }
   ],
   "source": [
    "data = convert_data({'low' : 5, 'lower' : 2, 'newest' : 6, 'widest' : 3})\n",
    "for _ in range(5):\n",
    "    pair = find_pair(data)\n",
    "    key = max(pair, key=pair.get) # 'e s'\n",
    "    data = merge_pair(data, key)\n",
    "    \n",
    "list(set([token for _ in data.keys()\n",
    "for token in _.split()\n",
    "if len(token) > 1 and token != '</w>']))"
   ]
  },
  {
   "cell_type": "code",
   "execution_count": 55,
   "metadata": {},
   "outputs": [
    {
     "data": {
      "text/plain": [
       "defaultdict(<function __main__.<lambda>()>,\n",
       "            {'국민생활의': 1,\n",
       "             '국민투표에': 3,\n",
       "             '국민에게': 2,\n",
       "             '국민으로부터': 1,\n",
       "             '국민이': 2,\n",
       "             '국민전체에': 1,\n",
       "             '국민에': 1,\n",
       "             '국민의': 7,\n",
       "             '국민은': 35,\n",
       "             '국민을': 1,\n",
       "             '국민': 2,\n",
       "             '국민경제의': 3,\n",
       "             '국민경제자문회의를': 1,\n",
       "             '국민투표의': 1,\n",
       "             '국민투표사무에': 1,\n",
       "             '국민경제상': 1})"
      ]
     },
     "execution_count": 55,
     "metadata": {},
     "output_type": "execute_result"
    }
   ],
   "source": [
    "data = defaultdict(lambda:0)\n",
    "for _ in corpus.split():\n",
    "    if _.startswith('국민'):\n",
    "        data[_] += 1\n",
    "data"
   ]
  },
  {
   "cell_type": "code",
   "execution_count": 56,
   "metadata": {},
   "outputs": [
    {
     "data": {
      "text/plain": [
       "['국민의</w>', '의</w>', '국민은</w>', '국민']"
      ]
     },
     "execution_count": 56,
     "metadata": {},
     "output_type": "execute_result"
    }
   ],
   "source": [
    "data = convert_data(data)\n",
    "\n",
    "for _ in range(5):\n",
    "    pair = find_pair(data)\n",
    "    key = max(pair, key=pair.get) # 'e s'\n",
    "    data = merge_pair(data, key)\n",
    "    \n",
    "list(set([token for _ in data.keys()\n",
    "for token in _.split()\n",
    "if len(token) > 1 and token != '</w>']))"
   ]
  },
  {
   "cell_type": "code",
   "execution_count": 57,
   "metadata": {},
   "outputs": [
    {
     "data": {
      "text/plain": [
       "['대통령', '국회', '하여', '대통', '국무', '아니', '헌법', '국가', '제1']"
      ]
     },
     "execution_count": 57,
     "metadata": {},
     "output_type": "execute_result"
    }
   ],
   "source": [
    "data = defaultdict(lambda:0)\n",
    "for _ in corpus.split():\n",
    "#     if _.startswith('국민'):\n",
    "        data[_] += 1\n",
    "\n",
    "data = convert_data(data)\n",
    "\n",
    "for _ in range(30):\n",
    "    pair = find_pair(data)\n",
    "    key = max(pair, key=pair.get) # 'e s'\n",
    "    data = merge_pair(data, key)\n",
    "    \n",
    "list(set([token for _ in data.keys()\n",
    "for token in _.split()\n",
    "if len(token) > 1 and not re.search(r'</w>', token)]))"
   ]
  },
  {
   "cell_type": "code",
   "execution_count": 58,
   "metadata": {},
   "outputs": [
    {
     "name": "stdout",
     "output_type": "stream",
     "text": [
      "['육아휴', '육아휴직', '--', '아휴', '--------', '----']\n",
      "['육아휴', '육아휴직', '--', '아휴', '--------', '----']\n",
      "['육아휴', '육아휴직', '--', '아휴', '--------', '----']\n",
      "['휴직', '육아휴직', '--', '--------', '육아', '----']\n",
      "['학사', '교육', '학위', '간호과', '간호']\n",
      "['손해', '--', '제3', '--------']\n",
      "['제4', '--', '--------', '예고', '----']\n",
      "['파견', 'UA', '20', 'UAE']\n",
      "['파견', '국군', ',7']\n",
      "['결혼', '--', '--------', '----', '제1']\n"
     ]
    }
   ],
   "source": [
    "for _ in kobill.fileids():\n",
    "    corpus = kobill.open(_).read()\n",
    "    \n",
    "    data = defaultdict(lambda:0)\n",
    "    for _ in corpus.split():\n",
    "            data[_] += 1\n",
    "\n",
    "    data = convert_data(data)\n",
    "#     print(data)\n",
    "\n",
    "    for _ in range(10):\n",
    "        pair = find_pair(data)\n",
    "        key = max(pair, key=pair.get) # 'e s'\n",
    "        data = merge_pair(data, key)\n",
    "\n",
    "    print(list(set([token for _ in data.keys()\n",
    "    for token in _.split()\n",
    "    if len(token) > 1 and not re.search(r'</w>', token)])))"
   ]
  },
  {
   "cell_type": "code",
   "execution_count": 59,
   "metadata": {},
   "outputs": [
    {
     "name": "stdout",
     "output_type": "stream",
     "text": [
      "['무원', '휴직', '육아휴직', '아휴직', '비용', '발생', '급여', '이하']\n",
      "['무원', '휴직', '육아휴직', '아휴직', '비용', '발생', '급여', '이하']\n",
      "['무원', '휴직', '육아휴직', '발생', '급여', '육아', '이하', '공무원']\n",
      "['휴직', '경우', '육아휴직', '아휴직', '발생', '급여', '고용', '이하']\n",
      "['학사', '하여', '수업연', '학위', '간호과', '간호']\n",
      "['업자', '경우', '사업자', '제3', '손해', '원사업자']\n",
      "['경우', '입법', '하여', '행정', '예고']\n",
      "['파견', 'UAE', '부대', '국군', '201', '훈련']\n",
      "['해역', '연장', '파견', '국군부대', '부대', '국군', '201']\n",
      "['결혼', '결혼중개업', '하여', '조의', '결혼중개', '제10', '중개', '제1']\n"
     ]
    }
   ],
   "source": [
    "notspell = re.compile('[^A-Za-z0-9가-힣ㄱ-ㅎㅏ-ㅣ \\n\\t]')\n",
    "whitespace = re.compile('\\s+')\n",
    "\n",
    "for _ in kobill.fileids():\n",
    "    corpus = kobill.open(_).read()\n",
    "    corpus = notspell.sub(' ',corpus)\n",
    "    corpus = whitespace.sub(' ',corpus)\n",
    "    \n",
    "    data = defaultdict(lambda:0)\n",
    "    for _ in corpus.split():\n",
    "            data[_] += 1\n",
    "\n",
    "    data = convert_data(data)\n",
    "#     print(data)\n",
    "\n",
    "    for _ in range(20):\n",
    "        pair = find_pair(data)\n",
    "        key = max(pair, key=pair.get) # 'e s'\n",
    "        data = merge_pair(data, key)\n",
    "\n",
    "    print(list(set([token for _ in data.keys()\n",
    "    for token in _.split()\n",
    "    if len(token) > 1 and not re.search(r'</w>', token)])))"
   ]
  },
  {
   "cell_type": "code",
   "execution_count": 60,
   "metadata": {},
   "outputs": [
    {
     "data": {
      "text/plain": [
       "'\\n빅데이터 - 비정형(텍스트) - HOW?\\n자연어처리 이용,\\n이유1. 온갖 잡다한 종류의 텍스트 포함\\n이유2. for feature selection\\n[Preprocessing]\\n[Tokenizing]\\n1. split, splitlines => 문서-문단(문장의 나열)-단어(어절)의 조합-형태소 조합\\n   tokenize\\n2. sent_tokenize, word_tokenize, regex_tokenize, Tweettokenize\\n   => 구두점(Punk), .?!, \\'\\', \"\", ,\\n[Lematization]\\n3. 국민의 국민에게, ...\\n   (형태학적-Morphological) 형태소분석-형태소분리(Konlpy)\\n   (통사론적-POS) 품사(체언 위주)\\n   (구문론적-ParseTree, Gramer) 주어-목적어-보어-술어\\n[Language Model]\\n4. LM(Language Model) : 언어의 패턴(생성 확률) => ML(NNLM->W2V)\\n   Out of Voca - 없는 단어가 정말 많다.\\n   Ngram - 빈도만으로 확률 가능 / 없는 단어, 패턴 찾기\\n[Stemming]\\n5. Stem(어근/어간) 공통된 말을 찾는법\\n   WPM-BPE 발전\\n   \\n6. Zipf\\'s Law\\n    => 고빈도 단어(빈도의 대부분을 차지) => 중요하지 않음 => Stopwords 제거\\n7. Normalization\\n   대소문자, 약어, 신조어(사전에 없는 단어), 명사추정, 불용어(Stopwords)\\n8. RE(regular expression)\\n======> Feature\\nD = {t1, t2, ...} => Vector, T\\n'"
      ]
     },
     "execution_count": 60,
     "metadata": {},
     "output_type": "execute_result"
    }
   ],
   "source": [
    "'''\n",
    "빅데이터 - 비정형(텍스트) - HOW?\n",
    "자연어처리 이용,\n",
    "이유1. 온갖 잡다한 종류의 텍스트 포함\n",
    "이유2. for feature selection\n",
    "[Preprocessing]\n",
    "[Tokenizing]\n",
    "1. split, splitlines => 문서-문단(문장의 나열)-단어(어절)의 조합-형태소 조합\n",
    "   tokenize\n",
    "2. sent_tokenize, word_tokenize, regex_tokenize, Tweettokenize\n",
    "   => 구두점(Punk), .?!, '', \"\", ,\n",
    "[Lematization]\n",
    "3. 국민의 국민에게, ...\n",
    "   (형태학적-Morphological) 형태소분석-형태소분리(Konlpy)\n",
    "   (통사론적-POS) 품사(체언 위주)\n",
    "   (구문론적-ParseTree, Gramer) 주어-목적어-보어-술어\n",
    "[Language Model]\n",
    "4. LM(Language Model) : 언어의 패턴(생성 확률) => ML(NNLM->W2V)\n",
    "   Out of Voca - 없는 단어가 정말 많다.\n",
    "   Ngram - 빈도만으로 확률 가능 / 없는 단어, 패턴 찾기\n",
    "[Stemming]\n",
    "5. Stem(어근/어간) 공통된 말을 찾는법\n",
    "   WPM-BPE 발전\n",
    "   \n",
    "6. Zipf's Law\n",
    "   => 고빈도 단어(빈도의 대부분을 차지) => 중요하지 않음 => Stopwords 제거\n",
    "7. Normalization\n",
    "   대소문자, 약어, 신조어(사전에 없는 단어), 명사추정, 불용어(Stopwords)\n",
    "   => 욕(비속어)사전, ****\n",
    "8. RE(regular expression)\n",
    "======> Feature\n",
    "D = {t1, t2, ...} => Vector, T\n",
    "'''"
   ]
  },
  {
   "cell_type": "code",
   "execution_count": 61,
   "metadata": {},
   "outputs": [
    {
     "name": "stdout",
     "output_type": "stream",
     "text": [
      "i\n",
      "me\n",
      "my\n",
      "myself\n",
      "we\n",
      "our\n",
      "ours\n",
      "ourselves\n",
      "you\n",
      "you're\n",
      "you've\n",
      "you'll\n",
      "you'd\n",
      "your\n",
      "yours\n",
      "yourself\n",
      "yourselves\n",
      "he\n",
      "him\n",
      "his\n",
      "himself\n",
      "she\n",
      "she's\n",
      "her\n",
      "hers\n",
      "herself\n",
      "it\n",
      "it's\n",
      "its\n",
      "itself\n",
      "they\n",
      "them\n",
      "their\n",
      "theirs\n",
      "themselves\n",
      "what\n",
      "which\n",
      "who\n",
      "whom\n",
      "this\n",
      "that\n",
      "that'll\n",
      "these\n",
      "those\n",
      "am\n",
      "is\n",
      "are\n",
      "was\n",
      "were\n",
      "be\n",
      "been\n",
      "being\n",
      "have\n",
      "has\n",
      "had\n",
      "having\n",
      "do\n",
      "does\n",
      "did\n",
      "doing\n",
      "a\n",
      "an\n",
      "the\n",
      "and\n",
      "but\n",
      "if\n",
      "or\n",
      "because\n",
      "as\n",
      "until\n",
      "while\n",
      "of\n",
      "at\n",
      "by\n",
      "for\n",
      "with\n",
      "about\n",
      "against\n",
      "between\n",
      "into\n",
      "through\n",
      "during\n",
      "before\n",
      "after\n",
      "above\n",
      "below\n",
      "to\n",
      "from\n",
      "up\n",
      "down\n",
      "in\n",
      "out\n",
      "on\n",
      "off\n",
      "over\n",
      "under\n",
      "again\n",
      "further\n",
      "then\n",
      "once\n",
      "here\n",
      "there\n",
      "when\n",
      "where\n",
      "why\n",
      "how\n",
      "all\n",
      "any\n",
      "both\n",
      "each\n",
      "few\n",
      "more\n",
      "most\n",
      "other\n",
      "some\n",
      "such\n",
      "no\n",
      "nor\n",
      "not\n",
      "only\n",
      "own\n",
      "same\n",
      "so\n",
      "than\n",
      "too\n",
      "very\n",
      "s\n",
      "t\n",
      "can\n",
      "will\n",
      "just\n",
      "don\n",
      "don't\n",
      "should\n",
      "should've\n",
      "now\n",
      "d\n",
      "ll\n",
      "m\n",
      "o\n",
      "re\n",
      "ve\n",
      "y\n",
      "ain\n",
      "aren\n",
      "aren't\n",
      "couldn\n",
      "couldn't\n",
      "didn\n",
      "didn't\n",
      "doesn\n",
      "doesn't\n",
      "hadn\n",
      "hadn't\n",
      "hasn\n",
      "hasn't\n",
      "haven\n",
      "haven't\n",
      "isn\n",
      "isn't\n",
      "ma\n",
      "mightn\n",
      "mightn't\n",
      "mustn\n",
      "mustn't\n",
      "needn\n",
      "needn't\n",
      "shan\n",
      "shan't\n",
      "shouldn\n",
      "shouldn't\n",
      "wasn\n",
      "wasn't\n",
      "weren\n",
      "weren't\n",
      "won\n",
      "won't\n",
      "wouldn\n",
      "wouldn't\n",
      "\n"
     ]
    }
   ],
   "source": [
    "from nltk.corpus import stopwords\n",
    "\n",
    "print(stopwords.open('english').read())"
   ]
  },
  {
   "cell_type": "code",
   "execution_count": 62,
   "metadata": {},
   "outputs": [],
   "source": [
    "from konlpy.tag import Kkma, Komoran, Hannanum, Okt\n",
    "\n",
    "sentence = '''\n",
    "진료비 98억원을 차명계좌로 받아 2년간 세금 11억원을 포탈한 치과의사\n",
    "'''"
   ]
  },
  {
   "cell_type": "code",
   "execution_count": 63,
   "metadata": {},
   "outputs": [
    {
     "name": "stdout",
     "output_type": "stream",
     "text": [
      "[('진료비', 'NNG'), ('98', 'NR'), ('억', 'NR'), ('원', 'NNM'), ('을', 'JKO'), ('차명', 'NNG'), ('계좌', 'NNG'), ('로', 'JKM'), ('받', 'VV'), ('아', 'ECD'), ('2', 'NR'), ('년', 'NNM'), ('간', 'NNG'), ('세금', 'NNG'), ('11', 'NR'), ('억', 'NR'), ('원', 'NNM'), ('을', 'JKO'), ('포탈', 'NNG'), ('하', 'XSV'), ('ㄴ', 'ETD'), ('치과', 'NNG'), ('의사', 'NNG')]\n",
      "[('진료비', 'NNG'), ('98', 'SN'), ('억', 'NR'), ('원', 'NNB'), ('을', 'JKO'), ('차명', 'NNG'), ('계좌', 'NNP'), ('로', 'JKB'), ('받', 'VV'), ('아', 'EC'), ('2년', 'NNP'), ('간', 'NNB'), ('세금', 'NNP'), ('11', 'SN'), ('억', 'NR'), ('원', 'NNB'), ('을', 'JKO'), ('포탈', 'NNP'), ('한', 'NNP'), ('치과의', 'NNP'), ('사', 'NNG')]\n",
      "[('진료비', 'N'), ('98억원', 'N'), ('을', 'J'), ('차명계좌', 'N'), ('로', 'J'), ('받', 'P'), ('아', 'E'), ('2년', 'N'), ('간', 'X'), ('세금', 'N'), ('11억원', 'N'), ('을', 'J'), ('포탈한', 'N'), ('치과의사', 'N')]\n",
      "[('\\n', 'Foreign'), ('진료', 'Noun'), ('비', 'Noun'), ('98억원', 'Number'), ('을', 'Foreign'), ('차명계좌', 'Noun'), ('로', 'Josa'), ('받아', 'Verb'), ('2년', 'Number'), ('간', 'Foreign'), ('세금', 'Noun'), ('11억원', 'Number'), ('을', 'Foreign'), ('포탈', 'Noun'), ('한', 'Josa'), ('치과의사', 'Noun'), ('\\n', 'Foreign')]\n"
     ]
    }
   ],
   "source": [
    "print(list(Kkma().pos(sentence)))\n",
    "\n",
    "print(list(Komoran().pos(sentence)))\n",
    "\n",
    "print(list(Hannanum().pos(sentence)))\n",
    "\n",
    "print(list(Okt().pos(sentence)))"
   ]
  }
 ],
 "metadata": {
  "kernelspec": {
   "display_name": "Python 3",
   "language": "python",
   "name": "python3"
  },
  "language_info": {
   "codemirror_mode": {
    "name": "ipython",
    "version": 3
   },
   "file_extension": ".py",
   "mimetype": "text/x-python",
   "name": "python",
   "nbconvert_exporter": "python",
   "pygments_lexer": "ipython3",
   "version": "3.7.3"
  }
 },
 "nbformat": 4,
 "nbformat_minor": 2
}
