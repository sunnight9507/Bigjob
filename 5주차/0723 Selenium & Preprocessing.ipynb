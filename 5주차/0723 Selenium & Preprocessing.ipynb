{
 "cells": [
  {
   "cell_type": "code",
   "execution_count": 99,
   "metadata": {},
   "outputs": [],
   "source": [
    "from requests import request\n",
    "from requests.compat import urljoin, urlparse\n",
    "from requests.exceptions import HTTPError\n",
    "from urllib.robotparser import RobotFileParser\n",
    "from bs4 import BeautifulSoup\n",
    "from time import sleep\n",
    "import re\n",
    "import json\n",
    "\n",
    "def canfetch(url, agent='*', path='/'):\n",
    "    robot = RobotFileParser(urljoin(url, '/robots.txt'))\n",
    "    robot.read()\n",
    "    return robot.can_fetch(agent, urlparse(url)[2])\n",
    "    \n",
    "def download(url, params={}, headers={}, method='GET', limit=3):\n",
    "    method = method.upper()\n",
    "    if canfetch(url) == False:\n",
    "        print('[Error] ' + url)\n",
    "#     else: # 실제 수집할 때, 제약사항이 많으므로 여기선 잠시 해제\n",
    "    try:\n",
    "        resp = request(method, url,\n",
    "               params=params if method=='GET' else {},\n",
    "               data=params if method=='POST' else {},\n",
    "               headers=headers)\n",
    "        resp.raise_for_status()\n",
    "    except HTTPError as e:\n",
    "        if limit > 0 and e.response.status_code >= 500:\n",
    "            print(limit)\n",
    "            time.sleep(1) # => random\n",
    "            resp = download(url, params, headers, method, limit-1)\n",
    "        else:\n",
    "            print('[{}] '.format(e.response.status_code) + url)\n",
    "            print(e.response.status_code)\n",
    "            print(e.response.reason)\n",
    "            print(e.response.headers)\n",
    "    return resp\n",
    "\n",
    "headers = {\n",
    "    'user-agent' : 'Mozilla/5.0 (Windows NT 10.0; Win64; x64) AppleWebKit/537.36 (KHTML, like Gecko) Chrome/83.0.4103.116 Safari/537.36'\n",
    "}"
   ]
  },
  {
   "cell_type": "markdown",
   "metadata": {},
   "source": [
    "### Selenium"
   ]
  },
  {
   "cell_type": "code",
   "execution_count": 3,
   "metadata": {},
   "outputs": [],
   "source": [
    "from selenium import webdriver\n",
    "\n",
    "def init():\n",
    "    chrome_driver = 'chromedriver' # 드라이버 위치 확인\n",
    "    driver = webdriver.Chrome(chrome_driver) # 드리이버 만들기\n",
    "    return driver"
   ]
  },
  {
   "cell_type": "code",
   "execution_count": 9,
   "metadata": {},
   "outputs": [],
   "source": [
    "cookiedict = {\n",
    "    'gnbFav' : '%7B%22gnbFav%22%3A%5B%5D%7D',\n",
    "    'NID_SAUTO' : '-1891493465',\n",
    "    'coach_tooltip' : 'ok',\n",
    "    'nid_enctp' : '1',\n",
    "    'nid_buk' : '43O5YWJ7SNCV2',\n",
    "    'NID_SES' : 'AAABeAgr0Glx2yCbCp+qjOuI+ro1F0g9h8GN/OVScdu3XzFA/o8Sosg8tQm7RsgV3xLkUpmoP9c3eB2Z2BECpqHvQ69V0Pm1uv/DceHH0Iki/99mWxwh12PTo/zWu8IES6aidySdoo2IJgtddR1S8aodlBDbZgrlQZhXWov3gzb/JVAeu9B5L+Ra6AXsKfyp3yKV9b4pzsleg3TLZ4Eo4YXOv0pb1rEWcZzzHRXjE68Tz47n6za9gy8RKLjLOXQ7nKCOZa00j6d0/i8wdIAun3EkUK0prRQGkaEczzrfDH/2ItilduqDcBeEnitmfdve+6dfJ4nFJb8hQsuvAnRtJQC8ewnayL0c6oBdNCccLGL5yU0IKRK8FdxrgfUDT0t5sChiW9MWekCRf+JRz5JIhOmlX91/t8iUWCMnKxjYTCbiXmW6OethS5E6LP+2SX7Aajnsj0+XfapIGTzpmA/ZjkD1WRm7t6jwU22F6KF9dCsFp2gZbE1eIrKUVIETtD8HLY1IKg==',\n",
    "    'NMUSER' : 'YXKmFAEwaqbsaAUqFxKdbXk5W40N1HtlFxgXaqu9axEqaAtZaxusFxuZKAnmaqns3xndFAKwFoUsHoKma9vsxonOaxRVadUstoRVaqRVaqns1rejL9Us6xRVaqnD16lvpB2RKZl5WLl5MBp0bSloWrdnaAvmKARqp6FTW43CbNvR16lvpB2RKZl5WLl5MBp0bSloWrdnaAvmKAn=',\n",
    "    'NID_AUT' : 'Uu3mELeSQvuRqLKCvunNeRM/eLeoakeJZgc0tHYAtWpos96czTnjcTs+Daguji1r',\n",
    "    '_ga_7VKFYR6RV1' : 'GS1.1.1595347015.33.1.1595348957.60',\n",
    "    'NID_JKL' : 'ETkTt2IWJyid9+q8wvnujZTI2M9fOFyIkTtSB1LgmFc=',\n",
    "    '_ga' : 'GA1.1.2123753588.1591027971',\n",
    "    'nid_slevel' : '-1',\n",
    "    '_gid' : 'GA1.2.283987012.1595347016',\n",
    "    'NRTK' : 'ag#all_gr#4_ma#2_si#2_en#2_sp#2',\n",
    "    'nid_inf' : '-600244553',\n",
    "    'nx_ssl' : '2',\n",
    "    'ASID' : 'b6dd6ef1000001721be570c10000005f',\n",
    "    'NNB' : 'VGJQ2CTCLK7V4',\n",
    "}"
   ]
  },
  {
   "cell_type": "markdown",
   "metadata": {},
   "source": [
    "### 네이버 스팸 메일"
   ]
  },
  {
   "cell_type": "code",
   "execution_count": 58,
   "metadata": {},
   "outputs": [],
   "source": [
    "driver = webdriver.Chrome()\n",
    "\n",
    "# driver.delete_all_cookies() # 모든 쿠키 삭제\n",
    "# driver.get_cookies() # 쿠키 확인\n",
    "driver.get('http://www.naver.com')\n",
    "\n",
    "# Login 되었을 때의 쿠기 넣어주기\n",
    "for k,v in coodiedict.items():\n",
    "    driver.add_cookie({'name' : k, 'value' : v, 'domain' : '.naver.com'})\n",
    "    \n",
    "driver.get('http://www.naver.com')\n",
    "\n",
    "driver.get('http://mail.naver.com')\n",
    "\n",
    "# spam mail menu click\n",
    "# menu = driver.find_element_by_css_selector('div.list_menu')[-1]\n",
    "# menu.find_element_by_css_selector('a[href]').click()\n",
    "\n",
    "# spam mail 가져오기\n",
    "# for _ in driver.find_element_by_xpath('//ol//li//div[#class=\"mTitle\"]'):\n",
    "#     print(_.text)\n",
    "\n",
    "# driver.close()"
   ]
  },
  {
   "cell_type": "markdown",
   "metadata": {},
   "source": [
    "### NAVER Log Out"
   ]
  },
  {
   "cell_type": "code",
   "execution_count": 122,
   "metadata": {},
   "outputs": [],
   "source": [
    "from selenium.common.exceptions import ElementNotVisibleException, ElementNotInteractableException, TimeoutException"
   ]
  },
  {
   "cell_type": "code",
   "execution_count": 123,
   "metadata": {},
   "outputs": [],
   "source": [
    "driver = webdriver.Chrome()\n",
    "\n",
    "# driver.delete_all_cookies() # 모든 쿠키 삭제\n",
    "# driver.get_cookies() # 쿠키 확인\n",
    "driver.get('http://www.naver.com')\n",
    "\n",
    "# Login 되었을 때의 쿠기 넣어주기\n",
    "for k,v in coodiedict.items():\n",
    "    driver.add_cookie({'name' : k, 'value' : v, 'domain' : '.naver.com'})\n",
    "    \n",
    "driver.get('http://www.naver.com')\n",
    "\n",
    "driver.get('http://mail.naver.com')"
   ]
  },
  {
   "cell_type": "code",
   "execution_count": 124,
   "metadata": {},
   "outputs": [
    {
     "data": {
      "text/plain": [
       "(False, True)"
      ]
     },
     "execution_count": 124,
     "metadata": {},
     "output_type": "execute_result"
    }
   ],
   "source": [
    "btn = driver.find_element_by_id('gnb_logout_button')\n",
    "btn.is_displayed(), btn.is_enabled()"
   ]
  },
  {
   "cell_type": "code",
   "execution_count": 125,
   "metadata": {},
   "outputs": [
    {
     "data": {
      "text/plain": [
       "(False, True)"
      ]
     },
     "execution_count": 125,
     "metadata": {},
     "output_type": "execute_result"
    }
   ],
   "source": [
    "btn = driver.find_element_by_id('gnb_logout_button')\n",
    "btn.is_displayed(), btn.is_enabled()"
   ]
  },
  {
   "cell_type": "code",
   "execution_count": 127,
   "metadata": {},
   "outputs": [],
   "source": [
    "from selenium.webdriver.support.ui import WebDriverWait\n",
    "\n",
    "# WebDriverWait() # driver wait 시키기\n",
    "\n",
    "wait = WebDriverWait(driver, 5, 0.5,\n",
    "                     (ElementNotVisibleException,ElementNotInteractableException,TimeoutException))"
   ]
  },
  {
   "cell_type": "code",
   "execution_count": 128,
   "metadata": {},
   "outputs": [
    {
     "name": "stdout",
     "output_type": "stream",
     "text": [
      "True True\n"
     ]
    }
   ],
   "source": [
    "try:\n",
    "    wait.until(lambda d:d.find_element_by_id('gnb_logout_button').is_displayed())\n",
    "    print(btn.is_displayed(), btn.is_enabled())\n",
    "except (ElementNotVisibleException,\n",
    "       ElementNotInteractableException,\n",
    "       TimeoutException) as e:\n",
    "    driver.find_element_by_css_selector('#gnb_my_namebox > a').click()\n",
    "    print(btn.is_displayed(), btn.is_enabled())\n",
    "finally:\n",
    "    pass # 이후 작업"
   ]
  },
  {
   "cell_type": "markdown",
   "metadata": {},
   "source": [
    "### 예제 사이트"
   ]
  },
  {
   "cell_type": "code",
   "execution_count": 44,
   "metadata": {},
   "outputs": [],
   "source": [
    "driver = webdriver.Chrome()\n",
    "driver.get('http://example.webscraping.com/places/default/search')\n",
    "driver.find_element_by_xpath('//input[@id=\"search_term\"]').clear()\n",
    "driver.find_element_by_xpath('//input[@id=\"search_term\"]').send_keys('korea')\n",
    "driver.find_element_by_xpath('//input[@id=\"search\"]').click()"
   ]
  },
  {
   "cell_type": "code",
   "execution_count": 45,
   "metadata": {},
   "outputs": [],
   "source": [
    "for _ in driver.find_elements_by_xpath('//div[@id=\"results\"]//td/div'):\n",
    "    print(_.find_element_by_css_selector('a').get_attribute('href'))\n",
    "    print(_.find_element_by_css_selector('img').get_attribute('src'))\n",
    "    print(_.find_element_by_css_selector('a').text.strip())\n",
    "    print()"
   ]
  },
  {
   "cell_type": "markdown",
   "metadata": {},
   "source": [
    "### 논문 사이트"
   ]
  },
  {
   "cell_type": "code",
   "execution_count": 56,
   "metadata": {},
   "outputs": [
    {
     "name": "stdout",
     "output_type": "stream",
     "text": [
      "The neuroinvasive potential of SARS-CoV2 may play a role in the respiratory failure of COVID-19 patients.\n",
      "[Strategies for vaccine development of COVID-19].\n",
      "COVID-19 (Novel Coronavirus 2019) - recent trends.\n",
      "COVID-19 epidemic: Disease characteristics in children.\n",
      "Understanding of COVID-19 based on current evidence.\n",
      "Unique epidemiological and clinical features of the emerging 2019 novel coronavirus pneumonia (COVID-19) implicate special control measures.\n",
      "Perspectives on monoclonal antibody therapy as potential therapeutic intervention for Coronavirus disease-19 (COVID-19).\n",
      "What dentists need to know about COVID-19.\n",
      "Outcomes in Patients with COVID-19 Infection Taking ACEI/ARB.\n",
      "Current Status of Epidemiology, Diagnosis, Therapeutics, and Vaccines for Novel Coronavirus Disease 2019 (COVID-19).\n",
      "Review of the Clinical Characteristics of Coronavirus Disease 2019 (COVID-19).\n",
      "COVID-19: a review.\n",
      "[Analysis of the pregnancy outcomes in pregnant women with COVID-19 in Hubei Province].\n",
      "Coronavirus disease 2019 (COVID-19): current status and future perspectives.\n",
      "Nervous system involvement after infection with COVID-19 and other coronaviruses.\n",
      "Pulmonary Pathology of Early-Phase 2019 Novel Coronavirus (COVID-19) Pneumonia in Two Patients With Lung Cancer.\n",
      "The reproductive number of COVID-19 is higher compared to SARS coronavirus.\n",
      "COVID-19: Learning from Lessons To Guide Treatment and Prevention Interventions.\n",
      "COVID-19: The outbreak caused by a new coronavirus.\n",
      "The epidemiology, diagnosis and treatment of COVID-19.\n"
     ]
    }
   ],
   "source": [
    "driver = webdriver.Chrome()\n",
    "driver.get('https://pubmed.ncbi.nlm.nih.gov')\n",
    "driver.find_element_by_id('id_term').clear()\n",
    "driver.find_element_by_id('id_term').send_keys('COVID-19')\n",
    "driver.find_element_by_class_name('search-btn').click()\n",
    "\n",
    "for _ in range(2):\n",
    "    sleep(1)\n",
    "    driver.find_element_by_css_selector('.results-amount + button').click()\n",
    "\n",
    "for _ in driver.find_elements_by_css_selector('a.docsum-title'):\n",
    "    print(_.text)"
   ]
  },
  {
   "cell_type": "markdown",
   "metadata": {},
   "source": [
    "### YouTube"
   ]
  },
  {
   "cell_type": "markdown",
   "metadata": {},
   "source": [
    "ElementNotInteractableException => 진짜로 눈에 안보일때(있지만 가려진 경우)\n",
    "ElementNotVisibleException => 코드에는 있으나 화면에 없을 때"
   ]
  },
  {
   "cell_type": "code",
   "execution_count": 93,
   "metadata": {},
   "outputs": [],
   "source": [
    "driver = webdriver.Chrome()\n",
    "query = '인디'\n",
    "driver.get('https://www.youtube.com/results?search_query=' + query)\n",
    "\n",
    "video = []\n",
    "for _ in driver.find_elements_by_css_selector('ytd-video-renderer'):\n",
    "#     video = _.find_element_by_css_selector('a')\n",
    "#     desc = _.find_element_by_css_selector('a#video-title')\n",
    "#     print(video.get_attribute('href'))\n",
    "#     print(desc.get_attribute('aria-label'))\n",
    "    \n",
    "    video.append(_.find_element_by_css_selector('a').get_attribute('href'))"
   ]
  },
  {
   "cell_type": "code",
   "execution_count": 94,
   "metadata": {},
   "outputs": [],
   "source": [
    "driver.get(video[0])"
   ]
  },
  {
   "cell_type": "code",
   "execution_count": 95,
   "metadata": {},
   "outputs": [],
   "source": [
    "dom = BeautifulSoup(driver.page_source, 'html.parser')"
   ]
  },
  {
   "cell_type": "code",
   "execution_count": 97,
   "metadata": {},
   "outputs": [
    {
     "data": {
      "text/plain": [
       "'blob:https://www.youtube.com/e47eb069-1848-4d5a-8c34-b6798ce96245'"
      ]
     },
     "execution_count": 97,
     "metadata": {},
     "output_type": "execute_result"
    }
   ],
   "source": [
    "dom.select_one('video')['src']"
   ]
  },
  {
   "cell_type": "code",
   "execution_count": 103,
   "metadata": {},
   "outputs": [],
   "source": [
    "from urllib.request import urlopen, Request\n",
    "\n",
    "req = Request(dom.select_one('video')['src'], headers = headers)\n",
    "resp = urlopen(req)"
   ]
  },
  {
   "cell_type": "code",
   "execution_count": 109,
   "metadata": {},
   "outputs": [],
   "source": [
    "resp = request('GET', 'https://r5---sn-ab02a0nfpgxapox-bh2ls.googlevideo.com/videoplayback?expire=1595495410&ei=kv8YX5rVFYOPlQTZ6a-AAw&ip=182.221.110.241&id=o-AC2im0XDCppp3OAI8Lz_M88E5rczwizyBVZMRCPCio9T&itag=251&source=youtube&requiressl=yes&mh=Jp&mm=31%2C29&mn=sn-ab02a0nfpgxapox-bh2ls%2Csn-ab02a0nfpgxapox-jwwe7&ms=au%2Crdu&mv=m&mvi=5&pl=26&usequic=no&initcwndbps=2577500&vprv=1&mime=audio%2Fwebm&gir=yes&clen=55442009&dur=3148.581&lmt=1587958430412590&mt=1595473648&fvip=5&keepalive=yes&fexp=23883098&c=WEB&txp=5311222&sparams=expire%2Cei%2Cip%2Cid%2Citag%2Csource%2Crequiressl%2Cvprv%2Cmime%2Cgir%2Cclen%2Cdur%2Clmt&lsparams=mh%2Cmm%2Cmn%2Cms%2Cmv%2Cmvi%2Cpl%2Cusequic%2Cinitcwndbps&lsig=AG3C_xAwRQIhAJLZMJe1pM4j2YfzhnirAnJmP9543p_Bn8dAb6hWLIJ3AiBNYSYw533sfrBHLYGQgg0-uuF1q-EFWmcC3Yk0eXUluA%3D%3D&alr=yes&sig=AOq0QJ8wRgIhAKOmrD9THzHi7OBRPfXeOv3BRlC8h4lYBF8ikZF0PHGQAiEAnub3jednySxjkVBHRXUO7Y-CpuyJDLY6f1TcCq_yO9c%3D&cpn=fjlJp2bIH-mbs6FB&cver=2.20200721.01.02&range=1999415-2519444&rn=11&rbuf=99088')"
   ]
  },
  {
   "cell_type": "code",
   "execution_count": 112,
   "metadata": {},
   "outputs": [],
   "source": [
    "url = 'https://r5---sn-ab02a0nfpgxapox-bh2ls.googlevideo.com/videoplayback?expire=1595495410&ei=kv8YX5rVFYOPlQTZ6a-AAw&ip=182.221.110.241&id=o-AC2im0XDCppp3OAI8Lz_M88E5rczwizyBVZMRCPCio9T&itag=397&aitags=133%2C134%2C135%2C136%2C137%2C160%2C242%2C243%2C244%2C247%2C248%2C278%2C394%2C395%2C396%2C397%2C398%2C399&source=youtube&requiressl=yes&mh=Jp&mm=31%2C29&mn=sn-ab02a0nfpgxapox-bh2ls%2Csn-ab02a0nfpgxapox-jwwe7&ms=au%2Crdu&mv=m&mvi=5&pl=26&usequic=no&initcwndbps=2577500&vprv=1&mime=video%2Fmp4&gir=yes&clen=23807536&dur=3148.545&lmt=1588138394585759&mt=1595473648&fvip=5&keepalive=yes&fexp=23883098&c=WEB&txp=5311222&sparams=expire%2Cei%2Cip%2Cid%2Caitags%2Csource%2Crequiressl%2Cvprv%2Cmime%2Cgir%2Cclen%2Cdur%2Clmt&lsparams=mh%2Cmm%2Cmn%2Cms%2Cmv%2Cmvi%2Cpl%2Cusequic%2Cinitcwndbps&lsig=AG3C_xAwQwIgfqZh3mCgMzG8qWpT779VmulSqzcvwR-NO3oUgF0-EMsCH1NiFFFCwg8E-5QoYhV1yIcDl9HeNF2mfncJCZBJDzo%3D&alr=yes&sig=AOq0QJ8wRAIgKPdKr5T8xP_rCYMQZ50nqeUXpd81SDXUpjIigzmjxS4CIBbfSz1YCWKeBsuiaVxPobo2wB5cU7WdDdbquxA032mA&cpn=fjlJp2bIH-mbs6FB&cver=2.20200721.01.02&rn=12&rbuf=119674&range='\n",
    "with open('test.mp4', 'wb') as f:\n",
    "    for _ in range(100):\n",
    "        resp = request('GET',\n",
    "                       url = url + '-'.join([str(_*100000), str((_+1)*100000)]),\n",
    "                      headers=headers)\n",
    "        f.write(resp.content)"
   ]
  },
  {
   "cell_type": "markdown",
   "metadata": {},
   "source": [
    "### Preprocessing"
   ]
  },
  {
   "cell_type": "markdown",
   "metadata": {},
   "source": [
    "- 형태소 분석\n",
    "    - 토큰분리, 어간 추출, 품사 부착, 색인, 벡터화\n",
    "- 구문 분석\n",
    "    - 문장 경계 인식, 구문분석, 공기어, 개체명 사전 구축, 개채명 인식(PLOT, 수치, 외국어 한글 표기)\n",
    "- 의미 분석\n",
    "    - 대용어 해소(대명사, 두문자어, 약어, 수치), 의미 중의성 해결(동명이인)\n",
    "- 담론 분석\n",
    "    - 분류, 군집, 중복, 요약, 가중치, 순위화, 토픽 모델링, 이슈 트래킹, 평판분석, 감성분석, 복합논증분석"
   ]
  },
  {
   "cell_type": "code",
   "execution_count": 131,
   "metadata": {},
   "outputs": [
    {
     "data": {
      "text/plain": [
       "[('설치', 'NNG'), ('여부', 'NNG'), ('확인', 'NNG'), ('벌', 'VV')]"
      ]
     },
     "execution_count": 131,
     "metadata": {},
     "output_type": "execute_result"
    }
   ],
   "source": [
    "from konlpy.tag import Kkma\n",
    "Kkma().pos('설치여부 확인법')"
   ]
  },
  {
   "cell_type": "code",
   "execution_count": 132,
   "metadata": {},
   "outputs": [
    {
     "data": {
      "text/plain": [
       "[('you', 'PRP'), ('need', 'VBP'), ('python.', 'NNS')]"
      ]
     },
     "execution_count": 132,
     "metadata": {},
     "output_type": "execute_result"
    }
   ],
   "source": [
    "from nltk.tag import pos_tag\n",
    "pos_tag('you need python.'.split(' '))"
   ]
  },
  {
   "cell_type": "code",
   "execution_count": 133,
   "metadata": {},
   "outputs": [],
   "source": [
    "# nltk.download('gutenberg', 'stopwords', 'punkt')"
   ]
  },
  {
   "cell_type": "code",
   "execution_count": 145,
   "metadata": {},
   "outputs": [
    {
     "data": {
      "text/plain": [
       "(16823, 158167)"
      ]
     },
     "execution_count": 145,
     "metadata": {},
     "output_type": "execute_result"
    }
   ],
   "source": [
    "from nltk.corpus import gutenberg\n",
    "\n",
    "# print(gutenberg.open(gutenberg.fileids()[0]).read())\n",
    "corpus = gutenberg.open(gutenberg.fileids()[0]).read()\n",
    "\n",
    "len(corpus.splitlines()), len(corpus.split())"
   ]
  },
  {
   "cell_type": "code",
   "execution_count": 146,
   "metadata": {},
   "outputs": [],
   "source": [
    "# Tokenizing => 비정형데이터를 Token 단위로 나누는 방법\n",
    "# 1. Sentence Tokenizing\n",
    "# 2. Word(어절) Tokenizing\n",
    "from nltk.tokenize import sent_tokenize\n",
    "from nltk.tokenize import word_tokenize\n",
    "from nltk.tokenize import TweetTokenizer\n",
    "from nltk.tokenize import regexp_tokenize"
   ]
  },
  {
   "cell_type": "code",
   "execution_count": 151,
   "metadata": {},
   "outputs": [
    {
     "data": {
      "text/plain": [
       "(7493, 191785, 193228, 161983)"
      ]
     },
     "execution_count": 151,
     "metadata": {},
     "output_type": "execute_result"
    }
   ],
   "source": [
    "(len(sent_tokenize(corpus)), \n",
    "len(word_tokenize(corpus)), \n",
    "len(TweetTokenizer().tokenize(corpus)),\n",
    "len(regexp_tokenize(corpus, r'\\b(\\w+)\\b')))"
   ]
  },
  {
   "cell_type": "code",
   "execution_count": 167,
   "metadata": {},
   "outputs": [],
   "source": [
    "data = '''\n",
    "블랙핑크 멤버 4인 컷 아래 남겨진 물음표는 \n",
    "음악 팬들의 궁금증을 더욱 자극했다. \n",
    "지난 5월 세계적인 팝스타 레이디 가가와의 협업곡으로 \n",
    "글로벌 음악 시장을 뒤흔들었던\n",
    "블랙핑크의 파격적인 콜라보레이션을 짐작할 수 있는 대목.\n",
    "'''"
   ]
  },
  {
   "cell_type": "code",
   "execution_count": 171,
   "metadata": {},
   "outputs": [
    {
     "data": {
      "text/plain": [
       "['\\n블랙핑크 멤버 4인 컷 아래 남겨진 물음표는 \\n음악 팬들의 궁금증을 더욱 자극했다.',\n",
       " '지난 5월 세계적인 팝스타 레이디 가가와의 협업곡으로 \\n글로벌 음악 시장을 뒤흔들었던\\n블랙핑크의 파격적인 콜라보레이션을 짐작할 수 있는 대목.']"
      ]
     },
     "execution_count": 171,
     "metadata": {},
     "output_type": "execute_result"
    }
   ],
   "source": [
    "# \\n 기준\n",
    "data.splitlines()\n",
    "\n",
    "# 문장부호 문장을 분리\n",
    "# ., !, ? => 분리\n",
    "# 문장 중간에 나오면 분리하지 않음\n",
    "# 문어체 -> 가능\n",
    "sent_tokenize(data)"
   ]
  },
  {
   "cell_type": "code",
   "execution_count": 186,
   "metadata": {},
   "outputs": [
    {
     "name": "stdout",
     "output_type": "stream",
     "text": [
      "32\n",
      "32\n",
      "30\n"
     ]
    }
   ],
   "source": [
    "print(len(word_tokenize(data))) # 동양 ex) ^^ O / :) X\n",
    "print(len(TweetTokenizer().tokenize(data))) # 서양 ex) ^^ X / :) O\n",
    "print(len(regexp_tokenize(data, r'\\b(\\w+)\\b')))"
   ]
  },
  {
   "cell_type": "code",
   "execution_count": 187,
   "metadata": {},
   "outputs": [],
   "source": [
    "from nltk import Text\n",
    "\n",
    "emma = Text(word_tokenize(corpus))"
   ]
  },
  {
   "cell_type": "code",
   "execution_count": 194,
   "metadata": {},
   "outputs": [
    {
     "data": {
      "text/plain": [
       "(191785, 8406)"
      ]
     },
     "execution_count": 194,
     "metadata": {},
     "output_type": "execute_result"
    }
   ],
   "source": [
    "len(emma), len(set(emma)) # 고유한 단어 갯수"
   ]
  },
  {
   "cell_type": "code",
   "execution_count": 195,
   "metadata": {},
   "outputs": [
    {
     "data": {
      "text/plain": [
       "[(',', 12016),\n",
       " ('.', 6355),\n",
       " ('to', 5125),\n",
       " ('the', 4844),\n",
       " ('and', 4653),\n",
       " ('of', 4272),\n",
       " ('I', 3177),\n",
       " ('--', 3100),\n",
       " ('a', 3001),\n",
       " (\"''\", 2452)]"
      ]
     },
     "execution_count": 195,
     "metadata": {},
     "output_type": "execute_result"
    }
   ],
   "source": [
    "emma.vocab().most_common(10)"
   ]
  }
 ],
 "metadata": {
  "kernelspec": {
   "display_name": "Python 3",
   "language": "python",
   "name": "python3"
  },
  "language_info": {
   "codemirror_mode": {
    "name": "ipython",
    "version": 3
   },
   "file_extension": ".py",
   "mimetype": "text/x-python",
   "name": "python",
   "nbconvert_exporter": "python",
   "pygments_lexer": "ipython3",
   "version": "3.7.3"
  }
 },
 "nbformat": 4,
 "nbformat_minor": 2
}
