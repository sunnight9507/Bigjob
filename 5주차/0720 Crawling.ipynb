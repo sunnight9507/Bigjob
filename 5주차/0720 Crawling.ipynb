{
 "cells": [
  {
   "cell_type": "code",
   "execution_count": 1,
   "metadata": {},
   "outputs": [],
   "source": [
    "from requests import request\n",
    "from requests.compat import urljoin, urlparse\n",
    "from requests.exceptions import HTTPError\n",
    "from urllib.robotparser import RobotFileParser\n",
    "from bs4 import BeautifulSoup\n",
    "from time import sleep"
   ]
  },
  {
   "cell_type": "code",
   "execution_count": 2,
   "metadata": {},
   "outputs": [],
   "source": [
    "def canfetch(url, agent='*', path='/'):\n",
    "    robot = RobotFileParser(urljoin(url, '/robots.txt'))\n",
    "    robot.read()\n",
    "    return robot.can_fetch(agent, urlparse(url)[2])\n",
    "    \n",
    "def download(url, params={}, headers={}, method='GET', limit=3):\n",
    "    if canfetch(url) == False:\n",
    "        print('[Error] ' + url)\n",
    "#     else: # 실제 수집할 때, 제약사항이 많으므로 여기선 잠시 해제\n",
    "    try:\n",
    "        resp = request(method, url,\n",
    "               params=params if method=='GET' else {},\n",
    "               data=params if method=='POST' else {},\n",
    "               headers=headers)\n",
    "        resp.raise_for_status()\n",
    "    except HTTPError as e:\n",
    "        if limit > 0 and e.response.status_code >= 500:\n",
    "            print(limit)\n",
    "            time.sleep(1) # => random\n",
    "            resp = download(url, params, headers, method, limit-1)\n",
    "        else:\n",
    "            print('[{}] '.format(e.response.status_code) + url)\n",
    "            print(e.response.status_code)\n",
    "            print(e.response.reason)\n",
    "            print(e.response.headers)\n",
    "    return resp"
   ]
  },
  {
   "cell_type": "markdown",
   "metadata": {},
   "source": [
    "### NAVER"
   ]
  },
  {
   "cell_type": "code",
   "execution_count": 3,
   "metadata": {},
   "outputs": [
    {
     "name": "stdout",
     "output_type": "stream",
     "text": [
      "[Error] https://search.naver.com/search.naver\n"
     ]
    }
   ],
   "source": [
    "url = 'https://search.naver.com/search.naver'\n",
    "params = {\n",
    "    'sm':'top_hty',\n",
    "    'fbm':0,\n",
    "    'ie':'utf8',\n",
    "    'query':''\n",
    "}\n",
    "headers = {\n",
    "    'user-agent' : 'Mozilla/5.0 (Windows NT 10.0; Win64; x64) AppleWebKit/537.36 (KHTML, like Gecko) Chrome/83.0.4103.116 Safari/537.36'\n",
    "}\n",
    "params['query'] = '파 이 썬'\n",
    "resp = download(url, params, headers, 'GET')\n",
    "dom = BeautifulSoup(resp.text, 'html.parser')"
   ]
  },
  {
   "cell_type": "code",
   "execution_count": 4,
   "metadata": {},
   "outputs": [
    {
     "name": "stdout",
     "output_type": "stream",
     "text": [
      "https://www.python.org/ Welcome to Python.org\n",
      "https://blog.naver.com/icd900/221318575090 국산 중형차 추천 흰 파 썬\n",
      "https://blog.naver.com/sanaiauction/221407173464 2015년형 그랜저HG 240모던 흰파썬 소개합니다!\n",
      "https://blog.naver.com/xmflxhs8568?Redirect=Log&logNo=221532773930 레인보우 썬팅 전면,측.후면 12% 파.썬 30%\n",
      "https://blog.naver.com/choyooney?Redirect=Log&logNo=221408338615 늦잠,티타임,GA과제,파에썬\n",
      "https://blog.naver.com/sanaiauction?Redirect=Log&logNo=221407173464 2015년형 그랜저HG 240모던 흰파썬 소개합니다!\n",
      "https://blog.naver.com/va85hgnmvcl?Redirect=Log&logNo=221687347280 [미얀마 만달레이 호텔] 썬 파 트래블 & 투어 인접한 더...\n",
      "https://kin.naver.com/qna/detail.nhn?d1id=1&dirId=10402&docId=357557482&qb=7YyMIOydtCDsjaw=&enc=utf8§ion=kin&rank=1&search_sort=0&spq=0  파이썬 if 문에서 and로 연결하는 방법 \n",
      "https://kin.naver.com/qna/detail.nhn?d1id=1&dirId=10402&docId=342332721&qb=7YyMIOydtCDsjaw=&enc=utf8§ion=kin&rank=2&search_sort=0&spq=0  파이썬 질문 ㅜㅜㅜ \n",
      "https://kin.naver.com/qna/detail.nhn?d1id=13&dirId=1303010501&docId=36135662&qb=7YyMIOydtCDsjaw=&enc=utf8§ion=kin&rank=3&search_sort=0&spq=0  메이플 법사 2차 썬이좋나요 아님 콜이 좋나요? \n",
      "https://vibe.naver.com/track/21528972 Python\n",
      "https://vibe.naver.com/track/14934534 Python (Original Mix)\n",
      "https://vibe.naver.com/track/40422635 Python\n",
      "https://vibe.naver.com/track/18957021 Python (Feat. rag)\n",
      "https://vibe.naver.com/track/19412695 q.e.p.d\n"
     ]
    }
   ],
   "source": [
    "for _ in dom.find_all('ul', {'class' : 'type01'}):\n",
    "    for a in [dt.find('a') for dt in _.find_all('dt')]:\n",
    "        print(a['href'], a.text)"
   ]
  },
  {
   "cell_type": "markdown",
   "metadata": {},
   "source": [
    "### Daum"
   ]
  },
  {
   "cell_type": "code",
   "execution_count": 5,
   "metadata": {},
   "outputs": [
    {
     "name": "stdout",
     "output_type": "stream",
     "text": [
      "[Error] https://search.daum.net/search\n"
     ]
    }
   ],
   "source": [
    "url = 'https://search.daum.net/search'\n",
    "params = {\n",
    "    'w':'tot',\n",
    "    'DA':'YZR',\n",
    "    't__nil_searchbox':'btn',\n",
    "    'sug':'',\n",
    "    'sugo':'',\n",
    "    'sq':'',\n",
    "    'o':'',\n",
    "    'q':''\n",
    "}\n",
    "params['q'] = '파 이 썬'\n",
    "resp = download(url, params, headers, 'GET')\n",
    "dom = BeautifulSoup(resp.text, 'html.parser')"
   ]
  },
  {
   "cell_type": "code",
   "execution_count": 6,
   "metadata": {},
   "outputs": [
    {
     "name": "stdout",
     "output_type": "stream",
     "text": [
      "https://keyword.ad.daum.net/short/clk?q=u.t3GAbqicNTvXihd4KIyTXGu7vitxYz5.WS8acgGKsEFFnUtKNKyPsCoxAVZ2.NSO4F7aYAODXggVTKzFDBS3jPMKK2UgM-yZWTA3vF_KTNoEOB8o4s5Y8jTd7onrJnPlb6n9hXSI3QS1BFd.O8Qh7TG-3rqRetVNFhgpLgodmv94IvMOAS6MLLsR_OZ-SGqT7zGfk.c_.E9mMLGijNNDpfeQ5oXNPvF2mIfzvrok3gzQ00&s=http%3A%2F%2Fwww.itbank21.com%2F%3FDMKW%3D%25ED%258C%258C%25EC%259D%25B4%25EC%258D%25AC%26DMSKW%3D%25ED%258C%258C%25EC%259D%25B4%25EC%258D%25AC%26DMCOL%3DPM KG아이티뱅크 교육문의 김서균\n",
      "https://keyword.ad.daum.net/short/clk?q=u.-dRs7qWwxkc578ceq61giNHMIKtOc3rAKCDxnvpwxlZI5Jfj4hE4Cm8jCvoI3AKYdmPP.AgDkSGbOVYm.r-YmUJmXscvAQQ2O7.WsLUT9O5jdNJ4qB84Eic4Vm5st6_SVV6l7mmSDybJeJAC3O2nXt8kqXezCjoGwV3OypzEyER-vqGm5XGSsi1y-etcauiCPrDtFTU6NsgbZmq1cMfXq9ndK8iMmuN1v1cc5yEA3lrrUAbUGLHb-LhP3LefnSMQfGvl9Nt6Smx-EfeA9fKrnxDktuqmDYMlrx66kOYT.t1XVx9FH5YXX_lg3NYWIyjn_t5FyMu7-oXGT39WMo2K-qse1i88LzS3w0&s=https%3A%2F%2Fkmong.com%2Fcategory%2F605%3Futm_source%3Dpc_daum%26utm_medium%3Dcpc%26utm_campaign%3D6%26utm_content%3Dutmpage%26utm_term%3D%ED%8C%8C%EC%9D%B4%EC%8D%AC%26utm_group%3D605%26utm_page%3DY%26DMKW%3D%25ED%258C%258C%25EC%259D%25B4%25EC%258D%25AC%26DMSKW%3D%25ED%258C%258C%25EC%259D%25B4%25EC%258D%25AC%26DMCOL%3DPM 프로그램개발 전문가, 크몽\n",
      "https://keyword.ad.daum.net/short/clk?q=vAa-.W14.zYvu31LSaF1TG-uNswqAsaYVQPcsLnUPtk9KqY4RNVuk3uIzyhFiLKB7xCR9rtcu-.l9lGJbq4OU1WuOB-l9aFbIAnMM.cAiO3x3QBqauV6.98YSa1C5uiHlAyutfHNl5yK9i6p9EimBjQswbQ4w9X6r9hUbcCOwDRfc6MU6r6FahGvODXV33cOPOgGkOvwUOz9jIyPqbQP1kmlhUNaG5OWdk3eF_61TRkMs4W-ORwQFIeg&s=http%3A%2F%2Fwww.no1-itbank.com%2F%3FDMKW%3D%25ED%258C%258C%25EC%259D%25B4%25EC%258D%25AC%26DMSKW%3D%25ED%258C%258C%25EC%259D%25B4%25EC%258D%25AC%26DMCOL%3DPM KG아이티뱅크 파이썬교육 박연주\n",
      "https://keyword.ad.daum.net/short/clk?q=vAldjYfHAcOWzJDt_8_jpfcMdwSc9dX3qnCahqrkml3RWXgGxZEUy2EXVQUKAJ9NlpPKBOwTIUbqJjz.bLtxtHEAygfu7i28vHo81AsjMSz5UAB3qfnqMjIgKtTcXGT_DaaGus_1sjHrpmMtLR7634aW96.Fn2WWykZC2iV6hunVvcZm3u1W7C.q7Xmfr5zYHI--rzyvUj4McxuViT9HIU8MtLgM2CXp.QNfD5dVK5Ba_XmstHEJaDHz79pI1PIE9SCzKFrNPSBoehBIaBAij2vh7DseW7-P578x7KEhsu2ZbCCDiUmjWNQMQl4joodvMuVN5zQL84_x8rphg5sDr5LsdqfWqU8vEi4UFA7zoZD6mXgmog3ksnaOBBMCJZCZeNmbID2CXwxm8Q00&s=http%3A%2F%2Fwww.uniwise.co.kr%2FuniwiseWeb%2Flecture%2FmovieLectureList.html%3FsubNo%3D3%26searchCategoryCode%3D003%26searchSubjectCode%3D1320%26SUBJECT_SJT_CD%3D1320%26leftMenuLType%3DT002%26lecKType%3DD%26utm_source%3Ddaum%26utm_medium%3Dcpc%26DMKW%3D%25ED%258C%258C%25EC%259D%25B4%25EC%258D%25AC%26DMSKW%3D%25ED%258C%258C%25EC%259D%25B4%25EC%258D%25AC%26DMCOL%3DPM 대학인강 대표 유니와이즈\n",
      "https://keyword.ad.daum.net/short/clk?q=vA75CTBhASp7vQ5aGb.rlBJuuawrs64iyNfYajieZJKCYTk5CE67gcDXfQjtR1sADd6wDLNQme5.6HOkK1slA_U69l-3pjiIsV5bptdhHfpH3geucS4mMt8tSMOebo4HEoCpcP4lQB37kFftY.jrFXeLWpdWCgxb.ExhbeeC-_Dy27bFiL138OMT&s=http%3A%2F%2Fhackercollege.co.kr KG ITBANK 김경원\n",
      "https://keyword.ad.daum.net/short/clk?q=vBMzKxrfTEejpdO9e2CobowXypiwcagUdLhFkJpwzAwplHOKluDfMUpfKdGEtJXeAa_pDrgapvhxic5s1TmmFeYXFzwUU2-VUU.y4Sal2OsV-9eIfJcvlD3orTICYYwSy8.mAp.N2RMC--.ngRstdjprfUGf_9HoP-IgIu8mKQB7qWFV4N9DXVsBVI89VofrmvPutcH8oRLNJ1WMi1FypmqT.vGtkE1IYTBLWt4ShVrqvWJQbkX5Uk4d&s=http%3A%2F%2Fsinchon.koreaisacademy.com%2F%3FDMKW%3D%25ED%258C%258C%25EC%259D%25B4%25EC%258D%25AC%26DMSKW%3D%25ED%258C%258C%25EC%259D%25B4%25EC%258D%25AC%26DMCOL%3DPM 코리아IT아카데미 신촌점\n",
      "https://keyword.ad.daum.net/short/clk?q=vBva6Pt_J5xFarVw86u1iDjBwxATm6CvyWaYJXGW5-KmwwW29EDiB7d9ifwjnAmQtUCK9.DRDjBISg6sWDqUWUWWTro6zq2TJdvJ1vAUQiN1ITDXFM1sy4gVrfnzm_1spwnckGRlgsJi.U3Utq-ZN5sTH6BoKVmqne.lL93wYcpLi9EqaFA2-U6N&s=http%3A%2F%2Fdaegu.koreaisacademy.com 코리아IT아카데미 대구점\n",
      "https://keyword.ad.daum.net/short/clk?q=vCNq_DNC4Rx2AWHxSmQmUhUAxe5l1YmJEj3z35yIdGCqF-KjwdMqWysgvgdR6ZWLs5fR5ne8fd3o5jhvq1NlLfVFqy4ooeg1DQuN23zkZ_mr5vdC6125sbmzPWflu9EEkDCwLoxD3bjb8hWBy1e3It5mtQJ-7O97lUsz3W6bKCi35HCPFTCFMFSvvgMX_9a3ehijgdAivJ2SjhOHuXbn1IuqHs1SH56OVoLCjzM91UXE2A00&s=https%3A%2F%2Fit.ezenac.co.kr%2F%3FDMKW%3D%25ED%258C%258C%25EC%259D%25B4%25EC%258D%25AC%26DMSKW%3D%25ED%258C%258C%25EC%259D%25B4%25EC%258D%25AC%26DMCOL%3DPM 이젠IT아카데미학원\n",
      "https://keyword.ad.daum.net/short/clk?q=vCcEH._IFQNdF8UrLWtUWsZC7.d9esbrS7TQgeqVYJfetEEwlAk5TxpM8dPJ1nMnbL-zNY5snb.9S4XLPRN8CbVPyST2rv4-xa1B_YrS5mwhUGxh2tRSfGCTxmrsDxVAkHQi5IRUBNb9itLRyMLUNZfwIJadNepGYydfJc8EFCtbTFPHg7rj3Fpc4pUO_Rf84dYPoMxrBhaIJMNUka9jiPjp6UZFuGgg5fmE_AGaQCQMI8v91M8-xDO9&s=http%3A%2F%2Fwww.koreaisacademy.com%2F%3FDMKW%3D%25ED%258C%258C%25EC%259D%25B4%25EC%258D%25AC%26DMSKW%3D%25ED%258C%258C%25EC%259D%25B4%25EC%258D%25AC%26DMCOL%3DPM 국가인증 코리아 IT아카데미\n",
      "https://keyword.ad.daum.net/short/clk?q=vDFO86.VTnKWLzvRK_32ydT_kbU7mUJSA_azvdiD.j6l6MeZi1.RR6UKEf8iZK4vqLuXA2Lg3LP4qNwV-DFgbFybe767dM4jN.nw3pt9N9lbMX_fs69j_XQ57PDRvAJHjTFQCyKQqKjEhySBfVZbmq63Ebjdy9hZ9qknNx6bE4YbCbw2ebS5pPRLoItWNZFafZW8CGQQuhELv6KSh_sIpaJ-PcqrR--Iscr3X.XUhzzwjSA_VmcbREMGWjivPx9DreBVsZy1tgcW4fmq5sFRMIKpfKVJEPe-3qufD-zc4AycHc_ePZ9N-G2T2ysSZvOC5iw0&s=https%3A%2F%2Fsoomgo.com%2Fhire%2F%25ED%2594%2584%25EB%25A1%259C%25EA%25B7%25B8%25EB%259E%2598%25EB%25B0%258D%3Futm_source%3Ddaum%26utm_medium%3Dcpc%26utm_campaign%3D%25ED%2594%2584%25EB%25A1%259C%25EA%25B7%25B8%25EB%259E%2598%25EB%25B0%258D%25EC%25BD%2594%25EB%2594%25A9%26utm_content%3Dlesson%26utm_term%3D%25ED%258C%258C%25EC%259D%25B4%25EC%258D%25AC 파이썬 추천, 숨고\n",
      "https://keyword.ad.daum.net/short/clk?q=iKHRdb8QhOVEVTn7G1my8YjWlM8ij4LhpQTFUCP-TwCbKjzWOyLsEiBvKiSgur_uAu52cXoOKpkyTWtqz3MQFUzEViH4ukkB__J5cjZ65-WJ2PKaj21XqRkaFpkHWNTs_zucCvS664Zn1pKwCpjSYCKSU_yrAYY2sNg4oHQcbMRMPlQaGaixS7ttYPvzyYCzo2eEFXWeNEpDZg00&s=http%3A%2F%2Fwww.it-bankac.com%2Fcurriculum%2Fsub.php%3Fseq%3D48 아이티뱅크 교육상담 성혜리\n",
      "https://keyword.ad.daum.net/short/clk?q=iKYAdauqBzFDNFFsX2LM-9dKgrZK7KVpAOW7Vq5E6vxI5-S-SU9ubB-ipXqid8afWOWZGAxUBOWCtaHD3qH9-JaoR.iwCX.LcGUCZWUE1SFFVK5NytiFFRZSoqC6lpo4PU.I5Rqjb5m62y4uTh_fZE-PQw32hr3GmRGYzthZojv51cBX61QRmj.VtBWNSnQ.CyoPqSNWgcRFXM_qhlY5AO16o3IegdGHDWLUGfxOli5AOQ00&s=http%3A%2F%2FIT-BK.kr%2F%3FDMKW%3D%25ED%258C%258C%25EC%259D%25B4%25EC%258D%25AC%26DMSKW%3D%25ED%258C%258C%25EC%259D%25B4%25EC%258D%25AC%26DMCOL%3DWIDELINK KG아이티뱅크 수강문의 신규등록센터\n",
      "https://keyword.ad.daum.net/short/clk?q=iLVOU33JMoFBRJ6hsdhnUO5E7d_M3.efnFtumu1.8tHCdAuOYoB_6wEwKv9C-C7sCo9VaynBp3NSDB.rrYx81roOF5hkcD-wMsLiBTooHUvhhK4PDBKv7jMlXeAranjZQLHdVpvdrgwQGp6oP59_aPvG6NrpbbAqTusCPKlXigag6PEOQYFrTB4JB99wTU_QGiZ9vJSINMyrYHib2_BjeyIK_zab8eckZfSMIcQ4aBvpgHm-93s4W7u9Xk3M83A2DAV8eqSGJ2edaqhpOgiLGpg9GQtON-Z8ziM-F2.EEHYJ8M8y92gc2SKo9VsdIZl1G8K978Dt.YTiglEe6C6sp4Zt&s=https%3A%2F%2Fclass101.net%2Fproducts%2FxYzEJ7cXkumFGexsdAI6%3Futm_source%3Ddaum_sa_pc%26utm_medium%3Dpaid%26utm_campaign%3Dcareer%26utm_term%3D%7Bkeyword%7D%26DMKW%3D%25ED%258C%258C%25EC%259D%25B4%25EC%258D%25AC%26DMSKW%3D%25ED%258C%258C%25EC%259D%25B4%25EC%258D%25AC%26DMCOL%3DWIDELINK 파이썬 자동화 클래스101\n",
      "https://keyword.ad.daum.net/short/clk?q=iLmXsLoJRhVOHAizpeEiYgHfQSC9GP2kl-PCEFkdWZLkBiTlUO_SSrdEbg97_T.uzzjCj1VMkeqiLnWKLyEsGtquQX7xV1e8MIT.-f2pwTg4HSE7cERGQ9gNEQGLnFHj-HXWEuphD6P_I_5V.mdD8fB7.qeRuSK.iOSm8q9TVypn-_i2RpYG6XO4Ty2xB_zVolsMTQcVHzTGn.o4Z6Js_xtXiauoaVtUW.vL.GHpugQ6k2JMnPLAUKBYjzihGw_LNTMbWEg8.c9hW5ZLBg3zhIgF&s=http%3A%2F%2Fwww.itschool.co.kr%2Findex.php%3Fmid%3Dad%26voteid%3Ddaum%26DMKW%3D%25ED%258C%258C%25EC%259D%25B4%25EC%258D%25AC%26DMSKW%3D%25ED%258C%258C%25EC%259D%25B4%25EC%258D%25AC%26DMCOL%3DWIDELINK 쉽게배우는 인강 아이티스쿨\n",
      "https://keyword.ad.daum.net/short/clk?q=iLwrWOlwnC8V9pRWM33hFCy1lYCpnVHfeFG3gUIjjsqCbYP2FSxvG1D6b8mMqdLV8giCFmB1CZ-OEYsTJnNjUKZ4i9r2MV3iqkLTDI2nhBhXLJmvhp-qQe8O-CAkiYd_w_xtuEcZyUtjS.Iz2mSRngGgs5elGZd17kIji.NecWj-n9jl8hLPuCz5RXjvAPyQ3h796l2Bno2QYOe1bH3RmF6VciDGlPXWOgJkmb3X-ry5UJPus7gTnZdKjE7TmLb1TByT9gtHar6.-MYvkfjEa2R18s-sfT2BHlL1YahvB-jvCt93_OtNSvDe&s=https%3A%2F%2Feducast.com%2Fsearch%3Fq%3D%25ED%258C%258C%25EC%259D%25B4%25EC%258D%25AC%26utm_source%3Ddaum%26utm_medium%3Dcpc%26utm_campaign%3Dpaidcourse_searchad_edc_default%26content%3D%2525ED%25258C%25258C%2525EC%25259D%2525B4%2525EC%25258D%2525AC 파이썬 인강 에듀캐스트\n",
      "http://blog.naver.com/PostView.nhn?blogId=sunting68&logNo=30179146156 대 전 스 파 이 썬 팅 ^.^ 라세티 썬팅 입니다.\n",
      "http://blog.naver.com/PostView.nhn?blogId=zrlqgxwnac&logNo=220646329033 잘게 썬 이 파없느면 맛없는 라면\n",
      "http://blog.naver.com/PostView.nhn?blogId=jelmi&logNo=100194450933 서울근교 퍼블릭골프장 용인 써니포인트 컨트리골프클럽 (썬코스)\n",
      "http://foodntravel.tistory.com/20 [냉동재료]다진 파, 채썬 파\n",
      "?w=bookpage&bookId=4836717&tab=introduction&DA=LB2&q=%ED%8C%8C%20%EC%9D%B4%20%EC%8D%AC 파이썬(Python): 1학년\n",
      "?w=bookpage&bookId=1502532&tab=introduction&DA=LB2&q=%ED%8C%8C%20%EC%9D%B4%20%EC%8D%AC 파이썬(Python)(다양한 예제로 배우는 완전 쉬운)\n",
      "?w=bookpage&bookId=1297411&tab=introduction&DA=LB2&q=%ED%8C%8C%20%EC%9D%B4%20%EC%8D%AC 파이썬(열혈강의)(개정판 VER.2)\n",
      "http://cafe.daum.net/starcraftIOPS/EydJ/40?q=%ED%8C%8C%20%EC%9D%B4%20%EC%8D%AC OSL 2007 시즌1 공식맵 <파 이 썬>\n",
      "http://cafe.daum.net/dakesini/2vqp/341?q=%ED%8C%8C%20%EC%9D%B4%20%EC%8D%AC [칸파X이썬] 파라다이스 키스 - Lonely in gorgeous\n",
      "http://cafe.daum.net/ANIEDEN/RRp9/1584?q=%ED%8C%8C%20%EC%9D%B4%20%EC%8D%AC 그랜져HG3.0 LPG모던 흰색/파.썬(일반인가능!!)/13년(14...\n",
      "http://cafe.daum.net/ILOVEVG/Kp4L/2712?q=%ED%8C%8C%20%EC%9D%B4%20%EC%8D%AC 파.썬 또예약잡아낫습당ㅠ\n",
      "https://gall.dcinside.com/board/view/?id=programming&no=1404067 파 - 이 - 썬 - 프로그래밍\n",
      "http://gall.dcinside.com/board/view/?id=programming&no=838699 파 이 썬 좋 아 - 프로그래밍\n",
      "https://i.orbi.kr:443/00021231312 파~이~~썬~~\n",
      "http://web.humoruniv.com/board/humor/read.html?table=pdswait&number=5812864 파..이..썬...어..려...워..\n",
      "http://v.media.daum.net/v/20200718030142311?f=o 복날엔 삼계탕·장어? \"우린 말미잘 먹어요\"\n",
      "http://v.media.daum.net/v/20200717060215588?f=o [강경록의 미식로드] 댓잎 품은 국수, 한입에 '호로록'\n",
      "http://v.media.daum.net/v/20200715100157648?f=o \"食은 수행..\" 사계절 순리 담긴 사찰음식\n",
      "https://cp.news.search.daum.net/p/95233160 [청로 이용웅 칼럼] “龍飛御天歌”에 나오는 국수 중 ‘평양랭면...\n",
      "javascript:; [러스트] 초반 스타트는 무적권 파.이.썬 (Rust Python Cost-Effectiveness)\n",
      "javascript:; [MK이슈]승리, 버닝썬 논란 속 오늘(16일)부터 파이널 콘서트 : 뉴스zum\n",
      "javascript:; 파이썬윈드러너\n",
      "javascript:; 파이썬스솔\n",
      "http://www.melon.com/song/detail.htm?songId=21998646&ref=W10600 Python\n",
      "http://www.melon.com/song/detail.htm?songId=31223737&ref=W10600 Python\n",
      "http://www.melon.com/song/detail.htm?songId=32616012&ref=W10600 Python\n",
      "http://kd.auction.co.kr/kd_redirectse.asp?semagcd=SA20001&CODE=362KD99999999&lp=%2F%2Fsearch.auction.co.kr%2Fsearch%2Fsearch.aspx%3Fkeyword%3D%25C6%25C4%25C0%25CC%25BD%25E3&cosemkid=ov15488152552203906 쇼핑은 역시 옥션\n",
      "http://jump.emforce.co.kr/jumper52.jsp?1=1$$$&EKAMS=daum.52.600.119.1244014070018.140381&trackingDays=30$$$http://affiliate.gmarket.co.kr/?com=emforce&media=nate&ch=code31&url=http://search.gmarket.co.kr/search.aspx?keyword=%C6%C4%C0%CC%BD%E3&jaehuid=200003989 G마켓 파이썬\n",
      "http://www.11st.co.kr/connect/Gateway.tmall?method=Xsite&tid=1000111638&uid=7653182&code=1039 11번가 파이썬\n"
     ]
    }
   ],
   "source": [
    "# dom.find_all('ul', {'class' : 'list_info mg_cont clear'})\n",
    "for _ in dom.find_all('div', {'class' : 'wrap_tit'}):\n",
    "    print(_.find('a')['href'], _.find('a').text.strip())"
   ]
  },
  {
   "cell_type": "markdown",
   "metadata": {},
   "source": [
    "### Crawling Practice"
   ]
  },
  {
   "cell_type": "code",
   "execution_count": 7,
   "metadata": {},
   "outputs": [],
   "source": [
    "resp = download('http://pythonscraping.com/pages/page3.html')\n",
    "dom = BeautifulSoup(resp.text, 'lxml')"
   ]
  },
  {
   "cell_type": "code",
   "execution_count": 8,
   "metadata": {},
   "outputs": [
    {
     "data": {
      "text/plain": [
       "<div id=\"footer\">\n",
       "© Totally Normal Gifts, Inc. <br/>\n",
       "+234 (617) 863-0736\n",
       "</div>"
      ]
     },
     "execution_count": 8,
     "metadata": {},
     "output_type": "execute_result"
    }
   ],
   "source": [
    "dom.select_one('div#footer')"
   ]
  },
  {
   "cell_type": "code",
   "execution_count": 9,
   "metadata": {},
   "outputs": [
    {
     "data": {
      "text/plain": [
       "<div id=\"footer\">\n",
       "© Totally Normal Gifts, Inc. <br/>\n",
       "+234 (617) 863-0736\n",
       "</div>"
      ]
     },
     "execution_count": 9,
     "metadata": {},
     "output_type": "execute_result"
    }
   ],
   "source": [
    "dom.select_one('#footer')"
   ]
  },
  {
   "cell_type": "code",
   "execution_count": 10,
   "metadata": {},
   "outputs": [
    {
     "data": {
      "text/plain": [
       "'© Totally Normal Gifts, Inc. \\n+234 (617) 863-0736'"
      ]
     },
     "execution_count": 10,
     "metadata": {},
     "output_type": "execute_result"
    }
   ],
   "source": [
    "dom.select_one('#footer').text.strip()"
   ]
  },
  {
   "cell_type": "markdown",
   "metadata": {},
   "source": [
    "- Selector\n",
    "- tag1, tag2\n",
    "- tag1 tag1 => 자손 (find_all(recursive=True))\n",
    "- tag1 > tag2 => 자식 (file_all(recursive=False))\n",
    "- tag1 + tag2 =>"
   ]
  },
  {
   "cell_type": "code",
   "execution_count": 11,
   "metadata": {},
   "outputs": [
    {
     "data": {
      "text/plain": [
       "'div'"
      ]
     },
     "execution_count": 11,
     "metadata": {},
     "output_type": "execute_result"
    }
   ],
   "source": [
    "dom.select_one('#footer').find_parent().name"
   ]
  },
  {
   "cell_type": "code",
   "execution_count": 12,
   "metadata": {},
   "outputs": [
    {
     "data": {
      "text/plain": [
       "(2, 5)"
      ]
     },
     "execution_count": 12,
     "metadata": {},
     "output_type": "execute_result"
    }
   ],
   "source": [
    "len(dom.select('#wrapper > div')), len(dom.select('#wrapper > *'))"
   ]
  },
  {
   "cell_type": "code",
   "execution_count": 13,
   "metadata": {},
   "outputs": [
    {
     "data": {
      "text/plain": [
       "['img', 'h1', 'div', 'table', 'div']"
      ]
     },
     "execution_count": 13,
     "metadata": {},
     "output_type": "execute_result"
    }
   ],
   "source": [
    "[_.name for _ in dom.select('#wrapper > *')]"
   ]
  },
  {
   "cell_type": "code",
   "execution_count": 14,
   "metadata": {},
   "outputs": [
    {
     "data": {
      "text/plain": [
       "'div'"
      ]
     },
     "execution_count": 14,
     "metadata": {},
     "output_type": "execute_result"
    }
   ],
   "source": [
    "dom.select_one('h1 + div').name"
   ]
  },
  {
   "cell_type": "code",
   "execution_count": 15,
   "metadata": {},
   "outputs": [
    {
     "data": {
      "text/plain": [
       "'h1'"
      ]
     },
     "execution_count": 15,
     "metadata": {},
     "output_type": "execute_result"
    }
   ],
   "source": [
    "dom.select_one('h1 + div').find_previous_sibling().name"
   ]
  },
  {
   "cell_type": "code",
   "execution_count": 16,
   "metadata": {},
   "outputs": [
    {
     "data": {
      "text/plain": [
       "'div'"
      ]
     },
     "execution_count": 16,
     "metadata": {},
     "output_type": "execute_result"
    }
   ],
   "source": [
    "dom.select_one('body > div > h1 + div').name"
   ]
  },
  {
   "cell_type": "code",
   "execution_count": 17,
   "metadata": {},
   "outputs": [
    {
     "data": {
      "text/plain": [
       "['$15.00', '$10,000.52', '$10,005.00', '$0.50', '$1.50']"
      ]
     },
     "execution_count": 17,
     "metadata": {},
     "output_type": "execute_result"
    }
   ],
   "source": [
    "[_.text.strip() for _ in dom.select('.gift > td:nth-of-type(3)')]"
   ]
  },
  {
   "cell_type": "code",
   "execution_count": 18,
   "metadata": {},
   "outputs": [
    {
     "data": {
      "text/plain": [
       "['../img/gifts/img1.jpg',\n",
       " '../img/gifts/img2.jpg',\n",
       " '../img/gifts/img3.jpg',\n",
       " '../img/gifts/img4.jpg',\n",
       " '../img/gifts/img6.jpg']"
      ]
     },
     "execution_count": 18,
     "metadata": {},
     "output_type": "execute_result"
    }
   ],
   "source": [
    "[_['src'].strip() for _ in dom.select('.gift > td > img')]"
   ]
  },
  {
   "cell_type": "code",
   "execution_count": 19,
   "metadata": {},
   "outputs": [
    {
     "name": "stdout",
     "output_type": "stream",
     "text": [
      "[Error] https://www.google.com/search\n",
      "파이썬 - 위키백과, 우리 모두의 백과사전 https://ko.wikipedia.org/wiki/%ED%8C%8C%EC%9D%B4%EC%8D%AC\n",
      "파이썬 자습서 — Python 3.8.4 문서 https://docs.python.org/ko/3/tutorial/index.html\n",
      "Python - 나무위키 https://namu.wiki/w/Python\n",
      "1 파이썬 시작하기 - 왕초보를 위한 Python - WikiDocs https://wikidocs.net/43\n",
      "Python 코딩의 기초 - 예제로 배우는 파이썬 프로그래밍 http://pythonstudy.xyz/python/article/6-Python-%EC%BD%94%EB%94%A9%EC%9D%98-%EA%B8%B0%EC%B4%88\n",
      "파이썬 코딩 도장: 1.3 파이썬 https://dojang.io/mod/page/view.php?id=2153\n",
      "파이썬의 인기는 언제까지 갈까? - Byline Network https://byline.network/2020/03/17-90/\n",
      "파이썬 무료 강의 (기본편) - 6시간 뒤면 나도 개발자 - 인프런 https://www.inflearn.com/course/%EB%82%98%EB%8F%84%EC%BD%94%EB%94%A9-%ED%8C%8C%EC%9D%B4%EC%8D%AC-%EA%B8%B0%EB%B3%B8\n"
     ]
    }
   ],
   "source": [
    "url = 'https://www.google.com/search'\n",
    "params = {\n",
    "    'q':'',\n",
    "    'oq':'',\n",
    "    'aqs':'chrome..69i57j69i59j69i65l3j69i61j69i60j69i61.1205j0j7',\n",
    "    'sourceid':'chrome',\n",
    "    'ie':'UTF-8'\n",
    "}\n",
    "params['q'] = params['oq'] = '파이썬'\n",
    "headers = {\n",
    "    'user-agent' : 'Mozilla/5.0 (Windows NT 10.0; Win64; x64) AppleWebKit/537.36 (KHTML, like Gecko) Chrome/83.0.4103.116 Safari/537.36'\n",
    "}\n",
    "resp = download(url, params, headers, 'GET')\n",
    "dom = BeautifulSoup(resp.text, 'html.parser')\n",
    "for _ in dom.find_all('h3', {'class':'LC20lb'}):\n",
    "    print(_.text.strip(), _.find_parents('a')[0]['href'])"
   ]
  },
  {
   "cell_type": "markdown",
   "metadata": {},
   "source": [
    "### Selector"
   ]
  },
  {
   "cell_type": "code",
   "execution_count": 20,
   "metadata": {},
   "outputs": [
    {
     "name": "stdout",
     "output_type": "stream",
     "text": [
      "https://ko.wikipedia.org/wiki/%ED%8C%8C%EC%9D%B4%EC%8D%AC 파이썬 - 위키백과, 우리 모두의 백과사전ko.wikipedia.org › wiki › 파이썬\n",
      "https://docs.python.org/ko/3/tutorial/index.html 파이썬 자습서 — Python 3.8.4 문서docs.python.org › tutorial\n",
      "https://namu.wiki/w/Python Python - 나무위키namu.wiki › Python\n",
      "https://wikidocs.net/43 1 파이썬 시작하기 - 왕초보를 위한 Python - WikiDocswikidocs.net › ...\n",
      "http://pythonstudy.xyz/python/article/6-Python-%EC%BD%94%EB%94%A9%EC%9D%98-%EA%B8%B0%EC%B4%88 Python 코딩의 기초 - 예제로 배우는 파이썬 프로그래밍pythonstudy.xyz › python › article › 6-Python-코딩의-...\n",
      "https://dojang.io/mod/page/view.php?id=2153 파이썬 코딩 도장: 1.3 파이썬dojang.io › 강좌 › 프로그래밍 › 파이썬 코딩 도장\n",
      "https://byline.network/2020/03/17-90/ 파이썬의 인기는 언제까지 갈까? - Byline Networkbyline.network › 2020/03\n",
      "https://www.inflearn.com/course/%EB%82%98%EB%8F%84%EC%BD%94%EB%94%A9-%ED%8C%8C%EC%9D%B4%EC%8D%AC-%EA%B8%B0%EB%B3%B8 파이썬 무료 강의 (기본편) - 6시간 뒤면 나도 개발자 - 인프런www.inflearn.com › course › 나도코딩-파이썬-기본\n"
     ]
    }
   ],
   "source": [
    "for _ in dom.select('div.r > a'):\n",
    "    print(_['href'], _.text.strip())"
   ]
  },
  {
   "cell_type": "code",
   "execution_count": 21,
   "metadata": {},
   "outputs": [
    {
     "name": "stdout",
     "output_type": "stream",
     "text": [
      "[Error] https://search.naver.com/search.naver\n",
      "https://www.python.org/ Welcome to Python.org\n",
      "https://papago.naver.net/website?source=en&target=ko&url=https://www.python.org/ \n",
      "https://blog.naver.com/icd900/221318575090 국산 중형차 추천 흰 파 썬\n",
      "https://blog.naver.com/sanaiauction/221407173464 2015년형 그랜저HG 240모던 흰파썬 소개합니다!\n",
      "https://blog.naver.com/xmflxhs8568?Redirect=Log&logNo=221532773930 레인보우 썬팅 전면,측.후면 12% 파.썬 30%\n",
      "https://blog.naver.com/choyooney?Redirect=Log&logNo=221408338615 늦잠,티타임,GA과제,파에썬\n",
      "https://blog.naver.com/sanaiauction?Redirect=Log&logNo=221407173464 2015년형 그랜저HG 240모던 흰파썬 소개합니다!\n",
      "https://blog.naver.com/va85hgnmvcl?Redirect=Log&logNo=221687347280 [미얀마 만달레이 호텔] 썬 파 트래블 & 투어 인접한 더...\n",
      "https://kin.naver.com/qna/detail.nhn?d1id=1&dirId=10402&docId=357557482&qb=7YyMIOydtCDsjaw=&enc=utf8§ion=kin&rank=1&search_sort=0&spq=0 파이썬 if 문에서 and로 연결하는 방법\n",
      "https://kin.naver.com/qna/detail.nhn?d1id=1&dirId=10402&docId=342332721&qb=7YyMIOydtCDsjaw=&enc=utf8§ion=kin&rank=2&search_sort=0&spq=0 파이썬 질문 ㅜㅜㅜ\n",
      "https://kin.naver.com/qna/detail.nhn?d1id=13&dirId=1303010501&docId=36135662&qb=7YyMIOydtCDsjaw=&enc=utf8§ion=kin&rank=3&search_sort=0&spq=0 메이플 법사 2차 썬이좋나요 아님 콜이 좋나요?\n",
      "https://vibe.naver.com/track/21528972 Python\n",
      "https://vibe.naver.com/album/2493977?lyrics=21528972 \n",
      "https://vibe.naver.com/popup/mp3/mp3CartRoute?trackIds=21528972 \n",
      "https://vibe.naver.com/track/14934534 Python (Original Mix)\n",
      "https://vibe.naver.com/popup/mp3/mp3CartRoute?trackIds=14934534 \n",
      "https://vibe.naver.com/track/40422635 Python\n",
      "https://vibe.naver.com/popup/mp3/mp3CartRoute?trackIds=40422635 \n",
      "https://vibe.naver.com/track/18957021 Python (Feat. rag)\n",
      "https://vibe.naver.com/popup/mp3/mp3CartRoute?trackIds=18957021 \n",
      "https://vibe.naver.com/track/19412695 q.e.p.d\n",
      "https://vibe.naver.com/popup/mp3/mp3CartRoute?trackIds=19412695 \n"
     ]
    }
   ],
   "source": [
    "url = 'https://search.naver.com/search.naver'\n",
    "params = {\n",
    "    'sm':'top_hty',\n",
    "    'fbm':0,\n",
    "    'ie':'utf8',\n",
    "    'query':''\n",
    "}\n",
    "params['query'] = '파 이 썬'\n",
    "resp = download(url, params, headers, 'GET')\n",
    "dom = BeautifulSoup(resp.text, 'html.parser')\n",
    "\n",
    "for _ in dom.select('.type01 dt > a'):\n",
    "    print(_['href'], _.text.strip())"
   ]
  },
  {
   "cell_type": "code",
   "execution_count": 22,
   "metadata": {},
   "outputs": [],
   "source": [
    "url = 'http://example.webscraping.com/places/default/index'\n",
    "resp = download(url)\n",
    "dom = BeautifulSoup(resp.content, 'html.parser')"
   ]
  },
  {
   "cell_type": "code",
   "execution_count": 23,
   "metadata": {},
   "outputs": [
    {
     "name": "stdout",
     "output_type": "stream",
     "text": [
      "#\n",
      "/places/default/user/register?_next=/places/default/index\n",
      "/places/default/user/login?_next=/places/default/index\n",
      "/places/default/index\n",
      "/places/default/search\n",
      "/places/default/view/Afghanistan-1\n",
      "/places/default/view/Aland-Islands-2\n",
      "/places/default/view/Albania-3\n",
      "/places/default/view/Algeria-4\n",
      "/places/default/view/American-Samoa-5\n",
      "/places/default/view/Andorra-6\n",
      "/places/default/view/Angola-7\n",
      "/places/default/view/Anguilla-8\n",
      "/places/default/view/Antarctica-9\n",
      "/places/default/view/Antigua-and-Barbuda-10\n",
      "/places/default/index/1\n"
     ]
    }
   ],
   "source": [
    "for _ in dom.select('a'):\n",
    "    print(_['href'])"
   ]
  },
  {
   "cell_type": "markdown",
   "metadata": {},
   "source": [
    "### Crawler"
   ]
  },
  {
   "cell_type": "code",
   "execution_count": 24,
   "metadata": {},
   "outputs": [
    {
     "name": "stdout",
     "output_type": "stream",
     "text": [
      "14 1\n",
      "13 2\n",
      "12 3\n",
      "11 4\n",
      "18 5\n",
      "20 6\n",
      "26 7\n",
      "34 8\n",
      "35 9\n",
      "37 10\n",
      "41 11\n"
     ]
    }
   ],
   "source": [
    "urls = list()\n",
    "seen = list()\n",
    "urls.append(url)\n",
    "\n",
    "while urls: # Queue\n",
    "    seed = urls.pop(0) # starting url\n",
    "    seen.append(seed) # => 재방문 회피\n",
    "    dom = BeautifulSoup(download(seed).text, 'html.parser') # HTTP\n",
    "#     for _ in dom.select('a'): # extract hyperlinks\n",
    "#         if _.has_attr('href'): # 나중에\n",
    "#             if _['href'].startswith('/'): # filter1\n",
    "#                 newUrls = urljoin(seed, _['href']) # Normalization\n",
    "#                 # query부분 (GET방식에서 ? 이후에 나오는 파라미터 생략)\n",
    "                \n",
    "#                 if newUrls not in seen and newUrls not in urls:\n",
    "#                     urls.append(urljoin(seed, _['href']))\n",
    "    for _ in [_['href'] for _ in dom.select('a') if _.has_attr('href') and _['href'].startswith('/')]:\n",
    "            newUrls = urljoin(seed, urlparse(_)[2])\n",
    "            if newUrls not in seen and newUrls not in urls:\n",
    "                urls.append(newUrls)\n",
    "    print(len(urls), len(seen))\n",
    "    if len(seen) > 10: break"
   ]
  },
  {
   "cell_type": "markdown",
   "metadata": {},
   "source": [
    "### 정규식"
   ]
  },
  {
   "cell_type": "code",
   "execution_count": 25,
   "metadata": {},
   "outputs": [
    {
     "name": "stdout",
     "output_type": "stream",
     "text": [
      "\n",
      "park 800905-*******\n",
      "kim 700905-*******\n",
      "\n"
     ]
    }
   ],
   "source": [
    "import re\n",
    "\n",
    "data = '''\n",
    "park 800905-1049118\n",
    "kim 700905-1059119\n",
    "'''\n",
    "\n",
    "pattern = re.compile('(\\d{6})[-]\\d{7}')\n",
    "pattern.search(data)\n",
    "print(pattern.sub('\\g<1>-*******', data))"
   ]
  },
  {
   "cell_type": "code",
   "execution_count": 26,
   "metadata": {},
   "outputs": [
    {
     "data": {
      "text/plain": [
       "<re.Match object; span=(7, 12), match='Hello'>"
      ]
     },
     "execution_count": 26,
     "metadata": {},
     "output_type": "execute_result"
    }
   ],
   "source": [
    "re.match(r'Crow|Servo', 'CrowHello')\n",
    "re.search(r'^Crow|^Servo', 'Servo')\n",
    "re.search(r'Hello$', 'asdfdasHello')"
   ]
  },
  {
   "cell_type": "code",
   "execution_count": 27,
   "metadata": {},
   "outputs": [
    {
     "data": {
      "text/plain": [
       "<re.Match object; span=(6, 20), match='800905-1049118'>"
      ]
     },
     "execution_count": 27,
     "metadata": {},
     "output_type": "execute_result"
    }
   ],
   "source": [
    "pattern.search(data)"
   ]
  },
  {
   "cell_type": "code",
   "execution_count": 28,
   "metadata": {},
   "outputs": [
    {
     "data": {
      "text/plain": [
       "'ABCABC'"
      ]
     },
     "execution_count": 28,
     "metadata": {},
     "output_type": "execute_result"
    }
   ],
   "source": [
    "re.search(r'(ABC)+', 'ABCABCA A').group()"
   ]
  },
  {
   "cell_type": "code",
   "execution_count": 29,
   "metadata": {},
   "outputs": [
    {
     "data": {
      "text/plain": [
       "<re.Match object; span=(3, 8), match='class'>"
      ]
     },
     "execution_count": 29,
     "metadata": {},
     "output_type": "execute_result"
    }
   ],
   "source": [
    "re.search(r'\\bclass\\b', 'no class at all')"
   ]
  },
  {
   "cell_type": "code",
   "execution_count": 30,
   "metadata": {},
   "outputs": [
    {
     "data": {
      "text/plain": [
       "<re.Match object; span=(7, 12), match='class'>"
      ]
     },
     "execution_count": 30,
     "metadata": {},
     "output_type": "execute_result"
    }
   ],
   "source": [
    "re.search(r'\\Bclass\\b', 'one subclass at all')"
   ]
  },
  {
   "cell_type": "code",
   "execution_count": 31,
   "metadata": {},
   "outputs": [
    {
     "data": {
      "text/plain": [
       "<re.Match object; span=(7, 12), match='class'>"
      ]
     },
     "execution_count": 31,
     "metadata": {},
     "output_type": "execute_result"
    }
   ],
   "source": [
    "re.search(r'\\Bclass\\B', 'one subclasses at all')"
   ]
  },
  {
   "cell_type": "code",
   "execution_count": 32,
   "metadata": {},
   "outputs": [
    {
     "data": {
      "text/plain": [
       "('Issac Newton', 'Issac', 'Newton')"
      ]
     },
     "execution_count": 32,
     "metadata": {},
     "output_type": "execute_result"
    }
   ],
   "source": [
    "result = re.search(r'(\\w+) (\\w+)', 'Issac Newton, physicist')\n",
    "result.group()\n",
    "result.group(0), result.group(1), result.group(2)"
   ]
  },
  {
   "cell_type": "code",
   "execution_count": 33,
   "metadata": {},
   "outputs": [
    {
     "data": {
      "text/plain": [
       "'Newton Issac, physicist'"
      ]
     },
     "execution_count": 33,
     "metadata": {},
     "output_type": "execute_result"
    }
   ],
   "source": [
    "re.sub(r'(\\w+) (\\w+)', r'\\g<2> \\g<1>', 'Issac Newton, physicist')"
   ]
  },
  {
   "cell_type": "code",
   "execution_count": 34,
   "metadata": {},
   "outputs": [
    {
     "data": {
      "text/plain": [
       "<re.Match object; span=(0, 10), match='0234081234'>"
      ]
     },
     "execution_count": 34,
     "metadata": {},
     "output_type": "execute_result"
    }
   ],
   "source": [
    "# 010-0000-0000 => 핸드폰 번호\n",
    "\n",
    "data = '010-0000-0000'\n",
    "data = '010 0000 0000'\n",
    "data = '010.0000.0000'\n",
    "data = '01000000000'\n",
    "data = '0234081234'\n",
    "\n",
    "re.search(r'(\\d{1,3})[- .]?(\\d{1,4})[- .]?(\\d{1,4})',data)"
   ]
  },
  {
   "cell_type": "code",
   "execution_count": 35,
   "metadata": {},
   "outputs": [
    {
     "data": {
      "text/plain": [
       "<re.Match object; span=(0, 16), match='+82 10-0001-0002'>"
      ]
     },
     "execution_count": 35,
     "metadata": {},
     "output_type": "execute_result"
    }
   ],
   "source": [
    "data = '+82 10-0001-0002'\n",
    "# data = '+82 010-0001-0002'\n",
    "# data = '+82 2-0001-0002'\n",
    "# data = '82 2-0001-0002'\n",
    "\n",
    "re.search(r'([+]?\\d{2}[ ](\\d{1,3})[- .]?(\\d{4})[- .]?(\\d{4}))', data)"
   ]
  },
  {
   "cell_type": "markdown",
   "metadata": {},
   "source": [
    "#### example"
   ]
  },
  {
   "cell_type": "code",
   "execution_count": 36,
   "metadata": {},
   "outputs": [],
   "source": [
    "resp = download('http://pythonscraping.com/pages/page3.html')"
   ]
  },
  {
   "cell_type": "code",
   "execution_count": 37,
   "metadata": {},
   "outputs": [
    {
     "data": {
      "text/plain": [
       "['$5.00', '$15.00', '$0.50', '$1.50']"
      ]
     },
     "execution_count": 37,
     "metadata": {},
     "output_type": "execute_result"
    }
   ],
   "source": [
    "re.findall(r'([$]\\d+[.]\\d+)', resp.text)"
   ]
  },
  {
   "cell_type": "code",
   "execution_count": 38,
   "metadata": {},
   "outputs": [
    {
     "data": {
      "text/plain": [
       "['../img/gifts/logo.jpg',\n",
       " '../img/gifts/img1.jpg',\n",
       " '../img/gifts/img2.jpg',\n",
       " '../img/gifts/img3.jpg',\n",
       " '../img/gifts/img4.jpg',\n",
       " '../img/gifts/img6.jpg']"
      ]
     },
     "execution_count": 38,
     "metadata": {},
     "output_type": "execute_result"
    }
   ],
   "source": [
    "re.findall(r'src=\"(.+?)\"', resp.text)"
   ]
  },
  {
   "cell_type": "code",
   "execution_count": 39,
   "metadata": {},
   "outputs": [
    {
     "name": "stdout",
     "output_type": "stream",
     "text": [
      "http://pythonscraping.com/img/gifts/img1.jpg\n",
      "http://pythonscraping.com/img/gifts/img2.jpg\n",
      "http://pythonscraping.com/img/gifts/img3.jpg\n",
      "http://pythonscraping.com/img/gifts/img4.jpg\n",
      "http://pythonscraping.com/img/gifts/img6.jpg\n"
     ]
    }
   ],
   "source": [
    "for _ in re.findall(r'src=\"(.+img\\d[.]jpg)\"', resp.text):\n",
    "    print(urljoin(resp.request.url, _))"
   ]
  },
  {
   "cell_type": "code",
   "execution_count": 40,
   "metadata": {},
   "outputs": [
    {
     "data": {
      "text/plain": [
       "['<span class=\"excitingNote\">Keep your friends guessing!</span>']"
      ]
     },
     "execution_count": 40,
     "metadata": {},
     "output_type": "execute_result"
    }
   ],
   "source": [
    "re.findall(r'<span class=\"[A-z]+\">[A-z !]+</span>', resp.text)"
   ]
  },
  {
   "cell_type": "code",
   "execution_count": 41,
   "metadata": {},
   "outputs": [
    {
     "data": {
      "text/plain": [
       "['$15.00', '$10,000.52', '$10,005.00', '$0.50', '$1.50']"
      ]
     },
     "execution_count": 41,
     "metadata": {},
     "output_type": "execute_result"
    }
   ],
   "source": [
    "dom = BeautifulSoup(resp.text, 'html.parser')\n",
    "[_.strip() for _ in dom.find_all(text=re.compile(r'[.]\\d+$'))]"
   ]
  },
  {
   "cell_type": "code",
   "execution_count": 42,
   "metadata": {},
   "outputs": [],
   "source": [
    "# 이메일\n",
    "# 아이디@이메일\n",
    "# 회사명.com|net|org|kr|co.kr|or.kr|go.kr|ac.kr\n",
    "# 아이디 규칙 : 영어로 시작, 특수문자X, -. _. 숫자"
   ]
  },
  {
   "cell_type": "code",
   "execution_count": 43,
   "metadata": {},
   "outputs": [
    {
     "data": {
      "text/plain": [
       "['sunnight9507@naver.com',\n",
       " 'test1@test.com',\n",
       " 'test2@test.co.kr',\n",
       " 'test3@email.test.com',\n",
       " 'test4@email.test.co.kr']"
      ]
     },
     "execution_count": 43,
     "metadata": {},
     "output_type": "execute_result"
    }
   ],
   "source": [
    "email = '''\n",
    "    sunnight9507@naver.com\n",
    "    test1@test.com\n",
    "    test2@test.co.kr\n",
    "    test3@email.test.com\n",
    "    test4@email.test.co.kr\n",
    "    한글@test.com\n",
    "    0test@test.com\n",
    "'''\n",
    "\n",
    "re.findall(r'\\b[A-Za-z][A-Za-z0-9-_.]+@(?:[.]?[A-Za-z0-9-_]+)+',email)"
   ]
  },
  {
   "cell_type": "code",
   "execution_count": 44,
   "metadata": {},
   "outputs": [],
   "source": [
    "# 도메인\n",
    "# http://도메인\n",
    "# https://도메인 \n",
    "# ftp://도메인"
   ]
  },
  {
   "cell_type": "code",
   "execution_count": 45,
   "metadata": {},
   "outputs": [
    {
     "data": {
      "text/plain": [
       "['http://www.domain.com',\n",
       " 'http://www.domain.co.kr',\n",
       " 'https://www.domain.com',\n",
       " 'https://www.domain.co.kr',\n",
       " 'https://www.domain.co.kr/',\n",
       " 'https://www.domain.co.kr/service',\n",
       " 'https://www.domain.co.kr/service/',\n",
       " 'https://domain.co.kr/service',\n",
       " 'https://www.domain.co.kr/service',\n",
       " 'https://www.domain.co.kr/service',\n",
       " 'https://www.domain.co.kr/service/1/2',\n",
       " 'https://www.domain.co.kr/service/1/2',\n",
       " 'http://old.mail.domain.com',\n",
       " 'http://domain.com',\n",
       " 'http://www.domain.com']"
      ]
     },
     "execution_count": 45,
     "metadata": {},
     "output_type": "execute_result"
    }
   ],
   "source": [
    "domain = '''\n",
    "    http://www.domain.com\n",
    "    http://www.domain.co.kr\n",
    "    https://www.domain.com\n",
    "    https://www.domain.co.kr\n",
    "    https://www.domain.co.kr/\n",
    "    https://www.domain.co.kr/service\n",
    "    https://www.domain.co.kr/service/\n",
    "    https://domain.co.kr/service?key=value\n",
    "    https://www.domain.co.kr/service?key=value\n",
    "    https://www.domain.co.kr/service?key=value/\n",
    "    https://www.domain.co.kr/service/1/2?key=value/\n",
    "    https://www.domain.co.kr/service/1/2?key=value/?key=value\n",
    "    www.domain.com?key=value\n",
    "    http://old.mail.domain.com?key=value\n",
    "    http://domain.com#key=value\n",
    "    http://www.domain.com?key=value\n",
    "'''\n",
    "# Query String (?이후부분) 빼고, URI(L)을 추출\n",
    "re.findall(r'http[s]?://[w]{0,3}.[A-Za-z./0-9]+', domain)"
   ]
  },
  {
   "cell_type": "code",
   "execution_count": 46,
   "metadata": {},
   "outputs": [
    {
     "data": {
      "text/plain": [
       "['http://www.domain.com',\n",
       " 'http://www.domain.co.kr',\n",
       " 'https://www.domain.com',\n",
       " 'https://www.domain.co.kr',\n",
       " 'https://www.domain.co.kr',\n",
       " 'https://www.domain.co.kr/service',\n",
       " 'https://www.domain.co.kr/service',\n",
       " 'https://domain.co.kr/service',\n",
       " 'https://www.domain.co.kr/service',\n",
       " 'https://www.domain.co.kr/service',\n",
       " 'https://www.domain.co.kr/service/1/2',\n",
       " 'https://www.domain.co.kr/service/1/2',\n",
       " 'http://old.mail.domain.com',\n",
       " 'http://domain.com',\n",
       " 'http://www.domain.com']"
      ]
     },
     "execution_count": 46,
     "metadata": {},
     "output_type": "execute_result"
    }
   ],
   "source": [
    "re.findall(r'https?://\\w+(?:[./]\\w+)+',domain)"
   ]
  },
  {
   "cell_type": "markdown",
   "metadata": {},
   "source": [
    "### Google Crawler"
   ]
  },
  {
   "cell_type": "code",
   "execution_count": 47,
   "metadata": {},
   "outputs": [
    {
     "name": "stdout",
     "output_type": "stream",
     "text": [
      "[Error] https://www.google.com/search\n"
     ]
    }
   ],
   "source": [
    "url = 'https://www.google.com/search'\n",
    "params = {\n",
    "    'q':'',\n",
    "    'oq':'',\n",
    "    'aqs':'chrome..69i57j69i59j69i65l3j69i61j69i60j69i61.1205j0j7',\n",
    "    'sourceid':'chrome',\n",
    "    'ie':'UTF-8'\n",
    "}\n",
    "params['q'] = params['oq'] = '파이썬'\n",
    "headers = {\n",
    "    'user-agent' : 'Mozilla/5.0 (Windows NT 10.0; Win64; x64) AppleWebKit/537.36 (KHTML, like Gecko) Chrome/83.0.4103.116 Safari/537.36'\n",
    "}\n",
    "resp = download(url, params, headers, 'GET')"
   ]
  },
  {
   "cell_type": "code",
   "execution_count": 65,
   "metadata": {
    "collapsed": true
   },
   "outputs": [
    {
     "data": {
      "text/plain": [
       "['파이썬 입문 강좌 무료',\n",
       " '파이썬 다운',\n",
       " '파이썬 강좌',\n",
       " '파이썬 설치',\n",
       " '파이썬 사이트',\n",
       " '파이썬 독학',\n",
       " '파이썬 활용',\n",
       " '파이썬 프로그램',\n",
       " '파이썬 소프트웨어 재단',\n",
       " '파이썬 자습서',\n",
       " '파이썬 인터프리터 사용하기',\n",
       " '파이썬 시작하기',\n",
       " '파이썬 코딩 무료 강의',\n",
       " '파이썬 기초 강좌',\n",
       " '파이썬 프로그래밍',\n",
       " '파이썬 코딩 도장',\n",
       " '파이썬 코딩 도장',\n",
       " '파이썬 코딩 도장',\n",
       " '파이썬 무료 강의',\n",
       " '파이썬 다운',\n",
       " '파이썬 강좌',\n",
       " '파이썬 설치',\n",
       " '파이썬 사이트',\n",
       " '파이썬 독학',\n",
       " '파이썬 활용',\n",
       " '파이썬 프로그램',\n",
       " '파이썬 뜻',\n",
       " '파이썬 의미',\n",
       " '파이썬 장점',\n",
       " '파이썬 소프트웨어 재단',\n",
       " '파이썬 설치']"
      ]
     },
     "execution_count": 65,
     "metadata": {},
     "output_type": "execute_result"
    }
   ],
   "source": [
    "re.findall(r'\\b파이썬 [가-힣 ]+\\b',resp.text)"
   ]
  },
  {
   "cell_type": "code",
   "execution_count": 89,
   "metadata": {},
   "outputs": [
    {
     "name": "stdout",
     "output_type": "stream",
     "text": [
      "[Error] https://www.google.com/search\n"
     ]
    }
   ],
   "source": [
    "url = 'https://www.google.com/search'\n",
    "params = {\n",
    "    'q':'',\n",
    "    'oq':'',\n",
    "    'aqs':'chrome..69i57j69i59j69i65l3j69i61j69i60j69i61.1205j0j7',\n",
    "    'sourceid':'chrome',\n",
    "    'ie':'UTF-8'\n",
    "}\n",
    "params['q'] = params['oq'] = '파이썬'\n",
    "headers = {\n",
    "    'user-agent' : 'Mozilla/5.0 (Windows NT 10.0; Win64; x64) AppleWebKit/537.36 (KHTML, like Gecko) Chrome/83.0.4103.116 Safari/537.36'\n",
    "}\n",
    "resp = download(url, params, headers, 'GET')\n",
    "dom = BeautifulSoup(resp.text, 'html.parser')\n",
    "urls = [{'url': _['href'], 'depth':1}\n",
    "        for _ in dom.select('div.r > a[href]')]"
   ]
  },
  {
   "cell_type": "code",
   "execution_count": 90,
   "metadata": {},
   "outputs": [
    {
     "data": {
      "text/plain": [
       "8"
      ]
     },
     "execution_count": 90,
     "metadata": {},
     "output_type": "execute_result"
    }
   ],
   "source": [
    "len(urls)"
   ]
  },
  {
   "cell_type": "code",
   "execution_count": 91,
   "metadata": {},
   "outputs": [
    {
     "name": "stdout",
     "output_type": "stream",
     "text": [
      "135 1\n",
      "138 2\n",
      "[Error] https://namu.wiki/w/Python\n",
      "308 3\n",
      "[Error] https://wikidocs.net/43\n",
      "308 4\n",
      "342 5\n",
      "351 6\n",
      "398 7\n",
      "529 8\n"
     ]
    }
   ],
   "source": [
    "seen = list()\n",
    "# urls.append(url)\n",
    "\n",
    "while urls: # Queue\n",
    "    seed = urls.pop(0) # starting url\n",
    "    seen.append(seed) # => 재방문 회피\n",
    "    if seed['depth'] < 2:\n",
    "        dom = BeautifulSoup(download(seed['url']).text, 'html.parser') # HTTP\n",
    "        for _ in [_['href'] for _ in dom.select('a[href]') \n",
    "                  if re.match(r'(?:https?:/)?/\\w+(?:[./]\\w+)+', _['href'])]:\n",
    "                newUrls = urljoin(seed['url'], urlparse(_)[2])\n",
    "                if newUrls not in [_['url'] for _ in seen] and newUrls not in [_['url'] for _ in urls]:\n",
    "                    urls.append({'url' : newUrls, 'depth' : seed['depth']+1})\n",
    "        print(len(urls), len(seen))"
   ]
  },
  {
   "cell_type": "markdown",
   "metadata": {},
   "source": [
    "### Naver Crawler"
   ]
  },
  {
   "cell_type": "code",
   "execution_count": 105,
   "metadata": {},
   "outputs": [
    {
     "name": "stdout",
     "output_type": "stream",
     "text": [
      "[Error] https://search.naver.com/search.naver\n"
     ]
    }
   ],
   "source": [
    "url = 'https://search.naver.com/search.naver'\n",
    "params = {\n",
    "    'sm':'top_hty',\n",
    "    'fbm':0,\n",
    "    'ie':'utf8',\n",
    "    'query':''\n",
    "}\n",
    "params['query'] = '파 이 썬'\n",
    "resp = download(url, params, headers, 'GET')\n",
    "dom = BeautifulSoup(resp.text, 'html.parser')\n",
    "urls = [{'url':_['href'], 'depth':1}\n",
    "       for _ in dom.select('div.blog.section._blogBase._prs_blg dt > a[href]')]"
   ]
  },
  {
   "cell_type": "code",
   "execution_count": 106,
   "metadata": {},
   "outputs": [
    {
     "data": {
      "text/plain": [
       "[{'url': 'https://blog.naver.com/xmflxhs8568?Redirect=Log&logNo=221532773930',\n",
       "  'depth': 1},\n",
       " {'url': 'https://blog.naver.com/choyooney?Redirect=Log&logNo=221408338615',\n",
       "  'depth': 1},\n",
       " {'url': 'https://blog.naver.com/sanaiauction?Redirect=Log&logNo=221407173464',\n",
       "  'depth': 1},\n",
       " {'url': 'https://blog.naver.com/va85hgnmvcl?Redirect=Log&logNo=221687347280',\n",
       "  'depth': 1}]"
      ]
     },
     "execution_count": 106,
     "metadata": {},
     "output_type": "execute_result"
    }
   ],
   "source": [
    "urls"
   ]
  },
  {
   "cell_type": "code",
   "execution_count": 111,
   "metadata": {},
   "outputs": [
    {
     "name": "stdout",
     "output_type": "stream",
     "text": [
      "1 1\n"
     ]
    }
   ],
   "source": [
    "seen = list()\n",
    "# urls.append(url)\n",
    "\n",
    "while urls: # Queue\n",
    "    seed = urls.pop(-1) # starting url\n",
    "    seen.append(seed) # => 재방문 회피\n",
    "#     if seed['depth'] < 2: # 도메인 제한 => Focused Crawling\n",
    "    dom = BeautifulSoup(download(seed['url']).text, 'html.parser') # HTTP\n",
    "    for _ in [_['href'] if _.has_attr('href') else _['src']\n",
    "              for _ in dom.select('a[href], #mainFrame') \n",
    "              if re.match(r'(?:https?:/)?/\\w+(?:[./]\\w+)+', \n",
    "                          _['href'] if _.has_attr('href') else _['src'])]:\n",
    "            newUrls = urljoin(seed['url'], _)\n",
    "            if newUrls not in [_['url'] for _ in seen] and newUrls not in [_['url'] for _ in urls]:\n",
    "                urls.append({'url' : newUrls, 'depth' : seed['depth']+1})\n",
    "    print(len(urls), len(seen))\n",
    "    break"
   ]
  },
  {
   "cell_type": "code",
   "execution_count": 112,
   "metadata": {},
   "outputs": [
    {
     "data": {
      "text/plain": [
       "[{'url': 'https://blog.naver.com/PostView.nhn?blogId=xmflxhs8568&logNo=221532773930&from=search&redirect=Log&widgetTypeCall=true&directAccess=false',\n",
       "  'depth': 2}]"
      ]
     },
     "execution_count": 112,
     "metadata": {},
     "output_type": "execute_result"
    }
   ],
   "source": [
    "urls"
   ]
  },
  {
   "cell_type": "code",
   "execution_count": 113,
   "metadata": {},
   "outputs": [
    {
     "data": {
      "text/plain": [
       "[{'url': 'https://blog.naver.com/xmflxhs8568?Redirect=Log&logNo=221532773930',\n",
       "  'depth': 1}]"
      ]
     },
     "execution_count": 113,
     "metadata": {},
     "output_type": "execute_result"
    }
   ],
   "source": [
    "seen"
   ]
  },
  {
   "cell_type": "code",
   "execution_count": 114,
   "metadata": {},
   "outputs": [
    {
     "data": {
      "text/plain": [
       "'https://blog.naver.com/PostView.nhn?blogId=xmflxhs8568&logNo=221532773930&from=search&redirect=Log&widgetTypeCall=true&directAccess=false'"
      ]
     },
     "execution_count": 114,
     "metadata": {},
     "output_type": "execute_result"
    }
   ],
   "source": [
    "newUrls"
   ]
  }
 ],
 "metadata": {
  "kernelspec": {
   "display_name": "Python 3",
   "language": "python",
   "name": "python3"
  },
  "language_info": {
   "codemirror_mode": {
    "name": "ipython",
    "version": 3
   },
   "file_extension": ".py",
   "mimetype": "text/x-python",
   "name": "python",
   "nbconvert_exporter": "python",
   "pygments_lexer": "ipython3",
   "version": "3.7.3"
  }
 },
 "nbformat": 4,
 "nbformat_minor": 2
}
