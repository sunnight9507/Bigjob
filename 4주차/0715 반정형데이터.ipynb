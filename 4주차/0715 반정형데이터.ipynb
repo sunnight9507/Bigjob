{
 "cells": [
  {
   "cell_type": "markdown",
   "metadata": {},
   "source": [
    "## 3. ORM, RE\n",
    "\n",
    "#### SQLAlchemy ORM"
   ]
  },
  {
   "cell_type": "code",
   "execution_count": 1,
   "metadata": {},
   "outputs": [],
   "source": [
    "from sqlalchemy.ext.declarative import declarative_base\n",
    "from sqlalchemy import create_engine, Column, Integer, String, ForeignKey\n",
    "\n",
    "engine = create_engine('sqlite:///ex4.db', echo = True)\n",
    "\n",
    "base = declarative_base()"
   ]
  },
  {
   "cell_type": "code",
   "execution_count": 3,
   "metadata": {},
   "outputs": [],
   "source": [
    "class User(base):\n",
    "    __tablename__ = 'User'\n",
    "    \n",
    "    uid = Column('uid', Integer, primary_key = True)\n",
    "    name = Column('name', String, nullable = False)\n",
    "    password = Column('pass', String, nullable = False)\n",
    "    \n",
    "    def __repr__(self):\n",
    "        return 'UID={0}, NAME = {1}, PASS = {2}'.format(\n",
    "        self.uid, self.name, self.password)"
   ]
  },
  {
   "cell_type": "code",
   "execution_count": 4,
   "metadata": {},
   "outputs": [
    {
     "name": "stdout",
     "output_type": "stream",
     "text": [
      "2020-07-15 10:38:44,176 INFO sqlalchemy.engine.base.Engine SELECT CAST('test plain returns' AS VARCHAR(60)) AS anon_1\n",
      "2020-07-15 10:38:44,184 INFO sqlalchemy.engine.base.Engine ()\n",
      "2020-07-15 10:38:44,186 INFO sqlalchemy.engine.base.Engine SELECT CAST('test unicode returns' AS VARCHAR(60)) AS anon_1\n",
      "2020-07-15 10:38:44,187 INFO sqlalchemy.engine.base.Engine ()\n",
      "2020-07-15 10:38:44,188 INFO sqlalchemy.engine.base.Engine PRAGMA table_info(\"User\")\n",
      "2020-07-15 10:38:44,189 INFO sqlalchemy.engine.base.Engine ()\n",
      "2020-07-15 10:38:44,192 INFO sqlalchemy.engine.base.Engine \n",
      "CREATE TABLE \"User\" (\n",
      "\tuid INTEGER NOT NULL, \n",
      "\tname VARCHAR NOT NULL, \n",
      "\tpass VARCHAR NOT NULL, \n",
      "\tPRIMARY KEY (uid)\n",
      ")\n",
      "\n",
      "\n",
      "2020-07-15 10:38:44,193 INFO sqlalchemy.engine.base.Engine ()\n",
      "2020-07-15 10:38:44,203 INFO sqlalchemy.engine.base.Engine COMMIT\n"
     ]
    }
   ],
   "source": [
    "# in-memory Table 객체들 -> 실제 database Table로 생성\n",
    "base.metadata.create_all(bind=engine)"
   ]
  },
  {
   "cell_type": "code",
   "execution_count": 5,
   "metadata": {},
   "outputs": [],
   "source": [
    "# # Metadata Class에 등록된(생성한) table 객체 초기화할 때\n",
    "# base.metadata.clear()"
   ]
  },
  {
   "cell_type": "code",
   "execution_count": 6,
   "metadata": {},
   "outputs": [
    {
     "data": {
      "text/plain": [
       "immutabledict({'User': Table('User', MetaData(bind=None), Column('uid', Integer(), table=<User>, primary_key=True, nullable=False), Column('name', String(), table=<User>, nullable=False), Column('pass', String(), table=<User>, nullable=False), schema=None)})"
      ]
     },
     "execution_count": 6,
     "metadata": {},
     "output_type": "execute_result"
    }
   ],
   "source": [
    "base.metadata.tables"
   ]
  },
  {
   "cell_type": "code",
   "execution_count": 7,
   "metadata": {},
   "outputs": [
    {
     "data": {
      "text/plain": [
       "UID=None, NAME = test1, PASS = testtest1"
      ]
     },
     "execution_count": 7,
     "metadata": {},
     "output_type": "execute_result"
    }
   ],
   "source": [
    "user2 = User(name = 'test1', password = 'testtest1')\n",
    "\n",
    "user2"
   ]
  },
  {
   "cell_type": "code",
   "execution_count": 2,
   "metadata": {},
   "outputs": [],
   "source": [
    "from sqlalchemy.orm import sessionmaker # session을 통한 통신\n",
    "\n",
    "Session = sessionmaker(bind = engine)\n",
    "session = Session()"
   ]
  },
  {
   "cell_type": "code",
   "execution_count": null,
   "metadata": {},
   "outputs": [],
   "source": [
    "session.add(user2)"
   ]
  },
  {
   "cell_type": "code",
   "execution_count": 9,
   "metadata": {},
   "outputs": [
    {
     "name": "stdout",
     "output_type": "stream",
     "text": [
      "2020-07-15 10:38:47,865 INFO sqlalchemy.engine.base.Engine BEGIN (implicit)\n",
      "2020-07-15 10:38:47,866 INFO sqlalchemy.engine.base.Engine INSERT INTO \"User\" (name, pass) VALUES (?, ?)\n",
      "2020-07-15 10:38:47,867 INFO sqlalchemy.engine.base.Engine ('test1', 'testtest1')\n",
      "2020-07-15 10:38:47,870 INFO sqlalchemy.engine.base.Engine COMMIT\n"
     ]
    }
   ],
   "source": [
    "session.commit()"
   ]
  },
  {
   "cell_type": "code",
   "execution_count": 10,
   "metadata": {},
   "outputs": [
    {
     "data": {
      "text/plain": [
       "(IdentitySet([]),\n",
       " <bound method Session.is_modified of <sqlalchemy.orm.session.Session object at 0x000001451D7A4B38>>)"
      ]
     },
     "execution_count": 10,
     "metadata": {},
     "output_type": "execute_result"
    }
   ],
   "source": [
    "session.dirty, session.is_modified"
   ]
  },
  {
   "cell_type": "code",
   "execution_count": 11,
   "metadata": {},
   "outputs": [],
   "source": [
    "user2.name = 'changename'"
   ]
  },
  {
   "cell_type": "code",
   "execution_count": 12,
   "metadata": {},
   "outputs": [
    {
     "name": "stdout",
     "output_type": "stream",
     "text": [
      "2020-07-15 10:38:50,146 INFO sqlalchemy.engine.base.Engine BEGIN (implicit)\n",
      "2020-07-15 10:38:50,147 INFO sqlalchemy.engine.base.Engine SELECT \"User\".pass AS \"User_pass\", \"User\".uid AS \"User_uid\" \n",
      "FROM \"User\" \n",
      "WHERE \"User\".uid = ?\n",
      "2020-07-15 10:38:50,148 INFO sqlalchemy.engine.base.Engine (1,)\n"
     ]
    },
    {
     "data": {
      "text/plain": [
       "(IdentitySet([UID=1, NAME = changename, PASS = testtest1]),\n",
       " <bound method Session.is_modified of <sqlalchemy.orm.session.Session object at 0x000001451D7A4B38>>)"
      ]
     },
     "execution_count": 12,
     "metadata": {},
     "output_type": "execute_result"
    }
   ],
   "source": [
    "session.dirty, session.is_modified"
   ]
  },
  {
   "cell_type": "code",
   "execution_count": 13,
   "metadata": {},
   "outputs": [
    {
     "name": "stdout",
     "output_type": "stream",
     "text": [
      "2020-07-15 10:38:50,528 INFO sqlalchemy.engine.base.Engine UPDATE \"User\" SET name=? WHERE \"User\".uid = ?\n",
      "2020-07-15 10:38:50,529 INFO sqlalchemy.engine.base.Engine ('changename', 1)\n",
      "2020-07-15 10:38:50,534 INFO sqlalchemy.engine.base.Engine COMMIT\n"
     ]
    }
   ],
   "source": [
    "session.commit()"
   ]
  },
  {
   "cell_type": "code",
   "execution_count": 14,
   "metadata": {},
   "outputs": [
    {
     "name": "stdout",
     "output_type": "stream",
     "text": [
      "2020-07-15 10:38:50,945 INFO sqlalchemy.engine.base.Engine BEGIN (implicit)\n",
      "2020-07-15 10:38:50,947 INFO sqlalchemy.engine.base.Engine SELECT \"User\".pass AS \"User_pass\", \"User\".uid AS \"User_uid\", \"User\".name AS \"User_name\" \n",
      "FROM \"User\" \n",
      "WHERE \"User\".uid = ?\n",
      "2020-07-15 10:38:50,947 INFO sqlalchemy.engine.base.Engine (1,)\n"
     ]
    },
    {
     "data": {
      "text/plain": [
       "UID=1, NAME = changename, PASS = testtest1"
      ]
     },
     "execution_count": 14,
     "metadata": {},
     "output_type": "execute_result"
    }
   ],
   "source": [
    "user2"
   ]
  },
  {
   "cell_type": "code",
   "execution_count": 15,
   "metadata": {},
   "outputs": [],
   "source": [
    "session.add_all([User(name='test2', password='asdfas'),\n",
    "                User(name='test3', password='asfjdd')])"
   ]
  },
  {
   "cell_type": "code",
   "execution_count": 16,
   "metadata": {},
   "outputs": [
    {
     "name": "stdout",
     "output_type": "stream",
     "text": [
      "2020-07-15 10:38:52,726 INFO sqlalchemy.engine.base.Engine INSERT INTO \"User\" (name, pass) VALUES (?, ?)\n",
      "2020-07-15 10:38:52,727 INFO sqlalchemy.engine.base.Engine ('test2', 'asdfas')\n",
      "2020-07-15 10:38:52,731 INFO sqlalchemy.engine.base.Engine INSERT INTO \"User\" (name, pass) VALUES (?, ?)\n",
      "2020-07-15 10:38:52,731 INFO sqlalchemy.engine.base.Engine ('test3', 'asfjdd')\n",
      "2020-07-15 10:38:52,732 INFO sqlalchemy.engine.base.Engine SELECT \"User\".pass AS \"User_pass\", \"User\".uid AS \"User_uid\", \"User\".name AS \"User_name\" \n",
      "FROM \"User\"\n",
      "2020-07-15 10:38:52,733 INFO sqlalchemy.engine.base.Engine ()\n"
     ]
    },
    {
     "data": {
      "text/plain": [
       "[UID=1, NAME = changename, PASS = testtest1,\n",
       " UID=2, NAME = test2, PASS = asdfas,\n",
       " UID=3, NAME = test3, PASS = asfjdd]"
      ]
     },
     "execution_count": 16,
     "metadata": {},
     "output_type": "execute_result"
    }
   ],
   "source": [
    "list(session.query(User))"
   ]
  },
  {
   "cell_type": "code",
   "execution_count": 17,
   "metadata": {},
   "outputs": [
    {
     "name": "stdout",
     "output_type": "stream",
     "text": [
      "2020-07-15 10:38:53,502 INFO sqlalchemy.engine.base.Engine SELECT \"User\".pass AS \"User_pass\", \"User\".uid AS \"User_uid\", \"User\".name AS \"User_name\" \n",
      "FROM \"User\" \n",
      "WHERE \"User\".name = ?\n",
      "2020-07-15 10:38:53,503 INFO sqlalchemy.engine.base.Engine ('test2',)\n"
     ]
    },
    {
     "data": {
      "text/plain": [
       "[UID=2, NAME = test2, PASS = asdfas]"
      ]
     },
     "execution_count": 17,
     "metadata": {},
     "output_type": "execute_result"
    }
   ],
   "source": [
    "list(session.query(User).filter(User.name=='test2'))"
   ]
  },
  {
   "cell_type": "code",
   "execution_count": 18,
   "metadata": {},
   "outputs": [
    {
     "name": "stdout",
     "output_type": "stream",
     "text": [
      "2020-07-15 10:38:54,488 INFO sqlalchemy.engine.base.Engine SELECT \"User\".pass AS \"User_pass\", \"User\".uid AS \"User_uid\", \"User\".name AS \"User_name\" \n",
      "FROM \"User\" \n",
      "WHERE \"User\".name LIKE ?\n",
      "2020-07-15 10:38:54,489 INFO sqlalchemy.engine.base.Engine ('test%',)\n"
     ]
    },
    {
     "data": {
      "text/plain": [
       "[UID=2, NAME = test2, PASS = asdfas, UID=3, NAME = test3, PASS = asfjdd]"
      ]
     },
     "execution_count": 18,
     "metadata": {},
     "output_type": "execute_result"
    }
   ],
   "source": [
    "list(session.query(User).filter(User.name.like('test%')))"
   ]
  },
  {
   "cell_type": "code",
   "execution_count": 3,
   "metadata": {},
   "outputs": [],
   "source": [
    "base.metadata.clear()"
   ]
  },
  {
   "cell_type": "code",
   "execution_count": 4,
   "metadata": {},
   "outputs": [
    {
     "data": {
      "text/plain": [
       "immutabledict({})"
      ]
     },
     "execution_count": 4,
     "metadata": {},
     "output_type": "execute_result"
    }
   ],
   "source": [
    "base.metadata.tables"
   ]
  },
  {
   "cell_type": "code",
   "execution_count": 5,
   "metadata": {},
   "outputs": [],
   "source": [
    "class Artist(base):\n",
    "    __tablename__ = 'ARTIST'\n",
    "    \n",
    "    pk = Column('ID', Integer, primary_key = True)\n",
    "    name = Column('NAME', String)\n",
    "    \n",
    "    def __repr__(self):\n",
    "        return 'PK:{0}, NAME : {1}'.format(self.pk, self.name)\n",
    "\n",
    "class Genre(base):\n",
    "    __tablename__ = 'GENRE'\n",
    "    \n",
    "    pk = Column('ID', Integer, primary_key = True)\n",
    "    name = Column('NAME', String)\n",
    "    \n",
    "    def __repr__(self):\n",
    "        return 'PK:{0}, NAME : {1}'.format(self.pk, self.name)\n",
    "\n",
    "class Album(base):\n",
    "    __tablename__ = 'ALBUM'\n",
    "    \n",
    "    pk = Column('ID', Integer, primary_key = True)\n",
    "    name = Column('NAME', String)\n",
    "    fk = Column('FK', Integer, ForeignKey('ARTIST.ID'))\n",
    "    \n",
    "    def __repr__(self):\n",
    "        return 'PK:{0}, NAME : {1}, FK : {2}'.format(self.pk, self.name, self.fk)\n",
    "\n",
    "class Track(base):\n",
    "    __tablename__ = 'TRACK'\n",
    "    \n",
    "    pk = Column('ID', Integer, primary_key = True)\n",
    "    name = Column('NAME', String)\n",
    "    fk1 = Column('FK1', Integer, ForeignKey('ALBUM.ID'))\n",
    "    fk2 = Column('FK2', Integer, ForeignKey('GENRE.ID'))\n",
    "    \n",
    "    def __repr__(self):\n",
    "        return 'PK:{0}, NAME : {1}, FK1 : {2}, FK2 : {3}'.format(self.pk, self.name, self.fk1, self.fk2)"
   ]
  },
  {
   "cell_type": "code",
   "execution_count": 6,
   "metadata": {
    "scrolled": true
   },
   "outputs": [
    {
     "data": {
      "text/plain": [
       "immutabledict({'ARTIST': Table('ARTIST', MetaData(bind=None), Column('ID', Integer(), table=<ARTIST>, primary_key=True, nullable=False), Column('NAME', String(), table=<ARTIST>), schema=None), 'GENRE': Table('GENRE', MetaData(bind=None), Column('ID', Integer(), table=<GENRE>, primary_key=True, nullable=False), Column('NAME', String(), table=<GENRE>), schema=None), 'ALBUM': Table('ALBUM', MetaData(bind=None), Column('ID', Integer(), table=<ALBUM>, primary_key=True, nullable=False), Column('NAME', String(), table=<ALBUM>), Column('FK', Integer(), ForeignKey('ARTIST.ID'), table=<ALBUM>), schema=None), 'TRACK': Table('TRACK', MetaData(bind=None), Column('ID', Integer(), table=<TRACK>, primary_key=True, nullable=False), Column('NAME', String(), table=<TRACK>), Column('FK1', Integer(), ForeignKey('ALBUM.ID'), table=<TRACK>), Column('FK2', Integer(), ForeignKey('GENRE.ID'), table=<TRACK>), schema=None)})"
      ]
     },
     "execution_count": 6,
     "metadata": {},
     "output_type": "execute_result"
    }
   ],
   "source": [
    "base.metadata.tables"
   ]
  },
  {
   "cell_type": "code",
   "execution_count": 7,
   "metadata": {},
   "outputs": [
    {
     "name": "stdout",
     "output_type": "stream",
     "text": [
      "2020-07-15 11:09:12,951 INFO sqlalchemy.engine.base.Engine SELECT CAST('test plain returns' AS VARCHAR(60)) AS anon_1\n",
      "2020-07-15 11:09:12,958 INFO sqlalchemy.engine.base.Engine ()\n",
      "2020-07-15 11:09:12,959 INFO sqlalchemy.engine.base.Engine SELECT CAST('test unicode returns' AS VARCHAR(60)) AS anon_1\n",
      "2020-07-15 11:09:12,960 INFO sqlalchemy.engine.base.Engine ()\n",
      "2020-07-15 11:09:12,961 INFO sqlalchemy.engine.base.Engine PRAGMA table_info(\"ARTIST\")\n",
      "2020-07-15 11:09:12,961 INFO sqlalchemy.engine.base.Engine ()\n",
      "2020-07-15 11:09:12,963 INFO sqlalchemy.engine.base.Engine PRAGMA table_info(\"GENRE\")\n",
      "2020-07-15 11:09:12,964 INFO sqlalchemy.engine.base.Engine ()\n",
      "2020-07-15 11:09:12,964 INFO sqlalchemy.engine.base.Engine PRAGMA table_info(\"ALBUM\")\n",
      "2020-07-15 11:09:12,965 INFO sqlalchemy.engine.base.Engine ()\n",
      "2020-07-15 11:09:12,966 INFO sqlalchemy.engine.base.Engine PRAGMA table_info(\"TRACK\")\n",
      "2020-07-15 11:09:12,966 INFO sqlalchemy.engine.base.Engine ()\n",
      "2020-07-15 11:09:12,968 INFO sqlalchemy.engine.base.Engine \n",
      "CREATE TABLE \"ARTIST\" (\n",
      "\t\"ID\" INTEGER NOT NULL, \n",
      "\t\"NAME\" VARCHAR, \n",
      "\tPRIMARY KEY (\"ID\")\n",
      ")\n",
      "\n",
      "\n",
      "2020-07-15 11:09:12,968 INFO sqlalchemy.engine.base.Engine ()\n",
      "2020-07-15 11:09:12,981 INFO sqlalchemy.engine.base.Engine COMMIT\n",
      "2020-07-15 11:09:12,982 INFO sqlalchemy.engine.base.Engine \n",
      "CREATE TABLE \"GENRE\" (\n",
      "\t\"ID\" INTEGER NOT NULL, \n",
      "\t\"NAME\" VARCHAR, \n",
      "\tPRIMARY KEY (\"ID\")\n",
      ")\n",
      "\n",
      "\n",
      "2020-07-15 11:09:12,982 INFO sqlalchemy.engine.base.Engine ()\n",
      "2020-07-15 11:09:12,991 INFO sqlalchemy.engine.base.Engine COMMIT\n",
      "2020-07-15 11:09:12,992 INFO sqlalchemy.engine.base.Engine \n",
      "CREATE TABLE \"ALBUM\" (\n",
      "\t\"ID\" INTEGER NOT NULL, \n",
      "\t\"NAME\" VARCHAR, \n",
      "\t\"FK\" INTEGER, \n",
      "\tPRIMARY KEY (\"ID\"), \n",
      "\tFOREIGN KEY(\"FK\") REFERENCES \"ARTIST\" (\"ID\")\n",
      ")\n",
      "\n",
      "\n",
      "2020-07-15 11:09:12,992 INFO sqlalchemy.engine.base.Engine ()\n",
      "2020-07-15 11:09:13,001 INFO sqlalchemy.engine.base.Engine COMMIT\n",
      "2020-07-15 11:09:13,002 INFO sqlalchemy.engine.base.Engine \n",
      "CREATE TABLE \"TRACK\" (\n",
      "\t\"ID\" INTEGER NOT NULL, \n",
      "\t\"NAME\" VARCHAR, \n",
      "\t\"FK1\" INTEGER, \n",
      "\t\"FK2\" INTEGER, \n",
      "\tPRIMARY KEY (\"ID\"), \n",
      "\tFOREIGN KEY(\"FK1\") REFERENCES \"ALBUM\" (\"ID\"), \n",
      "\tFOREIGN KEY(\"FK2\") REFERENCES \"GENRE\" (\"ID\")\n",
      ")\n",
      "\n",
      "\n",
      "2020-07-15 11:09:13,002 INFO sqlalchemy.engine.base.Engine ()\n",
      "2020-07-15 11:09:13,012 INFO sqlalchemy.engine.base.Engine COMMIT\n"
     ]
    }
   ],
   "source": [
    "# in-memory Table 객체들 -> 실제 database Table로 생성\n",
    "base.metadata.create_all(bind=engine)"
   ]
  },
  {
   "cell_type": "code",
   "execution_count": 8,
   "metadata": {},
   "outputs": [
    {
     "name": "stdout",
     "output_type": "stream",
     "text": [
      "2020-07-15 11:09:13,354 INFO sqlalchemy.engine.base.Engine BEGIN (implicit)\n",
      "2020-07-15 11:09:13,356 INFO sqlalchemy.engine.base.Engine INSERT INTO \"ARTIST\" (\"NAME\") VALUES (?)\n",
      "2020-07-15 11:09:13,356 INFO sqlalchemy.engine.base.Engine ('1',)\n",
      "2020-07-15 11:09:13,360 INFO sqlalchemy.engine.base.Engine INSERT INTO \"ARTIST\" (\"NAME\") VALUES (?)\n",
      "2020-07-15 11:09:13,361 INFO sqlalchemy.engine.base.Engine ('2',)\n",
      "2020-07-15 11:09:13,362 INFO sqlalchemy.engine.base.Engine COMMIT\n"
     ]
    }
   ],
   "source": [
    "a1 = Artist(name = '1')\n",
    "a2 = Artist(name = '2')\n",
    "session.add_all([a1, a2])\n",
    "session.commit()"
   ]
  },
  {
   "cell_type": "code",
   "execution_count": 9,
   "metadata": {},
   "outputs": [
    {
     "name": "stdout",
     "output_type": "stream",
     "text": [
      "2020-07-15 11:09:13,875 INFO sqlalchemy.engine.base.Engine BEGIN (implicit)\n",
      "2020-07-15 11:09:13,877 INFO sqlalchemy.engine.base.Engine INSERT INTO \"GENRE\" (\"NAME\") VALUES (?)\n",
      "2020-07-15 11:09:13,877 INFO sqlalchemy.engine.base.Engine ('g1',)\n",
      "2020-07-15 11:09:13,880 INFO sqlalchemy.engine.base.Engine INSERT INTO \"GENRE\" (\"NAME\") VALUES (?)\n",
      "2020-07-15 11:09:13,880 INFO sqlalchemy.engine.base.Engine ('g2',)\n",
      "2020-07-15 11:09:13,881 INFO sqlalchemy.engine.base.Engine COMMIT\n"
     ]
    }
   ],
   "source": [
    "g1 = Genre(name = 'g1')\n",
    "g2 = Genre(name = 'g2')\n",
    "session.add_all([g1,g2])\n",
    "session.commit()"
   ]
  },
  {
   "cell_type": "code",
   "execution_count": 10,
   "metadata": {},
   "outputs": [
    {
     "name": "stdout",
     "output_type": "stream",
     "text": [
      "2020-07-15 11:09:14,296 INFO sqlalchemy.engine.base.Engine BEGIN (implicit)\n",
      "2020-07-15 11:09:14,299 INFO sqlalchemy.engine.base.Engine SELECT \"ARTIST\".\"ID\" AS \"ARTIST_ID\", \"ARTIST\".\"NAME\" AS \"ARTIST_NAME\" \n",
      "FROM \"ARTIST\" \n",
      "WHERE \"ARTIST\".\"ID\" = ?\n",
      "2020-07-15 11:09:14,300 INFO sqlalchemy.engine.base.Engine (1,)\n",
      "2020-07-15 11:09:14,302 INFO sqlalchemy.engine.base.Engine SELECT \"ARTIST\".\"ID\" AS \"ARTIST_ID\", \"ARTIST\".\"NAME\" AS \"ARTIST_NAME\" \n",
      "FROM \"ARTIST\" \n",
      "WHERE \"ARTIST\".\"ID\" = ?\n",
      "2020-07-15 11:09:14,303 INFO sqlalchemy.engine.base.Engine (2,)\n",
      "2020-07-15 11:09:14,305 INFO sqlalchemy.engine.base.Engine INSERT INTO \"ALBUM\" (\"NAME\", \"FK\") VALUES (?, ?)\n",
      "2020-07-15 11:09:14,305 INFO sqlalchemy.engine.base.Engine ('album1', 1)\n",
      "2020-07-15 11:09:14,307 INFO sqlalchemy.engine.base.Engine INSERT INTO \"ALBUM\" (\"NAME\", \"FK\") VALUES (?, ?)\n",
      "2020-07-15 11:09:14,308 INFO sqlalchemy.engine.base.Engine ('album2', 2)\n",
      "2020-07-15 11:09:14,309 INFO sqlalchemy.engine.base.Engine COMMIT\n"
     ]
    }
   ],
   "source": [
    "session.add_all([\n",
    "    Album(name = 'album1', fk = a1.pk),\n",
    "    Album(name = 'album2', fk = a2.pk)\n",
    "])\n",
    "session.commit()"
   ]
  },
  {
   "cell_type": "code",
   "execution_count": 11,
   "metadata": {},
   "outputs": [
    {
     "name": "stdout",
     "output_type": "stream",
     "text": [
      "2020-07-15 11:09:14,624 INFO sqlalchemy.engine.base.Engine BEGIN (implicit)\n",
      "2020-07-15 11:09:14,625 INFO sqlalchemy.engine.base.Engine SELECT \"ARTIST\".\"ID\" AS \"ARTIST_ID\", \"ARTIST\".\"NAME\" AS \"ARTIST_NAME\" \n",
      "FROM \"ARTIST\" \n",
      "WHERE \"ARTIST\".\"ID\" = ?\n",
      "2020-07-15 11:09:14,626 INFO sqlalchemy.engine.base.Engine (1,)\n",
      "2020-07-15 11:09:14,628 INFO sqlalchemy.engine.base.Engine SELECT \"ALBUM\".\"ID\" AS \"ALBUM_ID\", \"ALBUM\".\"NAME\" AS \"ALBUM_NAME\", \"ALBUM\".\"FK\" AS \"ALBUM_FK\" \n",
      "FROM \"ALBUM\" \n",
      "WHERE \"ALBUM\".\"FK\" = ?\n",
      "2020-07-15 11:09:14,629 INFO sqlalchemy.engine.base.Engine (1,)\n",
      "2020-07-15 11:09:14,631 INFO sqlalchemy.engine.base.Engine SELECT \"ARTIST\".\"ID\" AS \"ARTIST_ID\", \"ARTIST\".\"NAME\" AS \"ARTIST_NAME\" \n",
      "FROM \"ARTIST\" \n",
      "WHERE \"ARTIST\".\"ID\" = ?\n",
      "2020-07-15 11:09:14,631 INFO sqlalchemy.engine.base.Engine (2,)\n",
      "2020-07-15 11:09:14,633 INFO sqlalchemy.engine.base.Engine SELECT \"ALBUM\".\"ID\" AS \"ALBUM_ID\", \"ALBUM\".\"NAME\" AS \"ALBUM_NAME\", \"ALBUM\".\"FK\" AS \"ALBUM_FK\" \n",
      "FROM \"ALBUM\" \n",
      "WHERE \"ALBUM\".\"FK\" = ?\n",
      "2020-07-15 11:09:14,634 INFO sqlalchemy.engine.base.Engine (2,)\n"
     ]
    }
   ],
   "source": [
    "a11 = session.query(Album).filter(Album.fk == a1.pk).one()\n",
    "a12 = session.query(Album).filter(Album.fk == a2.pk).one()"
   ]
  },
  {
   "cell_type": "code",
   "execution_count": 12,
   "metadata": {},
   "outputs": [
    {
     "name": "stdout",
     "output_type": "stream",
     "text": [
      "2020-07-15 11:09:14,937 INFO sqlalchemy.engine.base.Engine SELECT \"GENRE\".\"ID\" AS \"GENRE_ID\", \"GENRE\".\"NAME\" AS \"GENRE_NAME\" \n",
      "FROM \"GENRE\" \n",
      "WHERE \"GENRE\".\"ID\" = ?\n",
      "2020-07-15 11:09:14,938 INFO sqlalchemy.engine.base.Engine (1,)\n",
      "2020-07-15 11:09:14,940 INFO sqlalchemy.engine.base.Engine SELECT \"GENRE\".\"ID\" AS \"GENRE_ID\", \"GENRE\".\"NAME\" AS \"GENRE_NAME\" \n",
      "FROM \"GENRE\" \n",
      "WHERE \"GENRE\".\"ID\" = ?\n",
      "2020-07-15 11:09:14,940 INFO sqlalchemy.engine.base.Engine (2,)\n",
      "2020-07-15 11:09:14,942 INFO sqlalchemy.engine.base.Engine INSERT INTO \"TRACK\" (\"NAME\", \"FK1\", \"FK2\") VALUES (?, ?, ?)\n",
      "2020-07-15 11:09:14,943 INFO sqlalchemy.engine.base.Engine ('track1', 1, 1)\n",
      "2020-07-15 11:09:14,945 INFO sqlalchemy.engine.base.Engine INSERT INTO \"TRACK\" (\"NAME\", \"FK1\", \"FK2\") VALUES (?, ?, ?)\n",
      "2020-07-15 11:09:14,946 INFO sqlalchemy.engine.base.Engine ('track2', 2, 2)\n",
      "2020-07-15 11:09:14,947 INFO sqlalchemy.engine.base.Engine INSERT INTO \"TRACK\" (\"NAME\", \"FK1\", \"FK2\") VALUES (?, ?, ?)\n",
      "2020-07-15 11:09:14,948 INFO sqlalchemy.engine.base.Engine ('track3', 1, 1)\n",
      "2020-07-15 11:09:14,948 INFO sqlalchemy.engine.base.Engine INSERT INTO \"TRACK\" (\"NAME\", \"FK1\", \"FK2\") VALUES (?, ?, ?)\n",
      "2020-07-15 11:09:14,949 INFO sqlalchemy.engine.base.Engine ('track4', 2, 2)\n",
      "2020-07-15 11:09:14,950 INFO sqlalchemy.engine.base.Engine COMMIT\n"
     ]
    }
   ],
   "source": [
    "session.add_all([\n",
    "    Track(name='track1', fk1=a11.pk, fk2=g1.pk),\n",
    "    Track(name='track2', fk1=a12.pk, fk2=g2.pk),\n",
    "    Track(name='track3', fk1=a11.pk, fk2=g1.pk),\n",
    "    Track(name='track4', fk1=a12.pk, fk2=g2.pk)\n",
    "])\n",
    "session.commit()"
   ]
  },
  {
   "cell_type": "code",
   "execution_count": 13,
   "metadata": {},
   "outputs": [
    {
     "name": "stdout",
     "output_type": "stream",
     "text": [
      "2020-07-15 11:09:15,276 INFO sqlalchemy.engine.base.Engine BEGIN (implicit)\n",
      "2020-07-15 11:09:15,277 INFO sqlalchemy.engine.base.Engine SELECT \"TRACK\".\"ID\" AS \"TRACK_ID\", \"TRACK\".\"NAME\" AS \"TRACK_NAME\", \"TRACK\".\"FK1\" AS \"TRACK_FK1\", \"TRACK\".\"FK2\" AS \"TRACK_FK2\" \n",
      "FROM \"TRACK\"\n",
      "2020-07-15 11:09:15,277 INFO sqlalchemy.engine.base.Engine ()\n"
     ]
    },
    {
     "data": {
      "text/plain": [
       "[PK:1, NAME : track1, FK1 : 1, FK2 : 1,\n",
       " PK:2, NAME : track2, FK1 : 2, FK2 : 2,\n",
       " PK:3, NAME : track3, FK1 : 1, FK2 : 1,\n",
       " PK:4, NAME : track4, FK1 : 2, FK2 : 2]"
      ]
     },
     "execution_count": 13,
     "metadata": {},
     "output_type": "execute_result"
    }
   ],
   "source": [
    "list(session.query(Track))"
   ]
  },
  {
   "cell_type": "code",
   "execution_count": 14,
   "metadata": {},
   "outputs": [
    {
     "name": "stdout",
     "output_type": "stream",
     "text": [
      "2020-07-15 11:09:15,623 INFO sqlalchemy.engine.base.Engine SELECT \"TRACK\".\"ID\" AS \"TRACK_ID\", \"TRACK\".\"NAME\" AS \"TRACK_NAME\", \"TRACK\".\"FK1\" AS \"TRACK_FK1\", \"TRACK\".\"FK2\" AS \"TRACK_FK2\" \n",
      "FROM \"TRACK\"\n",
      "2020-07-15 11:09:15,624 INFO sqlalchemy.engine.base.Engine ()\n"
     ]
    }
   ],
   "source": [
    "tracklist = session.query(Track).all()"
   ]
  },
  {
   "cell_type": "code",
   "execution_count": 15,
   "metadata": {},
   "outputs": [
    {
     "name": "stdout",
     "output_type": "stream",
     "text": [
      "2020-07-15 11:09:16,158 INFO sqlalchemy.engine.base.Engine SELECT \"ARTIST\".\"ID\" AS \"ARTIST_ID\", \"ARTIST\".\"NAME\" AS \"ARTIST_NAME\" \n",
      "FROM \"ARTIST\" \n",
      "WHERE \"ARTIST\".\"ID\" = ?\n",
      "2020-07-15 11:09:16,158 INFO sqlalchemy.engine.base.Engine (1,)\n",
      "2020-07-15 11:09:16,160 INFO sqlalchemy.engine.base.Engine SELECT \"ARTIST\".\"ID\" AS \"ARTIST_ID\", \"ARTIST\".\"NAME\" AS \"ARTIST_NAME\" \n",
      "FROM \"ARTIST\" \n",
      "WHERE \"ARTIST\".\"ID\" = ?\n",
      "2020-07-15 11:09:16,161 INFO sqlalchemy.engine.base.Engine (2,)\n",
      "2020-07-15 11:09:16,163 INFO sqlalchemy.engine.base.Engine SELECT \"ALBUM\".\"ID\" AS \"ALBUM_ID\", \"ALBUM\".\"NAME\" AS \"ALBUM_NAME\", \"ALBUM\".\"FK\" AS \"ALBUM_FK\" \n",
      "FROM \"ALBUM\" \n",
      "WHERE \"ALBUM\".\"ID\" = ?\n",
      "2020-07-15 11:09:16,164 INFO sqlalchemy.engine.base.Engine (1,)\n",
      "2020-07-15 11:09:16,166 INFO sqlalchemy.engine.base.Engine SELECT \"ALBUM\".\"ID\" AS \"ALBUM_ID\", \"ALBUM\".\"NAME\" AS \"ALBUM_NAME\", \"ALBUM\".\"FK\" AS \"ALBUM_FK\" \n",
      "FROM \"ALBUM\" \n",
      "WHERE \"ALBUM\".\"ID\" = ?\n",
      "2020-07-15 11:09:16,167 INFO sqlalchemy.engine.base.Engine (2,)\n",
      "2020-07-15 11:09:16,169 INFO sqlalchemy.engine.base.Engine SELECT \"GENRE\".\"ID\" AS \"GENRE_ID\", \"GENRE\".\"NAME\" AS \"GENRE_NAME\" \n",
      "FROM \"GENRE\" \n",
      "WHERE \"GENRE\".\"ID\" = ?\n",
      "2020-07-15 11:09:16,169 INFO sqlalchemy.engine.base.Engine (1,)\n",
      "2020-07-15 11:09:16,171 INFO sqlalchemy.engine.base.Engine SELECT \"GENRE\".\"ID\" AS \"GENRE_ID\", \"GENRE\".\"NAME\" AS \"GENRE_NAME\" \n",
      "FROM \"GENRE\" \n",
      "WHERE \"GENRE\".\"ID\" = ?\n",
      "2020-07-15 11:09:16,171 INFO sqlalchemy.engine.base.Engine (2,)\n"
     ]
    },
    {
     "data": {
      "text/plain": [
       "(PK:1, NAME : 1,\n",
       " PK:2, NAME : 2,\n",
       " PK:1, NAME : album1, FK : 1,\n",
       " PK:2, NAME : album2, FK : 2,\n",
       " PK:1, NAME : g1,\n",
       " PK:2, NAME : g2,\n",
       " [PK:1, NAME : track1, FK1 : 1, FK2 : 1,\n",
       "  PK:2, NAME : track2, FK1 : 2, FK2 : 2,\n",
       "  PK:3, NAME : track3, FK1 : 1, FK2 : 1,\n",
       "  PK:4, NAME : track4, FK1 : 2, FK2 : 2])"
      ]
     },
     "execution_count": 15,
     "metadata": {},
     "output_type": "execute_result"
    }
   ],
   "source": [
    "a1, a2, a11, a12, g1, g2, tracklist"
   ]
  },
  {
   "cell_type": "code",
   "execution_count": 48,
   "metadata": {},
   "outputs": [
    {
     "name": "stdout",
     "output_type": "stream",
     "text": [
      "2020-07-15 11:31:58,671 INFO sqlalchemy.engine.base.Engine BEGIN (implicit)\n",
      "2020-07-15 11:31:58,673 INFO sqlalchemy.engine.base.Engine SELECT \"ARTIST\".\"NAME\" AS \"ARTIST_NAME\", \"ALBUM\".\"NAME\" AS \"ALBUM_NAME\", \"GENRE\".\"NAME\" AS \"GENRE_NAME\", \"TRACK\".\"NAME\" AS \"TRACK_NAME\" \n",
      "FROM \"TRACK\" JOIN \"GENRE\" ON \"GENRE\".\"ID\" = \"TRACK\".\"FK2\" JOIN \"ALBUM\" ON \"ALBUM\".\"ID\" = \"TRACK\".\"FK1\" JOIN \"ARTIST\" ON \"ARTIST\".\"ID\" = \"ALBUM\".\"FK\"\n",
      "2020-07-15 11:31:58,675 INFO sqlalchemy.engine.base.Engine ()\n",
      "['Artist:1, Album:album1, Genre:g1, Track:track1']\n",
      "['Artist:2, Album:album2, Genre:g2, Track:track2']\n",
      "['Artist:1, Album:album1, Genre:g1, Track:track3']\n",
      "['Artist:2, Album:album2, Genre:g2, Track:track4']\n"
     ]
    }
   ],
   "source": [
    "result = session.query(Artist.name, Album.name, Genre.name, Track.name)\\\n",
    ".select_from(Track)\\\n",
    ".join(Genre).join(Album).join(Artist).all()\n",
    "for _ in result:\n",
    "    print(['Artist:{0}, Album:{1}, Genre:{2}, Track:{3}'.format(\n",
    "    _[0],_[1],_[2],_[3])])"
   ]
  },
  {
   "cell_type": "code",
   "execution_count": 90,
   "metadata": {},
   "outputs": [
    {
     "data": {
      "text/plain": [
       "immutabledict({'Artist': Table('Artist', MetaData(bind=Engine(sqlite:///ex4.db)), Column('ID', Integer(), table=<Artist>, primary_key=True, nullable=False), Column('NAME', String(), table=<Artist>), schema=None), 'Genre': Table('Genre', MetaData(bind=Engine(sqlite:///ex4.db)), Column('ID', Integer(), table=<Genre>, primary_key=True, nullable=False), Column('NAME', String(), table=<Genre>), schema=None), 'ALBUM': Table('ALBUM', MetaData(bind=Engine(sqlite:///ex4.db)), Column('ID', Integer(), table=<ALBUM>, primary_key=True, nullable=False), Column('NAME', String(), table=<ALBUM>), Column('FK', Integer(), ForeignKey('ARTIST.ID'), table=<ALBUM>), schema=None), 'Track': Table('Track', MetaData(bind=Engine(sqlite:///ex4.db)), Column('ID', Integer(), table=<Track>, primary_key=True, nullable=False), Column('NAME', String(), table=<Track>), Column('FK1', Integer(), ForeignKey('ALBUM.ID'), table=<Track>), Column('FK2', Integer(), ForeignKey('GENRE.ID'), table=<Track>), schema=None)})"
      ]
     },
     "execution_count": 90,
     "metadata": {},
     "output_type": "execute_result"
    }
   ],
   "source": [
    "base.metadata.tables"
   ]
  },
  {
   "cell_type": "code",
   "execution_count": 14,
   "metadata": {},
   "outputs": [],
   "source": [
    "base.metadata.clear()"
   ]
  },
  {
   "cell_type": "markdown",
   "metadata": {},
   "source": [
    "### Relationship"
   ]
  },
  {
   "cell_type": "code",
   "execution_count": 1,
   "metadata": {},
   "outputs": [],
   "source": [
    "from sqlalchemy import create_engine, Column, Integer, String, ForeignKey\n",
    "from sqlalchemy.ext.declarative import declarative_base\n",
    "from sqlalchemy.orm import relationship, backref"
   ]
  },
  {
   "cell_type": "code",
   "execution_count": 2,
   "metadata": {},
   "outputs": [],
   "source": [
    "engine = create_engine('sqlite:///ex4.db', echo = True)\n",
    "base = declarative_base(bind = engine)"
   ]
  },
  {
   "cell_type": "code",
   "execution_count": 3,
   "metadata": {},
   "outputs": [],
   "source": [
    "from sqlalchemy.orm import sessionmaker\n",
    "Session = sessionmaker(bind=engine)\n",
    "session = Session()"
   ]
  },
  {
   "cell_type": "code",
   "execution_count": 4,
   "metadata": {},
   "outputs": [],
   "source": [
    "class Artist(base):\n",
    "    __tablename__ = 'Artist'\n",
    "    \n",
    "    pk = Column('ID', Integer, primary_key = True)\n",
    "    name = Column('NAME', String)\n",
    "    albumlist = relationship('Album', back_populates='artist')\n",
    "    \n",
    "    def __repr__(self):\n",
    "        return 'PK:{0}, NAME : {1}'.format(self.pk, self.name)\n",
    "\n",
    "class Genre(base):\n",
    "    __tablename__ = 'Genre'\n",
    "    \n",
    "    pk = Column('ID', Integer, primary_key = True)\n",
    "    name = Column('NAME', String)\n",
    "    tracklist = relationship('Track', back_populates='genre')\n",
    "    \n",
    "    def __repr__(self):\n",
    "        return 'PK:{0}, NAME : {1}'.format(self.pk, self.name)\n",
    "\n",
    "class Album(base):\n",
    "    __tablename__ = 'Album'\n",
    "    \n",
    "    pk = Column('ID', Integer, primary_key = True)\n",
    "    name = Column('NAME', String)\n",
    "    fk = Column('FK', Integer, ForeignKey('Artist.ID'))\n",
    "    artist = relationship('Artist', back_populates='albumlist', uselist = False)\n",
    "    tracklist = relationship('Track', back_populates='album')\n",
    "    \n",
    "    def __repr__(self):\n",
    "        return 'PK:{0}, NAME : {1}, FK : {2}'.format(self.pk, self.name, self.fk)\n",
    "\n",
    "class Track(base):\n",
    "    __tablename__ = 'Track'\n",
    "    \n",
    "    pk = Column('ID', Integer, primary_key = True)\n",
    "    name = Column('NAME', String)\n",
    "    fk1 = Column('FK1', Integer, ForeignKey('Album.ID'))\n",
    "    fk2 = Column('FK2', Integer, ForeignKey('Genre.ID'))\n",
    "    album = relationship('Album', back_populates='tracklist', uselist=False)\n",
    "    genre = relationship('Genre', back_populates='tracklist', uselist=False)\n",
    "    \n",
    "    \n",
    "    def __repr__(self):\n",
    "        return 'PK:{0}, NAME : {1}, FK1 : {2}, FK2 : {3}'.format(self.pk, self.name, self.fk1, self.fk2)"
   ]
  },
  {
   "cell_type": "code",
   "execution_count": null,
   "metadata": {},
   "outputs": [],
   "source": []
  },
  {
   "cell_type": "code",
   "execution_count": 5,
   "metadata": {
    "scrolled": false
   },
   "outputs": [
    {
     "name": "stdout",
     "output_type": "stream",
     "text": [
      "2020-07-15 11:52:44,544 INFO sqlalchemy.engine.base.Engine SELECT CAST('test plain returns' AS VARCHAR(60)) AS anon_1\n",
      "2020-07-15 11:52:44,551 INFO sqlalchemy.engine.base.Engine ()\n",
      "2020-07-15 11:52:44,552 INFO sqlalchemy.engine.base.Engine SELECT CAST('test unicode returns' AS VARCHAR(60)) AS anon_1\n",
      "2020-07-15 11:52:44,553 INFO sqlalchemy.engine.base.Engine ()\n",
      "2020-07-15 11:52:44,554 INFO sqlalchemy.engine.base.Engine BEGIN (implicit)\n",
      "2020-07-15 11:52:44,555 INFO sqlalchemy.engine.base.Engine SELECT \"Artist\".\"ID\" AS \"Artist_ID\", \"Artist\".\"NAME\" AS \"Artist_NAME\" \n",
      "FROM \"Artist\"\n",
      "2020-07-15 11:52:44,556 INFO sqlalchemy.engine.base.Engine ()\n"
     ]
    },
    {
     "ename": "OperationalError",
     "evalue": "(sqlite3.OperationalError) no such table: Artist\n[SQL: SELECT \"Artist\".\"ID\" AS \"Artist_ID\", \"Artist\".\"NAME\" AS \"Artist_NAME\" \nFROM \"Artist\"]\n(Background on this error at: http://sqlalche.me/e/e3q8)",
     "output_type": "error",
     "traceback": [
      "\u001b[1;31m---------------------------------------------------------------------------\u001b[0m",
      "\u001b[1;31mOperationalError\u001b[0m                          Traceback (most recent call last)",
      "\u001b[1;32m~\\Anaconda3\\lib\\site-packages\\sqlalchemy\\engine\\base.py\u001b[0m in \u001b[0;36m_execute_context\u001b[1;34m(self, dialect, constructor, statement, parameters, *args)\u001b[0m\n\u001b[0;32m   1243\u001b[0m                     self.dialect.do_execute(\n\u001b[1;32m-> 1244\u001b[1;33m                         \u001b[0mcursor\u001b[0m\u001b[1;33m,\u001b[0m \u001b[0mstatement\u001b[0m\u001b[1;33m,\u001b[0m \u001b[0mparameters\u001b[0m\u001b[1;33m,\u001b[0m \u001b[0mcontext\u001b[0m\u001b[1;33m\u001b[0m\u001b[1;33m\u001b[0m\u001b[0m\n\u001b[0m\u001b[0;32m   1245\u001b[0m                     )\n",
      "\u001b[1;32m~\\Anaconda3\\lib\\site-packages\\sqlalchemy\\engine\\default.py\u001b[0m in \u001b[0;36mdo_execute\u001b[1;34m(self, cursor, statement, parameters, context)\u001b[0m\n\u001b[0;32m    549\u001b[0m     \u001b[1;32mdef\u001b[0m \u001b[0mdo_execute\u001b[0m\u001b[1;33m(\u001b[0m\u001b[0mself\u001b[0m\u001b[1;33m,\u001b[0m \u001b[0mcursor\u001b[0m\u001b[1;33m,\u001b[0m \u001b[0mstatement\u001b[0m\u001b[1;33m,\u001b[0m \u001b[0mparameters\u001b[0m\u001b[1;33m,\u001b[0m \u001b[0mcontext\u001b[0m\u001b[1;33m=\u001b[0m\u001b[1;32mNone\u001b[0m\u001b[1;33m)\u001b[0m\u001b[1;33m:\u001b[0m\u001b[1;33m\u001b[0m\u001b[1;33m\u001b[0m\u001b[0m\n\u001b[1;32m--> 550\u001b[1;33m         \u001b[0mcursor\u001b[0m\u001b[1;33m.\u001b[0m\u001b[0mexecute\u001b[0m\u001b[1;33m(\u001b[0m\u001b[0mstatement\u001b[0m\u001b[1;33m,\u001b[0m \u001b[0mparameters\u001b[0m\u001b[1;33m)\u001b[0m\u001b[1;33m\u001b[0m\u001b[1;33m\u001b[0m\u001b[0m\n\u001b[0m\u001b[0;32m    551\u001b[0m \u001b[1;33m\u001b[0m\u001b[0m\n",
      "\u001b[1;31mOperationalError\u001b[0m: no such table: Artist",
      "\nThe above exception was the direct cause of the following exception:\n",
      "\u001b[1;31mOperationalError\u001b[0m                          Traceback (most recent call last)",
      "\u001b[1;32m<ipython-input-5-7424568c203a>\u001b[0m in \u001b[0;36m<module>\u001b[1;34m\u001b[0m\n\u001b[1;32m----> 1\u001b[1;33m \u001b[0msession\u001b[0m\u001b[1;33m.\u001b[0m\u001b[0mquery\u001b[0m\u001b[1;33m(\u001b[0m\u001b[0mArtist\u001b[0m\u001b[1;33m)\u001b[0m\u001b[1;33m.\u001b[0m\u001b[0mone\u001b[0m\u001b[1;33m(\u001b[0m\u001b[1;33m)\u001b[0m\u001b[1;33m\u001b[0m\u001b[1;33m\u001b[0m\u001b[0m\n\u001b[0m",
      "\u001b[1;32m~\\Anaconda3\\lib\\site-packages\\sqlalchemy\\orm\\query.py\u001b[0m in \u001b[0;36mone\u001b[1;34m(self)\u001b[0m\n\u001b[0;32m   3280\u001b[0m         \"\"\"\n\u001b[0;32m   3281\u001b[0m         \u001b[1;32mtry\u001b[0m\u001b[1;33m:\u001b[0m\u001b[1;33m\u001b[0m\u001b[1;33m\u001b[0m\u001b[0m\n\u001b[1;32m-> 3282\u001b[1;33m             \u001b[0mret\u001b[0m \u001b[1;33m=\u001b[0m \u001b[0mself\u001b[0m\u001b[1;33m.\u001b[0m\u001b[0mone_or_none\u001b[0m\u001b[1;33m(\u001b[0m\u001b[1;33m)\u001b[0m\u001b[1;33m\u001b[0m\u001b[1;33m\u001b[0m\u001b[0m\n\u001b[0m\u001b[0;32m   3283\u001b[0m         \u001b[1;32mexcept\u001b[0m \u001b[0morm_exc\u001b[0m\u001b[1;33m.\u001b[0m\u001b[0mMultipleResultsFound\u001b[0m\u001b[1;33m:\u001b[0m\u001b[1;33m\u001b[0m\u001b[1;33m\u001b[0m\u001b[0m\n\u001b[0;32m   3284\u001b[0m             raise orm_exc.MultipleResultsFound(\n",
      "\u001b[1;32m~\\Anaconda3\\lib\\site-packages\\sqlalchemy\\orm\\query.py\u001b[0m in \u001b[0;36mone_or_none\u001b[1;34m(self)\u001b[0m\n\u001b[0;32m   3249\u001b[0m \u001b[1;33m\u001b[0m\u001b[0m\n\u001b[0;32m   3250\u001b[0m         \"\"\"\n\u001b[1;32m-> 3251\u001b[1;33m         \u001b[0mret\u001b[0m \u001b[1;33m=\u001b[0m \u001b[0mlist\u001b[0m\u001b[1;33m(\u001b[0m\u001b[0mself\u001b[0m\u001b[1;33m)\u001b[0m\u001b[1;33m\u001b[0m\u001b[1;33m\u001b[0m\u001b[0m\n\u001b[0m\u001b[0;32m   3252\u001b[0m \u001b[1;33m\u001b[0m\u001b[0m\n\u001b[0;32m   3253\u001b[0m         \u001b[0ml\u001b[0m \u001b[1;33m=\u001b[0m \u001b[0mlen\u001b[0m\u001b[1;33m(\u001b[0m\u001b[0mret\u001b[0m\u001b[1;33m)\u001b[0m\u001b[1;33m\u001b[0m\u001b[1;33m\u001b[0m\u001b[0m\n",
      "\u001b[1;32m~\\Anaconda3\\lib\\site-packages\\sqlalchemy\\orm\\query.py\u001b[0m in \u001b[0;36m__iter__\u001b[1;34m(self)\u001b[0m\n\u001b[0;32m   3322\u001b[0m         \u001b[1;32mif\u001b[0m \u001b[0mself\u001b[0m\u001b[1;33m.\u001b[0m\u001b[0m_autoflush\u001b[0m \u001b[1;32mand\u001b[0m \u001b[1;32mnot\u001b[0m \u001b[0mself\u001b[0m\u001b[1;33m.\u001b[0m\u001b[0m_populate_existing\u001b[0m\u001b[1;33m:\u001b[0m\u001b[1;33m\u001b[0m\u001b[1;33m\u001b[0m\u001b[0m\n\u001b[0;32m   3323\u001b[0m             \u001b[0mself\u001b[0m\u001b[1;33m.\u001b[0m\u001b[0msession\u001b[0m\u001b[1;33m.\u001b[0m\u001b[0m_autoflush\u001b[0m\u001b[1;33m(\u001b[0m\u001b[1;33m)\u001b[0m\u001b[1;33m\u001b[0m\u001b[1;33m\u001b[0m\u001b[0m\n\u001b[1;32m-> 3324\u001b[1;33m         \u001b[1;32mreturn\u001b[0m \u001b[0mself\u001b[0m\u001b[1;33m.\u001b[0m\u001b[0m_execute_and_instances\u001b[0m\u001b[1;33m(\u001b[0m\u001b[0mcontext\u001b[0m\u001b[1;33m)\u001b[0m\u001b[1;33m\u001b[0m\u001b[1;33m\u001b[0m\u001b[0m\n\u001b[0m\u001b[0;32m   3325\u001b[0m \u001b[1;33m\u001b[0m\u001b[0m\n\u001b[0;32m   3326\u001b[0m     \u001b[1;32mdef\u001b[0m \u001b[0m__str__\u001b[0m\u001b[1;33m(\u001b[0m\u001b[0mself\u001b[0m\u001b[1;33m)\u001b[0m\u001b[1;33m:\u001b[0m\u001b[1;33m\u001b[0m\u001b[1;33m\u001b[0m\u001b[0m\n",
      "\u001b[1;32m~\\Anaconda3\\lib\\site-packages\\sqlalchemy\\orm\\query.py\u001b[0m in \u001b[0;36m_execute_and_instances\u001b[1;34m(self, querycontext)\u001b[0m\n\u001b[0;32m   3347\u001b[0m         )\n\u001b[0;32m   3348\u001b[0m \u001b[1;33m\u001b[0m\u001b[0m\n\u001b[1;32m-> 3349\u001b[1;33m         \u001b[0mresult\u001b[0m \u001b[1;33m=\u001b[0m \u001b[0mconn\u001b[0m\u001b[1;33m.\u001b[0m\u001b[0mexecute\u001b[0m\u001b[1;33m(\u001b[0m\u001b[0mquerycontext\u001b[0m\u001b[1;33m.\u001b[0m\u001b[0mstatement\u001b[0m\u001b[1;33m,\u001b[0m \u001b[0mself\u001b[0m\u001b[1;33m.\u001b[0m\u001b[0m_params\u001b[0m\u001b[1;33m)\u001b[0m\u001b[1;33m\u001b[0m\u001b[1;33m\u001b[0m\u001b[0m\n\u001b[0m\u001b[0;32m   3350\u001b[0m         \u001b[1;32mreturn\u001b[0m \u001b[0mloading\u001b[0m\u001b[1;33m.\u001b[0m\u001b[0minstances\u001b[0m\u001b[1;33m(\u001b[0m\u001b[0mquerycontext\u001b[0m\u001b[1;33m.\u001b[0m\u001b[0mquery\u001b[0m\u001b[1;33m,\u001b[0m \u001b[0mresult\u001b[0m\u001b[1;33m,\u001b[0m \u001b[0mquerycontext\u001b[0m\u001b[1;33m)\u001b[0m\u001b[1;33m\u001b[0m\u001b[1;33m\u001b[0m\u001b[0m\n\u001b[0;32m   3351\u001b[0m \u001b[1;33m\u001b[0m\u001b[0m\n",
      "\u001b[1;32m~\\Anaconda3\\lib\\site-packages\\sqlalchemy\\engine\\base.py\u001b[0m in \u001b[0;36mexecute\u001b[1;34m(self, object_, *multiparams, **params)\u001b[0m\n\u001b[0;32m    986\u001b[0m             \u001b[1;32mraise\u001b[0m \u001b[0mexc\u001b[0m\u001b[1;33m.\u001b[0m\u001b[0mObjectNotExecutableError\u001b[0m\u001b[1;33m(\u001b[0m\u001b[0mobject_\u001b[0m\u001b[1;33m)\u001b[0m\u001b[1;33m\u001b[0m\u001b[1;33m\u001b[0m\u001b[0m\n\u001b[0;32m    987\u001b[0m         \u001b[1;32melse\u001b[0m\u001b[1;33m:\u001b[0m\u001b[1;33m\u001b[0m\u001b[1;33m\u001b[0m\u001b[0m\n\u001b[1;32m--> 988\u001b[1;33m             \u001b[1;32mreturn\u001b[0m \u001b[0mmeth\u001b[0m\u001b[1;33m(\u001b[0m\u001b[0mself\u001b[0m\u001b[1;33m,\u001b[0m \u001b[0mmultiparams\u001b[0m\u001b[1;33m,\u001b[0m \u001b[0mparams\u001b[0m\u001b[1;33m)\u001b[0m\u001b[1;33m\u001b[0m\u001b[1;33m\u001b[0m\u001b[0m\n\u001b[0m\u001b[0;32m    989\u001b[0m \u001b[1;33m\u001b[0m\u001b[0m\n\u001b[0;32m    990\u001b[0m     \u001b[1;32mdef\u001b[0m \u001b[0m_execute_function\u001b[0m\u001b[1;33m(\u001b[0m\u001b[0mself\u001b[0m\u001b[1;33m,\u001b[0m \u001b[0mfunc\u001b[0m\u001b[1;33m,\u001b[0m \u001b[0mmultiparams\u001b[0m\u001b[1;33m,\u001b[0m \u001b[0mparams\u001b[0m\u001b[1;33m)\u001b[0m\u001b[1;33m:\u001b[0m\u001b[1;33m\u001b[0m\u001b[1;33m\u001b[0m\u001b[0m\n",
      "\u001b[1;32m~\\Anaconda3\\lib\\site-packages\\sqlalchemy\\sql\\elements.py\u001b[0m in \u001b[0;36m_execute_on_connection\u001b[1;34m(self, connection, multiparams, params)\u001b[0m\n\u001b[0;32m    285\u001b[0m     \u001b[1;32mdef\u001b[0m \u001b[0m_execute_on_connection\u001b[0m\u001b[1;33m(\u001b[0m\u001b[0mself\u001b[0m\u001b[1;33m,\u001b[0m \u001b[0mconnection\u001b[0m\u001b[1;33m,\u001b[0m \u001b[0mmultiparams\u001b[0m\u001b[1;33m,\u001b[0m \u001b[0mparams\u001b[0m\u001b[1;33m)\u001b[0m\u001b[1;33m:\u001b[0m\u001b[1;33m\u001b[0m\u001b[1;33m\u001b[0m\u001b[0m\n\u001b[0;32m    286\u001b[0m         \u001b[1;32mif\u001b[0m \u001b[0mself\u001b[0m\u001b[1;33m.\u001b[0m\u001b[0msupports_execution\u001b[0m\u001b[1;33m:\u001b[0m\u001b[1;33m\u001b[0m\u001b[1;33m\u001b[0m\u001b[0m\n\u001b[1;32m--> 287\u001b[1;33m             \u001b[1;32mreturn\u001b[0m \u001b[0mconnection\u001b[0m\u001b[1;33m.\u001b[0m\u001b[0m_execute_clauseelement\u001b[0m\u001b[1;33m(\u001b[0m\u001b[0mself\u001b[0m\u001b[1;33m,\u001b[0m \u001b[0mmultiparams\u001b[0m\u001b[1;33m,\u001b[0m \u001b[0mparams\u001b[0m\u001b[1;33m)\u001b[0m\u001b[1;33m\u001b[0m\u001b[1;33m\u001b[0m\u001b[0m\n\u001b[0m\u001b[0;32m    288\u001b[0m         \u001b[1;32melse\u001b[0m\u001b[1;33m:\u001b[0m\u001b[1;33m\u001b[0m\u001b[1;33m\u001b[0m\u001b[0m\n\u001b[0;32m    289\u001b[0m             \u001b[1;32mraise\u001b[0m \u001b[0mexc\u001b[0m\u001b[1;33m.\u001b[0m\u001b[0mObjectNotExecutableError\u001b[0m\u001b[1;33m(\u001b[0m\u001b[0mself\u001b[0m\u001b[1;33m)\u001b[0m\u001b[1;33m\u001b[0m\u001b[1;33m\u001b[0m\u001b[0m\n",
      "\u001b[1;32m~\\Anaconda3\\lib\\site-packages\\sqlalchemy\\engine\\base.py\u001b[0m in \u001b[0;36m_execute_clauseelement\u001b[1;34m(self, elem, multiparams, params)\u001b[0m\n\u001b[0;32m   1105\u001b[0m             \u001b[0mdistilled_params\u001b[0m\u001b[1;33m,\u001b[0m\u001b[1;33m\u001b[0m\u001b[1;33m\u001b[0m\u001b[0m\n\u001b[0;32m   1106\u001b[0m             \u001b[0mcompiled_sql\u001b[0m\u001b[1;33m,\u001b[0m\u001b[1;33m\u001b[0m\u001b[1;33m\u001b[0m\u001b[0m\n\u001b[1;32m-> 1107\u001b[1;33m             \u001b[0mdistilled_params\u001b[0m\u001b[1;33m,\u001b[0m\u001b[1;33m\u001b[0m\u001b[1;33m\u001b[0m\u001b[0m\n\u001b[0m\u001b[0;32m   1108\u001b[0m         )\n\u001b[0;32m   1109\u001b[0m         \u001b[1;32mif\u001b[0m \u001b[0mself\u001b[0m\u001b[1;33m.\u001b[0m\u001b[0m_has_events\u001b[0m \u001b[1;32mor\u001b[0m \u001b[0mself\u001b[0m\u001b[1;33m.\u001b[0m\u001b[0mengine\u001b[0m\u001b[1;33m.\u001b[0m\u001b[0m_has_events\u001b[0m\u001b[1;33m:\u001b[0m\u001b[1;33m\u001b[0m\u001b[1;33m\u001b[0m\u001b[0m\n",
      "\u001b[1;32m~\\Anaconda3\\lib\\site-packages\\sqlalchemy\\engine\\base.py\u001b[0m in \u001b[0;36m_execute_context\u001b[1;34m(self, dialect, constructor, statement, parameters, *args)\u001b[0m\n\u001b[0;32m   1246\u001b[0m         \u001b[1;32mexcept\u001b[0m \u001b[0mBaseException\u001b[0m \u001b[1;32mas\u001b[0m \u001b[0me\u001b[0m\u001b[1;33m:\u001b[0m\u001b[1;33m\u001b[0m\u001b[1;33m\u001b[0m\u001b[0m\n\u001b[0;32m   1247\u001b[0m             self._handle_dbapi_exception(\n\u001b[1;32m-> 1248\u001b[1;33m                 \u001b[0me\u001b[0m\u001b[1;33m,\u001b[0m \u001b[0mstatement\u001b[0m\u001b[1;33m,\u001b[0m \u001b[0mparameters\u001b[0m\u001b[1;33m,\u001b[0m \u001b[0mcursor\u001b[0m\u001b[1;33m,\u001b[0m \u001b[0mcontext\u001b[0m\u001b[1;33m\u001b[0m\u001b[1;33m\u001b[0m\u001b[0m\n\u001b[0m\u001b[0;32m   1249\u001b[0m             )\n\u001b[0;32m   1250\u001b[0m \u001b[1;33m\u001b[0m\u001b[0m\n",
      "\u001b[1;32m~\\Anaconda3\\lib\\site-packages\\sqlalchemy\\engine\\base.py\u001b[0m in \u001b[0;36m_handle_dbapi_exception\u001b[1;34m(self, e, statement, parameters, cursor, context)\u001b[0m\n\u001b[0;32m   1464\u001b[0m                 \u001b[0mutil\u001b[0m\u001b[1;33m.\u001b[0m\u001b[0mraise_from_cause\u001b[0m\u001b[1;33m(\u001b[0m\u001b[0mnewraise\u001b[0m\u001b[1;33m,\u001b[0m \u001b[0mexc_info\u001b[0m\u001b[1;33m)\u001b[0m\u001b[1;33m\u001b[0m\u001b[1;33m\u001b[0m\u001b[0m\n\u001b[0;32m   1465\u001b[0m             \u001b[1;32melif\u001b[0m \u001b[0mshould_wrap\u001b[0m\u001b[1;33m:\u001b[0m\u001b[1;33m\u001b[0m\u001b[1;33m\u001b[0m\u001b[0m\n\u001b[1;32m-> 1466\u001b[1;33m                 \u001b[0mutil\u001b[0m\u001b[1;33m.\u001b[0m\u001b[0mraise_from_cause\u001b[0m\u001b[1;33m(\u001b[0m\u001b[0msqlalchemy_exception\u001b[0m\u001b[1;33m,\u001b[0m \u001b[0mexc_info\u001b[0m\u001b[1;33m)\u001b[0m\u001b[1;33m\u001b[0m\u001b[1;33m\u001b[0m\u001b[0m\n\u001b[0m\u001b[0;32m   1467\u001b[0m             \u001b[1;32melse\u001b[0m\u001b[1;33m:\u001b[0m\u001b[1;33m\u001b[0m\u001b[1;33m\u001b[0m\u001b[0m\n\u001b[0;32m   1468\u001b[0m                 \u001b[0mutil\u001b[0m\u001b[1;33m.\u001b[0m\u001b[0mreraise\u001b[0m\u001b[1;33m(\u001b[0m\u001b[1;33m*\u001b[0m\u001b[0mexc_info\u001b[0m\u001b[1;33m)\u001b[0m\u001b[1;33m\u001b[0m\u001b[1;33m\u001b[0m\u001b[0m\n",
      "\u001b[1;32m~\\Anaconda3\\lib\\site-packages\\sqlalchemy\\util\\compat.py\u001b[0m in \u001b[0;36mraise_from_cause\u001b[1;34m(exception, exc_info)\u001b[0m\n\u001b[0;32m    397\u001b[0m     \u001b[0mexc_type\u001b[0m\u001b[1;33m,\u001b[0m \u001b[0mexc_value\u001b[0m\u001b[1;33m,\u001b[0m \u001b[0mexc_tb\u001b[0m \u001b[1;33m=\u001b[0m \u001b[0mexc_info\u001b[0m\u001b[1;33m\u001b[0m\u001b[1;33m\u001b[0m\u001b[0m\n\u001b[0;32m    398\u001b[0m     \u001b[0mcause\u001b[0m \u001b[1;33m=\u001b[0m \u001b[0mexc_value\u001b[0m \u001b[1;32mif\u001b[0m \u001b[0mexc_value\u001b[0m \u001b[1;32mis\u001b[0m \u001b[1;32mnot\u001b[0m \u001b[0mexception\u001b[0m \u001b[1;32melse\u001b[0m \u001b[1;32mNone\u001b[0m\u001b[1;33m\u001b[0m\u001b[1;33m\u001b[0m\u001b[0m\n\u001b[1;32m--> 399\u001b[1;33m     \u001b[0mreraise\u001b[0m\u001b[1;33m(\u001b[0m\u001b[0mtype\u001b[0m\u001b[1;33m(\u001b[0m\u001b[0mexception\u001b[0m\u001b[1;33m)\u001b[0m\u001b[1;33m,\u001b[0m \u001b[0mexception\u001b[0m\u001b[1;33m,\u001b[0m \u001b[0mtb\u001b[0m\u001b[1;33m=\u001b[0m\u001b[0mexc_tb\u001b[0m\u001b[1;33m,\u001b[0m \u001b[0mcause\u001b[0m\u001b[1;33m=\u001b[0m\u001b[0mcause\u001b[0m\u001b[1;33m)\u001b[0m\u001b[1;33m\u001b[0m\u001b[1;33m\u001b[0m\u001b[0m\n\u001b[0m\u001b[0;32m    400\u001b[0m \u001b[1;33m\u001b[0m\u001b[0m\n\u001b[0;32m    401\u001b[0m \u001b[1;33m\u001b[0m\u001b[0m\n",
      "\u001b[1;32m~\\Anaconda3\\lib\\site-packages\\sqlalchemy\\util\\compat.py\u001b[0m in \u001b[0;36mreraise\u001b[1;34m(tp, value, tb, cause)\u001b[0m\n\u001b[0;32m    151\u001b[0m             \u001b[0mvalue\u001b[0m\u001b[1;33m.\u001b[0m\u001b[0m__cause__\u001b[0m \u001b[1;33m=\u001b[0m \u001b[0mcause\u001b[0m\u001b[1;33m\u001b[0m\u001b[1;33m\u001b[0m\u001b[0m\n\u001b[0;32m    152\u001b[0m         \u001b[1;32mif\u001b[0m \u001b[0mvalue\u001b[0m\u001b[1;33m.\u001b[0m\u001b[0m__traceback__\u001b[0m \u001b[1;32mis\u001b[0m \u001b[1;32mnot\u001b[0m \u001b[0mtb\u001b[0m\u001b[1;33m:\u001b[0m\u001b[1;33m\u001b[0m\u001b[1;33m\u001b[0m\u001b[0m\n\u001b[1;32m--> 153\u001b[1;33m             \u001b[1;32mraise\u001b[0m \u001b[0mvalue\u001b[0m\u001b[1;33m.\u001b[0m\u001b[0mwith_traceback\u001b[0m\u001b[1;33m(\u001b[0m\u001b[0mtb\u001b[0m\u001b[1;33m)\u001b[0m\u001b[1;33m\u001b[0m\u001b[1;33m\u001b[0m\u001b[0m\n\u001b[0m\u001b[0;32m    154\u001b[0m         \u001b[1;32mraise\u001b[0m \u001b[0mvalue\u001b[0m\u001b[1;33m\u001b[0m\u001b[1;33m\u001b[0m\u001b[0m\n\u001b[0;32m    155\u001b[0m \u001b[1;33m\u001b[0m\u001b[0m\n",
      "\u001b[1;32m~\\Anaconda3\\lib\\site-packages\\sqlalchemy\\engine\\base.py\u001b[0m in \u001b[0;36m_execute_context\u001b[1;34m(self, dialect, constructor, statement, parameters, *args)\u001b[0m\n\u001b[0;32m   1242\u001b[0m                 \u001b[1;32mif\u001b[0m \u001b[1;32mnot\u001b[0m \u001b[0mevt_handled\u001b[0m\u001b[1;33m:\u001b[0m\u001b[1;33m\u001b[0m\u001b[1;33m\u001b[0m\u001b[0m\n\u001b[0;32m   1243\u001b[0m                     self.dialect.do_execute(\n\u001b[1;32m-> 1244\u001b[1;33m                         \u001b[0mcursor\u001b[0m\u001b[1;33m,\u001b[0m \u001b[0mstatement\u001b[0m\u001b[1;33m,\u001b[0m \u001b[0mparameters\u001b[0m\u001b[1;33m,\u001b[0m \u001b[0mcontext\u001b[0m\u001b[1;33m\u001b[0m\u001b[1;33m\u001b[0m\u001b[0m\n\u001b[0m\u001b[0;32m   1245\u001b[0m                     )\n\u001b[0;32m   1246\u001b[0m         \u001b[1;32mexcept\u001b[0m \u001b[0mBaseException\u001b[0m \u001b[1;32mas\u001b[0m \u001b[0me\u001b[0m\u001b[1;33m:\u001b[0m\u001b[1;33m\u001b[0m\u001b[1;33m\u001b[0m\u001b[0m\n",
      "\u001b[1;32m~\\Anaconda3\\lib\\site-packages\\sqlalchemy\\engine\\default.py\u001b[0m in \u001b[0;36mdo_execute\u001b[1;34m(self, cursor, statement, parameters, context)\u001b[0m\n\u001b[0;32m    548\u001b[0m \u001b[1;33m\u001b[0m\u001b[0m\n\u001b[0;32m    549\u001b[0m     \u001b[1;32mdef\u001b[0m \u001b[0mdo_execute\u001b[0m\u001b[1;33m(\u001b[0m\u001b[0mself\u001b[0m\u001b[1;33m,\u001b[0m \u001b[0mcursor\u001b[0m\u001b[1;33m,\u001b[0m \u001b[0mstatement\u001b[0m\u001b[1;33m,\u001b[0m \u001b[0mparameters\u001b[0m\u001b[1;33m,\u001b[0m \u001b[0mcontext\u001b[0m\u001b[1;33m=\u001b[0m\u001b[1;32mNone\u001b[0m\u001b[1;33m)\u001b[0m\u001b[1;33m:\u001b[0m\u001b[1;33m\u001b[0m\u001b[1;33m\u001b[0m\u001b[0m\n\u001b[1;32m--> 550\u001b[1;33m         \u001b[0mcursor\u001b[0m\u001b[1;33m.\u001b[0m\u001b[0mexecute\u001b[0m\u001b[1;33m(\u001b[0m\u001b[0mstatement\u001b[0m\u001b[1;33m,\u001b[0m \u001b[0mparameters\u001b[0m\u001b[1;33m)\u001b[0m\u001b[1;33m\u001b[0m\u001b[1;33m\u001b[0m\u001b[0m\n\u001b[0m\u001b[0;32m    551\u001b[0m \u001b[1;33m\u001b[0m\u001b[0m\n\u001b[0;32m    552\u001b[0m     \u001b[1;32mdef\u001b[0m \u001b[0mdo_execute_no_params\u001b[0m\u001b[1;33m(\u001b[0m\u001b[0mself\u001b[0m\u001b[1;33m,\u001b[0m \u001b[0mcursor\u001b[0m\u001b[1;33m,\u001b[0m \u001b[0mstatement\u001b[0m\u001b[1;33m,\u001b[0m \u001b[0mcontext\u001b[0m\u001b[1;33m=\u001b[0m\u001b[1;32mNone\u001b[0m\u001b[1;33m)\u001b[0m\u001b[1;33m:\u001b[0m\u001b[1;33m\u001b[0m\u001b[1;33m\u001b[0m\u001b[0m\n",
      "\u001b[1;31mOperationalError\u001b[0m: (sqlite3.OperationalError) no such table: Artist\n[SQL: SELECT \"Artist\".\"ID\" AS \"Artist_ID\", \"Artist\".\"NAME\" AS \"Artist_NAME\" \nFROM \"Artist\"]\n(Background on this error at: http://sqlalche.me/e/e3q8)"
     ]
    }
   ],
   "source": [
    "session.query(Artist).one()"
   ]
  },
  {
   "cell_type": "code",
   "execution_count": 62,
   "metadata": {},
   "outputs": [
    {
     "name": "stdout",
     "output_type": "stream",
     "text": [
      "2020-07-15 11:35:01,357 INFO sqlalchemy.engine.base.Engine SELECT CAST('test plain returns' AS VARCHAR(60)) AS anon_1\n",
      "2020-07-15 11:35:01,358 INFO sqlalchemy.engine.base.Engine ()\n",
      "2020-07-15 11:35:01,359 INFO sqlalchemy.engine.base.Engine SELECT CAST('test unicode returns' AS VARCHAR(60)) AS anon_1\n",
      "2020-07-15 11:35:01,360 INFO sqlalchemy.engine.base.Engine ()\n",
      "2020-07-15 11:35:01,362 INFO sqlalchemy.engine.base.Engine PRAGMA table_info(\"ARTIST\")\n",
      "2020-07-15 11:35:01,362 INFO sqlalchemy.engine.base.Engine ()\n",
      "2020-07-15 11:35:01,364 INFO sqlalchemy.engine.base.Engine PRAGMA table_info(\"GENRE\")\n",
      "2020-07-15 11:35:01,365 INFO sqlalchemy.engine.base.Engine ()\n",
      "2020-07-15 11:35:01,367 INFO sqlalchemy.engine.base.Engine PRAGMA table_info(\"ALBUM\")\n",
      "2020-07-15 11:35:01,368 INFO sqlalchemy.engine.base.Engine ()\n",
      "2020-07-15 11:35:01,369 INFO sqlalchemy.engine.base.Engine PRAGMA table_info(\"TRACK\")\n",
      "2020-07-15 11:35:01,370 INFO sqlalchemy.engine.base.Engine ()\n"
     ]
    }
   ],
   "source": [
    "base.metadata.create_all(bind = engine)"
   ]
  },
  {
   "cell_type": "code",
   "execution_count": 6,
   "metadata": {},
   "outputs": [],
   "source": [
    "from sqlalchemy import create_engine, Column, Integer, String, ForeignKey\n",
    "from sqlalchemy.ext.declarative import declarative_base\n",
    "from sqlalchemy.orm import relationship, backref"
   ]
  },
  {
   "cell_type": "code",
   "execution_count": 7,
   "metadata": {},
   "outputs": [],
   "source": [
    "engine = create_engine('sqlite:///playlist.db', echo = True)\n",
    "base = declarative_base(bind = engine)"
   ]
  },
  {
   "cell_type": "code",
   "execution_count": 8,
   "metadata": {},
   "outputs": [],
   "source": [
    "base.metadata.clear()"
   ]
  },
  {
   "cell_type": "code",
   "execution_count": 9,
   "metadata": {},
   "outputs": [],
   "source": [
    "class Artist(base):\n",
    "    __tablename__ = 'Artist'\n",
    "    \n",
    "    pk = Column('id', Integer, primary_key = True)\n",
    "    name = Column('title', String)\n",
    "    albumlist = relationship('Album', back_populates='artist')\n",
    "    \n",
    "    def __repr__(self):\n",
    "        return 'PK:{0}, NAME : {1}'.format(self.pk, self.name)\n",
    "\n",
    "class Genre(base):\n",
    "    __tablename__ = 'Genre'\n",
    "    \n",
    "    pk = Column('id', Integer, primary_key = True)\n",
    "    name = Column('title', String)\n",
    "    tracklist = relationship('Track', back_populates='genre')\n",
    "    \n",
    "    def __repr__(self):\n",
    "        return 'PK:{0}, NAME : {1}'.format(self.pk, self.name)\n",
    "\n",
    "class Album(base):\n",
    "    __tablename__ = 'Album'\n",
    "    \n",
    "    pk = Column('id', Integer, primary_key = True)\n",
    "    name = Column('title', String)\n",
    "    fk = Column('Artist_id', Integer, ForeignKey('Artist.id'))\n",
    "    artist = relationship('Artist', back_populates='albumlist', uselist = False)\n",
    "    tracklist = relationship('Track', back_populates='album')\n",
    "    \n",
    "    def __repr__(self):\n",
    "        return 'PK:{0}, NAME : {1}, FK : {2}'.format(self.pk, self.name, self.fk)\n",
    "\n",
    "class Track(base):\n",
    "    __tablename__ = 'Track'\n",
    "    \n",
    "    pk = Column('id', Integer, primary_key = True)\n",
    "    name = Column('title', String)\n",
    "    fk1 = Column('Album_id', Integer, ForeignKey('Album.id'))\n",
    "    fk2 = Column('Genre_id', Integer, ForeignKey('Genre.id'))\n",
    "    album = relationship('Album', back_populates='tracklist', uselist=False)\n",
    "    genre = relationship('Genre', back_populates='tracklist', uselist=False)\n",
    "    \n",
    "    \n",
    "    def __repr__(self):\n",
    "        return 'PK:{0}, NAME : {1}, FK1 : {2}, FK2 : {3}'.format(self.pk, self.name, self.fk1, self.fk2)"
   ]
  },
  {
   "cell_type": "code",
   "execution_count": 10,
   "metadata": {},
   "outputs": [
    {
     "name": "stdout",
     "output_type": "stream",
     "text": [
      "2020-07-15 11:57:16,826 INFO sqlalchemy.engine.base.Engine SELECT CAST('test plain returns' AS VARCHAR(60)) AS anon_1\n",
      "2020-07-15 11:57:16,827 INFO sqlalchemy.engine.base.Engine ()\n",
      "2020-07-15 11:57:16,828 INFO sqlalchemy.engine.base.Engine SELECT CAST('test unicode returns' AS VARCHAR(60)) AS anon_1\n",
      "2020-07-15 11:57:16,829 INFO sqlalchemy.engine.base.Engine ()\n",
      "2020-07-15 11:57:16,830 INFO sqlalchemy.engine.base.Engine PRAGMA table_info(\"Artist\")\n",
      "2020-07-15 11:57:16,830 INFO sqlalchemy.engine.base.Engine ()\n",
      "2020-07-15 11:57:16,857 INFO sqlalchemy.engine.base.Engine PRAGMA table_info(\"Genre\")\n",
      "2020-07-15 11:57:16,858 INFO sqlalchemy.engine.base.Engine ()\n",
      "2020-07-15 11:57:16,859 INFO sqlalchemy.engine.base.Engine PRAGMA table_info(\"Album\")\n",
      "2020-07-15 11:57:16,859 INFO sqlalchemy.engine.base.Engine ()\n",
      "2020-07-15 11:57:16,861 INFO sqlalchemy.engine.base.Engine PRAGMA table_info(\"Track\")\n",
      "2020-07-15 11:57:16,861 INFO sqlalchemy.engine.base.Engine ()\n"
     ]
    }
   ],
   "source": [
    "base.metadata.create_all(bind = engine)"
   ]
  },
  {
   "cell_type": "code",
   "execution_count": 11,
   "metadata": {},
   "outputs": [],
   "source": [
    "from sqlalchemy.orm import sessionmaker\n",
    "Session = sessionmaker(bind=engine)\n",
    "session = Session()"
   ]
  },
  {
   "cell_type": "code",
   "execution_count": 13,
   "metadata": {},
   "outputs": [
    {
     "name": "stdout",
     "output_type": "stream",
     "text": [
      "2020-07-15 11:57:49,075 INFO sqlalchemy.engine.base.Engine SELECT \"Genre\".id AS \"Genre_id\", \"Genre\".title AS \"Genre_title\" \n",
      "FROM \"Genre\"\n",
      "2020-07-15 11:57:49,077 INFO sqlalchemy.engine.base.Engine ()\n"
     ]
    }
   ],
   "source": [
    "genrelist = session.query(Genre).all()"
   ]
  },
  {
   "cell_type": "code",
   "execution_count": 16,
   "metadata": {},
   "outputs": [
    {
     "data": {
      "text/plain": [
       "(PK:3, NAME : About to Rock, FK1 : 1, FK2 : 2,\n",
       " [PK:3, NAME : About to Rock, FK1 : 1, FK2 : 2,\n",
       "  PK:4, NAME : Who Made Who, FK1 : 1, FK2 : 2])"
      ]
     },
     "execution_count": 16,
     "metadata": {},
     "output_type": "execute_result"
    }
   ],
   "source": [
    "genrelist[1].tracklist[0], "
   ]
  },
  {
   "cell_type": "code",
   "execution_count": 20,
   "metadata": {},
   "outputs": [
    {
     "data": {
      "text/plain": [
       "[PK:1, NAME : Rock, PK:2, NAME : Metal]"
      ]
     },
     "execution_count": 20,
     "metadata": {},
     "output_type": "execute_result"
    }
   ],
   "source": [
    "genrelist"
   ]
  },
  {
   "cell_type": "code",
   "execution_count": 29,
   "metadata": {},
   "outputs": [
    {
     "data": {
      "text/plain": [
       "[PK:3, NAME : About to Rock, FK1 : 1, FK2 : 2,\n",
       " PK:4, NAME : Who Made Who, FK1 : 1, FK2 : 2]"
      ]
     },
     "execution_count": 29,
     "metadata": {},
     "output_type": "execute_result"
    }
   ],
   "source": [
    "genrelist[1].tracklist"
   ]
  },
  {
   "cell_type": "markdown",
   "metadata": {},
   "source": [
    "## HTML\n",
    "\n",
    "## JSON, XML"
   ]
  }
 ],
 "metadata": {
  "kernelspec": {
   "display_name": "Python 3",
   "language": "python",
   "name": "python3"
  },
  "language_info": {
   "codemirror_mode": {
    "name": "ipython",
    "version": 3
   },
   "file_extension": ".py",
   "mimetype": "text/x-python",
   "name": "python",
   "nbconvert_exporter": "python",
   "pygments_lexer": "ipython3",
   "version": "3.7.3"
  }
 },
 "nbformat": 4,
 "nbformat_minor": 2
}
