{
 "cells": [
  {
   "cell_type": "markdown",
   "metadata": {},
   "source": [
    "## 2. DBMS\n",
    "\n",
    "### 2.2 RDBMS\n",
    "\n",
    "- 개체 관계 모델\n",
    "    - 개체 / 관계 / 속성 / 기본 키\n",
    "    \n",
    "### 2.3 SQL\n",
    "\n",
    "> #### Data Type\n",
    "- Boolean(BOOLEAN) : True or False\n",
    "- Character(CHAR, VARCHAR)\n",
    "- Exact numeric(Exact numeric (NUMERIC, DECIMAL, INTEGER, SMALLINT, BIGINT)\n",
    "- Approximate numeric(REAL, FLOAT, DOUBLE)\n",
    "- Datetime(DATE, TIME, TIMESTAMP)\n",
    "\n",
    "> ### DDL\n",
    "- CREATE\n",
    "    - Table 생성\n",
    "    - ```SQL\n",
    "CREATE TABLE (employees)(\n",
    "    id            INTEGER     PRIMARY KEY,\n",
    "    first_name    VARCHAR(50) not null,\n",
    "    last_name     VARCHAR(75) not null,\n",
    "    dataofbirth   DATE        not null\n",
    "    )\n",
    "      ```\n",
    "    - contrains\n",
    "        - NOT NULL / UNIQUE / PRIMARY KEY / FOREIGN KEY ...\n",
    "- DROP\n",
    "    - Table 삭제\n",
    "    - ```SQL\n",
    "        DROP table employees;\n",
    "      ```\n",
    "- TRUNCATE\n",
    "    - Table 삭제\n",
    "    - ```SQL\n",
    "        TRUNCATE TABLE table_name;\n",
    "      ```\n",
    "- ALTER\n",
    "    - Table 수정\n",
    "    - ```SQL\n",
    "        ALTER TABLE table_name\n",
    "        ADD column_name datatype;\n",
    "        ALTER TABLE table_name\n",
    "        DROP COLUMN column_name;\n",
    "        ALTER TABLE table_name\n",
    "        MODIFY COLUMN column_name datatype;\n",
    "      ```\n",
    "- INSERT\n",
    "    - 데이터 삽입\n",
    "    - ```SQL\n",
    "    INSERT INTO phone (name, number) VALUES ('name', '123-4567');\n",
    "      ```\n",
    "- SELECT\n",
    "    - 데이터 추출\n",
    "    - ```SQL\n",
    "    -- 기본 방법\n",
    "    SELECT (ALL | DISTINCT) 컬럼명 [,컬럼명...]\n",
    "    FROM 테이블명 [,테이블명...]\n",
    "    [WHERE 조건식]\n",
    "    [GROUP BY 컬럼명 [HAVING 조건식]]\n",
    "    [ORDER BY 컬럼명]\n",
    "    GROUP BY 컬럼명[,컬럼명...]\n",
    "    ORDER BY 컬럼명[,컬럼명...]\n",
    "    ```\n",
    "- UPDATE\n",
    "    - 데이터 업데이트\n",
    "    - ```SQL\n",
    "    UPDATE Customers\n",
    "    SET ContactName = 'Juan'\n",
    "    WHERE Country = 'Mexico';\n",
    "    ```\n",
    "- DELETE\n",
    "    - 데이터 열 기준으로 삭제\n",
    "    - ```SQL\n",
    "    DELETE FROM table_name\n",
    "    WHERE condition;\n",
    "    ```\n",
    "- JOIN\n",
    "    - 데이터 병합\n",
    "    - 종류 : (INNER) JOIN / LEFT JOIN / RIGHT JOIN / FULL JOIN\n",
    "    - ```SQL\n",
    "    SELECT Orders>OrderID, Customers.CustomerName, Orders.OrderDate\n",
    "    FROM Orders\n",
    "    INNER JOIN Customers ON Orders.CustomerID = Customers.CustomerID;\n",
    "    ```\n",
    "    \n",
    "### 2.4 SQLite"
   ]
  },
  {
   "cell_type": "code",
   "execution_count": 1,
   "metadata": {},
   "outputs": [
    {
     "data": {
      "text/plain": [
       "[('aaa', 10), ('aaa', 10)]"
      ]
     },
     "execution_count": 1,
     "metadata": {},
     "output_type": "execute_result"
    }
   ],
   "source": [
    "import sqlite3\n",
    "\n",
    "conn = sqlite3.connect(':memory:') # memory 내에서 작업\n",
    "cur = conn.cursor() # cursor 생성\n",
    "\n",
    "cur.execute('CREATE TABLE people (name_last, age)') # table create\n",
    "\n",
    "who = \"aaa\"\n",
    "\n",
    "age = 10\n",
    "# qmark style\n",
    "cur.execute('INSERT INTO people VALUES(?, ?)', (who, age)) # data insert\n",
    "\n",
    "cur.execute('SELECT * FROM people') # select\n",
    "\n",
    "# names style\n",
    "cur.execute(\"INSERT INTO people VALUES(:a, :b)\", {'a':who, 'b':age})\n",
    "\n",
    "cur.execute('SELECT * FROM people') # select\n",
    "\n",
    "cur.fetchall()"
   ]
  },
  {
   "cell_type": "code",
   "execution_count": 2,
   "metadata": {},
   "outputs": [
    {
     "data": {
      "text/plain": [
       "[('aaa', 10), ('aaa', 10), ('A', 1), ('B', 2), ('C', 3)]"
      ]
     },
     "execution_count": 2,
     "metadata": {},
     "output_type": "execute_result"
    }
   ],
   "source": [
    "data = [('A', 1),('B', 2),('C', 3)]\n",
    "cur.executemany('INSERT INTO people VALUES (?, ?)', data)\n",
    "\n",
    "cur.execute('SELECT * FROM people') # select\n",
    "\n",
    "cur.fetchall()"
   ]
  },
  {
   "cell_type": "code",
   "execution_count": 3,
   "metadata": {},
   "outputs": [],
   "source": [
    "cur.close() # cursor close\n",
    "conn.close() # connection close"
   ]
  },
  {
   "cell_type": "code",
   "execution_count": 4,
   "metadata": {},
   "outputs": [
    {
     "name": "stdout",
     "output_type": "stream",
     "text": [
      "[('a', 1)]\n"
     ]
    }
   ],
   "source": [
    "conn = sqlite3.connect(':memory:')\n",
    "cur = conn.cursor()\n",
    "\n",
    "cur.executescript(\"\"\"\n",
    "    CREATE TABLE people (name, age);\n",
    "    INSERT INTO people VALUES('a', 1);\n",
    "\"\"\")\n",
    "\n",
    "cur.execute('SELECT * FROM people') # select\n",
    "\n",
    "print(cur.fetchall())\n",
    "\n",
    "cur.close() # cursor close\n",
    "conn.close() # connection close"
   ]
  },
  {
   "cell_type": "code",
   "execution_count": 5,
   "metadata": {},
   "outputs": [
    {
     "name": "stdout",
     "output_type": "stream",
     "text": [
      "[('a', 1), ('C', 3), ('D', 4), ('C', 3), ('D', 4), ('C', 3), ('D', 4), ('E', 5), ('C', 3), ('D', 4)]\n",
      "[('a', 1), ('C', 3), ('D', 4), ('C', 3), ('D', 4), ('C', 3), ('D', 4), ('E', 5), ('C', 3), ('D', 4), ('E', 5)]\n"
     ]
    }
   ],
   "source": [
    "conn = sqlite3.connect('ex1.db')\n",
    "cur = conn.cursor()\n",
    "\n",
    "# cur.executescript('''\n",
    "#     CREATE TABLE people (name, age);\n",
    "#     INSERT INTO people VALUES('a', 1);\n",
    "# ''')\n",
    "cur.executemany('INSERT INTO people VALUES(?, ?)',\n",
    "               [('C', 3), ('D', 4)])\n",
    "\n",
    "cur.execute('SELECT * FROM people') # select\n",
    "\n",
    "print(cur.fetchall())\n",
    "\n",
    "cur.execute('INSERT INTO people VALUES(\"E\", 5)')\n",
    "\n",
    "cur.execute('SELECT * FROM people') # select\n",
    "\n",
    "print(cur.fetchall())\n",
    "\n",
    "conn.commit() # DB Browser 최신화 / data 수정 후 commit 필수\n",
    "\n",
    "cur.close() # cursor close\n",
    "conn.close() # connection close"
   ]
  },
  {
   "cell_type": "code",
   "execution_count": 6,
   "metadata": {},
   "outputs": [
    {
     "name": "stdout",
     "output_type": "stream",
     "text": [
      "[(1, 'AAA', 33, 'address1', 11.0)]\n",
      "1 1\n"
     ]
    }
   ],
   "source": [
    "conn = sqlite3.connect('ex1.db')\n",
    "cur = conn.cursor()\n",
    "\n",
    "cur.executescript('''\n",
    "    DROP TABLE IF EXISTS company;\n",
    "    CREATE TABLE company(\n",
    "        id    INT   PRIMARY KEY,\n",
    "        name  TEXT  NOT NULL,\n",
    "        age   INT   NOT NULL,\n",
    "        address CHAR(50),\n",
    "        salary REAL\n",
    "    );\n",
    "''')\n",
    "\n",
    "cur.execute('INSERT INTO company VALUES(1, \"AAA\", 33, \"address1\", 11.0)')\n",
    "\n",
    "conn.commit()\n",
    "\n",
    "cur.execute('SELECT * FROM company') # select\n",
    "\n",
    "print(cur.fetchall())\n",
    "\n",
    "print(cur.lastrowid, conn.total_changes)\n",
    "\n",
    "cur.close() # cursor close\n",
    "conn.close() # connection close"
   ]
  },
  {
   "cell_type": "code",
   "execution_count": 8,
   "metadata": {},
   "outputs": [
    {
     "name": "stdout",
     "output_type": "stream",
     "text": [
      "[(1, 'test', 33, 'address1', 11.0)]\n"
     ]
    }
   ],
   "source": [
    "conn = sqlite3.connect('ex1.db')\n",
    "cur = conn.cursor()\n",
    "\n",
    "cur.execute('UPDATE company SET name = \"test\";') # data 수정\n",
    "\n",
    "conn.commit()\n",
    "\n",
    "cur.execute('SELECT * FROM company') # select\n",
    "\n",
    "print(cur.fetchall())\n",
    "\n",
    "cur.close() # cursor close\n",
    "conn.close() # connection close"
   ]
  },
  {
   "cell_type": "code",
   "execution_count": 70,
   "metadata": {},
   "outputs": [
    {
     "data": {
      "text/plain": [
       "['BEGIN TRANSACTION;',\n",
       " 'CREATE TABLE company(\\n        id    INT   PRIMARY KEY,\\n        name  TEXT  NOT NULL,\\n        age   INT   NOT NULL,\\n        address CHAR(50),\\n        salary REAL\\n    );',\n",
       " 'INSERT INTO \"company\" VALUES(1,\\'test\\',33,\\'address1\\',11.0);',\n",
       " 'CREATE TABLE people (name, age);',\n",
       " 'INSERT INTO \"people\" VALUES(\\'a\\',1);',\n",
       " 'INSERT INTO \"people\" VALUES(\\'C\\',3);',\n",
       " 'INSERT INTO \"people\" VALUES(\\'D\\',4);',\n",
       " 'INSERT INTO \"people\" VALUES(\\'C\\',3);',\n",
       " 'INSERT INTO \"people\" VALUES(\\'D\\',4);',\n",
       " 'INSERT INTO \"people\" VALUES(\\'C\\',3);',\n",
       " 'INSERT INTO \"people\" VALUES(\\'D\\',4);',\n",
       " 'INSERT INTO \"people\" VALUES(\\'E\\',5);',\n",
       " 'INSERT INTO \"people\" VALUES(\\'C\\',3);',\n",
       " 'INSERT INTO \"people\" VALUES(\\'D\\',4);',\n",
       " 'INSERT INTO \"people\" VALUES(\\'E\\',5);',\n",
       " 'COMMIT;']"
      ]
     },
     "execution_count": 70,
     "metadata": {},
     "output_type": "execute_result"
    }
   ],
   "source": [
    "conn = sqlite3.connect('ex1.db')\n",
    "cur = conn.cursor()\n",
    "\n",
    "# 작업한 내용 확인\n",
    "list(conn.iterdump())"
   ]
  },
  {
   "cell_type": "code",
   "execution_count": 13,
   "metadata": {},
   "outputs": [],
   "source": [
    "conn = sqlite3.connect('playlist.db')\n",
    "cur = conn.cursor()\n",
    "\n",
    "cur.executescript('''\n",
    "    DROP TABLE IF EXISTS Artist;\n",
    "    CREATE TABLE Artist(\n",
    "        id INTEGER PRIMARY KEY AUTOINCREMENT NOT NULL,\n",
    "        title TEXT NOT NULL\n",
    "    );\n",
    "    DROP TABLE IF EXISTS Album;\n",
    "    CREATE TABLE Album(\n",
    "        id INTEGER PRIMARY KEY AUTOINCREMENT NOT NULL,\n",
    "        title TEXT NOT NULL,\n",
    "        Artist_id INT NOT NULL\n",
    "    );\n",
    "    DROP TABLE IF EXISTS Genre;\n",
    "    CREATE TABLE Genre(\n",
    "        id INTEGER PRIMARY KEY AUTOINCREMENT NOT NULL,\n",
    "        title TEXT NOT NULL\n",
    "    );\n",
    "    DROP TABLE IF EXISTS Track;\n",
    "    CREATE TABLE Track(\n",
    "        id INTEGER PRIMARY KEY AUTOINCREMENT NOT NULL,\n",
    "        title TEXT NOT NULL,\n",
    "        length INT NOT NULL,\n",
    "        rating INT NOT NULL,\n",
    "        count INT NOT NULL,\n",
    "        Album_id INT NOT NULL,\n",
    "        Genre_id INT NOT NULL\n",
    "    );\n",
    "''')\n",
    "\n",
    "cur.execute('INSERT INTO Artist(title) VALUES(?)', ['Led Zepplin'])\n",
    "\n",
    "cur.execute('SELECT id FROM Artist WHERE title=?', ['Led Zepplin'])\n",
    "\n",
    "print(cur.lastrowid, cur.fetchone()[0])\n",
    "\n",
    "cur.execute('''INSERT INTO Album(title, Artist_id) VALUES(?, ?)''', ['IV', cur.lastrowid])\n",
    "\n",
    "cur.execute('''\n",
    "    INSERT INTO Artist VALUES(NULL, ?)\n",
    "''', ['AC/DC'])\n",
    "\n",
    "cur.execute('''\n",
    "    INSERT INTO Album VALUES(NULL, ?, (\n",
    "        SELECT id FROM Artist WHERE title = ? LIMIT 0,1\n",
    "    ))\n",
    "''', ['Who Made Who', 'AC/DC'])\n",
    "\n",
    "conn.commit()\n",
    "\n",
    "cur.executemany('INSERT INTO Genre(title) VALUES(?)', [('Rock',),('Metal',)])\n",
    "\n",
    "data = [\n",
    "    ('Black dog', 5, 297,0, 'Who Made Who', 'Rock'),\n",
    "    ('Stairway', 5, 297,0, 'Who Made Who', 'Rock'),\n",
    "    ('About to Rock', 5, 297,0, 'IV', 'Metal'),\n",
    "    ('Who Made Who', 5, 297,0, 'IV', 'Metal')\n",
    "]\n",
    "\n",
    "cur.executemany('''\n",
    "    INSERT INTO Track VALUES(NULL, ?, ?, ?, ?, (\n",
    "        SELECT id FROM Album WHERE title = ? LIMIT 0,1\n",
    "    ), (\n",
    "        SELECT id FROM Genre WHERE title = ? LIMIT 0,1\n",
    "    ))\n",
    "''', data)\n",
    "\n",
    "conn.commit()\n",
    "\n",
    "cur.execute('''\n",
    "    SELECT A.title, B.title, C.title, D.title FROM Track AS A\n",
    "    INNER JOIN Album AS B\n",
    "    ON A.Album_id = B.id\n",
    "    INNER JOIN Genre AS C\n",
    "    ON A.Genre_id = C.id\n",
    "    INNER JOIN Artist AS D\n",
    "    ON B.Artist_id = D.id\n",
    "    ORDER BY A.title\n",
    "''')\n",
    "cur.fetchall()"
   ]
  },
  {
   "cell_type": "markdown",
   "metadata": {},
   "source": [
    "## 3. ORM, RE\n",
    "\n",
    "- Object Relational Model"
   ]
  },
  {
   "cell_type": "code",
   "execution_count": 72,
   "metadata": {},
   "outputs": [
    {
     "data": {
      "text/plain": [
       "'1.3.5'"
      ]
     },
     "execution_count": 72,
     "metadata": {},
     "output_type": "execute_result"
    }
   ],
   "source": [
    "import sqlalchemy\n",
    "\n",
    "sqlalchemy.__version__"
   ]
  },
  {
   "cell_type": "code",
   "execution_count": 81,
   "metadata": {},
   "outputs": [
    {
     "name": "stdout",
     "output_type": "stream",
     "text": [
      "Engine(sqlite:///:memory:)\n"
     ]
    }
   ],
   "source": [
    "from sqlalchemy import create_engine\n",
    "\n",
    "engine = create_engine('sqlite:///:memory:', echo = True)\n",
    "# engine = create_engine('sqlite://', echo = True)\n",
    "\n",
    "print(engine)"
   ]
  },
  {
   "cell_type": "code",
   "execution_count": 129,
   "metadata": {
    "scrolled": false
   },
   "outputs": [
    {
     "name": "stdout",
     "output_type": "stream",
     "text": [
      "2020-07-14 16:04:04,378 INFO sqlalchemy.engine.base.Engine PRAGMA table_info(\"users\")\n"
     ]
    },
    {
     "name": "stderr",
     "output_type": "stream",
     "text": [
      "INFO:sqlalchemy.engine.base.Engine:PRAGMA table_info(\"users\")\n"
     ]
    },
    {
     "name": "stdout",
     "output_type": "stream",
     "text": [
      "2020-07-14 16:04:04,379 INFO sqlalchemy.engine.base.Engine ()\n"
     ]
    },
    {
     "name": "stderr",
     "output_type": "stream",
     "text": [
      "INFO:sqlalchemy.engine.base.Engine:()\n"
     ]
    },
    {
     "name": "stdout",
     "output_type": "stream",
     "text": [
      "2020-07-14 16:04:04,381 INFO sqlalchemy.engine.base.Engine PRAGMA table_info(\"addresses\")\n"
     ]
    },
    {
     "name": "stderr",
     "output_type": "stream",
     "text": [
      "INFO:sqlalchemy.engine.base.Engine:PRAGMA table_info(\"addresses\")\n"
     ]
    },
    {
     "name": "stdout",
     "output_type": "stream",
     "text": [
      "2020-07-14 16:04:04,383 INFO sqlalchemy.engine.base.Engine ()\n"
     ]
    },
    {
     "name": "stderr",
     "output_type": "stream",
     "text": [
      "INFO:sqlalchemy.engine.base.Engine:()\n"
     ]
    }
   ],
   "source": [
    "from sqlalchemy import Table, Column, Integer, String, MetaData, ForeignKey\n",
    "\n",
    "metadata = MetaData()\n",
    "users = Table('users', metadata,\n",
    "              Column('id', Integer, primary_key = True),\n",
    "              Column('name', String),\n",
    "              Column('fullname', String),\n",
    ")\n",
    "\n",
    "addresses = Table('addresses', metadata,\n",
    "              Column('id', Integer, primary_key = True),\n",
    "              Column('user_id', None, ForeignKey('users.id')),\n",
    "              Column('eamil_address', String, nullable = False)\n",
    ")\n",
    "\n",
    "metadata.create_all(engine) # commit"
   ]
  },
  {
   "cell_type": "code",
   "execution_count": 130,
   "metadata": {},
   "outputs": [
    {
     "data": {
      "text/plain": [
       "immutabledict({'users': Table('users', MetaData(bind=None), Column('id', Integer(), table=<users>, primary_key=True, nullable=False), Column('name', String(), table=<users>), Column('fullname', String(), table=<users>), schema=None), 'addresses': Table('addresses', MetaData(bind=None), Column('id', Integer(), table=<addresses>, primary_key=True, nullable=False), Column('user_id', Integer(), ForeignKey('users.id'), table=<addresses>), Column('eamil_address', String(), table=<addresses>, nullable=False), schema=None)})"
      ]
     },
     "execution_count": 130,
     "metadata": {},
     "output_type": "execute_result"
    }
   ],
   "source": [
    "metadata.tables"
   ]
  },
  {
   "cell_type": "code",
   "execution_count": 131,
   "metadata": {},
   "outputs": [],
   "source": [
    "metadata.bind"
   ]
  },
  {
   "cell_type": "code",
   "execution_count": 132,
   "metadata": {},
   "outputs": [
    {
     "name": "stdout",
     "output_type": "stream",
     "text": [
      "INSERT INTO users (id, name, fullname) VALUES (:id, :name, :fullname)\n"
     ]
    }
   ],
   "source": [
    "print(users.insert())"
   ]
  },
  {
   "cell_type": "code",
   "execution_count": 133,
   "metadata": {},
   "outputs": [
    {
     "name": "stdout",
     "output_type": "stream",
     "text": [
      "INSERT INTO users (name, fullname) VALUES (:name, :fullname)\n",
      "INSERT INTO users (name, fullname) VALUES (:name, :fullname)\n",
      "{'name': 'test', 'fullname': 'testtest'}\n"
     ]
    }
   ],
   "source": [
    "insert = users.insert().values(name = 'test', fullname = 'testtest')\n",
    "print(insert)\n",
    "print(insert.compile())\n",
    "print(insert.compile().params)"
   ]
  },
  {
   "cell_type": "code",
   "execution_count": 134,
   "metadata": {},
   "outputs": [],
   "source": [
    "conn = engine.connect()"
   ]
  },
  {
   "cell_type": "code",
   "execution_count": 135,
   "metadata": {},
   "outputs": [
    {
     "name": "stdout",
     "output_type": "stream",
     "text": [
      "2020-07-14 16:04:07,026 INFO sqlalchemy.engine.base.Engine INSERT INTO users (name, fullname) VALUES (?, ?)\n"
     ]
    },
    {
     "name": "stderr",
     "output_type": "stream",
     "text": [
      "INFO:sqlalchemy.engine.base.Engine:INSERT INTO users (name, fullname) VALUES (?, ?)\n"
     ]
    },
    {
     "name": "stdout",
     "output_type": "stream",
     "text": [
      "2020-07-14 16:04:07,029 INFO sqlalchemy.engine.base.Engine ('test', 'testtest')\n"
     ]
    },
    {
     "name": "stderr",
     "output_type": "stream",
     "text": [
      "INFO:sqlalchemy.engine.base.Engine:('test', 'testtest')\n"
     ]
    },
    {
     "name": "stdout",
     "output_type": "stream",
     "text": [
      "2020-07-14 16:04:07,030 INFO sqlalchemy.engine.base.Engine COMMIT\n"
     ]
    },
    {
     "name": "stderr",
     "output_type": "stream",
     "text": [
      "INFO:sqlalchemy.engine.base.Engine:COMMIT\n"
     ]
    },
    {
     "data": {
      "text/plain": [
       "<sqlalchemy.engine.result.ResultProxy at 0x1265b1b8f28>"
      ]
     },
     "execution_count": 135,
     "metadata": {},
     "output_type": "execute_result"
    }
   ],
   "source": [
    "conn.execute(insert)"
   ]
  },
  {
   "cell_type": "code",
   "execution_count": 136,
   "metadata": {},
   "outputs": [
    {
     "name": "stdout",
     "output_type": "stream",
     "text": [
      "SELECT users.id, users.name, users.fullname \n",
      "FROM users\n"
     ]
    }
   ],
   "source": [
    "print(users.select().compile())"
   ]
  },
  {
   "cell_type": "code",
   "execution_count": 137,
   "metadata": {},
   "outputs": [
    {
     "name": "stdout",
     "output_type": "stream",
     "text": [
      "2020-07-14 16:04:07,555 INFO sqlalchemy.engine.base.Engine SELECT users.id, users.name, users.fullname \n",
      "FROM users\n"
     ]
    },
    {
     "name": "stderr",
     "output_type": "stream",
     "text": [
      "INFO:sqlalchemy.engine.base.Engine:SELECT users.id, users.name, users.fullname \n",
      "FROM users\n"
     ]
    },
    {
     "name": "stdout",
     "output_type": "stream",
     "text": [
      "2020-07-14 16:04:07,557 INFO sqlalchemy.engine.base.Engine ()\n"
     ]
    },
    {
     "name": "stderr",
     "output_type": "stream",
     "text": [
      "INFO:sqlalchemy.engine.base.Engine:()\n"
     ]
    },
    {
     "data": {
      "text/plain": [
       "<sqlalchemy.engine.result.ResultProxy at 0x1265b7d2e80>"
      ]
     },
     "execution_count": 137,
     "metadata": {},
     "output_type": "execute_result"
    }
   ],
   "source": [
    "conn.execute(users.select())"
   ]
  },
  {
   "cell_type": "code",
   "execution_count": 138,
   "metadata": {},
   "outputs": [
    {
     "name": "stdout",
     "output_type": "stream",
     "text": [
      "2020-07-14 16:04:07,745 INFO sqlalchemy.engine.base.Engine SELECT users.id, users.name, users.fullname \n",
      "FROM users\n"
     ]
    },
    {
     "name": "stderr",
     "output_type": "stream",
     "text": [
      "INFO:sqlalchemy.engine.base.Engine:SELECT users.id, users.name, users.fullname \n",
      "FROM users\n"
     ]
    },
    {
     "name": "stdout",
     "output_type": "stream",
     "text": [
      "2020-07-14 16:04:07,747 INFO sqlalchemy.engine.base.Engine ()\n"
     ]
    },
    {
     "name": "stderr",
     "output_type": "stream",
     "text": [
      "INFO:sqlalchemy.engine.base.Engine:()\n"
     ]
    }
   ],
   "source": [
    "cur = conn.execute(users.select())"
   ]
  },
  {
   "cell_type": "code",
   "execution_count": 139,
   "metadata": {},
   "outputs": [
    {
     "data": {
      "text/plain": [
       "[(1, 'test', 'testtest'), (2, 'test2', 'test2test2'), (3, 'test', 'testtest')]"
      ]
     },
     "execution_count": 139,
     "metadata": {},
     "output_type": "execute_result"
    }
   ],
   "source": [
    "list(cur)"
   ]
  },
  {
   "cell_type": "code",
   "execution_count": 140,
   "metadata": {},
   "outputs": [
    {
     "name": "stdout",
     "output_type": "stream",
     "text": [
      "2020-07-14 16:04:08,190 INFO sqlalchemy.engine.base.Engine INSERT INTO users (name, fullname) VALUES (?, ?)\n"
     ]
    },
    {
     "name": "stderr",
     "output_type": "stream",
     "text": [
      "INFO:sqlalchemy.engine.base.Engine:INSERT INTO users (name, fullname) VALUES (?, ?)\n"
     ]
    },
    {
     "name": "stdout",
     "output_type": "stream",
     "text": [
      "2020-07-14 16:04:08,192 INFO sqlalchemy.engine.base.Engine ('test2', 'test2test2')\n"
     ]
    },
    {
     "name": "stderr",
     "output_type": "stream",
     "text": [
      "INFO:sqlalchemy.engine.base.Engine:('test2', 'test2test2')\n"
     ]
    },
    {
     "name": "stdout",
     "output_type": "stream",
     "text": [
      "2020-07-14 16:04:08,195 INFO sqlalchemy.engine.base.Engine COMMIT\n"
     ]
    },
    {
     "name": "stderr",
     "output_type": "stream",
     "text": [
      "INFO:sqlalchemy.engine.base.Engine:COMMIT\n"
     ]
    }
   ],
   "source": [
    "cur = conn.execute(users.insert(),\n",
    "                  {'name' : 'test2', 'fullname' : 'test2test2'})"
   ]
  },
  {
   "cell_type": "code",
   "execution_count": 141,
   "metadata": {},
   "outputs": [
    {
     "name": "stdout",
     "output_type": "stream",
     "text": [
      "2020-07-14 16:04:08,705 INFO sqlalchemy.engine.base.Engine SELECT users.id, users.name, users.fullname \n",
      "FROM users\n"
     ]
    },
    {
     "name": "stderr",
     "output_type": "stream",
     "text": [
      "INFO:sqlalchemy.engine.base.Engine:SELECT users.id, users.name, users.fullname \n",
      "FROM users\n"
     ]
    },
    {
     "name": "stdout",
     "output_type": "stream",
     "text": [
      "2020-07-14 16:04:08,707 INFO sqlalchemy.engine.base.Engine ()\n"
     ]
    },
    {
     "name": "stderr",
     "output_type": "stream",
     "text": [
      "INFO:sqlalchemy.engine.base.Engine:()\n"
     ]
    },
    {
     "data": {
      "text/plain": [
       "[(1, 'test', 'testtest'),\n",
       " (2, 'test2', 'test2test2'),\n",
       " (3, 'test', 'testtest'),\n",
       " (4, 'test2', 'test2test2')]"
      ]
     },
     "execution_count": 141,
     "metadata": {},
     "output_type": "execute_result"
    }
   ],
   "source": [
    "cur = conn.execute(users.select())\n",
    "\n",
    "list(cur)"
   ]
  },
  {
   "cell_type": "code",
   "execution_count": 142,
   "metadata": {},
   "outputs": [
    {
     "name": "stdout",
     "output_type": "stream",
     "text": [
      "SELECT users.name, users.fullname \n",
      "FROM users\n",
      "2020-07-14 16:04:09,254 INFO sqlalchemy.engine.base.Engine SELECT users.name, users.fullname \n",
      "FROM users\n"
     ]
    },
    {
     "name": "stderr",
     "output_type": "stream",
     "text": [
      "INFO:sqlalchemy.engine.base.Engine:SELECT users.name, users.fullname \n",
      "FROM users\n"
     ]
    },
    {
     "name": "stdout",
     "output_type": "stream",
     "text": [
      "2020-07-14 16:04:09,256 INFO sqlalchemy.engine.base.Engine ()\n"
     ]
    },
    {
     "name": "stderr",
     "output_type": "stream",
     "text": [
      "INFO:sqlalchemy.engine.base.Engine:()\n"
     ]
    },
    {
     "name": "stdout",
     "output_type": "stream",
     "text": [
      "[('test', 'testtest'), ('test2', 'test2test2'), ('test', 'testtest'), ('test2', 'test2test2')]\n"
     ]
    }
   ],
   "source": [
    "from sqlalchemy import select\n",
    "print(select([users.c.name, users.c.fullname]))\n",
    "cur = conn.execute(select([users.c.name, users.c.fullname]))\n",
    "print(list(cur))"
   ]
  },
  {
   "cell_type": "code",
   "execution_count": 143,
   "metadata": {},
   "outputs": [
    {
     "name": "stdout",
     "output_type": "stream",
     "text": [
      "users.id = :id_1\n",
      "{'id_1': 1}\n"
     ]
    }
   ],
   "source": [
    "print(users.c.id == 1)\n",
    "print((users.c.id == 1).compile().params)"
   ]
  },
  {
   "cell_type": "code",
   "execution_count": 144,
   "metadata": {},
   "outputs": [
    {
     "name": "stdout",
     "output_type": "stream",
     "text": [
      "2020-07-14 16:04:10,390 INFO sqlalchemy.engine.base.Engine SELECT users.id, users.name, users.fullname \n",
      "FROM users \n",
      "WHERE users.id = ?\n"
     ]
    },
    {
     "name": "stderr",
     "output_type": "stream",
     "text": [
      "INFO:sqlalchemy.engine.base.Engine:SELECT users.id, users.name, users.fullname \n",
      "FROM users \n",
      "WHERE users.id = ?\n"
     ]
    },
    {
     "name": "stdout",
     "output_type": "stream",
     "text": [
      "2020-07-14 16:04:10,392 INFO sqlalchemy.engine.base.Engine (1,)\n"
     ]
    },
    {
     "name": "stderr",
     "output_type": "stream",
     "text": [
      "INFO:sqlalchemy.engine.base.Engine:(1,)\n"
     ]
    },
    {
     "data": {
      "text/plain": [
       "[(1, 'test', 'testtest')]"
      ]
     },
     "execution_count": 144,
     "metadata": {},
     "output_type": "execute_result"
    }
   ],
   "source": [
    "cur = conn.execute(users.select().where(users.c.id == 1))\n",
    "list(cur)"
   ]
  },
  {
   "cell_type": "code",
   "execution_count": 146,
   "metadata": {},
   "outputs": [
    {
     "name": "stdout",
     "output_type": "stream",
     "text": [
      "2020-07-14 16:04:29,513 INFO sqlalchemy.engine.base.Engine INSERT INTO addresses (user_id, eamil_address) VALUES (?, ?)\n"
     ]
    },
    {
     "name": "stderr",
     "output_type": "stream",
     "text": [
      "INFO:sqlalchemy.engine.base.Engine:INSERT INTO addresses (user_id, eamil_address) VALUES (?, ?)\n"
     ]
    },
    {
     "name": "stdout",
     "output_type": "stream",
     "text": [
      "2020-07-14 16:04:29,515 INFO sqlalchemy.engine.base.Engine (1, '101.com')\n"
     ]
    },
    {
     "name": "stderr",
     "output_type": "stream",
     "text": [
      "INFO:sqlalchemy.engine.base.Engine:(1, '101.com')\n"
     ]
    },
    {
     "name": "stdout",
     "output_type": "stream",
     "text": [
      "2020-07-14 16:04:29,517 INFO sqlalchemy.engine.base.Engine COMMIT\n"
     ]
    },
    {
     "name": "stderr",
     "output_type": "stream",
     "text": [
      "INFO:sqlalchemy.engine.base.Engine:COMMIT\n"
     ]
    }
   ],
   "source": [
    "cur = conn.execute(addresses.insert(), {'user_id' : 1, 'eamil_address' : '101.com'})"
   ]
  },
  {
   "cell_type": "code",
   "execution_count": 156,
   "metadata": {},
   "outputs": [
    {
     "name": "stdout",
     "output_type": "stream",
     "text": [
      "users JOIN addresses ON users.id = addresses.user_id\n",
      "SELECT users.name, users.fullname, addresses.eamil_address \n",
      "FROM users JOIN addresses ON users.id = addresses.user_id\n"
     ]
    }
   ],
   "source": [
    "from sqlalchemy import join\n",
    "\n",
    "print(users.join(addresses))\n",
    "print(select([users.c.name, users.c.fullname, addresses.c.eamil_address]).\\\n",
    "            select_from(users.join(addresses)))"
   ]
  },
  {
   "cell_type": "code",
   "execution_count": 157,
   "metadata": {},
   "outputs": [
    {
     "name": "stdout",
     "output_type": "stream",
     "text": [
      "2020-07-14 16:10:49,544 INFO sqlalchemy.engine.base.Engine SELECT users.name, users.fullname, addresses.eamil_address \n",
      "FROM users JOIN addresses ON users.id = addresses.user_id\n"
     ]
    },
    {
     "name": "stderr",
     "output_type": "stream",
     "text": [
      "INFO:sqlalchemy.engine.base.Engine:SELECT users.name, users.fullname, addresses.eamil_address \n",
      "FROM users JOIN addresses ON users.id = addresses.user_id\n"
     ]
    },
    {
     "name": "stdout",
     "output_type": "stream",
     "text": [
      "2020-07-14 16:10:49,547 INFO sqlalchemy.engine.base.Engine ()\n"
     ]
    },
    {
     "name": "stderr",
     "output_type": "stream",
     "text": [
      "INFO:sqlalchemy.engine.base.Engine:()\n"
     ]
    },
    {
     "data": {
      "text/plain": [
       "[('test', 'testtest', '101.com')]"
      ]
     },
     "execution_count": 157,
     "metadata": {},
     "output_type": "execute_result"
    }
   ],
   "source": [
    "list(conn.execute(select([users.c.name, users.c.fullname, addresses.c.eamil_address]).\\\n",
    "            select_from(users.join(addresses))))"
   ]
  },
  {
   "cell_type": "code",
   "execution_count": 158,
   "metadata": {},
   "outputs": [
    {
     "data": {
      "text/plain": [
       "Engine(sqlite:///ex3.db)"
      ]
     },
     "execution_count": 158,
     "metadata": {},
     "output_type": "execute_result"
    }
   ],
   "source": [
    "from sqlalchemy import create_engine, MetaData, Table, Column, Integer\n",
    "engine = create_engine('sqlite:///ex3.db')\n",
    "engine"
   ]
  },
  {
   "cell_type": "code",
   "execution_count": 161,
   "metadata": {},
   "outputs": [],
   "source": [
    "meta = MetaData()\n",
    "users = Table('user', meta,\n",
    "             Column('id', Integer, primary_key = True),\n",
    "             Column('name', String, nullable = False))\n",
    "addr = Table('address', meta,\n",
    "            Column('id', Integer, primary_key = True),\n",
    "            Column('user_id', Integer, ForeignKey('user.id')),\n",
    "            Column('email', String))"
   ]
  },
  {
   "cell_type": "code",
   "execution_count": 162,
   "metadata": {},
   "outputs": [],
   "source": [
    "meta.create_all(engine)"
   ]
  },
  {
   "cell_type": "code",
   "execution_count": 163,
   "metadata": {},
   "outputs": [
    {
     "data": {
      "text/plain": [
       "<sqlalchemy.engine.result.ResultProxy at 0x1265c42cd68>"
      ]
     },
     "execution_count": 163,
     "metadata": {},
     "output_type": "execute_result"
    }
   ],
   "source": [
    "engine.execute(users.insert(), [{'name' : '1'}, {'name' : '2'}])"
   ]
  },
  {
   "cell_type": "code",
   "execution_count": 164,
   "metadata": {},
   "outputs": [
    {
     "data": {
      "text/plain": [
       "<sqlalchemy.engine.result.ResultProxy at 0x1265c420f28>"
      ]
     },
     "execution_count": 164,
     "metadata": {},
     "output_type": "execute_result"
    }
   ],
   "source": [
    "engine.execute(addr.insert(), [{'user_id' : 1, 'email' : '1@com'},\n",
    "                              {'user_id' : 2, 'email' : '2@com'}])"
   ]
  },
  {
   "cell_type": "code",
   "execution_count": 165,
   "metadata": {},
   "outputs": [
    {
     "data": {
      "text/plain": [
       "[('1', '1@com'), ('2', '2@com')]"
      ]
     },
     "execution_count": 165,
     "metadata": {},
     "output_type": "execute_result"
    }
   ],
   "source": [
    "cur = engine.execute(\n",
    "    select([users.c.name, addr.c.email]).select_from(users.join(addr))\n",
    ")\n",
    "cur.fetchall()"
   ]
  }
 ],
 "metadata": {
  "kernelspec": {
   "display_name": "Python 3",
   "language": "python",
   "name": "python3"
  },
  "language_info": {
   "codemirror_mode": {
    "name": "ipython",
    "version": 3
   },
   "file_extension": ".py",
   "mimetype": "text/x-python",
   "name": "python",
   "nbconvert_exporter": "python",
   "pygments_lexer": "ipython3",
   "version": "3.7.3"
  }
 },
 "nbformat": 4,
 "nbformat_minor": 2
}
