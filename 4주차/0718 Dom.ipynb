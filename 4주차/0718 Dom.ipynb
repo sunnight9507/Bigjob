{
 "cells": [
  {
   "cell_type": "code",
   "execution_count": 1,
   "metadata": {},
   "outputs": [],
   "source": [
    "from bs4 import BeautifulSoup"
   ]
  },
  {
   "cell_type": "code",
   "execution_count": 2,
   "metadata": {},
   "outputs": [],
   "source": [
    "html = '''\n",
    "<html>\n",
    "    <head>\n",
    "        <title>test</title>\n",
    "    </head>\n",
    "    <body>\n",
    "        <div>\n",
    "            <p>\n",
    "                <a href=' /page' class='d' id = new_id>move page</a>\n",
    "            </p>\n",
    "        </div>\n",
    "    </body>\n",
    "</html>\n",
    "'''"
   ]
  },
  {
   "cell_type": "code",
   "execution_count": 3,
   "metadata": {},
   "outputs": [],
   "source": [
    "dom = BeautifulSoup(html, 'html.parser')"
   ]
  },
  {
   "cell_type": "code",
   "execution_count": 4,
   "metadata": {},
   "outputs": [
    {
     "data": {
      "text/plain": [
       "\n",
       "<html>\n",
       "<head>\n",
       "<title>test</title>\n",
       "</head>\n",
       "<body>\n",
       "<div>\n",
       "<p>\n",
       "<a class=\"d\" href=\" /page\" id=\"new_id\">move page</a>\n",
       "</p>\n",
       "</div>\n",
       "</body>\n",
       "</html>"
      ]
     },
     "execution_count": 4,
     "metadata": {},
     "output_type": "execute_result"
    }
   ],
   "source": [
    "dom"
   ]
  },
  {
   "cell_type": "code",
   "execution_count": 5,
   "metadata": {},
   "outputs": [
    {
     "data": {
      "text/plain": [
       "('\\n\\n\\ntest\\n\\n\\n\\n\\nmove page\\n\\n\\n\\n\\n',\n",
       " '<html>\\n <head>\\n  <title>\\n   test\\n  </title>\\n </head>\\n <body>\\n  <div>\\n   <p>\\n    <a class=\"d\" href=\" /page\" id=\"new_id\">\\n     move page\\n    </a>\\n   </p>\\n  </div>\\n </body>\\n</html>\\n')"
      ]
     },
     "execution_count": 5,
     "metadata": {},
     "output_type": "execute_result"
    }
   ],
   "source": [
    "dom.text, dom.prettify()"
   ]
  },
  {
   "cell_type": "code",
   "execution_count": 6,
   "metadata": {},
   "outputs": [
    {
     "data": {
      "text/plain": [
       "'test'"
      ]
     },
     "execution_count": 6,
     "metadata": {},
     "output_type": "execute_result"
    }
   ],
   "source": [
    "dom.html.head.title.text"
   ]
  },
  {
   "cell_type": "code",
   "execution_count": 7,
   "metadata": {},
   "outputs": [
    {
     "data": {
      "text/plain": [
       "'test'"
      ]
     },
     "execution_count": 7,
     "metadata": {},
     "output_type": "execute_result"
    }
   ],
   "source": [
    "dom.title.text"
   ]
  },
  {
   "cell_type": "code",
   "execution_count": 8,
   "metadata": {},
   "outputs": [
    {
     "data": {
      "text/plain": [
       "('\\n\\n\\nmove page\\n\\n\\n', <p>\n",
       " <a class=\"d\" href=\" /page\" id=\"new_id\">move page</a>\n",
       " </p>, <a class=\"d\" href=\" /page\" id=\"new_id\">move page</a>)"
      ]
     },
     "execution_count": 8,
     "metadata": {},
     "output_type": "execute_result"
    }
   ],
   "source": [
    "dom.body.text, dom.p, dom.a"
   ]
  },
  {
   "cell_type": "code",
   "execution_count": 9,
   "metadata": {},
   "outputs": [
    {
     "name": "stdout",
     "output_type": "stream",
     "text": [
      "\n",
      " <class 'bs4.element.NavigableString'>\n",
      "<div>\n",
      "<p>\n",
      "<a class=\"d\" href=\" /page\" id=\"new_id\">move page</a>\n",
      "</p>\n",
      "</div> <class 'bs4.element.Tag'>\n",
      "\n",
      " <class 'bs4.element.NavigableString'>\n"
     ]
    }
   ],
   "source": [
    "for _ in list(dom.body.children):\n",
    "    print(_, type(_))"
   ]
  },
  {
   "cell_type": "code",
   "execution_count": 10,
   "metadata": {},
   "outputs": [
    {
     "data": {
      "text/plain": [
       "({'href': ' /page', 'class': ['d'], 'id': 'new_id'}, ' /page')"
      ]
     },
     "execution_count": 10,
     "metadata": {},
     "output_type": "execute_result"
    }
   ],
   "source": [
    "dom.a.attrs, dom.a['href']"
   ]
  },
  {
   "cell_type": "code",
   "execution_count": 11,
   "metadata": {},
   "outputs": [],
   "source": [
    "# overlap\n",
    "html = '''\n",
    "<html>\n",
    "    <head>\n",
    "        <title>test</title>\n",
    "    </head>\n",
    "    <body>\n",
    "        <div>\n",
    "            <p>\n",
    "                <a href=' /page' class='d' id = new_id1>move page1</a>\n",
    "                <a href=' /page' class='d' id = new_id2>move page2</a>\n",
    "            \n",
    "        </div>\n",
    "            </p>\n",
    "    </body>\n",
    "</html>\n",
    "'''"
   ]
  },
  {
   "cell_type": "code",
   "execution_count": 16,
   "metadata": {},
   "outputs": [],
   "source": [
    "dom = BeautifulSoup(html, 'lxml')"
   ]
  },
  {
   "cell_type": "code",
   "execution_count": 13,
   "metadata": {},
   "outputs": [
    {
     "name": "stdout",
     "output_type": "stream",
     "text": [
      "<html>\n",
      " <head>\n",
      "  <title>\n",
      "   test\n",
      "  </title>\n",
      " </head>\n",
      " <body>\n",
      "  <div>\n",
      "   <p>\n",
      "    <a class=\"d\" href=\" /page\" id=\"new_id1\">\n",
      "     move page1\n",
      "    </a>\n",
      "    <a class=\"d\" href=\" /page\" id=\"new_id2\">\n",
      "     move page2\n",
      "    </a>\n",
      "   </p>\n",
      "  </div>\n",
      " </body>\n",
      "</html>\n",
      "\n"
     ]
    }
   ],
   "source": [
    "print(dom.prettify()) #  스스로 수정이 됨"
   ]
  },
  {
   "cell_type": "code",
   "execution_count": 17,
   "metadata": {},
   "outputs": [],
   "source": [
    "dom = BeautifulSoup(html, 'html.parser')"
   ]
  },
  {
   "cell_type": "code",
   "execution_count": 18,
   "metadata": {},
   "outputs": [
    {
     "name": "stdout",
     "output_type": "stream",
     "text": [
      "\n",
      "\n",
      "<a class=\"d\" href=\" /page\" id=\"new_id1\">move page1</a>\n",
      "\n",
      "\n",
      "<a class=\"d\" href=\" /page\" id=\"new_id2\">move page2</a>\n",
      "\n",
      "\n"
     ]
    }
   ],
   "source": [
    "for _ in list(dom.body.div.p.children):\n",
    "    print(_)"
   ]
  },
  {
   "cell_type": "code",
   "execution_count": 19,
   "metadata": {},
   "outputs": [
    {
     "data": {
      "text/plain": [
       "(True, False)"
      ]
     },
     "execution_count": 19,
     "metadata": {},
     "output_type": "execute_result"
    }
   ],
   "source": [
    "dom.none == None, dom.a == None"
   ]
  },
  {
   "cell_type": "markdown",
   "metadata": {},
   "source": [
    "- 없는 태그(노드) 못거른다. => NoneType 객체 => Warning\n",
    "- 특정 노드 => 처음에 나온 노드 하나만"
   ]
  },
  {
   "cell_type": "code",
   "execution_count": 20,
   "metadata": {},
   "outputs": [
    {
     "data": {
      "text/plain": [
       "(<a class=\"d\" href=\" /page\" id=\"new_id1\">move page1</a>,\n",
       " [<a class=\"d\" href=\" /page\" id=\"new_id1\">move page1</a>,\n",
       "  <a class=\"d\" href=\" /page\" id=\"new_id2\">move page2</a>])"
      ]
     },
     "execution_count": 20,
     "metadata": {},
     "output_type": "execute_result"
    }
   ],
   "source": [
    "dom.find('a'), dom.find_all('a')"
   ]
  },
  {
   "cell_type": "code",
   "execution_count": 21,
   "metadata": {},
   "outputs": [
    {
     "data": {
      "text/plain": [
       "{'href': ' /page', 'class': ['d'], 'id': 'new_id1'}"
      ]
     },
     "execution_count": 21,
     "metadata": {},
     "output_type": "execute_result"
    }
   ],
   "source": [
    "dom.find('a').attrs"
   ]
  },
  {
   "cell_type": "code",
   "execution_count": 22,
   "metadata": {},
   "outputs": [
    {
     "data": {
      "text/plain": [
       "<p>\n",
       "<a class=\"d\" href=\" /page\" id=\"new_id1\">move page1</a>\n",
       "<a class=\"d\" href=\" /page\" id=\"new_id2\">move page2</a>\n",
       "</p>"
      ]
     },
     "execution_count": 22,
     "metadata": {},
     "output_type": "execute_result"
    }
   ],
   "source": [
    "dom.find({'p', 'a'})"
   ]
  },
  {
   "cell_type": "code",
   "execution_count": 23,
   "metadata": {},
   "outputs": [
    {
     "data": {
      "text/plain": [
       "([<a class=\"d\" href=\" /page\" id=\"new_id1\">move page1</a>,\n",
       "  <a class=\"d\" href=\" /page\" id=\"new_id2\">move page2</a>],\n",
       " [<a class=\"d\" href=\" /page\" id=\"new_id1\">move page1</a>])"
      ]
     },
     "execution_count": 23,
     "metadata": {},
     "output_type": "execute_result"
    }
   ],
   "source": [
    "dom.find_all('a'), dom.find_all('a', {'id':'new_id1'})"
   ]
  },
  {
   "cell_type": "code",
   "execution_count": 24,
   "metadata": {},
   "outputs": [
    {
     "data": {
      "text/plain": [
       "[<a class=\"d\" href=\" /page\" id=\"new_id1\">move page1</a>]"
      ]
     },
     "execution_count": 24,
     "metadata": {},
     "output_type": "execute_result"
    }
   ],
   "source": [
    "dom.find_all('a',limit=1)"
   ]
  },
  {
   "cell_type": "code",
   "execution_count": 25,
   "metadata": {},
   "outputs": [
    {
     "data": {
      "text/plain": [
       "[<a class=\"d\" href=\" /page\" id=\"new_id1\">move page1</a>,\n",
       " <a class=\"d\" href=\" /page\" id=\"new_id2\">move page2</a>]"
      ]
     },
     "execution_count": 25,
     "metadata": {},
     "output_type": "execute_result"
    }
   ],
   "source": [
    "dom.find_all(attrs={'class' : 'd'})"
   ]
  },
  {
   "cell_type": "code",
   "execution_count": 26,
   "metadata": {},
   "outputs": [],
   "source": [
    "html = '''\n",
    "<html>\n",
    "    <head>\n",
    "        <title>test</title>\n",
    "    </head>\n",
    "    <body>\n",
    "        <div>\n",
    "            <p>\n",
    "                <a href=' /page' class='d' id = new_id1>move page1</a>\n",
    "                <a>move page2</a>\n",
    "            </p>\n",
    "        </div>\n",
    "        <footer>\n",
    "            <a class ='d'>move page3</a>\n",
    "        </footer>\n",
    "            \n",
    "    </body>\n",
    "</html>\n",
    "'''"
   ]
  },
  {
   "cell_type": "code",
   "execution_count": 27,
   "metadata": {},
   "outputs": [],
   "source": [
    "dom = BeautifulSoup(html, 'html.parser')"
   ]
  },
  {
   "cell_type": "code",
   "execution_count": 28,
   "metadata": {},
   "outputs": [
    {
     "data": {
      "text/plain": [
       "[<a class=\"d\" href=\" /page\" id=\"new_id1\">move page1</a>,\n",
       " <a class=\"d\">move page3</a>]"
      ]
     },
     "execution_count": 28,
     "metadata": {},
     "output_type": "execute_result"
    }
   ],
   "source": [
    "dom.find_all('a', attrs={'class' : 'd'})"
   ]
  },
  {
   "cell_type": "code",
   "execution_count": 29,
   "metadata": {},
   "outputs": [
    {
     "data": {
      "text/plain": [
       "[<a class=\"d\">move page3</a>]"
      ]
     },
     "execution_count": 29,
     "metadata": {},
     "output_type": "execute_result"
    }
   ],
   "source": [
    "dom.footer.find_all('a')"
   ]
  },
  {
   "cell_type": "code",
   "execution_count": 30,
   "metadata": {},
   "outputs": [
    {
     "data": {
      "text/plain": [
       "[<a class=\"d\" href=\" /page\" id=\"new_id1\">move page1</a>, <a>move page2</a>]"
      ]
     },
     "execution_count": 30,
     "metadata": {},
     "output_type": "execute_result"
    }
   ],
   "source": [
    "dom.div.find_all('a')"
   ]
  },
  {
   "cell_type": "code",
   "execution_count": 31,
   "metadata": {},
   "outputs": [
    {
     "data": {
      "text/plain": [
       "{'class': ['d']}"
      ]
     },
     "execution_count": 31,
     "metadata": {},
     "output_type": "execute_result"
    }
   ],
   "source": [
    "node = dom.footer.a\n",
    "node.attrs"
   ]
  },
  {
   "cell_type": "code",
   "execution_count": 32,
   "metadata": {},
   "outputs": [
    {
     "data": {
      "text/plain": [
       "(<footer>\n",
       " <a class=\"d\">move page3</a>\n",
       " </footer>, 'footer')"
      ]
     },
     "execution_count": 32,
     "metadata": {},
     "output_type": "execute_result"
    }
   ],
   "source": [
    "node.find_parent(), node.find_parent().name"
   ]
  },
  {
   "cell_type": "code",
   "execution_count": 33,
   "metadata": {},
   "outputs": [
    {
     "name": "stdout",
     "output_type": "stream",
     "text": [
      "footer\n",
      "body\n",
      "html\n",
      "[document]\n"
     ]
    }
   ],
   "source": [
    "for _ in node.find_parents():\n",
    "    print(_.name)"
   ]
  },
  {
   "cell_type": "code",
   "execution_count": 34,
   "metadata": {},
   "outputs": [
    {
     "name": "stdout",
     "output_type": "stream",
     "text": [
      "footer\n",
      "body\n",
      "html\n",
      "[document]\n"
     ]
    }
   ],
   "source": [
    "for _ in node.find_parents():\n",
    "    print(_.name)"
   ]
  },
  {
   "cell_type": "code",
   "execution_count": 35,
   "metadata": {},
   "outputs": [
    {
     "data": {
      "text/plain": [
       "<a class=\"d\">move page3</a>"
      ]
     },
     "execution_count": 35,
     "metadata": {},
     "output_type": "execute_result"
    }
   ],
   "source": [
    "node"
   ]
  },
  {
   "cell_type": "code",
   "execution_count": 36,
   "metadata": {},
   "outputs": [
    {
     "data": {
      "text/plain": [
       "<a>move page2</a>"
      ]
     },
     "execution_count": 36,
     "metadata": {},
     "output_type": "execute_result"
    }
   ],
   "source": [
    "node.find_parent().find_parent().find().find('a').find_next_sibling()"
   ]
  },
  {
   "cell_type": "code",
   "execution_count": 37,
   "metadata": {},
   "outputs": [],
   "source": [
    "from requests.compat import urlparse, urljoin\n",
    "from requests.exceptions import HTTPError\n",
    "from urllib.robotparser import RobotFileParser\n",
    "import time\n",
    "import requests\n",
    "\n",
    "robot = RobotFileParser()\n",
    "\n",
    "def canfetch(url, agent='*', path='/'):\n",
    "    '''\n",
    "        robot.txt 확인 후 Crawling 가능하면 True 안되면 False\n",
    "    '''\n",
    "    robot = RobotFileParser(urljoin(url, '/robots.txt'))\n",
    "    robot.read()\n",
    "    return robot.can_fetch(agent, urlparse(url)[2])\n",
    "\n",
    "def download(url, params={}, headers={}, method='GET', limit = 3):\n",
    "#     print(url)\n",
    "#     print(canfetch(url))\n",
    "    if canfetch(url) == False:\n",
    "        print('[Error] : ' + url)\n",
    "#     else:\n",
    "    try:\n",
    "        resp = requests.request(method, url,\n",
    "                              params=params if method == 'GET' else {},\n",
    "                              data=params if method == 'POST' else {},\n",
    "                              headers=headers)\n",
    "        resp.raise_for_status()\n",
    "    except HTTPError as e:\n",
    "        if limit > 0 and e.response.status_code >=500:\n",
    "            print(limit)\n",
    "            time.sleep(1)\n",
    "            resp = download(url, params, headers, method, limit-1)\n",
    "        else:\n",
    "            print('[{}] '.format(resp.status_code) + url)\n",
    "            print(e.response.status_code)\n",
    "            print(e.response.reason)\n",
    "            print(e.response.headers)\n",
    "    return resp"
   ]
  },
  {
   "cell_type": "code",
   "execution_count": 38,
   "metadata": {},
   "outputs": [],
   "source": [
    "resp = download('http://pythonscraping.com/pages/page3.html')\n",
    "dom = BeautifulSoup(resp.content, 'lxml')"
   ]
  },
  {
   "cell_type": "code",
   "execution_count": 40,
   "metadata": {},
   "outputs": [],
   "source": [
    "node = dom.find('div', {'id':'footer'})"
   ]
  },
  {
   "cell_type": "code",
   "execution_count": 41,
   "metadata": {},
   "outputs": [
    {
     "name": "stdout",
     "output_type": "stream",
     "text": [
      "div\n",
      "body\n",
      "html\n",
      "[document]\n"
     ]
    }
   ],
   "source": [
    "for _ in node.find_parents():\n",
    "    print(_.name)"
   ]
  },
  {
   "cell_type": "code",
   "execution_count": 42,
   "metadata": {},
   "outputs": [
    {
     "data": {
      "text/plain": [
       "'../img/gifts/logo.jpg'"
      ]
     },
     "execution_count": 42,
     "metadata": {},
     "output_type": "execute_result"
    }
   ],
   "source": [
    "node.find_parents('div')[0].find_all(recursive=False)[0]['src']"
   ]
  },
  {
   "cell_type": "code",
   "execution_count": 43,
   "metadata": {},
   "outputs": [
    {
     "name": "stdout",
     "output_type": "stream",
     "text": [
      "table\n",
      "div\n",
      "h1\n",
      "img\n"
     ]
    }
   ],
   "source": [
    "for _ in node.find_previous_siblings():\n",
    "    print(_.name)"
   ]
  },
  {
   "cell_type": "code",
   "execution_count": 44,
   "metadata": {},
   "outputs": [
    {
     "data": {
      "text/plain": [
       "'../img/gifts/logo.jpg'"
      ]
     },
     "execution_count": 44,
     "metadata": {},
     "output_type": "execute_result"
    }
   ],
   "source": [
    "node.find_previous_siblings()[-1]['src']"
   ]
  },
  {
   "cell_type": "code",
   "execution_count": 45,
   "metadata": {},
   "outputs": [
    {
     "data": {
      "text/plain": [
       "'http://pythonscraping.com/img/gifts/logo.jpg'"
      ]
     },
     "execution_count": 45,
     "metadata": {},
     "output_type": "execute_result"
    }
   ],
   "source": [
    "# image 절대 경로\n",
    "urljoin(resp.request.url, node.find_previous_siblings()[-1]['src'])"
   ]
  },
  {
   "cell_type": "code",
   "execution_count": 46,
   "metadata": {},
   "outputs": [
    {
     "data": {
      "text/plain": [
       "'../img/gifts/img3.jpg'"
      ]
     },
     "execution_count": 46,
     "metadata": {},
     "output_type": "execute_result"
    }
   ],
   "source": [
    "node.find_previous_siblings('table')[0].find_all(recursive=False)[3].find('img')['src']"
   ]
  },
  {
   "cell_type": "code",
   "execution_count": 47,
   "metadata": {},
   "outputs": [
    {
     "name": "stdout",
     "output_type": "stream",
     "text": [
      "$15.00\n",
      "$10,000.52\n",
      "$10,005.00\n",
      "$0.50\n",
      "$1.50\n"
     ]
    }
   ],
   "source": [
    "for _ in dom.find('table').find_all(recursive=False)[1:]:\n",
    "    print(_.find_all('td', recursive=False)[2].text.strip())"
   ]
  },
  {
   "cell_type": "code",
   "execution_count": 48,
   "metadata": {},
   "outputs": [
    {
     "name": "stdout",
     "output_type": "stream",
     "text": [
      "['Vegetable Basket', 'This vegetable basket is the perfect gift for your health conscious (or overweight) friends!\\nNow with super-colorful bell peppers!', 'Now with super-colorful bell peppers!', '$15.00', '', '']\n",
      "['Russian Nesting Dolls', 'Hand-painted by trained monkeys, these exquisite dolls are priceless! And by \"priceless,\" we mean \"extremely expensive\"! 8 entire dolls per set! Octuple the presents!', '8 entire dolls per set! Octuple the presents!', '$10,000.52', '', '']\n",
      "['Fish Painting', \"If something seems fishy about this painting, it's because it's a fish! Also hand-painted by trained monkeys!\", 'Also hand-painted by trained monkeys!', '$10,005.00', '', '']\n",
      "['Dead Parrot', \"This is an ex-parrot! Or maybe he's only resting?\", \"Or maybe he's only resting?\", '$0.50', '', '']\n",
      "['Mystery Box', 'If you love suprises, this mystery box is for you! Do not place on light-colored surfaces. May cause oil staining. Keep your friends guessing!', 'Keep your friends guessing!', '$1.50', '', '']\n"
     ]
    }
   ],
   "source": [
    "for _ in dom.find_all(attrs={'class' : 'gift'}):\n",
    "    print([td.text.strip() for td in _.find_all()])"
   ]
  },
  {
   "cell_type": "markdown",
   "metadata": {},
   "source": [
    "#### Google"
   ]
  },
  {
   "cell_type": "code",
   "execution_count": 49,
   "metadata": {},
   "outputs": [
    {
     "name": "stdout",
     "output_type": "stream",
     "text": [
      "[Error] : https://www.google.co.kr/search\n"
     ]
    }
   ],
   "source": [
    "url = 'https://www.google.co.kr/search'\n",
    "params = {\n",
    "    'q' : '',\n",
    "    'oq' : '',\n",
    "    'ie' : 'UTF-8'\n",
    "}\n",
    "params['q'] = params['oq'] = '파이썬'\n",
    "headers = {\n",
    "    'user-agent' : 'Mozilla/5.0 (Windows NT 10.0; Win64; x64) AppleWebKit/537.36 (KHTML, like Gecko) Chrome/83.0.4103.116 Safari/537.36'\n",
    "}\n",
    "\n",
    "resp = download(url, params, headers, 'GET')\n",
    "\n",
    "dom = BeautifulSoup(resp.content, 'html.parser')"
   ]
  },
  {
   "cell_type": "code",
   "execution_count": 50,
   "metadata": {},
   "outputs": [
    {
     "data": {
      "text/plain": [
       "[<h3 class=\"LC20lb DKV0Md\">파이썬 - 위키백과, 우리 모두의 백과사전</h3>,\n",
       " <h3 class=\"LC20lb DKV0Md\">파이썬 자습서 — Python 3.8.4 문서</h3>,\n",
       " <h3 class=\"LC20lb DKV0Md\">Python - 나무위키</h3>,\n",
       " <h3 class=\"LC20lb DKV0Md\">1. 파이썬 시작하기 - 왕초보를 위한 Python - WikiDocs</h3>,\n",
       " <h3 class=\"LC20lb DKV0Md\">Python 코딩의 기초 - 예제로 배우는 파이썬 프로그래밍</h3>,\n",
       " <h3 class=\"LC20lb DKV0Md\">파이썬 코딩 도장: 1.3 파이썬</h3>,\n",
       " <h3 class=\"LC20lb DKV0Md\">파이썬의 인기는 언제까지 갈까? - Byline Network</h3>,\n",
       " <h3 class=\"LC20lb DKV0Md\">파이썬 무료 강의 (기본편) - 6시간 뒤면 나도 개발자 - 인프런</h3>]"
      ]
     },
     "execution_count": 50,
     "metadata": {},
     "output_type": "execute_result"
    }
   ],
   "source": [
    "dom.find_all('h3', {'class' : 'LC20lb DKV0Md'})"
   ]
  },
  {
   "cell_type": "code",
   "execution_count": 51,
   "metadata": {},
   "outputs": [
    {
     "data": {
      "text/plain": [
       "[('파이썬 - 위키백과, 우리 모두의 백과사전',\n",
       "  'https://ko.wikipedia.org/wiki/%ED%8C%8C%EC%9D%B4%EC%8D%AC'),\n",
       " ('파이썬 자습서 — Python 3.8.4 문서',\n",
       "  'https://docs.python.org/ko/3/tutorial/index.html'),\n",
       " ('Python - 나무위키', 'https://namu.wiki/w/Python'),\n",
       " ('1. 파이썬 시작하기 - 왕초보를 위한 Python - WikiDocs', 'https://wikidocs.net/43'),\n",
       " ('Python 코딩의 기초 - 예제로 배우는 파이썬 프로그래밍',\n",
       "  'http://pythonstudy.xyz/python/article/6-Python-%EC%BD%94%EB%94%A9%EC%9D%98-%EA%B8%B0%EC%B4%88'),\n",
       " ('파이썬 코딩 도장: 1.3 파이썬', 'https://dojang.io/mod/page/view.php?id=2153'),\n",
       " ('파이썬의 인기는 언제까지 갈까? - Byline Network',\n",
       "  'https://byline.network/2020/03/17-90/'),\n",
       " ('파이썬 무료 강의 (기본편) - 6시간 뒤면 나도 개발자 - 인프런',\n",
       "  'https://www.inflearn.com/course/%EB%82%98%EB%8F%84%EC%BD%94%EB%94%A9-%ED%8C%8C%EC%9D%B4%EC%8D%AC-%EA%B8%B0%EB%B3%B8')]"
      ]
     },
     "execution_count": 51,
     "metadata": {},
     "output_type": "execute_result"
    }
   ],
   "source": [
    "[(_.text.strip(), _.find_parents('a')[0]['href'])\n",
    "for _ in dom.find_all('h3',{'class' : 'LC20lb DKV0Md'})]"
   ]
  },
  {
   "cell_type": "code",
   "execution_count": 52,
   "metadata": {},
   "outputs": [
    {
     "name": "stdout",
     "output_type": "stream",
     "text": [
      "{'class': ['r']}\n",
      "{'class': ['r']}\n",
      "{'class': ['r']}\n",
      "{'class': ['r']}\n",
      "{'class': ['r']}\n",
      "{'class': ['r']}\n",
      "{'class': ['r']}\n",
      "{'class': ['r']}\n"
     ]
    }
   ],
   "source": [
    "for _ in dom.find_all('h3', {'class' : 'LC20lb DKV0Md'}):\n",
    "    print(_.find_parents(limit=2)[-1].attrs)"
   ]
  }
 ],
 "metadata": {
  "kernelspec": {
   "display_name": "Python 3",
   "language": "python",
   "name": "python3"
  },
  "language_info": {
   "codemirror_mode": {
    "name": "ipython",
    "version": 3
   },
   "file_extension": ".py",
   "mimetype": "text/x-python",
   "name": "python",
   "nbconvert_exporter": "python",
   "pygments_lexer": "ipython3",
   "version": "3.7.3"
  }
 },
 "nbformat": 4,
 "nbformat_minor": 2
}
